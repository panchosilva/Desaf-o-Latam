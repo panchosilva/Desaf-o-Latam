{
 "cells": [
  {
   "cell_type": "markdown",
   "metadata": {
    "id": "6kkb-R1EkrhA"
   },
   "source": [
    "# FRANCISCO SILVA - Desafío - Árboles de regresión\n",
    "\n",
    "Requerimientos\n",
    "\n",
    "- Para esta sesión trabajaremos con una base de datos sobre los precios de inmuebles en la ciudad de Ames, Iowa. La base se compone de 2930 registros y contiene un gran número de atributos.\n",
    "- Nuestro objetivo es generar un modelo que prediga de forma adecuada los precios de inmuebles, medidos con la variable <code>S​ale_Price</code>​."
   ]
  },
  {
   "cell_type": "markdown",
   "metadata": {
    "id": "bc4C25b5lFIQ"
   },
   "source": [
    "## Ejercicio 1: Preparación del ambiente de trabajo\n",
    "\n",
    "- Importe las librerías clásicas a utilizar.\n",
    "- Para este ejercicio implementaremos árboles de regresión, por lo que deberá importar la clase ​DecisionTreeRegressor​.\n",
    "- De manera adicional importe las funciones y clases necesarias para generar un desempeño de métricas en problemas de regresión, división de muestras y búsqueda de grilla con validación cruzada.\n",
    "- Elimine la columna 'Unnamed: 0' cuando cargue los datos."
   ]
  },
  {
   "cell_type": "code",
   "execution_count": 30,
   "metadata": {
    "colab": {
     "base_uri": "https://localhost:8080/"
    },
    "executionInfo": {
     "elapsed": 4005,
     "status": "ok",
     "timestamp": 1634688699079,
     "user": {
      "displayName": "Francisco Silva",
      "photoUrl": "https://lh3.googleusercontent.com/a-/AOh14GhnBCIyF5R8AiTi5ykZU8rl4YlVuugPZqCU5uBJ4YQ=s64",
      "userId": "14439525103954735478"
     },
     "user_tz": 180
    },
    "id": "whlPjMTkkqyt",
    "outputId": "bc148363-eeae-46ff-fe1b-8cfe5dcfa635"
   },
   "outputs": [
    {
     "name": "stdout",
     "output_type": "stream",
     "text": [
      "Requirement already satisfied: ipython-autotime in c:\\users\\silva\\anaconda3\\lib\\site-packages (0.3.1)\n",
      "Requirement already satisfied: ipython in c:\\users\\silva\\anaconda3\\lib\\site-packages (from ipython-autotime) (7.22.0)\n",
      "Requirement already satisfied: pickleshare in c:\\users\\silva\\anaconda3\\lib\\site-packages (from ipython->ipython-autotime) (0.7.5)\n",
      "Requirement already satisfied: pygments in c:\\users\\silva\\anaconda3\\lib\\site-packages (from ipython->ipython-autotime) (2.9.0)\n",
      "Requirement already satisfied: decorator in c:\\users\\silva\\anaconda3\\lib\\site-packages (from ipython->ipython-autotime) (5.0.9)\n",
      "Requirement already satisfied: jedi>=0.16 in c:\\users\\silva\\anaconda3\\lib\\site-packages (from ipython->ipython-autotime) (0.17.2)\n",
      "Requirement already satisfied: traitlets>=4.2 in c:\\users\\silva\\anaconda3\\lib\\site-packages (from ipython->ipython-autotime) (5.0.5)\n",
      "Requirement already satisfied: backcall in c:\\users\\silva\\anaconda3\\lib\\site-packages (from ipython->ipython-autotime) (0.2.0)\n",
      "Requirement already satisfied: setuptools>=18.5 in c:\\users\\silva\\anaconda3\\lib\\site-packages (from ipython->ipython-autotime) (52.0.0.post20210125)\n",
      "Requirement already satisfied: prompt-toolkit!=3.0.0,!=3.0.1,<3.1.0,>=2.0.0 in c:\\users\\silva\\anaconda3\\lib\\site-packages (from ipython->ipython-autotime) (3.0.17)\n",
      "Requirement already satisfied: colorama in c:\\users\\silva\\anaconda3\\lib\\site-packages (from ipython->ipython-autotime) (0.4.4)\n",
      "Requirement already satisfied: parso<0.8.0,>=0.7.0 in c:\\users\\silva\\anaconda3\\lib\\site-packages (from jedi>=0.16->ipython->ipython-autotime) (0.7.0)\n",
      "Requirement already satisfied: wcwidth in c:\\users\\silva\\anaconda3\\lib\\site-packages (from prompt-toolkit!=3.0.0,!=3.0.1,<3.1.0,>=2.0.0->ipython->ipython-autotime) (0.2.5)\n",
      "Requirement already satisfied: ipython-genutils in c:\\users\\silva\\anaconda3\\lib\\site-packages (from traitlets>=4.2->ipython->ipython-autotime) (0.2.0)\n",
      "The autotime extension is already loaded. To reload it, use:\n",
      "  %reload_ext autotime\n",
      "time: 2.28 s (started: 2021-10-24 10:25:23 -03:00)\n"
     ]
    }
   ],
   "source": [
    "import pandas as pd\n",
    "import numpy as np\n",
    "import seaborn as sns\n",
    "\n",
    "from sklearn.tree import DecisionTreeRegressor\n",
    "from sklearn.pipeline import make_pipeline\n",
    "from sklearn.metrics import mean_absolute_error, mean_squared_error, r2_score\n",
    "from sklearn.model_selection import train_test_split, GridSearchCV\n",
    "\n",
    "!pip install ipython-autotime\n",
    "%load_ext autotime"
   ]
  },
  {
   "cell_type": "code",
   "execution_count": 3,
   "metadata": {
    "colab": {
     "base_uri": "https://localhost:8080/",
     "height": 269
    },
    "executionInfo": {
     "elapsed": 955,
     "status": "ok",
     "timestamp": 1634688839159,
     "user": {
      "displayName": "Francisco Silva",
      "photoUrl": "https://lh3.googleusercontent.com/a-/AOh14GhnBCIyF5R8AiTi5ykZU8rl4YlVuugPZqCU5uBJ4YQ=s64",
      "userId": "14439525103954735478"
     },
     "user_tz": 180
    },
    "id": "7s33x1b1Chyf",
    "outputId": "6625befc-20e3-4540-b4c0-548c8302ce81"
   },
   "outputs": [
    {
     "data": {
      "text/html": [
       "<div>\n",
       "<style scoped>\n",
       "    .dataframe tbody tr th:only-of-type {\n",
       "        vertical-align: middle;\n",
       "    }\n",
       "\n",
       "    .dataframe tbody tr th {\n",
       "        vertical-align: top;\n",
       "    }\n",
       "\n",
       "    .dataframe thead th {\n",
       "        text-align: right;\n",
       "    }\n",
       "</style>\n",
       "<table border=\"1\" class=\"dataframe\">\n",
       "  <thead>\n",
       "    <tr style=\"text-align: right;\">\n",
       "      <th></th>\n",
       "      <th>MS_SubClass</th>\n",
       "      <th>MS_Zoning</th>\n",
       "      <th>Lot_Frontage</th>\n",
       "      <th>Lot_Area</th>\n",
       "      <th>Street</th>\n",
       "      <th>Alley</th>\n",
       "      <th>Lot_Shape</th>\n",
       "      <th>Land_Contour</th>\n",
       "      <th>Utilities</th>\n",
       "      <th>Lot_Config</th>\n",
       "      <th>...</th>\n",
       "      <th>Fence</th>\n",
       "      <th>Misc_Feature</th>\n",
       "      <th>Misc_Val</th>\n",
       "      <th>Mo_Sold</th>\n",
       "      <th>Year_Sold</th>\n",
       "      <th>Sale_Type</th>\n",
       "      <th>Sale_Condition</th>\n",
       "      <th>Sale_Price</th>\n",
       "      <th>Longitude</th>\n",
       "      <th>Latitude</th>\n",
       "    </tr>\n",
       "  </thead>\n",
       "  <tbody>\n",
       "    <tr>\n",
       "      <th>0</th>\n",
       "      <td>One_Story_1946_and_Newer_All_Styles</td>\n",
       "      <td>Residential_Low_Density</td>\n",
       "      <td>141</td>\n",
       "      <td>31770</td>\n",
       "      <td>Pave</td>\n",
       "      <td>No_Alley_Access</td>\n",
       "      <td>Slightly_Irregular</td>\n",
       "      <td>Lvl</td>\n",
       "      <td>AllPub</td>\n",
       "      <td>Corner</td>\n",
       "      <td>...</td>\n",
       "      <td>No_Fence</td>\n",
       "      <td>None</td>\n",
       "      <td>0</td>\n",
       "      <td>5</td>\n",
       "      <td>2010</td>\n",
       "      <td>WD</td>\n",
       "      <td>Normal</td>\n",
       "      <td>215000</td>\n",
       "      <td>-93.619754</td>\n",
       "      <td>42.054035</td>\n",
       "    </tr>\n",
       "    <tr>\n",
       "      <th>1</th>\n",
       "      <td>One_Story_1946_and_Newer_All_Styles</td>\n",
       "      <td>Residential_High_Density</td>\n",
       "      <td>80</td>\n",
       "      <td>11622</td>\n",
       "      <td>Pave</td>\n",
       "      <td>No_Alley_Access</td>\n",
       "      <td>Regular</td>\n",
       "      <td>Lvl</td>\n",
       "      <td>AllPub</td>\n",
       "      <td>Inside</td>\n",
       "      <td>...</td>\n",
       "      <td>Minimum_Privacy</td>\n",
       "      <td>None</td>\n",
       "      <td>0</td>\n",
       "      <td>6</td>\n",
       "      <td>2010</td>\n",
       "      <td>WD</td>\n",
       "      <td>Normal</td>\n",
       "      <td>105000</td>\n",
       "      <td>-93.619756</td>\n",
       "      <td>42.053014</td>\n",
       "    </tr>\n",
       "    <tr>\n",
       "      <th>2</th>\n",
       "      <td>One_Story_1946_and_Newer_All_Styles</td>\n",
       "      <td>Residential_Low_Density</td>\n",
       "      <td>81</td>\n",
       "      <td>14267</td>\n",
       "      <td>Pave</td>\n",
       "      <td>No_Alley_Access</td>\n",
       "      <td>Slightly_Irregular</td>\n",
       "      <td>Lvl</td>\n",
       "      <td>AllPub</td>\n",
       "      <td>Corner</td>\n",
       "      <td>...</td>\n",
       "      <td>No_Fence</td>\n",
       "      <td>Gar2</td>\n",
       "      <td>12500</td>\n",
       "      <td>6</td>\n",
       "      <td>2010</td>\n",
       "      <td>WD</td>\n",
       "      <td>Normal</td>\n",
       "      <td>172000</td>\n",
       "      <td>-93.619387</td>\n",
       "      <td>42.052659</td>\n",
       "    </tr>\n",
       "    <tr>\n",
       "      <th>3</th>\n",
       "      <td>One_Story_1946_and_Newer_All_Styles</td>\n",
       "      <td>Residential_Low_Density</td>\n",
       "      <td>93</td>\n",
       "      <td>11160</td>\n",
       "      <td>Pave</td>\n",
       "      <td>No_Alley_Access</td>\n",
       "      <td>Regular</td>\n",
       "      <td>Lvl</td>\n",
       "      <td>AllPub</td>\n",
       "      <td>Corner</td>\n",
       "      <td>...</td>\n",
       "      <td>No_Fence</td>\n",
       "      <td>None</td>\n",
       "      <td>0</td>\n",
       "      <td>4</td>\n",
       "      <td>2010</td>\n",
       "      <td>WD</td>\n",
       "      <td>Normal</td>\n",
       "      <td>244000</td>\n",
       "      <td>-93.617320</td>\n",
       "      <td>42.051245</td>\n",
       "    </tr>\n",
       "    <tr>\n",
       "      <th>4</th>\n",
       "      <td>Two_Story_1946_and_Newer</td>\n",
       "      <td>Residential_Low_Density</td>\n",
       "      <td>74</td>\n",
       "      <td>13830</td>\n",
       "      <td>Pave</td>\n",
       "      <td>No_Alley_Access</td>\n",
       "      <td>Slightly_Irregular</td>\n",
       "      <td>Lvl</td>\n",
       "      <td>AllPub</td>\n",
       "      <td>Inside</td>\n",
       "      <td>...</td>\n",
       "      <td>Minimum_Privacy</td>\n",
       "      <td>None</td>\n",
       "      <td>0</td>\n",
       "      <td>3</td>\n",
       "      <td>2010</td>\n",
       "      <td>WD</td>\n",
       "      <td>Normal</td>\n",
       "      <td>189900</td>\n",
       "      <td>-93.638933</td>\n",
       "      <td>42.060899</td>\n",
       "    </tr>\n",
       "  </tbody>\n",
       "</table>\n",
       "<p>5 rows × 81 columns</p>\n",
       "</div>"
      ],
      "text/plain": [
       "                           MS_SubClass                 MS_Zoning  \\\n",
       "0  One_Story_1946_and_Newer_All_Styles   Residential_Low_Density   \n",
       "1  One_Story_1946_and_Newer_All_Styles  Residential_High_Density   \n",
       "2  One_Story_1946_and_Newer_All_Styles   Residential_Low_Density   \n",
       "3  One_Story_1946_and_Newer_All_Styles   Residential_Low_Density   \n",
       "4             Two_Story_1946_and_Newer   Residential_Low_Density   \n",
       "\n",
       "   Lot_Frontage  Lot_Area Street            Alley           Lot_Shape  \\\n",
       "0           141     31770   Pave  No_Alley_Access  Slightly_Irregular   \n",
       "1            80     11622   Pave  No_Alley_Access             Regular   \n",
       "2            81     14267   Pave  No_Alley_Access  Slightly_Irregular   \n",
       "3            93     11160   Pave  No_Alley_Access             Regular   \n",
       "4            74     13830   Pave  No_Alley_Access  Slightly_Irregular   \n",
       "\n",
       "  Land_Contour Utilities Lot_Config  ...            Fence Misc_Feature  \\\n",
       "0          Lvl    AllPub     Corner  ...         No_Fence         None   \n",
       "1          Lvl    AllPub     Inside  ...  Minimum_Privacy         None   \n",
       "2          Lvl    AllPub     Corner  ...         No_Fence         Gar2   \n",
       "3          Lvl    AllPub     Corner  ...         No_Fence         None   \n",
       "4          Lvl    AllPub     Inside  ...  Minimum_Privacy         None   \n",
       "\n",
       "  Misc_Val Mo_Sold Year_Sold Sale_Type Sale_Condition Sale_Price  Longitude  \\\n",
       "0        0       5      2010       WD          Normal     215000 -93.619754   \n",
       "1        0       6      2010       WD          Normal     105000 -93.619756   \n",
       "2    12500       6      2010       WD          Normal     172000 -93.619387   \n",
       "3        0       4      2010       WD          Normal     244000 -93.617320   \n",
       "4        0       3      2010       WD          Normal     189900 -93.638933   \n",
       "\n",
       "    Latitude  \n",
       "0  42.054035  \n",
       "1  42.053014  \n",
       "2  42.052659  \n",
       "3  42.051245  \n",
       "4  42.060899  \n",
       "\n",
       "[5 rows x 81 columns]"
      ]
     },
     "execution_count": 3,
     "metadata": {},
     "output_type": "execute_result"
    },
    {
     "name": "stdout",
     "output_type": "stream",
     "text": [
      "time: 47 ms (started: 2021-10-24 10:07:33 -03:00)\n"
     ]
    }
   ],
   "source": [
    "path_colab = \"/content/drive/MyDrive/Data Scientist/Desafío Latam/3 .-Machine Learning/4 .-Algoritmos de ensamble (I)/Desafíos/ames_housing.csv\"\n",
    "path_casita = \"ames_housing.csv\"\n",
    "\n",
    "df = pd.read_csv(path_casita).drop(columns = \"Unnamed: 0\")\n",
    "\n",
    "df.head()"
   ]
  },
  {
   "cell_type": "markdown",
   "metadata": {
    "id": "8cs1fvRlnMt3"
   },
   "source": [
    "# Ejercicio 2: Feature engineering\n",
    "\n",
    "- Identifique si el ​dtype de cada ​pd.Serie en nuestra base de datos se considera 'object'​ o no. Para todas las variables que sean ​'object'​, realice lo siguiente:\n",
    "  - Genere una recodificación k − 1 en cada variable. Para efectos prácticos sólo necesitan eliminar una de las categorías, no se concentren en especificar la categoría a eliminar. Pueden utilizar la función pd.get_dummies con la opción ​drop_first para ello.\n",
    "  - Utilizando el método ​pd.concat​, concatene a los atributos creados en la base de datos.\n",
    "  Tip: No se olvide de eliminar los atributos recodificados, de esta forma evitará un\n",
    "  aumento artificial del desempeño del modelo."
   ]
  },
  {
   "cell_type": "code",
   "execution_count": 4,
   "metadata": {
    "colab": {
     "base_uri": "https://localhost:8080/",
     "height": 454
    },
    "executionInfo": {
     "elapsed": 250,
     "status": "ok",
     "timestamp": 1634690877492,
     "user": {
      "displayName": "Francisco Silva",
      "photoUrl": "https://lh3.googleusercontent.com/a-/AOh14GhnBCIyF5R8AiTi5ykZU8rl4YlVuugPZqCU5uBJ4YQ=s64",
      "userId": "14439525103954735478"
     },
     "user_tz": 180
    },
    "id": "c6TBGE3GksH0",
    "outputId": "e189e151-4c51-4452-ac3d-84f3b189c582"
   },
   "outputs": [
    {
     "name": "stdout",
     "output_type": "stream",
     "text": [
      "time: 47 ms (started: 2021-10-24 10:09:00 -03:00)\n"
     ]
    }
   ],
   "source": [
    "df = pd.get_dummies(df, drop_first=True)"
   ]
  },
  {
   "cell_type": "code",
   "execution_count": 20,
   "metadata": {},
   "outputs": [
    {
     "data": {
      "text/plain": [
       "(2930, 307)"
      ]
     },
     "execution_count": 20,
     "metadata": {},
     "output_type": "execute_result"
    },
    {
     "name": "stdout",
     "output_type": "stream",
     "text": [
      "time: 0 ns (started: 2021-10-24 10:20:02 -03:00)\n"
     ]
    }
   ],
   "source": [
    "df.shape"
   ]
  },
  {
   "cell_type": "markdown",
   "metadata": {
    "id": "79PWpKckAxvM"
   },
   "source": [
    "# Ejercicio 3: Primer modelo\n",
    "\n",
    "- Genere muestras de entrenamiento y validación con 'Sale_Price' como vector objetivo y los atributos de la base de datos como matriz.\n",
    "- Recuerde definir el porcentaje de casos en la muestra de validación y una semilla pseudoaleatoria.\n",
    "- Posteriormente, entrene un árbol de regresión en la muestra de entrenamiento sin modificar los hiper parámetros. Reporte las principales métricas de desempeño.\n",
    "- Comente sobre el desempeño."
   ]
  },
  {
   "cell_type": "code",
   "execution_count": 5,
   "metadata": {
    "id": "I-NuOi2xA2qj"
   },
   "outputs": [
    {
     "name": "stdout",
     "output_type": "stream",
     "text": [
      "time: 15 ms (started: 2021-10-24 10:11:30 -03:00)\n"
     ]
    }
   ],
   "source": [
    "X = df.drop(columns = 'Sale_Price')\n",
    "y = df.Sale_Price\n",
    "\n",
    "X_train, X_test, y_train, y_test = train_test_split(X, y, test_size=0.33, random_state=123)"
   ]
  },
  {
   "cell_type": "code",
   "execution_count": 9,
   "metadata": {},
   "outputs": [
    {
     "name": "stdout",
     "output_type": "stream",
     "text": [
      "time: 63 ms (started: 2021-10-24 10:13:34 -03:00)\n"
     ]
    }
   ],
   "source": [
    "dt = DecisionTreeRegressor()\n",
    "dt.fit(X_train, y_train)\n",
    "\n",
    "y_pred = dt.predict(X_test)"
   ]
  },
  {
   "cell_type": "code",
   "execution_count": 16,
   "metadata": {},
   "outputs": [
    {
     "data": {
      "text/html": [
       "<div>\n",
       "<style scoped>\n",
       "    .dataframe tbody tr th:only-of-type {\n",
       "        vertical-align: middle;\n",
       "    }\n",
       "\n",
       "    .dataframe tbody tr th {\n",
       "        vertical-align: top;\n",
       "    }\n",
       "\n",
       "    .dataframe thead th {\n",
       "        text-align: right;\n",
       "    }\n",
       "</style>\n",
       "<table border=\"1\" class=\"dataframe\">\n",
       "  <thead>\n",
       "    <tr style=\"text-align: right;\">\n",
       "      <th></th>\n",
       "      <th>MAE</th>\n",
       "      <th>MSE</th>\n",
       "      <th>Modelo</th>\n",
       "      <th>R2</th>\n",
       "    </tr>\n",
       "  </thead>\n",
       "  <tbody>\n",
       "    <tr>\n",
       "      <th>0</th>\n",
       "      <td>25254.392968</td>\n",
       "      <td>1.634219e+09</td>\n",
       "      <td>dt</td>\n",
       "      <td>0.734276</td>\n",
       "    </tr>\n",
       "  </tbody>\n",
       "</table>\n",
       "</div>"
      ],
      "text/plain": [
       "            MAE           MSE Modelo        R2\n",
       "0  25254.392968  1.634219e+09     dt  0.734276"
      ]
     },
     "execution_count": 16,
     "metadata": {},
     "output_type": "execute_result"
    },
    {
     "name": "stdout",
     "output_type": "stream",
     "text": [
      "time: 15 ms (started: 2021-10-24 10:17:22 -03:00)\n"
     ]
    }
   ],
   "source": [
    "resultados = pd.DataFrame()\n",
    "\n",
    "resultados = resultados.append(\n",
    "    {'Modelo':\"dt\",\n",
    "     \"MAE\":mean_absolute_error(y_test,y_pred),\n",
    "     \"MSE\":mean_squared_error(y_test,y_pred),\n",
    "     \"R2\":r2_score(y_test,y_pred)\n",
    "    },\n",
    "ignore_index=True\n",
    ")\n",
    "#mean_absolute_error, mean_squared_error, r2_score\n",
    "\n",
    "resultados"
   ]
  },
  {
   "cell_type": "markdown",
   "metadata": {},
   "source": [
    "**Comentarios**\n",
    "\n",
    "Tanto el MAE como el MSE servirá mejor compararlos con otros modelos, pero notamos que tenemos un r2 por sobre el 70%, el cual no es \"muy bueno\"."
   ]
  },
  {
   "cell_type": "markdown",
   "metadata": {
    "id": "sJXRbOOOA3i5"
   },
   "source": [
    "# Ejercicio 4: Importancia relativa\n",
    "\n",
    "- Implemente el método ​plot_importance utilizado en la lectura para reportar la importancia relativa de los atributos.\n",
    "- Comente sobre cuáles son los principales 10 atributos que afectan la predicción de Sale_Price​.\n",
    "- Separe estos 10 atributos en una nueva base de datos, junto con el vector objetivo."
   ]
  },
  {
   "cell_type": "code",
   "execution_count": 28,
   "metadata": {
    "id": "GCvkOUgfA9YM"
   },
   "outputs": [
    {
     "data": {
      "text/plain": [
       "Garage_Cars                  0.381725\n",
       "Total_Bsmt_SF                0.132244\n",
       "Year_Built                   0.128787\n",
       "Gr_Liv_Area                  0.117247\n",
       "Fireplace_Qu_No_Fireplace    0.049018\n",
       "dtype: float64"
      ]
     },
     "execution_count": 28,
     "metadata": {},
     "output_type": "execute_result"
    },
    {
     "name": "stdout",
     "output_type": "stream",
     "text": [
      "time: 0 ns (started: 2021-10-24 10:24:57 -03:00)\n"
     ]
    }
   ],
   "source": [
    "#Haremos nuestro propio plot_importance en base al atributo feature_importance_ de nuestro árbol de decisión.\n",
    "\n",
    "plot_importance = pd.Series(dt.feature_importances_, index = X.columns).sort_values(ascending = False)\n",
    "plot_importance.head()"
   ]
  },
  {
   "cell_type": "code",
   "execution_count": 33,
   "metadata": {},
   "outputs": [
    {
     "data": {
      "text/plain": [
       "<AxesSubplot:>"
      ]
     },
     "execution_count": 33,
     "metadata": {},
     "output_type": "execute_result"
    },
    {
     "data": {
      "image/png": "[encoded data removed]",
      "text/plain": [
       "<Figure size 432x288 with 1 Axes>"
      ]
     },
     "metadata": {
      "needs_background": "light"
     },
     "output_type": "display_data"
    },
    {
     "name": "stdout",
     "output_type": "stream",
     "text": [
      "time: 125 ms (started: 2021-10-24 10:26:08 -03:00)\n"
     ]
    }
   ],
   "source": [
    "sns.barplot(x = plot_importance.values[0:10], y = plot_importance.index[0:10])"
   ]
  },
  {
   "cell_type": "markdown",
   "metadata": {},
   "source": [
    "**Comentarios**\n",
    "\n",
    "Las 10 variables que **el modelo** encontró como más importantes para generar el árbol de decisión son:\n",
    "- Capacidad de autos para guardar en el garage de la casa\n",
    "- Total de BSMT_SF\n",
    "- El año de construcción\n",
    "- Cantidad de áreas verdes\n",
    "- Fireplace_Qu_No_Fireplace\n",
    "- Año de remodelación del hogar\n",
    "- First_Flr_SF\n",
    "- Latitud(coordenada de la ubicación)\n",
    "- Lot_Area\n",
    "- Bsmt_Unsf_SD"
   ]
  },
  {
   "cell_type": "code",
   "execution_count": 111,
   "metadata": {},
   "outputs": [
    {
     "data": {
      "text/plain": [
       "['Garage_Cars',\n",
       " 'Total_Bsmt_SF',\n",
       " 'Year_Built',\n",
       " 'Gr_Liv_Area',\n",
       " 'Fireplace_Qu_No_Fireplace',\n",
       " 'Year_Remod_Add',\n",
       " 'First_Flr_SF',\n",
       " 'Latitude',\n",
       " 'Lot_Area',\n",
       " 'Bsmt_Unf_SF',\n",
       " 'Sale_Price']"
      ]
     },
     "execution_count": 111,
     "metadata": {},
     "output_type": "execute_result"
    },
    {
     "name": "stdout",
     "output_type": "stream",
     "text": [
      "time: 0 ns (started: 2021-10-24 10:49:34 -03:00)\n"
     ]
    }
   ],
   "source": [
    "lista_eje4 = list(plot_importance.index[0:10]) + ['Sale_Price']\n",
    "lista_eje4"
   ]
  },
  {
   "cell_type": "code",
   "execution_count": 113,
   "metadata": {},
   "outputs": [
    {
     "data": {
      "text/html": [
       "<div>\n",
       "<style scoped>\n",
       "    .dataframe tbody tr th:only-of-type {\n",
       "        vertical-align: middle;\n",
       "    }\n",
       "\n",
       "    .dataframe tbody tr th {\n",
       "        vertical-align: top;\n",
       "    }\n",
       "\n",
       "    .dataframe thead th {\n",
       "        text-align: right;\n",
       "    }\n",
       "</style>\n",
       "<table border=\"1\" class=\"dataframe\">\n",
       "  <thead>\n",
       "    <tr style=\"text-align: right;\">\n",
       "      <th></th>\n",
       "      <th>Garage_Cars</th>\n",
       "      <th>Total_Bsmt_SF</th>\n",
       "      <th>Year_Built</th>\n",
       "      <th>Gr_Liv_Area</th>\n",
       "      <th>Fireplace_Qu_No_Fireplace</th>\n",
       "      <th>Year_Remod_Add</th>\n",
       "      <th>First_Flr_SF</th>\n",
       "      <th>Latitude</th>\n",
       "      <th>Lot_Area</th>\n",
       "      <th>Bsmt_Unf_SF</th>\n",
       "      <th>Sale_Price</th>\n",
       "    </tr>\n",
       "  </thead>\n",
       "  <tbody>\n",
       "    <tr>\n",
       "      <th>0</th>\n",
       "      <td>2</td>\n",
       "      <td>1080</td>\n",
       "      <td>1960</td>\n",
       "      <td>1656</td>\n",
       "      <td>0</td>\n",
       "      <td>1960</td>\n",
       "      <td>1656</td>\n",
       "      <td>42.054035</td>\n",
       "      <td>31770</td>\n",
       "      <td>441</td>\n",
       "      <td>215000</td>\n",
       "    </tr>\n",
       "    <tr>\n",
       "      <th>1</th>\n",
       "      <td>1</td>\n",
       "      <td>882</td>\n",
       "      <td>1961</td>\n",
       "      <td>896</td>\n",
       "      <td>1</td>\n",
       "      <td>1961</td>\n",
       "      <td>896</td>\n",
       "      <td>42.053014</td>\n",
       "      <td>11622</td>\n",
       "      <td>270</td>\n",
       "      <td>105000</td>\n",
       "    </tr>\n",
       "    <tr>\n",
       "      <th>2</th>\n",
       "      <td>1</td>\n",
       "      <td>1329</td>\n",
       "      <td>1958</td>\n",
       "      <td>1329</td>\n",
       "      <td>1</td>\n",
       "      <td>1958</td>\n",
       "      <td>1329</td>\n",
       "      <td>42.052659</td>\n",
       "      <td>14267</td>\n",
       "      <td>406</td>\n",
       "      <td>172000</td>\n",
       "    </tr>\n",
       "    <tr>\n",
       "      <th>3</th>\n",
       "      <td>2</td>\n",
       "      <td>2110</td>\n",
       "      <td>1968</td>\n",
       "      <td>2110</td>\n",
       "      <td>0</td>\n",
       "      <td>1968</td>\n",
       "      <td>2110</td>\n",
       "      <td>42.051245</td>\n",
       "      <td>11160</td>\n",
       "      <td>1045</td>\n",
       "      <td>244000</td>\n",
       "    </tr>\n",
       "    <tr>\n",
       "      <th>4</th>\n",
       "      <td>2</td>\n",
       "      <td>928</td>\n",
       "      <td>1997</td>\n",
       "      <td>1629</td>\n",
       "      <td>0</td>\n",
       "      <td>1998</td>\n",
       "      <td>928</td>\n",
       "      <td>42.060899</td>\n",
       "      <td>13830</td>\n",
       "      <td>137</td>\n",
       "      <td>189900</td>\n",
       "    </tr>\n",
       "  </tbody>\n",
       "</table>\n",
       "</div>"
      ],
      "text/plain": [
       "   Garage_Cars  Total_Bsmt_SF  Year_Built  Gr_Liv_Area  \\\n",
       "0            2           1080        1960         1656   \n",
       "1            1            882        1961          896   \n",
       "2            1           1329        1958         1329   \n",
       "3            2           2110        1968         2110   \n",
       "4            2            928        1997         1629   \n",
       "\n",
       "   Fireplace_Qu_No_Fireplace  Year_Remod_Add  First_Flr_SF   Latitude  \\\n",
       "0                          0            1960          1656  42.054035   \n",
       "1                          1            1961           896  42.053014   \n",
       "2                          1            1958          1329  42.052659   \n",
       "3                          0            1968          2110  42.051245   \n",
       "4                          0            1998           928  42.060899   \n",
       "\n",
       "   Lot_Area  Bsmt_Unf_SF  Sale_Price  \n",
       "0     31770          441      215000  \n",
       "1     11622          270      105000  \n",
       "2     14267          406      172000  \n",
       "3     11160         1045      244000  \n",
       "4     13830          137      189900  "
      ]
     },
     "execution_count": 113,
     "metadata": {},
     "output_type": "execute_result"
    },
    {
     "name": "stdout",
     "output_type": "stream",
     "text": [
      "time: 16 ms (started: 2021-10-24 10:49:45 -03:00)\n"
     ]
    }
   ],
   "source": [
    "df_eje4 = df[lista_eje4]\n",
    "df_eje4.head()"
   ]
  },
  {
   "cell_type": "markdown",
   "metadata": {
    "id": "kzOHGAaCA-CT"
   },
   "source": [
    "# Ejercicio 5: Refactorización del modelo y pickling\n",
    "\n",
    "- En función de los atributos seleccionados en el ejercicio anterior, vuelva a generar conjuntos de entrenamiento y validación.\n",
    "- Dentro de los datos de entrenamiento genere una búsqueda de grilla con GridSearchCV utilizando los siguientes hiperparámetros:\n",
    "  - Máximo de atributos: Evalúe todos los posibles atributos.\n",
    "  - Máximo de profundidad: Entre 1 a 32.\n",
    "  - Validaciones cruzadas: 5.\n",
    "- Reporte la mejor combinación de hiperparámetros y su desempeño asociado. Compare el desempeño en la muestra de validación con el modelo por defecto.\n",
    "\n",
    "**Pickling**\n",
    "\n",
    "- Ahora generamos una serialización de nuestro modelo depurado, y nuestros conjuntos de entrenamiento y validación depurados. Para ello importe el módulo <code>pickle</code>.\n",
    "-  pickle contiene la función dump, que permite guardar el modelo desarrollado. La forma canónica para desarrollar el pickling es:\n",
    "\n",
    "<code> pickle.dump(<OBJETO_CON_EL_MODELO>, open('nombre-apellido-actividad07.sav', 'wb'))</code>\n"
   ]
  },
  {
   "cell_type": "code",
   "execution_count": 116,
   "metadata": {
    "id": "-GomF-0VBhSK"
   },
   "outputs": [
    {
     "name": "stdout",
     "output_type": "stream",
     "text": [
      "time: 0 ns (started: 2021-10-24 10:54:37 -03:00)\n"
     ]
    }
   ],
   "source": [
    "X = df_eje4.drop(columns = 'Sale_Price')\n",
    "y = df_eje4.Sale_Price\n",
    "\n",
    "X_train, X_test, y_train, y_test, = train_test_split(X, y , test_size=0.33, random_state=123)"
   ]
  },
  {
   "cell_type": "code",
   "execution_count": 119,
   "metadata": {},
   "outputs": [
    {
     "name": "stdout",
     "output_type": "stream",
     "text": [
      "time: 1.49 s (started: 2021-10-24 11:06:25 -03:00)\n"
     ]
    }
   ],
   "source": [
    "params = {\"max_depth\":np.linspace(1,32,32)} # No se especificó max_feature dado que por defecto el modelo selecciona todos los posibles\n",
    "\n",
    "grid = GridSearchCV(DecisionTreeRegressor(), param_grid = params, cv=5).fit(X_train, y_train)"
   ]
  },
  {
   "cell_type": "code",
   "execution_count": 124,
   "metadata": {},
   "outputs": [
    {
     "name": "stdout",
     "output_type": "stream",
     "text": [
      "La mejor combinación de parámetros fue: {'max_depth': 6.0}, con un desempeño squared_error de 0.79\n",
      "time: 0 ns (started: 2021-10-24 11:12:07 -03:00)\n"
     ]
    }
   ],
   "source": [
    "print(f\"La mejor combinación de parámetros fue: {grid.best_params_}, con un desempeño squared_error de {grid.best_score_.round(2)}\")"
   ]
  },
  {
   "cell_type": "code",
   "execution_count": 125,
   "metadata": {},
   "outputs": [
    {
     "data": {
      "text/html": [
       "<div>\n",
       "<style scoped>\n",
       "    .dataframe tbody tr th:only-of-type {\n",
       "        vertical-align: middle;\n",
       "    }\n",
       "\n",
       "    .dataframe tbody tr th {\n",
       "        vertical-align: top;\n",
       "    }\n",
       "\n",
       "    .dataframe thead th {\n",
       "        text-align: right;\n",
       "    }\n",
       "</style>\n",
       "<table border=\"1\" class=\"dataframe\">\n",
       "  <thead>\n",
       "    <tr style=\"text-align: right;\">\n",
       "      <th></th>\n",
       "      <th>MAE</th>\n",
       "      <th>MSE</th>\n",
       "      <th>Modelo</th>\n",
       "      <th>R2</th>\n",
       "    </tr>\n",
       "  </thead>\n",
       "  <tbody>\n",
       "    <tr>\n",
       "      <th>0</th>\n",
       "      <td>25254.392968</td>\n",
       "      <td>1.634219e+09</td>\n",
       "      <td>dt</td>\n",
       "      <td>0.734276</td>\n",
       "    </tr>\n",
       "    <tr>\n",
       "      <th>1</th>\n",
       "      <td>24343.869264</td>\n",
       "      <td>1.438856e+09</td>\n",
       "      <td>grid_dt</td>\n",
       "      <td>0.766042</td>\n",
       "    </tr>\n",
       "  </tbody>\n",
       "</table>\n",
       "</div>"
      ],
      "text/plain": [
       "            MAE           MSE   Modelo        R2\n",
       "0  25254.392968  1.634219e+09       dt  0.734276\n",
       "1  24343.869264  1.438856e+09  grid_dt  0.766042"
      ]
     },
     "execution_count": 125,
     "metadata": {},
     "output_type": "execute_result"
    },
    {
     "name": "stdout",
     "output_type": "stream",
     "text": [
      "time: 0 ns (started: 2021-10-24 11:13:44 -03:00)\n"
     ]
    }
   ],
   "source": [
    "y_pred = grid.predict(X_test)\n",
    "\n",
    "resultados = resultados.append(\n",
    "    {'Modelo':\"grid_dt\",\n",
    "     \"MAE\":mean_absolute_error(y_test,y_pred),\n",
    "     \"MSE\":mean_squared_error(y_test,y_pred),\n",
    "     \"R2\":r2_score(y_test,y_pred)\n",
    "    },\n",
    "ignore_index=True\n",
    ")\n",
    "#mean_absolute_error, mean_squared_error, r2_score\n",
    "\n",
    "resultados"
   ]
  },
  {
   "cell_type": "markdown",
   "metadata": {},
   "source": [
    "**Comentario**\n",
    "\n",
    "Tanto el MAE con el MSE bajaron, por tanto el desempeño mejoró al tomar sólo los 10 atributos más importantes acorde al criterio del primero árbol de decision(modelo dt), así mismo, el r2 mejoró de 0.73 a 0.76 aprox, mejorando sustancialmente."
   ]
  },
  {
   "cell_type": "code",
   "execution_count": 126,
   "metadata": {},
   "outputs": [
    {
     "name": "stdout",
     "output_type": "stream",
     "text": [
      "time: 0 ns (started: 2021-10-24 11:16:18 -03:00)\n"
     ]
    }
   ],
   "source": [
    "import pickle"
   ]
  },
  {
   "cell_type": "code",
   "execution_count": 127,
   "metadata": {},
   "outputs": [
    {
     "name": "stdout",
     "output_type": "stream",
     "text": [
      "time: 0 ns (started: 2021-10-24 11:17:16 -03:00)\n"
     ]
    }
   ],
   "source": [
    "pickle.dump(grid, open('Francisco-Silva-actividad07.sav', 'wb'))"
   ]
  }
 ],
 "metadata": {
  "colab": {
   "authorship_tag": "ABX9TyNz1Rg7MirP01gcItoG4KZH",
   "collapsed_sections": [],
   "mount_file_id": "1dKplFhIgk7bAQHaA0vLV6VUzRF4BtZrH",
   "name": "FS - Desafío - Árboles de regresión.ipynb",
   "provenance": []
  },
  "kernelspec": {
   "display_name": "Python 3",
   "language": "python",
   "name": "python3"
  },
  "language_info": {
   "codemirror_mode": {
    "name": "ipython",
    "version": 3
   },
   "file_extension": ".py",
   "mimetype": "text/x-python",
   "name": "python",
   "nbconvert_exporter": "python",
   "pygments_lexer": "ipython3",
   "version": "3.8.8"
  }
 },
 "nbformat": 4,
 "nbformat_minor": 1
}
