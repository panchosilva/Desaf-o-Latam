{
 "cells": [
  {
   "cell_type": "markdown",
   "id": "e972cba7-3b7a-401d-b348-3da90ca897ea",
   "metadata": {
    "id": "e972cba7-3b7a-401d-b348-3da90ca897ea"
   },
   "source": [
    "#**Desafío - Ventas**\n"
   ]
  },
  {
   "cell_type": "code",
   "execution_count": 2,
   "id": "b51b5543-de06-44de-b0a0-e2f7de6f3eff",
   "metadata": {
    "colab": {
     "base_uri": "https://localhost:8080/"
    },
    "executionInfo": {
     "elapsed": 228,
     "status": "ok",
     "timestamp": 1626881414324,
     "user": {
      "displayName": "Francisco Silva",
      "photoUrl": "https://lh3.googleusercontent.com/a-/AOh14GhnBCIyF5R8AiTi5ykZU8rl4YlVuugPZqCU5uBJ4YQ=s64",
      "userId": "14439525103954735478"
     },
     "user_tz": 240
    },
    "id": "b51b5543-de06-44de-b0a0-e2f7de6f3eff",
    "outputId": "363096b3-8dc8-48e7-b70c-1ad171756905"
   },
   "outputs": [
    {
     "data": {
      "text/plain": [
       "{'Enero': 15000,\n",
       " 'Febrero': 22000,\n",
       " 'Marzo': 12000,\n",
       " 'Abril': 17000,\n",
       " 'Mayo': 81000,\n",
       " 'Junio': 13000,\n",
       " 'Julio': 21000,\n",
       " 'Agosto': 41200,\n",
       " 'Septiembre': 25000,\n",
       " 'Octubre': 21500,\n",
       " 'Noviembre': 91000,\n",
       " 'Diciembre': 21000}"
      ]
     },
     "execution_count": 2,
     "metadata": {},
     "output_type": "execute_result"
    }
   ],
   "source": [
    "ventas = {\n",
    "    \"Enero\": 15000,\n",
    "    \"Febrero\": 22000,\n",
    "    \"Marzo\": 12000,\n",
    "    \"Abril\": 17000,\n",
    "    \"Mayo\": 81000,\n",
    "    \"Junio\": 13000\n",
    "    ,\"Julio\": 21000,\n",
    "    \"Agosto\": 41200,\n",
    "    \"Septiembre\": 25000,\n",
    "    \"Octubre\": 21500,\n",
    "    \"Noviembre\": 91000,\n",
    "    \"Diciembre\": 21000\n",
    "}\n",
    "ventas"
   ]
  },
  {
   "cell_type": "markdown",
   "id": "85e54199-f6b5-49f8-916e-1d367ce73b6d",
   "metadata": {
    "id": "85e54199-f6b5-49f8-916e-1d367ce73b6d"
   },
   "source": [
    "# iter1.py"
   ]
  },
  {
   "cell_type": "code",
   "execution_count": null,
   "id": "d4bbbc0b-77bb-415e-b3b0-e1dc174079d3",
   "metadata": {
    "id": "d4bbbc0b-77bb-415e-b3b0-e1dc174079d3"
   },
   "outputs": [],
   "source": [
    "for k,v in ventas.items():\n",
    "    if v > 45000:\n",
    "        print(v)"
   ]
  },
  {
   "cell_type": "markdown",
   "id": "0d6671af-d8d6-41be-a5e7-6a004edf67e1",
   "metadata": {
    "id": "0d6671af-d8d6-41be-a5e7-6a004edf67e1"
   },
   "source": [
    "# iter2.py"
   ]
  },
  {
   "cell_type": "code",
   "execution_count": null,
   "id": "b4b12599-04a0-43d6-8719-f525300d5bb8",
   "metadata": {
    "id": "b4b12599-04a0-43d6-8719-f525300d5bb8"
   },
   "outputs": [],
   "source": [
    "for k,v in ventas.items():\n",
    "    if v > 45000:\n",
    "        print(k)"
   ]
  },
  {
   "cell_type": "markdown",
   "id": "ac56201c-0e11-4bb2-a099-6ffd86d1c110",
   "metadata": {
    "id": "ac56201c-0e11-4bb2-a099-6ffd86d1c110"
   },
   "source": [
    "# iter3.py"
   ]
  },
  {
   "cell_type": "code",
   "execution_count": null,
   "id": "8db584ed-86c9-42fc-ae79-0d6d160185d9",
   "metadata": {
    "id": "8db584ed-86c9-42fc-ae79-0d6d160185d9"
   },
   "outputs": [],
   "source": [
    "def filter_dict(dicto, maximo):\n",
    "    new_dict ={}\n",
    "    for k,v in dicto.items():\n",
    "        if v > float(maximo):\n",
    "            new_dict.update({k:v})\n",
    "    return new_dict    "
   ]
  },
  {
   "cell_type": "code",
   "execution_count": null,
   "id": "25ce983d-54d6-4bf8-afc8-959eefcd314e",
   "metadata": {
    "id": "25ce983d-54d6-4bf8-afc8-959eefcd314e"
   },
   "outputs": [],
   "source": [
    "filter_dict(ventas,45000)"
   ]
  },
  {
   "cell_type": "markdown",
   "id": "b092ee9a-565d-4b3b-a9a9-c15dfb11d149",
   "metadata": {
    "id": "b092ee9a-565d-4b3b-a9a9-c15dfb11d149"
   },
   "source": [
    "# busqueda.py"
   ]
  },
  {
   "cell_type": "code",
   "execution_count": null,
   "id": "302ff036-92fe-4fa1-b5af-0aaaed5200fc",
   "metadata": {
    "id": "302ff036-92fe-4fa1-b5af-0aaaed5200fc"
   },
   "outputs": [],
   "source": [
    "import sys\n",
    "\n",
    "input_busqueda = ventas #En esta parte deberían cambiar el diccionario para validar mi desafío, yo para este ejercicio dejé el mostrado (osea, lo igualé a ventas de iter1.py)\n",
    "\n",
    "lista_prueba_busqueda = sys.argv\n",
    "\n",
    "for i in range(len(lista_prueba_busqueda)):\n",
    "    if i != 0:\n",
    "        if lista_prueba_busqueda[i] in list(input_busqueda.values()):\n",
    "            for k,v in input_busqueda.items():\n",
    "                if v == lista_prueba_busqueda[i]:\n",
    "                    print(k)\n",
    "                    print()\n",
    "        else:\n",
    "            print(\"no encontrado\")\n",
    "            print()"
   ]
  },
  {
   "cell_type": "markdown",
   "id": "xLfwgzgnM6Y4",
   "metadata": {
    "id": "xLfwgzgnM6Y4"
   },
   "source": [
    "# quarters.py"
   ]
  },
  {
   "cell_type": "code",
   "execution_count": null,
   "id": "XwSGbF02O1FJ",
   "metadata": {
    "id": "XwSGbF02O1FJ"
   },
   "outputs": [],
   "source": [
    "input = ventas #Para cambiar el diciconario y validar mi desafío, por favor cambiar aquí el diccionario en vez del de ventas\n",
    "\n",
    "quarters = {\"Q1\":0,\"Q2\":0,\"Q3\":0,\"Q4\":0}\n",
    "\n",
    "for k , v in input.items():\n",
    "  if k.lower() in (\"enero\",\"febrero\", \"marzo\"):\n",
    "    quarters[\"Q1\"] +=input[k]\n",
    "  elif k.lower() in (\"abril\",\"mayo\", \"junio\"):\n",
    "    quarters[\"Q2\"] +=input[k]\n",
    "  elif k.lower() in (\"julio\",\"agosto\", \"septiembre\"):\n",
    "    quarters[\"Q3\"] +=input[k]\n",
    "  elif k.lower() in (\"octubre\",\"noviembre\", \"diciembre\"):\n",
    "    quarters[\"Q4\"] +=input[k]\n",
    "  else:\n",
    "    print(f\"El par {k}:{v} no fue posible de reconocer como mes, favor corregir y reevaluar este script\") \n",
    "\n",
    "quarters"
   ]
  },
  {
   "cell_type": "markdown",
   "id": "aFwpPKTvf5V-",
   "metadata": {
    "id": "aFwpPKTvf5V-"
   },
   "source": [
    "# agrupados.py"
   ]
  },
  {
   "cell_type": "code",
   "execution_count": 3,
   "id": "AFugKIsqfzMD",
   "metadata": {
    "id": "AFugKIsqfzMD"
   },
   "outputs": [
    {
     "data": {
      "text/plain": [
       "{12000: 1,\n",
       " 13000: 1,\n",
       " 15000: 1,\n",
       " 17000: 1,\n",
       " 21000: 2,\n",
       " 21500: 1,\n",
       " 22000: 1,\n",
       " 25000: 1,\n",
       " 41200: 1,\n",
       " 81000: 1,\n",
       " 91000: 1}"
      ]
     },
     "execution_count": 3,
     "metadata": {},
     "output_type": "execute_result"
    }
   ],
   "source": [
    "from itertools import groupby\n",
    "\n",
    "input_agrupados = ventas #Para cambiar el diciconario y validar mi desafío, por favor cambiar aquí el diccionario en vez del de ventas\n",
    "\n",
    "input_agrupados = sorted(input_agrupados.values())\n",
    "{k:len(list(v)) for k , v in groupby(input_agrupados)}"
   ]
  },
  {
   "cell_type": "code",
   "execution_count": 1,
   "id": "2ae8a43b-2a5d-4eef-b210-0f32ef54459d",
   "metadata": {},
   "outputs": [
    {
     "ename": "SyntaxError",
     "evalue": "invalid syntax (<ipython-input-1-ceea20638d74>, line 1)",
     "output_type": "error",
     "traceback": [
      "\u001b[1;36m  File \u001b[1;32m\"<ipython-input-1-ceea20638d74>\"\u001b[1;36m, line \u001b[1;32m1\u001b[0m\n\u001b[1;33m    sudo apt-get install texlive-xetex texlive-fonts-recommended texlive-latex-recommended\u001b[0m\n\u001b[1;37m         ^\u001b[0m\n\u001b[1;31mSyntaxError\u001b[0m\u001b[1;31m:\u001b[0m invalid syntax\n"
     ]
    }
   ],
   "source": [
    "sudo apt-get install texlive-xetex texlive-fonts-recommended texlive-latex-recommended"
   ]
  },
  {
   "cell_type": "code",
   "execution_count": null,
   "id": "1f9b834d-a086-4162-8a18-6f32853c752d",
   "metadata": {},
   "outputs": [],
   "source": []
  }
 ],
 "metadata": {
  "colab": {
   "collapsed_sections": [],
   "name": "Desafío - Ventas.ipynb",
   "provenance": []
  },
  "kernelspec": {
   "display_name": "Python 3",
   "language": "python",
   "name": "python3"
  },
  "language_info": {
   "codemirror_mode": {
    "name": "ipython",
    "version": 3
   },
   "file_extension": ".py",
   "mimetype": "text/x-python",
   "name": "python",
   "nbconvert_exporter": "python",
   "pygments_lexer": "ipython3",
   "version": "3.8.8"
  }
 },
 "nbformat": 4,
 "nbformat_minor": 5
}
