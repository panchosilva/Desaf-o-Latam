{
 "cells": [
  {
   "cell_type": "markdown",
   "id": "37f9abb8-e471-4b74-8a05-8c4f06896dbb",
   "metadata": {},
   "source": [
    "# Desafío 1"
   ]
  },
  {
   "cell_type": "code",
   "execution_count": 1,
   "id": "710f0888-0c8d-4c3c-80c0-a5e3f499eda7",
   "metadata": {},
   "outputs": [
    {
     "name": "stdout",
     "output_type": "stream",
     "text": [
      "{\"page\":1,\"per_page\":6,\"total\":12,\"total_pages\":2,\"data\":[{\"id\":1,\"email\":\"george.bluth@reqres.in\",\"first_name\":\"George\",\"last_name\":\"Bluth\",\"avatar\":\"https://reqres.in/img/faces/1-image.jpg\"},{\"id\":2,\"email\":\"janet.weaver@reqres.in\",\"first_name\":\"Janet\",\"last_name\":\"Weaver\",\"avatar\":\"https://reqres.in/img/faces/2-image.jpg\"},{\"id\":3,\"email\":\"emma.wong@reqres.in\",\"first_name\":\"Emma\",\"last_name\":\"Wong\",\"avatar\":\"https://reqres.in/img/faces/3-image.jpg\"},{\"id\":4,\"email\":\"eve.holt@reqres.in\",\"first_name\":\"Eve\",\"last_name\":\"Holt\",\"avatar\":\"https://reqres.in/img/faces/4-image.jpg\"},{\"id\":5,\"email\":\"charles.morris@reqres.in\",\"first_name\":\"Charles\",\"last_name\":\"Morris\",\"avatar\":\"https://reqres.in/img/faces/5-image.jpg\"},{\"id\":6,\"email\":\"tracey.ramos@reqres.in\",\"first_name\":\"Tracey\",\"last_name\":\"Ramos\",\"avatar\":\"https://reqres.in/img/faces/6-image.jpg\"}],\"support\":{\"url\":\"https://reqres.in/#support-heading\",\"text\":\"To keep ReqRes free, contributions towards server costs are appreciated!\"}}\n"
     ]
    }
   ],
   "source": [
    "import requests\n",
    "\n",
    "url = \"https://reqres.in/api/users\"\n",
    "\n",
    "response_1 = requests.request(\"GET\",url)\n",
    "\n",
    "users_data =response_1\n",
    "\n",
    "print(users_data.text)"
   ]
  },
  {
   "cell_type": "markdown",
   "id": "929daf47-b957-460b-854c-9b48ee06257b",
   "metadata": {},
   "source": [
    "# Desafío 2"
   ]
  },
  {
   "cell_type": "code",
   "execution_count": 2,
   "id": "4c54f08a-c353-4680-ad6e-f7e9d7688055",
   "metadata": {},
   "outputs": [
    {
     "name": "stdout",
     "output_type": "stream",
     "text": [
      "{\"id\":\"226\",\"createdAt\":\"2021-07-27T01:12:16.158Z\"}\n"
     ]
    }
   ],
   "source": [
    "headers = {\n",
    "    \"name\": \"Ignacio\",\n",
    "    \"job\": \"Profesor\"\n",
    "}\n",
    "\n",
    "response_2 = requests.request(\"POST\",url, headers = headers)\n",
    "\n",
    "created_user =response_2\n",
    "\n",
    "print(created_user.text)"
   ]
  },
  {
   "cell_type": "markdown",
   "id": "6f810edd-75af-489c-a653-f97f7fc08a21",
   "metadata": {},
   "source": [
    "# Desafío 3"
   ]
  },
  {
   "cell_type": "code",
   "execution_count": 3,
   "id": "bb97e817-b1a6-4b0e-a900-967b80194f1d",
   "metadata": {},
   "outputs": [
    {
     "name": "stdout",
     "output_type": "stream",
     "text": [
      "{\"updatedAt\":\"2021-07-27T01:12:16.645Z\"}\n"
     ]
    }
   ],
   "source": [
    "headers = {\n",
    "    \"name\": \"morpheus\",\n",
    "    \"residence\": \"zion\"\n",
    "}\n",
    "\n",
    "response_3 = requests.request(\"PUT\",url, headers = headers)\n",
    "\n",
    "updated_user =response_3\n",
    "\n",
    "print(updated_user.text)"
   ]
  },
  {
   "cell_type": "markdown",
   "id": "81d08204-690c-4d88-8c55-eeb84c41d120",
   "metadata": {},
   "source": [
    "# Desafío 4"
   ]
  },
  {
   "cell_type": "code",
   "execution_count": 4,
   "id": "ff93b51a-652d-4cc4-a3f4-8a29d4533dcc",
   "metadata": {},
   "outputs": [
    {
     "name": "stdout",
     "output_type": "stream",
     "text": [
      "<Response [204]>\n"
     ]
    }
   ],
   "source": [
    "headers = {\n",
    "    \"name\": \"Pepe\"\n",
    "}\n",
    "\n",
    "response_4 = requests.request(\"DELETE\",url, headers = headers)\n",
    "\n",
    "print(response_4)"
   ]
  }
 ],
 "metadata": {
  "kernelspec": {
   "display_name": "Python 3",
   "language": "python",
   "name": "python3"
  },
  "language_info": {
   "codemirror_mode": {
    "name": "ipython",
    "version": 3
   },
   "file_extension": ".py",
   "mimetype": "text/x-python",
   "name": "python",
   "nbconvert_exporter": "python",
   "pygments_lexer": "ipython3",
   "version": "3.8.8"
  }
 },
 "nbformat": 4,
 "nbformat_minor": 5
}
