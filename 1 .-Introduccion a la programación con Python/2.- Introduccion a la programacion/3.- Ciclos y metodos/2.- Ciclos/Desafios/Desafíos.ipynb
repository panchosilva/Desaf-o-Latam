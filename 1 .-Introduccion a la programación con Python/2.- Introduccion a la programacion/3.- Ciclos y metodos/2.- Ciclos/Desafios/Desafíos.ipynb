{
 "cells": [
  {
   "cell_type": "markdown",
   "id": "6060a803",
   "metadata": {},
   "source": [
    "# Iterador.py"
   ]
  },
  {
   "cell_type": "code",
   "execution_count": null,
   "id": "34007a96",
   "metadata": {},
   "outputs": [],
   "source": [
    "for i in range(50):\n",
    "    print(\"Iteración {}\".format(i + 1))"
   ]
  },
  {
   "cell_type": "markdown",
   "id": "a078659f",
   "metadata": {},
   "source": [
    "# cuenta_regresiva.py"
   ]
  },
  {
   "cell_type": "code",
   "execution_count": null,
   "id": "b0f43271",
   "metadata": {},
   "outputs": [],
   "source": [
    "cuenta_regresiva = int(input(\"Ingrese un número para comenzar la cuenta\\n\"))\n",
    "\n",
    "i = 0\n",
    "while i < cuenta_regresiva:\n",
    "    tmp = cuenta_regresiva\n",
    "    print(\"Iteración {}\".format(tmp - i))\n",
    "    i +=1\n"
   ]
  },
  {
   "cell_type": "markdown",
   "id": "2b29f2f2",
   "metadata": {},
   "source": [
    "# solo_pares.py"
   ]
  },
  {
   "cell_type": "code",
   "execution_count": null,
   "id": "c5cc985d",
   "metadata": {},
   "outputs": [],
   "source": [
    "n = int(input(\"Ingrese hasta qué numero quiere saber todos los números pares\\n\"))\n",
    "\n",
    "print(\"\\n\")\n",
    "i = 0\n",
    "while i <= n:\n",
    "    if i%2 == 0:\n",
    "        print(i)\n",
    "    i +=1\n",
    "    \n",
    "print(\"\\n\\033[1mFriendly Feedback:\\033[0m El enunciado debería decir que se impriman los números pares mayores o iguales a 0, dado que -2,-4,-6 también se consideran par :).\")"
   ]
  },
  {
   "cell_type": "markdown",
   "id": "a7aeed0a",
   "metadata": {},
   "source": [
    "# solo_pares_refactor.py"
   ]
  },
  {
   "cell_type": "code",
   "execution_count": null,
   "id": "416a0e67",
   "metadata": {},
   "outputs": [],
   "source": [
    "n = int(input(\"Ingrese hasta qué número quiere saber todos los números pares sin el 0\\n\"))\n",
    "\n",
    "print(\"\\n\")\n",
    "i = 2\n",
    "while i <= n:\n",
    "    if i%2 == 0:\n",
    "        print(i)\n",
    "    i +=1\n",
    "    \n",
    "print(\"\\n\\033[1mPucha, el 0 sí es par :(.\\033[0m El enunciado dice que no lo es\")"
   ]
  },
  {
   "cell_type": "markdown",
   "id": "1df5d041",
   "metadata": {},
   "source": [
    "# solo_impares.py"
   ]
  },
  {
   "cell_type": "code",
   "execution_count": null,
   "id": "c8988954",
   "metadata": {},
   "outputs": [],
   "source": [
    "n = int(input(\"Ingrese hasta qué número quiere saber todos los números impares\\n\"))\n",
    "\n",
    "print(\"\\n\")\n",
    "i = 1\n",
    "while i <= n:\n",
    "    if i%2 == 1:\n",
    "        print(i)\n",
    "    i +=1"
   ]
  },
  {
   "cell_type": "markdown",
   "id": "bb6b3263",
   "metadata": {},
   "source": [
    "# suma_pares.py"
   ]
  },
  {
   "cell_type": "code",
   "execution_count": null,
   "id": "de7de1e0",
   "metadata": {},
   "outputs": [],
   "source": [
    "n = int(input(\"Ingrese hasta qué numero quiere sumar todos los números pares\\n\"))\n",
    "\n",
    "print(\"\\n\")\n",
    "i = 2\n",
    "total = 0\n",
    "\n",
    "if (n == 1) or (n == 0):\n",
    "    print(\"0\")\n",
    "else:\n",
    "    while i <= n:\n",
    "        if i%2 == 0:\n",
    "            total += i\n",
    "        i +=2\n",
    "    print(total)"
   ]
  },
  {
   "cell_type": "markdown",
   "id": "b3ca31ab",
   "metadata": {},
   "source": [
    "# genera_patron.py"
   ]
  },
  {
   "cell_type": "code",
   "execution_count": null,
   "id": "55f9d419",
   "metadata": {},
   "outputs": [],
   "source": [
    "n = int(input(\"Ingrese hasta qué numero quiere generar el patrón\\n\"))\n",
    "\n",
    "print(\"\\n\")\n",
    "\n",
    "resultado = \"\"\n",
    "\n",
    "i = 1\n",
    "while i <= n:\n",
    "    resultado += str(i)\n",
    "    print(resultado)\n",
    "    i+=1"
   ]
  },
  {
   "cell_type": "markdown",
   "id": "0de59c51",
   "metadata": {},
   "source": [
    "# lorem_generator.py"
   ]
  },
  {
   "cell_type": "code",
   "execution_count": null,
   "id": "e9747436",
   "metadata": {},
   "outputs": [],
   "source": [
    "n = int(input(\"Ingrese cuántas quiere que se imprima el párrafo \\\"Loremipsum\\\" \\n\"))\n",
    "\n",
    "print(\"\\n\")\n",
    "\n",
    "lorem = \"\"\"Lorem ipsum dolor sit amet, consectetur adipiscingelit. Morbi ac\n",
    "lacinia nibh, nec faucibus enim. Nullam quis loremposuere, hendrerit\n",
    "tellus eget, tincidunt ipsum. Nam nulla tortor, elementuminelit nec,\n",
    "fermentum dignissim sapien. Sed a mattis nisi, sitamet dignissim elit.\n",
    "Sed finibus eros sit amet ipsum scelerisque interdum.Curabitur justo\n",
    "nibh, viverra a elit vel, elementum hendrerit erat.Duis feugiat mattis\n",
    "ante vel hendrerit. Etiam nec nibh nulla. Class aptenttaciti sociosqu\n",
    "ad litora torquent per conubia nostra, per inceptoshimenaeos.\n",
    "\n",
    "\"\"\"\n",
    "\n",
    "print(lorem*n)"
   ]
  },
  {
   "cell_type": "markdown",
   "id": "66c54524",
   "metadata": {},
   "source": [
    "# fuerza_bruta.py"
   ]
  },
  {
   "cell_type": "code",
   "execution_count": null,
   "id": "fdacd7ac",
   "metadata": {},
   "outputs": [],
   "source": [
    "import string\n",
    "\n",
    "contraseña = input(\"Ingresa contraseña\\n\").lower()\n",
    "\n",
    "while len(contraseña) <=0:\n",
    "    \"Ingrese contraseña\\n\"\n",
    "    contraseña = input(\"Ingresa contraseña\\n\").lower()\n",
    "\n",
    "print(\"\\n\")\n",
    "\n",
    "#variables\n",
    "iterador_letra_contraseña = 0\n",
    "iterador_letra_abecedario = 0\n",
    "cantidad_de_intentos = 0\n",
    "abecedario = string.ascii_lowercase\n",
    "\n",
    "while iterador_letra_contraseña < len(contraseña):\n",
    "    cantidad_de_intentos +=1\n",
    "    while contraseña[iterador_letra_contraseña] != abecedario[iterador_letra_abecedario]:\n",
    "        cantidad_de_intentos +=1\n",
    "        iterador_letra_abecedario += 1\n",
    "    iterador_letra_abecedario = 0\n",
    "    iterador_letra_contraseña +=1\n",
    "\n",
    "print(cantidad_de_intentos)"
   ]
  },
  {
   "cell_type": "code",
   "execution_count": null,
   "id": "4fcaa35b",
   "metadata": {},
   "outputs": [],
   "source": []
  }
 ],
 "metadata": {
  "kernelspec": {
   "display_name": "Python 3",
   "language": "python",
   "name": "python3"
  },
  "language_info": {
   "codemirror_mode": {
    "name": "ipython",
    "version": 3
   },
   "file_extension": ".py",
   "mimetype": "text/x-python",
   "name": "python",
   "nbconvert_exporter": "python",
   "pygments_lexer": "ipython3",
   "version": "3.8.8"
  }
 },
 "nbformat": 4,
 "nbformat_minor": 5
}
