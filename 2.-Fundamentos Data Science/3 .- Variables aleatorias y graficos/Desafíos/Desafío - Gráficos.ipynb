{
 "cells": [
  {
   "cell_type": "markdown",
   "metadata": {
    "id": "Kpakt5CVfk6D"
   },
   "source": [
    "# Desafío - Gráficos"
   ]
  },
  {
   "cell_type": "markdown",
   "metadata": {
    "id": "tT5o_dyWfsgh"
   },
   "source": [
    "# 1 Genere una submuestra de casos\n",
    "\n",
    "**Mi apellido es SILVA**\n",
    "\n",
    "**RUT 17270464-6**\n",
    "\n",
    "Utilice los últimos 4 dígitos de su rut como semilla pseudoaleatoria.\n",
    "\n",
    "● Seleccione el 50% de los casos.\n",
    "\n",
    "● Cada base generada debe contener los siguientes elementos:\n",
    "\n",
    "  ○ El índice de desarrollo humano (`​undp_hdi​`).\n",
    "\n",
    "  ○ El nombre del país (`​ccodealp​`).\n",
    "\n",
    "  ○ La región a la que pertenece (`​ht_region​`).\n",
    "\n",
    "  ○ El PIB per capita. (`​gle_cgdpc​`).\n",
    "\n",
    "  ○ El total de la población (`​imf_pop​`).\n",
    "\n"
   ]
  },
  {
   "cell_type": "code",
   "execution_count": 1,
   "metadata": {
    "colab": {
     "base_uri": "https://localhost:8080/"
    },
    "executionInfo": {
     "elapsed": 521,
     "status": "ok",
     "timestamp": 1628613877018,
     "user": {
      "displayName": "Francisco Silva",
      "photoUrl": "https://lh3.googleusercontent.com/a-/AOh14GhnBCIyF5R8AiTi5ykZU8rl4YlVuugPZqCU5uBJ4YQ=s64",
      "userId": "14439525103954735478"
     },
     "user_tz": 240
    },
    "id": "6MGV2ct8hA6r",
    "outputId": "c01b28c4-e018-4805-8065-6151c6a67d69"
   },
   "outputs": [
    {
     "data": {
      "text/plain": [
       "(194, 1882)"
      ]
     },
     "execution_count": 1,
     "metadata": {},
     "output_type": "execute_result"
    }
   ],
   "source": [
    "import numpy as np\n",
    "import pandas as pd\n",
    "import matplotlib.pyplot as plt\n",
    "\n",
    "np.random.seed(4646)\n",
    "\n",
    "path_drive = \"/content/drive/MyDrive/Data Scientist/Desafío Latam/2 .-Fundamentos Data Science/3 .- Variables aleatorias y graficos/Desafíos/qog_std_cs_jan18.csv\"\n",
    "path_normal = \"qog_std_cs_jan18.csv\"\n",
    "\n",
    "df = pd.read_csv(path_normal)\n",
    "df.shape"
   ]
  },
  {
   "cell_type": "markdown",
   "metadata": {
    "id": "gLlE62VugujT"
   },
   "source": [
    "# Si su apellido está entre la N y la Z, escoja las siguientes variables del módulo Salud:\n",
    "\n",
    "  ○ `wef_imort​`: Infant mortality, deaths/1000 live births.\n",
    "\n",
    "  ○ `who_alc2000​`: Alcohol consumption per capita (2000-).\n",
    "\n",
    "  ○ `who_tobt​`: Current smoking of any tobacco product (Total).\n",
    "\n",
    "  ○ `wdi_exph​`: Government expenditure on health, total (% of GDP).\n",
    "\n",
    "  ○ Guarde esta tabla procesada en un nuevo objeto.\n",
    "\n",
    "  ○ Renombre las categorías de la variable `​ht_region​` de números a regiones."
   ]
  },
  {
   "cell_type": "code",
   "execution_count": 2,
   "metadata": {
    "colab": {
     "base_uri": "https://localhost:8080/"
    },
    "executionInfo": {
     "elapsed": 183,
     "status": "ok",
     "timestamp": 1628607443736,
     "user": {
      "displayName": "Francisco Silva",
      "photoUrl": "https://lh3.googleusercontent.com/a-/AOh14GhnBCIyF5R8AiTi5ykZU8rl4YlVuugPZqCU5uBJ4YQ=s64",
      "userId": "14439525103954735478"
     },
     "user_tz": 240
    },
    "id": "bBWKc1odwRwa",
    "outputId": "5556f607-0610-4ba8-aa2d-ef5e80cbf83e"
   },
   "outputs": [
    {
     "name": "stdout",
     "output_type": "stream",
     "text": [
      "        cname  undp_hdi ccodealp      ht_region   gle_cgdpc    imf_pop  \\\n",
      "0    Barbados     0.794      BRB      Caribbean  22888.9710   0.279000   \n",
      "1      Zambia     0.576      ZMB    SubSaharian   1916.7900        NaN   \n",
      "2     Albania     0.762      ALB     EastEurope   8516.7002        NaN   \n",
      "3  Seychelles     0.781      SYC    SubSaharian   9583.3203   0.090000   \n",
      "4     Belarus     0.798      BLR     EastEurope  17780.6410   9.468000   \n",
      "5    Thailand     0.738      THA  SouthEastAsia   9295.5703  68.656998   \n",
      "6   Australia     0.937      AUS     WesternDem  38611.9490  23.621000   \n",
      "7     Somalia       NaN      SOM    SubSaharian   1436.7400        NaN   \n",
      "8  Uzbekistan     0.697      UZB     EastEurope   7370.7202  29.746000   \n",
      "9     Andorra     0.857      AND     WesternDem  32367.3300        NaN   \n",
      "\n",
      "   wef_imort  who_alc2000   who_tobt  wdi_exph  \n",
      "0  16.900000     8.820000   7.000000  7.469303  \n",
      "1  56.400002     2.410000  15.900000  4.986765  \n",
      "2  15.000000     4.510000  29.700001  5.883105  \n",
      "3  11.200000     9.720000  26.700001  3.369817  \n",
      "4        NaN    13.940000  27.900000  5.687722  \n",
      "5  11.400000     6.410000  21.500000  4.122164  \n",
      "6   4.100000     9.710000  16.000000  9.422300  \n",
      "7        NaN     0.000000        NaN       NaN  \n",
      "8        NaN     2.830000  13.300000  5.838522  \n",
      "9        NaN     9.979999  33.099998  8.127135  \n"
     ]
    },
    {
     "data": {
      "text/plain": [
       "(97, 10)"
      ]
     },
     "execution_count": 2,
     "metadata": {},
     "output_type": "execute_result"
    }
   ],
   "source": [
    "df_sample = df.sample(frac = 0.5)[['cname','undp_hdi','ccodealp','ht_region','gle_cgdpc','imf_pop', 'wef_imort', 'who_alc2000', 'who_tobt', 'wdi_exph']].reset_index(drop=True)\n",
    "df_sample['ht_region'] = df_sample['ht_region'].replace([1, 2, 3, 4,\n",
    "5, 6, 7, 8, 9, 10],\n",
    "['EastEurope', 'LatAm', 'NorthAfrica',\n",
    "'SubSaharian', 'WesternDem', 'EastAsia',\n",
    "'SouthEastAsia','SouthAsia','Pacific', 'Caribbean' ])\n",
    "print(df_sample.head(10))\n",
    "df_sample.shape"
   ]
  },
  {
   "cell_type": "markdown",
   "metadata": {
    "id": "hBA7tRmshCYl"
   },
   "source": [
    "# 2. Genere una función que ingrese su objeto y devuelva:\n"
   ]
  },
  {
   "cell_type": "markdown",
   "metadata": {
    "id": "wSaUo4xthLNo"
   },
   "source": [
    "# a) Por cada variable existente en su objeto, calcule las medidas descriptivas para los casos continuos."
   ]
  },
  {
   "cell_type": "code",
   "execution_count": 3,
   "metadata": {
    "colab": {
     "base_uri": "https://localhost:8080/",
     "height": 297
    },
    "executionInfo": {
     "elapsed": 188,
     "status": "ok",
     "timestamp": 1628602537787,
     "user": {
      "displayName": "Francisco Silva",
      "photoUrl": "https://lh3.googleusercontent.com/a-/AOh14GhnBCIyF5R8AiTi5ykZU8rl4YlVuugPZqCU5uBJ4YQ=s64",
      "userId": "14439525103954735478"
     },
     "user_tz": 240
    },
    "id": "jUVeAfUNhR0y",
    "outputId": "e6c4d590-39fb-4268-9405-dec5516a7031"
   },
   "outputs": [
    {
     "data": {
      "text/html": [
       "<div>\n",
       "<style scoped>\n",
       "    .dataframe tbody tr th:only-of-type {\n",
       "        vertical-align: middle;\n",
       "    }\n",
       "\n",
       "    .dataframe tbody tr th {\n",
       "        vertical-align: top;\n",
       "    }\n",
       "\n",
       "    .dataframe thead th {\n",
       "        text-align: right;\n",
       "    }\n",
       "</style>\n",
       "<table border=\"1\" class=\"dataframe\">\n",
       "  <thead>\n",
       "    <tr style=\"text-align: right;\">\n",
       "      <th></th>\n",
       "      <th>undp_hdi</th>\n",
       "      <th>gle_cgdpc</th>\n",
       "      <th>imf_pop</th>\n",
       "      <th>wef_imort</th>\n",
       "      <th>who_alc2000</th>\n",
       "      <th>who_tobt</th>\n",
       "      <th>wdi_exph</th>\n",
       "    </tr>\n",
       "  </thead>\n",
       "  <tbody>\n",
       "    <tr>\n",
       "      <th>count</th>\n",
       "      <td>93.000000</td>\n",
       "      <td>97.000000</td>\n",
       "      <td>72.000000</td>\n",
       "      <td>73.000000</td>\n",
       "      <td>92.000000</td>\n",
       "      <td>68.000000</td>\n",
       "      <td>95.000000</td>\n",
       "    </tr>\n",
       "    <tr>\n",
       "      <th>mean</th>\n",
       "      <td>0.697183</td>\n",
       "      <td>12814.916290</td>\n",
       "      <td>34.029014</td>\n",
       "      <td>22.931507</td>\n",
       "      <td>4.678804</td>\n",
       "      <td>23.197059</td>\n",
       "      <td>6.434198</td>\n",
       "    </tr>\n",
       "    <tr>\n",
       "      <th>std</th>\n",
       "      <td>0.147801</td>\n",
       "      <td>15896.673542</td>\n",
       "      <td>60.723209</td>\n",
       "      <td>20.593863</td>\n",
       "      <td>3.823352</td>\n",
       "      <td>9.941740</td>\n",
       "      <td>2.556891</td>\n",
       "    </tr>\n",
       "    <tr>\n",
       "      <th>min</th>\n",
       "      <td>0.414000</td>\n",
       "      <td>332.269990</td>\n",
       "      <td>0.012000</td>\n",
       "      <td>1.800000</td>\n",
       "      <td>0.000000</td>\n",
       "      <td>4.700000</td>\n",
       "      <td>1.475303</td>\n",
       "    </tr>\n",
       "    <tr>\n",
       "      <th>25%</th>\n",
       "      <td>0.582000</td>\n",
       "      <td>2658.510000</td>\n",
       "      <td>1.884250</td>\n",
       "      <td>6.300000</td>\n",
       "      <td>0.985000</td>\n",
       "      <td>16.175001</td>\n",
       "      <td>4.903553</td>\n",
       "    </tr>\n",
       "    <tr>\n",
       "      <th>50%</th>\n",
       "      <td>0.724000</td>\n",
       "      <td>6649.140100</td>\n",
       "      <td>6.913500</td>\n",
       "      <td>15.100000</td>\n",
       "      <td>3.825000</td>\n",
       "      <td>22.700000</td>\n",
       "      <td>5.933197</td>\n",
       "    </tr>\n",
       "    <tr>\n",
       "      <th>75%</th>\n",
       "      <td>0.798000</td>\n",
       "      <td>17780.641000</td>\n",
       "      <td>34.284250</td>\n",
       "      <td>32.799999</td>\n",
       "      <td>7.535000</td>\n",
       "      <td>29.024999</td>\n",
       "      <td>7.805775</td>\n",
       "    </tr>\n",
       "    <tr>\n",
       "      <th>max</th>\n",
       "      <td>0.938000</td>\n",
       "      <td>108481.130000</td>\n",
       "      <td>318.789001</td>\n",
       "      <td>79.599998</td>\n",
       "      <td>15.190000</td>\n",
       "      <td>54.000000</td>\n",
       "      <td>17.140755</td>\n",
       "    </tr>\n",
       "  </tbody>\n",
       "</table>\n",
       "</div>"
      ],
      "text/plain": [
       "        undp_hdi      gle_cgdpc     imf_pop  wef_imort  who_alc2000  \\\n",
       "count  93.000000      97.000000   72.000000  73.000000    92.000000   \n",
       "mean    0.697183   12814.916290   34.029014  22.931507     4.678804   \n",
       "std     0.147801   15896.673542   60.723209  20.593863     3.823352   \n",
       "min     0.414000     332.269990    0.012000   1.800000     0.000000   \n",
       "25%     0.582000    2658.510000    1.884250   6.300000     0.985000   \n",
       "50%     0.724000    6649.140100    6.913500  15.100000     3.825000   \n",
       "75%     0.798000   17780.641000   34.284250  32.799999     7.535000   \n",
       "max     0.938000  108481.130000  318.789001  79.599998    15.190000   \n",
       "\n",
       "        who_tobt   wdi_exph  \n",
       "count  68.000000  95.000000  \n",
       "mean   23.197059   6.434198  \n",
       "std     9.941740   2.556891  \n",
       "min     4.700000   1.475303  \n",
       "25%    16.175001   4.903553  \n",
       "50%    22.700000   5.933197  \n",
       "75%    29.024999   7.805775  \n",
       "max    54.000000  17.140755  "
      ]
     },
     "execution_count": 3,
     "metadata": {},
     "output_type": "execute_result"
    }
   ],
   "source": [
    "def funcion_a(dataframe):\n",
    "  return dataframe.describe()\n",
    "\n",
    "funcion_a(df_sample)"
   ]
  },
  {
   "cell_type": "markdown",
   "metadata": {
    "id": "yE9Q9RzRhTLl"
   },
   "source": [
    "# b) Para cada variable discreta, que calcule la frecuencia."
   ]
  },
  {
   "cell_type": "code",
   "execution_count": 4,
   "metadata": {
    "colab": {
     "base_uri": "https://localhost:8080/"
    },
    "executionInfo": {
     "elapsed": 192,
     "status": "ok",
     "timestamp": 1628607205785,
     "user": {
      "displayName": "Francisco Silva",
      "photoUrl": "https://lh3.googleusercontent.com/a-/AOh14GhnBCIyF5R8AiTi5ykZU8rl4YlVuugPZqCU5uBJ4YQ=s64",
      "userId": "14439525103954735478"
     },
     "user_tz": 240
    },
    "id": "SwG7X17ThVOr",
    "outputId": "85573cc6-a2fc-43a4-e782-c9470795267f"
   },
   "outputs": [
    {
     "data": {
      "text/plain": [
       "[None,\n",
       " SLB    1\n",
       " HRV    1\n",
       " SYC    1\n",
       " MNG    1\n",
       " PAK    1\n",
       "       ..\n",
       " SOM    1\n",
       " GBR    1\n",
       " MCO    1\n",
       " ERI    1\n",
       " LBR    1\n",
       " Name: ccodealp, Length: 97, dtype: int64,\n",
       " SubSaharian      20\n",
       " EastEurope       17\n",
       " NorthAfrica      12\n",
       " LatAm            11\n",
       " WesternDem        9\n",
       " SouthEastAsia     9\n",
       " Caribbean         7\n",
       " Pacific           7\n",
       " EastAsia          4\n",
       " SouthAsia         1\n",
       " Name: ht_region, dtype: int64]"
      ]
     },
     "execution_count": 4,
     "metadata": {},
     "output_type": "execute_result"
    }
   ],
   "source": [
    " def funcion_b(dataframe):\n",
    "   #Obtengo el listado de columnas discretas\n",
    "   discretas = dataframe.dtypes.reset_index().rename(columns = {'index': \"column\", 0:'type'})\n",
    "   discretas = list(discretas[discretas['type'] == 'object']['column'])\n",
    "\n",
    "   #Genero la lista donde van a quedar las frecuencias de cada columna\n",
    "   a = []\n",
    "\n",
    "   #Genero el contador para ir columna por columna\n",
    "   j = 0\n",
    "   #Itero sobre cada columna discreta y lo guardo en la lista recién creada\n",
    "   for i in discretas:\n",
    "     a[j] = a.append(dataframe[i].value_counts())\n",
    "   return a\n",
    "\n",
    "funcion_b(df_sample)"
   ]
  },
  {
   "cell_type": "markdown",
   "metadata": {
    "id": "VdLrXqFFhVvc"
   },
   "source": [
    "# c) Reporte las estadísticas descriptivas para: \n",
    "    ​○ gle_cgdpc​\n",
    "    ○ undp_hdi​\n",
    "    ○ ​imf_pop​\n",
    "\n",
    "Compare las estadísticas con algún compañero.\n",
    "¿Ve alguna diferencia sustancial en alguna de ellas?"
   ]
  },
  {
   "cell_type": "code",
   "execution_count": 5,
   "metadata": {
    "colab": {
     "base_uri": "https://localhost:8080/"
    },
    "executionInfo": {
     "elapsed": 190,
     "status": "ok",
     "timestamp": 1628607757557,
     "user": {
      "displayName": "Francisco Silva",
      "photoUrl": "https://lh3.googleusercontent.com/a-/AOh14GhnBCIyF5R8AiTi5ykZU8rl4YlVuugPZqCU5uBJ4YQ=s64",
      "userId": "14439525103954735478"
     },
     "user_tz": 240
    },
    "id": "HowedJtihfqd",
    "outputId": "d76099d7-fdf4-4adc-cb5e-260b96f6ef59"
   },
   "outputs": [
    {
     "name": "stdout",
     "output_type": "stream",
     "text": [
      "           gle_cgdpc   undp_hdi     imf_pop\n",
      "count      97.000000  93.000000   72.000000\n",
      "mean    12814.916290   0.697183   34.029014\n",
      "std     15896.673542   0.147801   60.723209\n",
      "min       332.269990   0.414000    0.012000\n",
      "25%      2658.510000   0.582000    1.884250\n",
      "50%      6649.140100   0.724000    6.913500\n",
      "75%     17780.641000   0.798000   34.284250\n",
      "max    108481.130000   0.938000  318.789001\n",
      "\n",
      "Sí, son distintas, y es por el np.ranodm.seed que se definió al principio\n"
     ]
    }
   ],
   "source": [
    "def funcion_c(dataframe):\n",
    "  df = dataframe[['gle_cgdpc','undp_hdi','imf_pop']].describe()\n",
    "  return df\n",
    "\n",
    "print(funcion_c(df_sample))\n",
    "print(\"\")\n",
    "print(\"Sí, son distintas, y es por el np.ranodm.seed que se definió al principio\")"
   ]
  },
  {
   "cell_type": "markdown",
   "metadata": {
    "id": "7kgb0-YBhsZV"
   },
   "source": [
    "# 3 Genere una función que liste las observaciones perdidas de una variable"
   ]
  },
  {
   "cell_type": "markdown",
   "metadata": {
    "id": "LwwkyNx1h1Sl"
   },
   "source": [
    "# a)\n",
    "- La función debe contener los siguientes argumentos:\n",
    "\n",
    "    ○ <code>dataframe</code>​: La función debe ingresar un objeto DataFrame.\n",
    "\n",
    "    ○ <code>var​</code>: Variable a inspeccionar.\n",
    "\n",
    "    ○ <code>print_list</code>​: Opción para imprimir la lista de observaciones perdidas en la variable. Debe ser False por defecto.\n",
    "\n",
    "- La función debe retornar la cantidad de casos perdidos y el porcentaje correspondiente.\n",
    "- Cuando ​<code>print_list = **​True​**</code>, debe retornar la lista de casos."
   ]
  },
  {
   "cell_type": "code",
   "execution_count": 6,
   "metadata": {
    "colab": {
     "base_uri": "https://localhost:8080/"
    },
    "executionInfo": {
     "elapsed": 204,
     "status": "ok",
     "timestamp": 1628613552244,
     "user": {
      "displayName": "Francisco Silva",
      "photoUrl": "https://lh3.googleusercontent.com/a-/AOh14GhnBCIyF5R8AiTi5ykZU8rl4YlVuugPZqCU5uBJ4YQ=s64",
      "userId": "14439525103954735478"
     },
     "user_tz": 240
    },
    "id": "nLj2qKvBhxue",
    "outputId": "040a618d-2ca6-452b-ac51-b87c8c57bfc8"
   },
   "outputs": [
    {
     "data": {
      "text/plain": [
       "[4, 0.041237113402061855]"
      ]
     },
     "execution_count": 6,
     "metadata": {},
     "output_type": "execute_result"
    }
   ],
   "source": [
    "def funcion3a(dataframe, var, print_list = False):\n",
    "  if print_list == False:\n",
    "    cantidad = dataframe[var].isnull().value_counts()[0]\n",
    "    return [len(dataframe)-cantidad,(len(dataframe)-cantidad)/len(dataframe)]\n",
    "  else:\n",
    "    return list(dataframe[dataframe[var].isnull()][var])\n",
    "\n",
    "funcion3a(df_sample,'undp_hdi', print_list= False)\n"
   ]
  },
  {
   "cell_type": "markdown",
   "metadata": {
    "id": "VXJ4nUFFs5WK"
   },
   "source": [
    "# b) (cree una nueva función) con los mismos parámetros pero sin \"var\" (porque no tiene sentido):\n",
    "\n",
    "\n",
    "- Analice todas las variables y sus casos perdidos.\n",
    "\n",
    "- Para las 3 variables con un mayor porcentaje de casos perdidos, solicite la lista de países con ausencia de datos."
   ]
  },
  {
   "cell_type": "code",
   "execution_count": 7,
   "metadata": {
    "colab": {
     "base_uri": "https://localhost:8080/"
    },
    "executionInfo": {
     "elapsed": 210,
     "status": "ok",
     "timestamp": 1628613308755,
     "user": {
      "displayName": "Francisco Silva",
      "photoUrl": "https://lh3.googleusercontent.com/a-/AOh14GhnBCIyF5R8AiTi5ykZU8rl4YlVuugPZqCU5uBJ4YQ=s64",
      "userId": "14439525103954735478"
     },
     "user_tz": 240
    },
    "id": "dOxGZlkGs4cW",
    "outputId": "11a277a1-a9cf-4c7a-a5ce-ac874fa1d57a"
   },
   "outputs": [
    {
     "name": "stdout",
     "output_type": "stream",
     "text": [
      "                  cname  who_tobt  imf_pop  wef_imort\n",
      "7               Somalia       NaN      NaN        NaN\n",
      "17  Antigua and Barbuda       NaN      NaN        NaN\n",
      "19   St Kitts and Nevis       NaN      NaN        NaN\n",
      "35        Guinea-Bissau       NaN      NaN        NaN\n",
      "43         Turkmenistan       NaN      NaN        NaN\n",
      "44              Eritrea       NaN      NaN        NaN\n",
      "72    Equatorial Guinea       NaN      NaN        NaN\n",
      "74             Dominica       NaN      NaN        NaN\n",
      "80             Djibouti       NaN      NaN        NaN\n",
      "93         Korea, North       NaN      NaN        NaN\n",
      "95               Monaco       NaN      NaN        NaN\n"
     ]
    },
    {
     "data": {
      "text/plain": [
       "['Somalia',\n",
       " 'Antigua and Barbuda',\n",
       " 'St Kitts and Nevis',\n",
       " 'Guinea-Bissau',\n",
       " 'Turkmenistan',\n",
       " 'Eritrea',\n",
       " 'Equatorial Guinea',\n",
       " 'Dominica',\n",
       " 'Djibouti',\n",
       " 'Korea, North',\n",
       " 'Monaco']"
      ]
     },
     "execution_count": 7,
     "metadata": {},
     "output_type": "execute_result"
    }
   ],
   "source": [
    "def funcion3b(dataframe):\n",
    "  top3 = list(dataframe.isnull().sum().sort_values(ascending = False)[0:3].index) # Lista de top 3 variables con más NaN's\n",
    "  dataframe = dataframe[\n",
    "                 pd.isna(dataframe[top3[0]]) &\n",
    "                 pd.isna(dataframe[top3[1]]) &\n",
    "                 pd.isna(dataframe[top3[2]])\n",
    "  ][['cname',top3[0],top3[1],top3[2]]]\n",
    "  print(dataframe)\n",
    "  return(list(dataframe['cname']))\n",
    "\n",
    "funcion3b(df_sample)"
   ]
  },
  {
   "cell_type": "markdown",
   "metadata": {
    "id": "gL95SFoniqUY"
   },
   "source": [
    "# 4 Grafique los histogramas\n",
    "\n",
    "# a)\n",
    "\n",
    "- Genere una función que grafique un histograma en conjunto y señala las medias.\n",
    "- La función debe incluir los siguientes argumentos:\n",
    "\n",
    "    ○ <code>dataframe</code>​: La base de datos donde se encuentran los datos específicos.\n",
    "\n",
    "    ○ <code>var​</code>: La variable a graficar.\n",
    "\n",
    "    ○ <code>sample_mean​</code>: Booleano.Si es verdadero, debe generar una recta vertical indicando la media de la variable en la selección muestral. Por defecto debe ser **`False​`**.\n",
    "\n",
    "    ○ <code>true_mean</code>​: Booleano. Si es verdadero, debe generar una recta vertical indicando la media de variable en la base de datos completa."
   ]
  },
  {
   "cell_type": "code",
   "execution_count": 8,
   "metadata": {
    "colab": {
     "base_uri": "https://localhost:8080/",
     "height": 295
    },
    "executionInfo": {
     "elapsed": 738,
     "status": "ok",
     "timestamp": 1628616113836,
     "user": {
      "displayName": "Francisco Silva",
      "photoUrl": "https://lh3.googleusercontent.com/a-/AOh14GhnBCIyF5R8AiTi5ykZU8rl4YlVuugPZqCU5uBJ4YQ=s64",
      "userId": "14439525103954735478"
     },
     "user_tz": 240
    },
    "id": "3YnxQ6KKjMJa",
    "outputId": "74290cb1-0309-4d87-d0fd-8369b7a24f36"
   },
   "outputs": [
    {
     "data": {
      "image/png": "[encoded data removed]",
      "text/plain": [
       "<Figure size 432x288 with 1 Axes>"
      ]
     },
     "metadata": {
      "needs_background": "light"
     },
     "output_type": "display_data"
    }
   ],
   "source": [
    "def funcion4(dataframe,var,sample_mean = False, true_mean = False):\n",
    "  np.random.seed(4646) # Ya que lo necesitamos tener para hacer el desafío 4b)\n",
    "  \n",
    "  df_sample = dataframe.sample(frac = 0.5)\n",
    "\n",
    "  #Grafico el histograma del dataframe de la muestra\n",
    "  plt.hist(dataframe[var])\n",
    "  if sample_mean:\n",
    "    plt.axvline(df_sample[var].mean(), color = 'orange', lw = 2 ,label = \"sample_mean\")\n",
    "  if true_mean:\n",
    "    plt.axvline(dataframe[var].mean(), color = 'green', lw = 2, label = \"true_mean\")\n",
    "  plt.title(var)\n",
    "  plt.ylabel(\"Frecuencia\")\n",
    "  plt.xlabel(\"bins\")\n",
    "  plt.legend()\n",
    "\n",
    "funcion4(df,'who_tobt', sample_mean = True, true_mean = True)"
   ]
  },
  {
   "cell_type": "markdown",
   "metadata": {
    "id": "vbKsdYsG8TCI"
   },
   "source": [
    "# b) Implemente las funciones para las 4 variables seleccionadas según su grupo. ¿En qué variables la media de la submuestra es mayor a la de la muestra completa?"
   ]
  },
  {
   "cell_type": "code",
   "execution_count": 9,
   "metadata": {
    "colab": {
     "base_uri": "https://localhost:8080/",
     "height": 419
    },
    "executionInfo": {
     "elapsed": 1396,
     "status": "ok",
     "timestamp": 1628616220761,
     "user": {
      "displayName": "Francisco Silva",
      "photoUrl": "https://lh3.googleusercontent.com/a-/AOh14GhnBCIyF5R8AiTi5ykZU8rl4YlVuugPZqCU5uBJ4YQ=s64",
      "userId": "14439525103954735478"
     },
     "user_tz": 240
    },
    "id": "qCg9c2Ta8VSO",
    "outputId": "fe29c826-4f27-4cf5-ed24-934908631d4c"
   },
   "outputs": [
    {
     "name": "stdout",
     "output_type": "stream",
     "text": [
      "\n",
      "\n",
      "\n",
      "\n",
      "\n",
      "¿En qué variables la media de la submuestra es mayor a la de la muestra completa?\n",
      "\n",
      "Respuesta: En ningún caso, en todos los gráficos la vertical naranja (submuestra) es MENOR que la verde (muestra)\n",
      "\n"
     ]
    },
    {
     "data": {
      "image/png": "[encoded data removed]",
      "text/plain": [
       "<Figure size 432x288 with 4 Axes>"
      ]
     },
     "metadata": {
      "needs_background": "light"
     },
     "output_type": "display_data"
    }
   ],
   "source": [
    "plt.subplots_adjust(left=0.125,\n",
    "                    bottom=0.01, \n",
    "                    right=1.5, \n",
    "                    top=0.9,\n",
    "                    wspace= 0.3, \n",
    "                    hspace=0.6)\n",
    "\n",
    "variables_solicitadas = ['wef_imort','who_alc2000','who_tobt','wdi_exph']\n",
    "\n",
    "j = 1\n",
    "for i in variables_solicitadas:\n",
    "    plt.subplot(2, 2, j)\n",
    "    funcion4(df,i, sample_mean = True, true_mean = True)\n",
    "    print(\"\")\n",
    "    j += 1\n",
    "\n",
    "print(\"\"\"\n",
    "¿En qué variables la media de la submuestra es mayor a la de la muestra completa?\n",
    "\n",
    "Respuesta: En ningún caso, en todos los gráficos la vertical naranja (submuestra) es MENOR que la verde (muestra)\n",
    "\"\"\")"
   ]
  },
  {
   "cell_type": "markdown",
   "metadata": {
    "id": "7HhozfWvjMsf"
   },
   "source": [
    "# 5 Genere una función que devuelva un dotplot\n",
    "\n",
    "- La función debe contener los siguientes argumentos como argumentos:\n",
    "\n",
    "    ○ <code>dataframe</code>: La tabla de datos donde buscar las variables.\n",
    "\n",
    "    ○ <code>plot_var</code>: La variable a analizar y extraer las medias.\n",
    "\n",
    "    ○ <code>plot_by</code>: La variable agrupadora.\n",
    "\n",
    "    ○ <code>global_stat</code>: Booleano. Si es True debe graficar la media global de la variable. Por defecto debe ser <code>False </code>.\n",
    "\n",
    "    ○ `statistic`: Debe presentar dos opciones. <code>​mean</code> para la media y​ <code>median</code> para la mediana. Por defecto debe ser <code>mean</code>.\n",
    "\n"
   ]
  },
  {
   "cell_type": "code",
   "execution_count": 10,
   "metadata": {
    "colab": {
     "base_uri": "https://localhost:8080/",
     "height": 281
    },
    "executionInfo": {
     "elapsed": 838,
     "status": "ok",
     "timestamp": 1628621025020,
     "user": {
      "displayName": "Francisco Silva",
      "photoUrl": "https://lh3.googleusercontent.com/a-/AOh14GhnBCIyF5R8AiTi5ykZU8rl4YlVuugPZqCU5uBJ4YQ=s64",
      "userId": "14439525103954735478"
     },
     "user_tz": 240
    },
    "id": "FQUh3JU0nAJq",
    "outputId": "324be398-d2a1-4190-83d3-958f3bcab4f8"
   },
   "outputs": [
    {
     "data": {
      "image/png": "[encoded data removed]",
      "text/plain": [
       "<Figure size 432x288 with 1 Axes>"
      ]
     },
     "metadata": {
      "needs_background": "light"
     },
     "output_type": "display_data"
    }
   ],
   "source": [
    "def funcion5(dataframe, plot_var, plot_by, global_stat = False, statistic = \"mean\"):\n",
    "    \n",
    "    grouped_mean = dataframe.groupby(dataframe[plot_by])[plot_var].mean()\n",
    "    \n",
    "    plt.scatter(grouped_mean.values,grouped_mean.index)\n",
    "    if global_stat:\n",
    "        if statistic == 'mean':\n",
    "          plt.axvline(x = grouped_mean.mean(), color = 'orange', label = 'mean')\n",
    "        if statistic == 'median':\n",
    "          plt.axvline(x = grouped_mean.median(), color = 'green', label = 'median')\n",
    "    plt.title(f\"{plot_var} by {plot_by}\")\n",
    "    plt.legend()\n",
    "funcion5(df_sample,'undp_hdi', 'ht_region',global_stat = True, statistic = 'mean')"
   ]
  },
  {
   "cell_type": "markdown",
   "metadata": {
    "id": "_qeQZyYenEQO"
   },
   "source": [
    "# Implemente la función en las 3 variables con una menor cantidad de datos perdidos."
   ]
  },
  {
   "cell_type": "code",
   "execution_count": 11,
   "metadata": {
    "colab": {
     "base_uri": "https://localhost:8080/",
     "height": 320
    },
    "executionInfo": {
     "elapsed": 1398,
     "status": "ok",
     "timestamp": 1628621041821,
     "user": {
      "displayName": "Francisco Silva",
      "photoUrl": "https://lh3.googleusercontent.com/a-/AOh14GhnBCIyF5R8AiTi5ykZU8rl4YlVuugPZqCU5uBJ4YQ=s64",
      "userId": "14439525103954735478"
     },
     "user_tz": 240
    },
    "id": "DN1T3MhmnEij",
    "outputId": "728ae70c-23c8-4aa5-dfaa-c9dca1188f1b"
   },
   "outputs": [
    {
     "data": {
      "image/png": "[encoded data removed]",
      "text/plain": [
       "<Figure size 432x288 with 6 Axes>"
      ]
     },
     "metadata": {
      "needs_background": "light"
     },
     "output_type": "display_data"
    }
   ],
   "source": [
    "#Selecciono sólo las variables numeric de df_sapmle\n",
    "num_vars = df_sample.dtypes.reset_index().rename(columns = {'index': \"column\", 0:'type'})\n",
    "num_vars = list(num_vars[num_vars['type'] == 'float']['column'])\n",
    "\n",
    "#Selecciono las 3 con menor cantidad de missing values\n",
    "top3min = list(df_sample[num_vars].isnull().sum().sort_values(ascending = True)[0:3].index)\n",
    "\n",
    "plt.subplots_adjust(left=0.125,\n",
    "                    bottom=0.01, \n",
    "                    right=2, \n",
    "                    top=1.5,\n",
    "                    wspace= 0.5, \n",
    "                    hspace=0.4)\n",
    "\n",
    "j = 1\n",
    "for k in ['mean','median']:\n",
    "    for i in top3min:\n",
    "      plt.subplot(2, 3, j)\n",
    "      funcion5(df_sample,i, 'ht_region', global_stat = True, statistic = k)\n",
    "      j += 1"
   ]
  },
  {
   "cell_type": "markdown",
   "metadata": {
    "id": "RVHXcGgWnFiG"
   },
   "source": [
    "# 6 Guarde la base de datos\n",
    "\n",
    "- La submuestra creada tiene un método llamado `​to_csv`\n",
    "\n",
    "  Acceda a este y guarde la base de datos con la siguiente nomenclatura: `subsample_<iniciales>_demo.csv​.`\n",
    "  \n",
    "  (Subela a la plataforma, junto al desafío)"
   ]
  },
  {
   "cell_type": "code",
   "execution_count": 12,
   "metadata": {},
   "outputs": [],
   "source": [
    "df_sample.to_csv(\"subsample_FASC_demo.csv\")"
   ]
  },
  {
   "cell_type": "code",
   "execution_count": null,
   "metadata": {},
   "outputs": [],
   "source": []
  }
 ],
 "metadata": {
  "colab": {
   "authorship_tag": "ABX9TyPbnPZnOxlmrwDO7hBCDM3P",
   "collapsed_sections": [],
   "mount_file_id": "1LW-6JOhmOZlTuLVUafDgbrLr7xXx6WLs",
   "name": "Desafío - Gráficos.ipynb",
   "provenance": []
  },
  "kernelspec": {
   "display_name": "Python 3",
   "language": "python",
   "name": "python3"
  },
  "language_info": {
   "codemirror_mode": {
    "name": "ipython",
    "version": 3
   },
   "file_extension": ".py",
   "mimetype": "text/x-python",
   "name": "python",
   "nbconvert_exporter": "python",
   "pygments_lexer": "ipython3",
   "version": "3.8.8"
  }
 },
 "nbformat": 4,
 "nbformat_minor": 1
}
