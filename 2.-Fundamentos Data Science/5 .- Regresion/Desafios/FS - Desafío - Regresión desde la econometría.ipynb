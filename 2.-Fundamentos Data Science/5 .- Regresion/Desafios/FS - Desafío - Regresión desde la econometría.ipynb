{
 "cells": [
  {
   "cell_type": "markdown",
   "id": "023bd804",
   "metadata": {},
   "source": [
    "# Desafío - Regresión desde la econometría"
   ]
  },
  {
   "cell_type": "markdown",
   "id": "4b7dcd60",
   "metadata": {},
   "source": [
    "# Contexto\n",
    "\n",
    "En este desafío trabajaremos con un registro de clientes de un banco e información sobre su salud financiera.\n",
    "\n",
    "La base contenida en el csv Credit contiene las siguientes variables:\n",
    "\n",
    "    ●Income: Ingreso anual disponible en miles de dólares.\n",
    "    ●Limit: Límite del crédito.\n",
    "    ●Rating: Ranking del crédito.\n",
    "    ●Cards: Cantidad de tarjetas de crédito.\n",
    "    ●Age: Edad del usuario.\n",
    "    ●Education: Años de educación del usuario.\n",
    "    ●Gender: ¿Hombre o mujer?\n",
    "    ●Student: ¿Es estudiante?\n",
    "    ●Married: ¿Está casado?\n",
    "    ●Ethnicity: Etnicidad del usuario (Caucásico, Afroamericano,Asiático)\n",
    "    ●Balance: Promedio de deuda en tarjeta de crédito deusuario."
   ]
  },
  {
   "cell_type": "markdown",
   "id": "a56c193e",
   "metadata": {},
   "source": [
    "# Desafío 1: Prepare el ambiente de trabajo"
   ]
  },
  {
   "cell_type": "code",
   "execution_count": 31,
   "id": "081e3dd3",
   "metadata": {},
   "outputs": [
    {
     "data": {
      "text/html": [
       "<div>\n",
       "<style scoped>\n",
       "    .dataframe tbody tr th:only-of-type {\n",
       "        vertical-align: middle;\n",
       "    }\n",
       "\n",
       "    .dataframe tbody tr th {\n",
       "        vertical-align: top;\n",
       "    }\n",
       "\n",
       "    .dataframe thead th {\n",
       "        text-align: right;\n",
       "    }\n",
       "</style>\n",
       "<table border=\"1\" class=\"dataframe\">\n",
       "  <thead>\n",
       "    <tr style=\"text-align: right;\">\n",
       "      <th></th>\n",
       "      <th>Income</th>\n",
       "      <th>Limit</th>\n",
       "      <th>Rating</th>\n",
       "      <th>Cards</th>\n",
       "      <th>Age</th>\n",
       "      <th>Education</th>\n",
       "      <th>Gender</th>\n",
       "      <th>Student</th>\n",
       "      <th>Married</th>\n",
       "      <th>Ethnicity</th>\n",
       "      <th>Balance</th>\n",
       "    </tr>\n",
       "  </thead>\n",
       "  <tbody>\n",
       "    <tr>\n",
       "      <th>0</th>\n",
       "      <td>14.891</td>\n",
       "      <td>3606</td>\n",
       "      <td>283</td>\n",
       "      <td>2</td>\n",
       "      <td>34</td>\n",
       "      <td>11</td>\n",
       "      <td>Male</td>\n",
       "      <td>No</td>\n",
       "      <td>Yes</td>\n",
       "      <td>Caucasian</td>\n",
       "      <td>333</td>\n",
       "    </tr>\n",
       "    <tr>\n",
       "      <th>1</th>\n",
       "      <td>106.025</td>\n",
       "      <td>6645</td>\n",
       "      <td>483</td>\n",
       "      <td>3</td>\n",
       "      <td>82</td>\n",
       "      <td>15</td>\n",
       "      <td>Female</td>\n",
       "      <td>Yes</td>\n",
       "      <td>Yes</td>\n",
       "      <td>Asian</td>\n",
       "      <td>903</td>\n",
       "    </tr>\n",
       "    <tr>\n",
       "      <th>2</th>\n",
       "      <td>104.593</td>\n",
       "      <td>7075</td>\n",
       "      <td>514</td>\n",
       "      <td>4</td>\n",
       "      <td>71</td>\n",
       "      <td>11</td>\n",
       "      <td>Male</td>\n",
       "      <td>No</td>\n",
       "      <td>No</td>\n",
       "      <td>Asian</td>\n",
       "      <td>580</td>\n",
       "    </tr>\n",
       "    <tr>\n",
       "      <th>3</th>\n",
       "      <td>148.924</td>\n",
       "      <td>9504</td>\n",
       "      <td>681</td>\n",
       "      <td>3</td>\n",
       "      <td>36</td>\n",
       "      <td>11</td>\n",
       "      <td>Female</td>\n",
       "      <td>No</td>\n",
       "      <td>No</td>\n",
       "      <td>Asian</td>\n",
       "      <td>964</td>\n",
       "    </tr>\n",
       "    <tr>\n",
       "      <th>4</th>\n",
       "      <td>55.882</td>\n",
       "      <td>4897</td>\n",
       "      <td>357</td>\n",
       "      <td>2</td>\n",
       "      <td>68</td>\n",
       "      <td>16</td>\n",
       "      <td>Male</td>\n",
       "      <td>No</td>\n",
       "      <td>Yes</td>\n",
       "      <td>Caucasian</td>\n",
       "      <td>331</td>\n",
       "    </tr>\n",
       "  </tbody>\n",
       "</table>\n",
       "</div>"
      ],
      "text/plain": [
       "    Income  Limit  Rating  Cards  Age  Education  Gender Student Married  \\\n",
       "0   14.891   3606     283      2   34         11    Male      No     Yes   \n",
       "1  106.025   6645     483      3   82         15  Female     Yes     Yes   \n",
       "2  104.593   7075     514      4   71         11    Male      No      No   \n",
       "3  148.924   9504     681      3   36         11  Female      No      No   \n",
       "4   55.882   4897     357      2   68         16    Male      No     Yes   \n",
       "\n",
       "   Ethnicity  Balance  \n",
       "0  Caucasian      333  \n",
       "1      Asian      903  \n",
       "2      Asian      580  \n",
       "3      Asian      964  \n",
       "4  Caucasian      331  "
      ]
     },
     "execution_count": 31,
     "metadata": {},
     "output_type": "execute_result"
    }
   ],
   "source": [
    "import pandas as pd\n",
    "import numpy as np\n",
    "import matplotlib.pyplot as plt\n",
    "import seaborn as sns\n",
    "import scipy.stats as stats\n",
    "import statsmodels.api as sm\n",
    "\n",
    "df = pd.read_csv(\"credit.csv\").drop(columns = 'Unnamed: 0')\n",
    "df.head()"
   ]
  },
  {
   "cell_type": "code",
   "execution_count": 32,
   "id": "16eb103b",
   "metadata": {},
   "outputs": [
    {
     "data": {
      "text/plain": [
       "Income       float64\n",
       "Limit          int64\n",
       "Rating         int64\n",
       "Cards          int64\n",
       "Age            int64\n",
       "Education      int64\n",
       "Gender        object\n",
       "Student       object\n",
       "Married       object\n",
       "Ethnicity     object\n",
       "Balance        int64\n",
       "dtype: object"
      ]
     },
     "execution_count": 32,
     "metadata": {},
     "output_type": "execute_result"
    }
   ],
   "source": [
    "df.dtypes"
   ]
  },
  {
   "cell_type": "code",
   "execution_count": 33,
   "id": "b43f8a00",
   "metadata": {},
   "outputs": [
    {
     "data": {
      "text/plain": [
       "Income       0\n",
       "Limit        0\n",
       "Rating       0\n",
       "Cards        0\n",
       "Age          0\n",
       "Education    0\n",
       "Gender       0\n",
       "Student      0\n",
       "Married      0\n",
       "Ethnicity    0\n",
       "Balance      0\n",
       "dtype: int64"
      ]
     },
     "execution_count": 33,
     "metadata": {},
     "output_type": "execute_result"
    }
   ],
   "source": [
    "df.isnull().sum() #Observamos que el df no tiene datos nulos"
   ]
  },
  {
   "cell_type": "code",
   "execution_count": 34,
   "id": "face2e07",
   "metadata": {},
   "outputs": [
    {
     "data": {
      "text/html": [
       "<div>\n",
       "<style scoped>\n",
       "    .dataframe tbody tr th:only-of-type {\n",
       "        vertical-align: middle;\n",
       "    }\n",
       "\n",
       "    .dataframe tbody tr th {\n",
       "        vertical-align: top;\n",
       "    }\n",
       "\n",
       "    .dataframe thead th {\n",
       "        text-align: right;\n",
       "    }\n",
       "</style>\n",
       "<table border=\"1\" class=\"dataframe\">\n",
       "  <thead>\n",
       "    <tr style=\"text-align: right;\">\n",
       "      <th></th>\n",
       "      <th>Income</th>\n",
       "      <th>Limit</th>\n",
       "      <th>Rating</th>\n",
       "      <th>Cards</th>\n",
       "      <th>Age</th>\n",
       "      <th>Education</th>\n",
       "      <th>Balance</th>\n",
       "      <th>Male</th>\n",
       "      <th>Student</th>\n",
       "      <th>Married</th>\n",
       "      <th>Asian</th>\n",
       "      <th>Caucasian</th>\n",
       "    </tr>\n",
       "  </thead>\n",
       "  <tbody>\n",
       "    <tr>\n",
       "      <th>0</th>\n",
       "      <td>14.891</td>\n",
       "      <td>3606</td>\n",
       "      <td>283</td>\n",
       "      <td>2</td>\n",
       "      <td>34</td>\n",
       "      <td>11</td>\n",
       "      <td>333</td>\n",
       "      <td>1</td>\n",
       "      <td>0</td>\n",
       "      <td>1</td>\n",
       "      <td>0</td>\n",
       "      <td>1</td>\n",
       "    </tr>\n",
       "    <tr>\n",
       "      <th>1</th>\n",
       "      <td>106.025</td>\n",
       "      <td>6645</td>\n",
       "      <td>483</td>\n",
       "      <td>3</td>\n",
       "      <td>82</td>\n",
       "      <td>15</td>\n",
       "      <td>903</td>\n",
       "      <td>0</td>\n",
       "      <td>1</td>\n",
       "      <td>1</td>\n",
       "      <td>1</td>\n",
       "      <td>0</td>\n",
       "    </tr>\n",
       "    <tr>\n",
       "      <th>2</th>\n",
       "      <td>104.593</td>\n",
       "      <td>7075</td>\n",
       "      <td>514</td>\n",
       "      <td>4</td>\n",
       "      <td>71</td>\n",
       "      <td>11</td>\n",
       "      <td>580</td>\n",
       "      <td>1</td>\n",
       "      <td>0</td>\n",
       "      <td>0</td>\n",
       "      <td>1</td>\n",
       "      <td>0</td>\n",
       "    </tr>\n",
       "    <tr>\n",
       "      <th>3</th>\n",
       "      <td>148.924</td>\n",
       "      <td>9504</td>\n",
       "      <td>681</td>\n",
       "      <td>3</td>\n",
       "      <td>36</td>\n",
       "      <td>11</td>\n",
       "      <td>964</td>\n",
       "      <td>0</td>\n",
       "      <td>0</td>\n",
       "      <td>0</td>\n",
       "      <td>1</td>\n",
       "      <td>0</td>\n",
       "    </tr>\n",
       "    <tr>\n",
       "      <th>4</th>\n",
       "      <td>55.882</td>\n",
       "      <td>4897</td>\n",
       "      <td>357</td>\n",
       "      <td>2</td>\n",
       "      <td>68</td>\n",
       "      <td>16</td>\n",
       "      <td>331</td>\n",
       "      <td>1</td>\n",
       "      <td>0</td>\n",
       "      <td>1</td>\n",
       "      <td>0</td>\n",
       "      <td>1</td>\n",
       "    </tr>\n",
       "    <tr>\n",
       "      <th>...</th>\n",
       "      <td>...</td>\n",
       "      <td>...</td>\n",
       "      <td>...</td>\n",
       "      <td>...</td>\n",
       "      <td>...</td>\n",
       "      <td>...</td>\n",
       "      <td>...</td>\n",
       "      <td>...</td>\n",
       "      <td>...</td>\n",
       "      <td>...</td>\n",
       "      <td>...</td>\n",
       "      <td>...</td>\n",
       "    </tr>\n",
       "    <tr>\n",
       "      <th>395</th>\n",
       "      <td>12.096</td>\n",
       "      <td>4100</td>\n",
       "      <td>307</td>\n",
       "      <td>3</td>\n",
       "      <td>32</td>\n",
       "      <td>13</td>\n",
       "      <td>560</td>\n",
       "      <td>1</td>\n",
       "      <td>0</td>\n",
       "      <td>1</td>\n",
       "      <td>0</td>\n",
       "      <td>1</td>\n",
       "    </tr>\n",
       "    <tr>\n",
       "      <th>396</th>\n",
       "      <td>13.364</td>\n",
       "      <td>3838</td>\n",
       "      <td>296</td>\n",
       "      <td>5</td>\n",
       "      <td>65</td>\n",
       "      <td>17</td>\n",
       "      <td>480</td>\n",
       "      <td>1</td>\n",
       "      <td>0</td>\n",
       "      <td>0</td>\n",
       "      <td>0</td>\n",
       "      <td>0</td>\n",
       "    </tr>\n",
       "    <tr>\n",
       "      <th>397</th>\n",
       "      <td>57.872</td>\n",
       "      <td>4171</td>\n",
       "      <td>321</td>\n",
       "      <td>5</td>\n",
       "      <td>67</td>\n",
       "      <td>12</td>\n",
       "      <td>138</td>\n",
       "      <td>0</td>\n",
       "      <td>0</td>\n",
       "      <td>1</td>\n",
       "      <td>0</td>\n",
       "      <td>1</td>\n",
       "    </tr>\n",
       "    <tr>\n",
       "      <th>398</th>\n",
       "      <td>37.728</td>\n",
       "      <td>2525</td>\n",
       "      <td>192</td>\n",
       "      <td>1</td>\n",
       "      <td>44</td>\n",
       "      <td>13</td>\n",
       "      <td>0</td>\n",
       "      <td>1</td>\n",
       "      <td>0</td>\n",
       "      <td>1</td>\n",
       "      <td>0</td>\n",
       "      <td>1</td>\n",
       "    </tr>\n",
       "    <tr>\n",
       "      <th>399</th>\n",
       "      <td>18.701</td>\n",
       "      <td>5524</td>\n",
       "      <td>415</td>\n",
       "      <td>5</td>\n",
       "      <td>64</td>\n",
       "      <td>7</td>\n",
       "      <td>966</td>\n",
       "      <td>0</td>\n",
       "      <td>0</td>\n",
       "      <td>0</td>\n",
       "      <td>1</td>\n",
       "      <td>0</td>\n",
       "    </tr>\n",
       "  </tbody>\n",
       "</table>\n",
       "<p>400 rows × 12 columns</p>\n",
       "</div>"
      ],
      "text/plain": [
       "      Income  Limit  Rating  Cards  Age  Education  Balance  Male  Student  \\\n",
       "0     14.891   3606     283      2   34         11      333     1        0   \n",
       "1    106.025   6645     483      3   82         15      903     0        1   \n",
       "2    104.593   7075     514      4   71         11      580     1        0   \n",
       "3    148.924   9504     681      3   36         11      964     0        0   \n",
       "4     55.882   4897     357      2   68         16      331     1        0   \n",
       "..       ...    ...     ...    ...  ...        ...      ...   ...      ...   \n",
       "395   12.096   4100     307      3   32         13      560     1        0   \n",
       "396   13.364   3838     296      5   65         17      480     1        0   \n",
       "397   57.872   4171     321      5   67         12      138     0        0   \n",
       "398   37.728   2525     192      1   44         13        0     1        0   \n",
       "399   18.701   5524     415      5   64          7      966     0        0   \n",
       "\n",
       "     Married  Asian  Caucasian  \n",
       "0          1      0          1  \n",
       "1          1      1          0  \n",
       "2          0      1          0  \n",
       "3          0      1          0  \n",
       "4          1      0          1  \n",
       "..       ...    ...        ...  \n",
       "395        1      0          1  \n",
       "396        0      0          0  \n",
       "397        1      0          1  \n",
       "398        1      0          1  \n",
       "399        0      1          0  \n",
       "\n",
       "[400 rows x 12 columns]"
      ]
     },
     "execution_count": 34,
     "metadata": {},
     "output_type": "execute_result"
    }
   ],
   "source": [
    "df = pd.get_dummies(df).drop(\n",
    "    columns = ['Gender_Female','Student_No','Married_No','Ethnicity_African American']).rename(\n",
    "    columns = {'Gender_ Male':'Male','Student_Yes':'Student','Married_Yes':'Married','Ethnicity_Asian':'Asian','Ethnicity_Caucasian':'Caucasian'})\n",
    "\n",
    "df"
   ]
  },
  {
   "cell_type": "markdown",
   "id": "92a77708",
   "metadata": {},
   "source": [
    "# Desafío 2: Genere gráficos descriptivos para las variablescontinuas"
   ]
  },
  {
   "cell_type": "code",
   "execution_count": 35,
   "id": "9a1b5fea",
   "metadata": {
    "scrolled": false
   },
   "outputs": [
    {
     "data": {
      "image/png": "[encoded data removed]",
      "text/plain": [
       "<Figure size 432x288 with 1 Axes>"
      ]
     },
     "metadata": {
      "needs_background": "light"
     },
     "output_type": "display_data"
    },
    {
     "data": {
      "image/png": "[encoded data removed]",
      "text/plain": [
       "<Figure size 432x288 with 1 Axes>"
      ]
     },
     "metadata": {
      "needs_background": "light"
     },
     "output_type": "display_data"
    },
    {
     "data": {
      "image/png": "[encoded data removed]",
      "text/plain": [
       "<Figure size 432x288 with 1 Axes>"
      ]
     },
     "metadata": {
      "needs_background": "light"
     },
     "output_type": "display_data"
    },
    {
     "data": {
      "image/png": "[encoded data removed]",
      "text/plain": [
       "<Figure size 432x288 with 1 Axes>"
      ]
     },
     "metadata": {
      "needs_background": "light"
     },
     "output_type": "display_data"
    }
   ],
   "source": [
    "def plot_hist(dataframe,variable):\n",
    "    plt.hist(dataframe[variable])\n",
    "    plt.axvline(dataframe[variable].mean(), label = f\"media = {round(dataframe[variable].mean(),1)}\", color = 'green')\n",
    "    plt.axvline(dataframe[variable].median(), label = f\"mediana = {round(dataframe[variable].median(),1)}\", color = 'yellow')\n",
    "    plt.title(variable)\n",
    "    plt.xlabel(f\"Valores de {variable}\")\n",
    "    plt.ylabel(\"Frecuencia\")\n",
    "    plt.legend()\n",
    "    plt.show()\n",
    "\n",
    "#ints = list(df.select_dtypes(include = 'int64').columns)\n",
    "for i in ['Balance', 'Income', 'Cards' , 'Rating']:\n",
    "    plot_hist(df,i)"
   ]
  },
  {
   "cell_type": "markdown",
   "id": "dfbaa6f9",
   "metadata": {},
   "source": [
    "# ¿Cuál es el comportamiento de Balance, Income, Cards y Rating?\n",
    "\n",
    "\n",
    " **RESPUESTA**\n",
    "\n",
    "Balance:\n",
    "En promedio las personas tienen 520 usd de Balance, \"cercano\" a la mediana que es 460 usd aprox.\n",
    "Por otro lado, hay una gran cantidad de personas que tienen entre 0 y 200 usd en su balance, luego de 1.000 usd empieza a \n",
    "decaer los casos con más de 1.000 usd en su balance.\n",
    "\n",
    "Income:\n",
    "La media son 45.200 dólares, y la mediana 33.100 dólares, hay una grán cantidad de casos que ganan menos de 50 mil\n",
    "dólares anuales, mucho más \"cargado\" entre 0 y 25 mil dólares de hecho.\n",
    "\n",
    "Cards:\n",
    "Interesante notar que el promedio y la mediana son 3 tarjetas por usuario. La \"gran masa\" está én torno a las 2 a 4 tarjetas.\n",
    "\n",
    "Rating:\n",
    "El rating tiene una distribución más parecida a gaussiana, la gran masa está entre los 200 y los 450, ya desde 500\n",
    "de rating en adelante empieza a decaer bastante."
   ]
  },
  {
   "cell_type": "markdown",
   "id": "7ec5901c",
   "metadata": {},
   "source": [
    "# Desafío 3: Regresión Lineal Simple"
   ]
  },
  {
   "cell_type": "markdown",
   "id": "4d75137c",
   "metadata": {},
   "source": [
    "# a) ¿Qué variable presenta un mayor poder explicativo de la variabilidad de Balance?"
   ]
  },
  {
   "cell_type": "code",
   "execution_count": 37,
   "id": "8deeb4bd",
   "metadata": {},
   "outputs": [
    {
     "data": {
      "text/html": [
       "<table class=\"simpletable\">\n",
       "<caption>OLS Regression Results</caption>\n",
       "<tr>\n",
       "  <th>Dep. Variable:</th>         <td>Balance</td>     <th>  R-squared (uncentered):</th>      <td>   0.160</td>\n",
       "</tr>\n",
       "<tr>\n",
       "  <th>Model:</th>                   <td>OLS</td>       <th>  Adj. R-squared (uncentered):</th> <td>   0.158</td>\n",
       "</tr>\n",
       "<tr>\n",
       "  <th>Method:</th>             <td>Least Squares</td>  <th>  F-statistic:       </th>          <td>   75.86</td>\n",
       "</tr>\n",
       "<tr>\n",
       "  <th>Date:</th>             <td>Thu, 26 Aug 2021</td> <th>  Prob (F-statistic):</th>          <td>8.19e-17</td>\n",
       "</tr>\n",
       "<tr>\n",
       "  <th>Time:</th>                 <td>19:47:17</td>     <th>  Log-Likelihood:    </th>          <td> -3149.6</td>\n",
       "</tr>\n",
       "<tr>\n",
       "  <th>No. Observations:</th>      <td>   400</td>      <th>  AIC:               </th>          <td>   6301.</td>\n",
       "</tr>\n",
       "<tr>\n",
       "  <th>Df Residuals:</th>          <td>   399</td>      <th>  BIC:               </th>          <td>   6305.</td>\n",
       "</tr>\n",
       "<tr>\n",
       "  <th>Df Model:</th>              <td>     1</td>      <th>                     </th>              <td> </td>   \n",
       "</tr>\n",
       "<tr>\n",
       "  <th>Covariance Type:</th>      <td>nonrobust</td>    <th>                     </th>              <td> </td>   \n",
       "</tr>\n",
       "</table>\n",
       "<table class=\"simpletable\">\n",
       "<tr>\n",
       "     <td></td>        <th>coef</th>     <th>std err</th>      <th>t</th>      <th>P>|t|</th>  <th>[0.025</th>    <th>0.975]</th>  \n",
       "</tr>\n",
       "<tr>\n",
       "  <th>Student</th> <td>  876.8250</td> <td>  100.672</td> <td>    8.710</td> <td> 0.000</td> <td>  678.911</td> <td> 1074.739</td>\n",
       "</tr>\n",
       "</table>\n",
       "<table class=\"simpletable\">\n",
       "<tr>\n",
       "  <th>Omnibus:</th>       <td> 8.217</td> <th>  Durbin-Watson:     </th> <td>   1.052</td>\n",
       "</tr>\n",
       "<tr>\n",
       "  <th>Prob(Omnibus):</th> <td> 0.016</td> <th>  Jarque-Bera (JB):  </th> <td>   8.111</td>\n",
       "</tr>\n",
       "<tr>\n",
       "  <th>Skew:</th>          <td> 0.336</td> <th>  Prob(JB):          </th> <td>  0.0173</td>\n",
       "</tr>\n",
       "<tr>\n",
       "  <th>Kurtosis:</th>      <td> 3.187</td> <th>  Cond. No.          </th> <td>    1.00</td>\n",
       "</tr>\n",
       "</table><br/><br/>Notes:<br/>[1] R² is computed without centering (uncentered) since the model does not contain a constant.<br/>[2] Standard Errors assume that the covariance matrix of the errors is correctly specified."
      ],
      "text/plain": [
       "<class 'statsmodels.iolib.summary.Summary'>\n",
       "\"\"\"\n",
       "                                 OLS Regression Results                                \n",
       "=======================================================================================\n",
       "Dep. Variable:                Balance   R-squared (uncentered):                   0.160\n",
       "Model:                            OLS   Adj. R-squared (uncentered):              0.158\n",
       "Method:                 Least Squares   F-statistic:                              75.86\n",
       "Date:                Thu, 26 Aug 2021   Prob (F-statistic):                    8.19e-17\n",
       "Time:                        19:47:17   Log-Likelihood:                         -3149.6\n",
       "No. Observations:                 400   AIC:                                      6301.\n",
       "Df Residuals:                     399   BIC:                                      6305.\n",
       "Df Model:                           1                                                  \n",
       "Covariance Type:            nonrobust                                                  \n",
       "==============================================================================\n",
       "                 coef    std err          t      P>|t|      [0.025      0.975]\n",
       "------------------------------------------------------------------------------\n",
       "Student      876.8250    100.672      8.710      0.000     678.911    1074.739\n",
       "==============================================================================\n",
       "Omnibus:                        8.217   Durbin-Watson:                   1.052\n",
       "Prob(Omnibus):                  0.016   Jarque-Bera (JB):                8.111\n",
       "Skew:                           0.336   Prob(JB):                       0.0173\n",
       "Kurtosis:                       3.187   Cond. No.                         1.00\n",
       "==============================================================================\n",
       "\n",
       "Notes:\n",
       "[1] R² is computed without centering (uncentered) since the model does not contain a constant.\n",
       "[2] Standard Errors assume that the covariance matrix of the errors is correctly specified.\n",
       "\"\"\""
      ]
     },
     "execution_count": 37,
     "metadata": {},
     "output_type": "execute_result"
    }
   ],
   "source": [
    "modelo1 = sm.OLS(df.Balance,df.Student).fit()\n",
    "modelo1.summary()"
   ]
  },
  {
   "cell_type": "code",
   "execution_count": 38,
   "id": "5e4d9227",
   "metadata": {},
   "outputs": [
    {
     "data": {
      "text/html": [
       "<table class=\"simpletable\">\n",
       "<caption>OLS Regression Results</caption>\n",
       "<tr>\n",
       "  <th>Dep. Variable:</th>         <td>Balance</td>     <th>  R-squared (uncentered):</th>      <td>   0.608</td>\n",
       "</tr>\n",
       "<tr>\n",
       "  <th>Model:</th>                   <td>OLS</td>       <th>  Adj. R-squared (uncentered):</th> <td>   0.607</td>\n",
       "</tr>\n",
       "<tr>\n",
       "  <th>Method:</th>             <td>Least Squares</td>  <th>  F-statistic:       </th>          <td>   620.0</td>\n",
       "</tr>\n",
       "<tr>\n",
       "  <th>Date:</th>             <td>Thu, 26 Aug 2021</td> <th>  Prob (F-statistic):</th>          <td>2.99e-83</td>\n",
       "</tr>\n",
       "<tr>\n",
       "  <th>Time:</th>                 <td>19:47:17</td>     <th>  Log-Likelihood:    </th>          <td> -2996.9</td>\n",
       "</tr>\n",
       "<tr>\n",
       "  <th>No. Observations:</th>      <td>   400</td>      <th>  AIC:               </th>          <td>   5996.</td>\n",
       "</tr>\n",
       "<tr>\n",
       "  <th>Df Residuals:</th>          <td>   399</td>      <th>  BIC:               </th>          <td>   6000.</td>\n",
       "</tr>\n",
       "<tr>\n",
       "  <th>Df Model:</th>              <td>     1</td>      <th>                     </th>              <td> </td>   \n",
       "</tr>\n",
       "<tr>\n",
       "  <th>Covariance Type:</th>      <td>nonrobust</td>    <th>                     </th>              <td> </td>   \n",
       "</tr>\n",
       "</table>\n",
       "<table class=\"simpletable\">\n",
       "<tr>\n",
       "     <td></td>       <th>coef</th>     <th>std err</th>      <th>t</th>      <th>P>|t|</th>  <th>[0.025</th>    <th>0.975]</th>  \n",
       "</tr>\n",
       "<tr>\n",
       "  <th>Income</th> <td>    9.4429</td> <td>    0.379</td> <td>   24.899</td> <td> 0.000</td> <td>    8.697</td> <td>   10.189</td>\n",
       "</tr>\n",
       "</table>\n",
       "<table class=\"simpletable\">\n",
       "<tr>\n",
       "  <th>Omnibus:</th>       <td> 7.690</td> <th>  Durbin-Watson:     </th> <td>   1.875</td>\n",
       "</tr>\n",
       "<tr>\n",
       "  <th>Prob(Omnibus):</th> <td> 0.021</td> <th>  Jarque-Bera (JB):  </th> <td>   6.591</td>\n",
       "</tr>\n",
       "<tr>\n",
       "  <th>Skew:</th>          <td> 0.239</td> <th>  Prob(JB):          </th> <td>  0.0371</td>\n",
       "</tr>\n",
       "<tr>\n",
       "  <th>Kurtosis:</th>      <td> 2.591</td> <th>  Cond. No.          </th> <td>    1.00</td>\n",
       "</tr>\n",
       "</table><br/><br/>Notes:<br/>[1] R² is computed without centering (uncentered) since the model does not contain a constant.<br/>[2] Standard Errors assume that the covariance matrix of the errors is correctly specified."
      ],
      "text/plain": [
       "<class 'statsmodels.iolib.summary.Summary'>\n",
       "\"\"\"\n",
       "                                 OLS Regression Results                                \n",
       "=======================================================================================\n",
       "Dep. Variable:                Balance   R-squared (uncentered):                   0.608\n",
       "Model:                            OLS   Adj. R-squared (uncentered):              0.607\n",
       "Method:                 Least Squares   F-statistic:                              620.0\n",
       "Date:                Thu, 26 Aug 2021   Prob (F-statistic):                    2.99e-83\n",
       "Time:                        19:47:17   Log-Likelihood:                         -2996.9\n",
       "No. Observations:                 400   AIC:                                      5996.\n",
       "Df Residuals:                     399   BIC:                                      6000.\n",
       "Df Model:                           1                                                  \n",
       "Covariance Type:            nonrobust                                                  \n",
       "==============================================================================\n",
       "                 coef    std err          t      P>|t|      [0.025      0.975]\n",
       "------------------------------------------------------------------------------\n",
       "Income         9.4429      0.379     24.899      0.000       8.697      10.189\n",
       "==============================================================================\n",
       "Omnibus:                        7.690   Durbin-Watson:                   1.875\n",
       "Prob(Omnibus):                  0.021   Jarque-Bera (JB):                6.591\n",
       "Skew:                           0.239   Prob(JB):                       0.0371\n",
       "Kurtosis:                       2.591   Cond. No.                         1.00\n",
       "==============================================================================\n",
       "\n",
       "Notes:\n",
       "[1] R² is computed without centering (uncentered) since the model does not contain a constant.\n",
       "[2] Standard Errors assume that the covariance matrix of the errors is correctly specified.\n",
       "\"\"\""
      ]
     },
     "execution_count": 38,
     "metadata": {},
     "output_type": "execute_result"
    }
   ],
   "source": [
    "modelo2 = sm.OLS(df.Balance,df.Income).fit()\n",
    "modelo2.summary()"
   ]
  },
  {
   "cell_type": "code",
   "execution_count": 39,
   "id": "dad31f1b",
   "metadata": {},
   "outputs": [
    {
     "data": {
      "text/html": [
       "<table class=\"simpletable\">\n",
       "<caption>OLS Regression Results</caption>\n",
       "<tr>\n",
       "  <th>Dep. Variable:</th>         <td>Balance</td>     <th>  R-squared (uncentered):</th>      <td>   0.838</td> \n",
       "</tr>\n",
       "<tr>\n",
       "  <th>Model:</th>                   <td>OLS</td>       <th>  Adj. R-squared (uncentered):</th> <td>   0.838</td> \n",
       "</tr>\n",
       "<tr>\n",
       "  <th>Method:</th>             <td>Least Squares</td>  <th>  F-statistic:       </th>          <td>   2065.</td> \n",
       "</tr>\n",
       "<tr>\n",
       "  <th>Date:</th>             <td>Thu, 26 Aug 2021</td> <th>  Prob (F-statistic):</th>          <td>7.91e-160</td>\n",
       "</tr>\n",
       "<tr>\n",
       "  <th>Time:</th>                 <td>19:47:17</td>     <th>  Log-Likelihood:    </th>          <td> -2820.3</td> \n",
       "</tr>\n",
       "<tr>\n",
       "  <th>No. Observations:</th>      <td>   400</td>      <th>  AIC:               </th>          <td>   5643.</td> \n",
       "</tr>\n",
       "<tr>\n",
       "  <th>Df Residuals:</th>          <td>   399</td>      <th>  BIC:               </th>          <td>   5647.</td> \n",
       "</tr>\n",
       "<tr>\n",
       "  <th>Df Model:</th>              <td>     1</td>      <th>                     </th>              <td> </td>    \n",
       "</tr>\n",
       "<tr>\n",
       "  <th>Covariance Type:</th>      <td>nonrobust</td>    <th>                     </th>              <td> </td>    \n",
       "</tr>\n",
       "</table>\n",
       "<table class=\"simpletable\">\n",
       "<tr>\n",
       "     <td></td>       <th>coef</th>     <th>std err</th>      <th>t</th>      <th>P>|t|</th>  <th>[0.025</th>    <th>0.975]</th>  \n",
       "</tr>\n",
       "<tr>\n",
       "  <th>Rating</th> <td>    1.6405</td> <td>    0.036</td> <td>   45.443</td> <td> 0.000</td> <td>    1.570</td> <td>    1.712</td>\n",
       "</tr>\n",
       "</table>\n",
       "<table class=\"simpletable\">\n",
       "<tr>\n",
       "  <th>Omnibus:</th>       <td>24.189</td> <th>  Durbin-Watson:     </th> <td>   1.852</td>\n",
       "</tr>\n",
       "<tr>\n",
       "  <th>Prob(Omnibus):</th> <td> 0.000</td> <th>  Jarque-Bera (JB):  </th> <td>  27.549</td>\n",
       "</tr>\n",
       "<tr>\n",
       "  <th>Skew:</th>          <td> 0.641</td> <th>  Prob(JB):          </th> <td>1.04e-06</td>\n",
       "</tr>\n",
       "<tr>\n",
       "  <th>Kurtosis:</th>      <td> 2.909</td> <th>  Cond. No.          </th> <td>    1.00</td>\n",
       "</tr>\n",
       "</table><br/><br/>Notes:<br/>[1] R² is computed without centering (uncentered) since the model does not contain a constant.<br/>[2] Standard Errors assume that the covariance matrix of the errors is correctly specified."
      ],
      "text/plain": [
       "<class 'statsmodels.iolib.summary.Summary'>\n",
       "\"\"\"\n",
       "                                 OLS Regression Results                                \n",
       "=======================================================================================\n",
       "Dep. Variable:                Balance   R-squared (uncentered):                   0.838\n",
       "Model:                            OLS   Adj. R-squared (uncentered):              0.838\n",
       "Method:                 Least Squares   F-statistic:                              2065.\n",
       "Date:                Thu, 26 Aug 2021   Prob (F-statistic):                   7.91e-160\n",
       "Time:                        19:47:17   Log-Likelihood:                         -2820.3\n",
       "No. Observations:                 400   AIC:                                      5643.\n",
       "Df Residuals:                     399   BIC:                                      5647.\n",
       "Df Model:                           1                                                  \n",
       "Covariance Type:            nonrobust                                                  \n",
       "==============================================================================\n",
       "                 coef    std err          t      P>|t|      [0.025      0.975]\n",
       "------------------------------------------------------------------------------\n",
       "Rating         1.6405      0.036     45.443      0.000       1.570       1.712\n",
       "==============================================================================\n",
       "Omnibus:                       24.189   Durbin-Watson:                   1.852\n",
       "Prob(Omnibus):                  0.000   Jarque-Bera (JB):               27.549\n",
       "Skew:                           0.641   Prob(JB):                     1.04e-06\n",
       "Kurtosis:                       2.909   Cond. No.                         1.00\n",
       "==============================================================================\n",
       "\n",
       "Notes:\n",
       "[1] R² is computed without centering (uncentered) since the model does not contain a constant.\n",
       "[2] Standard Errors assume that the covariance matrix of the errors is correctly specified.\n",
       "\"\"\""
      ]
     },
     "execution_count": 39,
     "metadata": {},
     "output_type": "execute_result"
    }
   ],
   "source": [
    "modelo3 = sm.OLS(df.Balance,df.Rating).fit()\n",
    "modelo3.summary()"
   ]
  },
  {
   "cell_type": "markdown",
   "id": "e9c04778",
   "metadata": {},
   "source": [
    "# ¿Qué variable presenta un mayor poder explicativo de la variabilidad de Balance?\n",
    "\n",
    "\n",
    "**RESPUESTA**\n",
    "\n",
    "La variable más explicativa de las tres es RATING, dado que tiene el r cuadrado más alto de los 3 modelos\n",
    "que intentan modelar Balance (rcuadrado = 0.838)"
   ]
  },
  {
   "cell_type": "markdown",
   "id": "d9ea06e5",
   "metadata": {},
   "source": [
    "# b) ¿Qué podemos decir sobre el comportamiento de Student?\n",
    "\n",
    "\n",
    "¿Qué pasa si aplicamos una prueba de hipotesis para muestras independientes de Balance entre aquellos que son y no son estudiantes?"
   ]
  },
  {
   "cell_type": "code",
   "execution_count": 43,
   "id": "960155d4",
   "metadata": {},
   "outputs": [
    {
     "data": {
      "text/plain": [
       "[-5.349964123075003, 1.4877341077323024e-07]"
      ]
     },
     "execution_count": 43,
     "metadata": {},
     "output_type": "execute_result"
    }
   ],
   "source": [
    "grupo1 = df[df['Student'] == 1]['Balance'] #Son estudiantes\n",
    "grupo0 = df[df['Student'] == 0]['Balance'] #NO son estudiantes\n",
    "\n",
    "list(stats.ttest_ind(grupo0, grupo1))"
   ]
  },
  {
   "cell_type": "markdown",
   "id": "ed677b8c",
   "metadata": {},
   "source": [
    "# **RESPUESTA**\n",
    "\n",
    "En base al resultado de test de muestras independientes, se ve que las medias son claramente DISTINTAS, por tanto la variable\n",
    "student diferencia entre balances de estudiantes y balances de NO estudiantes"
   ]
  },
  {
   "cell_type": "markdown",
   "id": "276822f5",
   "metadata": {},
   "source": [
    "# Desafío 4: Generar un modelo que incluya todos los regresores\n",
    "\n",
    "Comente brevemente sobre el poder explicativo en la varianza de <code>𝑦</code> y las principales características de los predictores."
   ]
  },
  {
   "cell_type": "code",
   "execution_count": 50,
   "id": "602ffe68",
   "metadata": {},
   "outputs": [
    {
     "data": {
      "text/html": [
       "<table class=\"simpletable\">\n",
       "<caption>OLS Regression Results</caption>\n",
       "<tr>\n",
       "  <th>Dep. Variable:</th>         <td>Balance</td>     <th>  R-squared (uncentered):</th>      <td>   0.971</td> \n",
       "</tr>\n",
       "<tr>\n",
       "  <th>Model:</th>                   <td>OLS</td>       <th>  Adj. R-squared (uncentered):</th> <td>   0.970</td> \n",
       "</tr>\n",
       "<tr>\n",
       "  <th>Method:</th>             <td>Least Squares</td>  <th>  F-statistic:       </th>          <td>   1177.</td> \n",
       "</tr>\n",
       "<tr>\n",
       "  <th>Date:</th>             <td>Thu, 26 Aug 2021</td> <th>  Prob (F-statistic):</th>          <td>9.10e-291</td>\n",
       "</tr>\n",
       "<tr>\n",
       "  <th>Time:</th>                 <td>19:55:20</td>     <th>  Log-Likelihood:    </th>          <td> -2477.4</td> \n",
       "</tr>\n",
       "<tr>\n",
       "  <th>No. Observations:</th>      <td>   400</td>      <th>  AIC:               </th>          <td>   4977.</td> \n",
       "</tr>\n",
       "<tr>\n",
       "  <th>Df Residuals:</th>          <td>   389</td>      <th>  BIC:               </th>          <td>   5021.</td> \n",
       "</tr>\n",
       "<tr>\n",
       "  <th>Df Model:</th>              <td>    11</td>      <th>                     </th>              <td> </td>    \n",
       "</tr>\n",
       "<tr>\n",
       "  <th>Covariance Type:</th>      <td>nonrobust</td>    <th>                     </th>              <td> </td>    \n",
       "</tr>\n",
       "</table>\n",
       "<table class=\"simpletable\">\n",
       "<tr>\n",
       "      <td></td>         <th>coef</th>     <th>std err</th>      <th>t</th>      <th>P>|t|</th>  <th>[0.025</th>    <th>0.975]</th>  \n",
       "</tr>\n",
       "<tr>\n",
       "  <th>Income</th>    <td>   -7.3174</td> <td>    0.282</td> <td>  -25.990</td> <td> 0.000</td> <td>   -7.871</td> <td>   -6.764</td>\n",
       "</tr>\n",
       "<tr>\n",
       "  <th>Limit</th>     <td>    0.3418</td> <td>    0.038</td> <td>    9.107</td> <td> 0.000</td> <td>    0.268</td> <td>    0.416</td>\n",
       "</tr>\n",
       "<tr>\n",
       "  <th>Rating</th>    <td>   -1.3243</td> <td>    0.555</td> <td>   -2.384</td> <td> 0.018</td> <td>   -2.416</td> <td>   -0.232</td>\n",
       "</tr>\n",
       "<tr>\n",
       "  <th>Cards</th>     <td>   14.8711</td> <td>    5.273</td> <td>    2.820</td> <td> 0.005</td> <td>    4.505</td> <td>   25.238</td>\n",
       "</tr>\n",
       "<tr>\n",
       "  <th>Age</th>       <td>   -2.3854</td> <td>    0.321</td> <td>   -7.432</td> <td> 0.000</td> <td>   -3.016</td> <td>   -1.754</td>\n",
       "</tr>\n",
       "<tr>\n",
       "  <th>Education</th> <td>  -14.8057</td> <td>    1.514</td> <td>   -9.780</td> <td> 0.000</td> <td>  -17.782</td> <td>  -11.829</td>\n",
       "</tr>\n",
       "<tr>\n",
       "  <th>Male</th>      <td>   -8.5015</td> <td>   11.935</td> <td>   -0.712</td> <td> 0.477</td> <td>  -31.966</td> <td>   14.963</td>\n",
       "</tr>\n",
       "<tr>\n",
       "  <th>Student</th>   <td>  422.0096</td> <td>   20.332</td> <td>   20.756</td> <td> 0.000</td> <td>  382.035</td> <td>  461.985</td>\n",
       "</tr>\n",
       "<tr>\n",
       "  <th>Married</th>   <td>  -24.0274</td> <td>   12.526</td> <td>   -1.918</td> <td> 0.056</td> <td>  -48.655</td> <td>    0.600</td>\n",
       "</tr>\n",
       "<tr>\n",
       "  <th>Asian</th>     <td>  -29.4496</td> <td>   16.670</td> <td>   -1.767</td> <td> 0.078</td> <td>  -62.224</td> <td>    3.324</td>\n",
       "</tr>\n",
       "<tr>\n",
       "  <th>Caucasian</th> <td>  -32.9886</td> <td>   14.345</td> <td>   -2.300</td> <td> 0.022</td> <td>  -61.192</td> <td>   -4.785</td>\n",
       "</tr>\n",
       "</table>\n",
       "<table class=\"simpletable\">\n",
       "<tr>\n",
       "  <th>Omnibus:</th>       <td> 5.296</td> <th>  Durbin-Watson:     </th> <td>   1.881</td>\n",
       "</tr>\n",
       "<tr>\n",
       "  <th>Prob(Omnibus):</th> <td> 0.071</td> <th>  Jarque-Bera (JB):  </th> <td>   5.305</td>\n",
       "</tr>\n",
       "<tr>\n",
       "  <th>Skew:</th>          <td> 0.255</td> <th>  Prob(JB):          </th> <td>  0.0705</td>\n",
       "</tr>\n",
       "<tr>\n",
       "  <th>Kurtosis:</th>      <td> 2.757</td> <th>  Cond. No.          </th> <td>1.81e+04</td>\n",
       "</tr>\n",
       "</table><br/><br/>Notes:<br/>[1] R² is computed without centering (uncentered) since the model does not contain a constant.<br/>[2] Standard Errors assume that the covariance matrix of the errors is correctly specified.<br/>[3] The condition number is large, 1.81e+04. This might indicate that there are<br/>strong multicollinearity or other numerical problems."
      ],
      "text/plain": [
       "<class 'statsmodels.iolib.summary.Summary'>\n",
       "\"\"\"\n",
       "                                 OLS Regression Results                                \n",
       "=======================================================================================\n",
       "Dep. Variable:                Balance   R-squared (uncentered):                   0.971\n",
       "Model:                            OLS   Adj. R-squared (uncentered):              0.970\n",
       "Method:                 Least Squares   F-statistic:                              1177.\n",
       "Date:                Thu, 26 Aug 2021   Prob (F-statistic):                   9.10e-291\n",
       "Time:                        19:55:20   Log-Likelihood:                         -2477.4\n",
       "No. Observations:                 400   AIC:                                      4977.\n",
       "Df Residuals:                     389   BIC:                                      5021.\n",
       "Df Model:                          11                                                  \n",
       "Covariance Type:            nonrobust                                                  \n",
       "==============================================================================\n",
       "                 coef    std err          t      P>|t|      [0.025      0.975]\n",
       "------------------------------------------------------------------------------\n",
       "Income        -7.3174      0.282    -25.990      0.000      -7.871      -6.764\n",
       "Limit          0.3418      0.038      9.107      0.000       0.268       0.416\n",
       "Rating        -1.3243      0.555     -2.384      0.018      -2.416      -0.232\n",
       "Cards         14.8711      5.273      2.820      0.005       4.505      25.238\n",
       "Age           -2.3854      0.321     -7.432      0.000      -3.016      -1.754\n",
       "Education    -14.8057      1.514     -9.780      0.000     -17.782     -11.829\n",
       "Male          -8.5015     11.935     -0.712      0.477     -31.966      14.963\n",
       "Student      422.0096     20.332     20.756      0.000     382.035     461.985\n",
       "Married      -24.0274     12.526     -1.918      0.056     -48.655       0.600\n",
       "Asian        -29.4496     16.670     -1.767      0.078     -62.224       3.324\n",
       "Caucasian    -32.9886     14.345     -2.300      0.022     -61.192      -4.785\n",
       "==============================================================================\n",
       "Omnibus:                        5.296   Durbin-Watson:                   1.881\n",
       "Prob(Omnibus):                  0.071   Jarque-Bera (JB):                5.305\n",
       "Skew:                           0.255   Prob(JB):                       0.0705\n",
       "Kurtosis:                       2.757   Cond. No.                     1.81e+04\n",
       "==============================================================================\n",
       "\n",
       "Notes:\n",
       "[1] R² is computed without centering (uncentered) since the model does not contain a constant.\n",
       "[2] Standard Errors assume that the covariance matrix of the errors is correctly specified.\n",
       "[3] The condition number is large, 1.81e+04. This might indicate that there are\n",
       "strong multicollinearity or other numerical problems.\n",
       "\"\"\""
      ]
     },
     "execution_count": 50,
     "metadata": {},
     "output_type": "execute_result"
    }
   ],
   "source": [
    "modelo4 = sm.OLS(df.Balance,df.drop(columns = 'Balance')).fit()\n",
    "modelo4.summary()"
   ]
  },
  {
   "cell_type": "markdown",
   "id": "d427ed6b",
   "metadata": {},
   "source": [
    "# **RESPUESTA**\n",
    "\n",
    "WOW, nuestro modelo rápidamente entregó un poder explicativo súper súper alto, casi 1 (0.971 exactamente)"
   ]
  },
  {
   "cell_type": "markdown",
   "id": "8b513210",
   "metadata": {},
   "source": [
    "# Desafío 5: Depure el modelo e incluya sólo los predictores significativos"
   ]
  },
  {
   "cell_type": "markdown",
   "id": "247ade1c",
   "metadata": {},
   "source": [
    "a) En base al modelo anterior, refactoriza e incluya sólo las variables con un nivel de significancia <code>𝑝−𝑣𝑎𝑙𝑢𝑒≤.025</code>\n",
    "\n",
    "Comente brevemente sobre el poder explicativo en la varianza de <code>y</code> y las principales característicasde los predictores."
   ]
  },
  {
   "cell_type": "code",
   "execution_count": 54,
   "id": "cb4e0f8d",
   "metadata": {},
   "outputs": [
    {
     "data": {
      "text/html": [
       "<table class=\"simpletable\">\n",
       "<caption>OLS Regression Results</caption>\n",
       "<tr>\n",
       "  <th>Dep. Variable:</th>         <td>Balance</td>     <th>  R-squared (uncentered):</th>      <td>   0.970</td> \n",
       "</tr>\n",
       "<tr>\n",
       "  <th>Model:</th>                   <td>OLS</td>       <th>  Adj. R-squared (uncentered):</th> <td>   0.970</td> \n",
       "</tr>\n",
       "<tr>\n",
       "  <th>Method:</th>             <td>Least Squares</td>  <th>  F-statistic:       </th>          <td>   1595.</td> \n",
       "</tr>\n",
       "<tr>\n",
       "  <th>Date:</th>             <td>Thu, 26 Aug 2021</td> <th>  Prob (F-statistic):</th>          <td>1.08e-293</td>\n",
       "</tr>\n",
       "<tr>\n",
       "  <th>Time:</th>                 <td>20:45:28</td>     <th>  Log-Likelihood:    </th>          <td> -2481.8</td> \n",
       "</tr>\n",
       "<tr>\n",
       "  <th>No. Observations:</th>      <td>   400</td>      <th>  AIC:               </th>          <td>   4980.</td> \n",
       "</tr>\n",
       "<tr>\n",
       "  <th>Df Residuals:</th>          <td>   392</td>      <th>  BIC:               </th>          <td>   5012.</td> \n",
       "</tr>\n",
       "<tr>\n",
       "  <th>Df Model:</th>              <td>     8</td>      <th>                     </th>              <td> </td>    \n",
       "</tr>\n",
       "<tr>\n",
       "  <th>Covariance Type:</th>      <td>nonrobust</td>    <th>                     </th>              <td> </td>    \n",
       "</tr>\n",
       "</table>\n",
       "<table class=\"simpletable\">\n",
       "<tr>\n",
       "      <td></td>         <th>coef</th>     <th>std err</th>      <th>t</th>      <th>P>|t|</th>  <th>[0.025</th>    <th>0.975]</th>  \n",
       "</tr>\n",
       "<tr>\n",
       "  <th>Income</th>    <td>   -7.3103</td> <td>    0.283</td> <td>  -25.797</td> <td> 0.000</td> <td>   -7.867</td> <td>   -6.753</td>\n",
       "</tr>\n",
       "<tr>\n",
       "  <th>Limit</th>     <td>    0.3581</td> <td>    0.037</td> <td>    9.613</td> <td> 0.000</td> <td>    0.285</td> <td>    0.431</td>\n",
       "</tr>\n",
       "<tr>\n",
       "  <th>Rating</th>    <td>   -1.5781</td> <td>    0.550</td> <td>   -2.867</td> <td> 0.004</td> <td>   -2.660</td> <td>   -0.496</td>\n",
       "</tr>\n",
       "<tr>\n",
       "  <th>Cards</th>     <td>   14.8380</td> <td>    5.292</td> <td>    2.804</td> <td> 0.005</td> <td>    4.433</td> <td>   25.243</td>\n",
       "</tr>\n",
       "<tr>\n",
       "  <th>Age</th>       <td>   -2.4104</td> <td>    0.322</td> <td>   -7.481</td> <td> 0.000</td> <td>   -3.044</td> <td>   -1.777</td>\n",
       "</tr>\n",
       "<tr>\n",
       "  <th>Education</th> <td>  -16.1553</td> <td>    1.449</td> <td>  -11.148</td> <td> 0.000</td> <td>  -19.004</td> <td>  -13.306</td>\n",
       "</tr>\n",
       "<tr>\n",
       "  <th>Student</th>   <td>  425.1854</td> <td>   20.338</td> <td>   20.906</td> <td> 0.000</td> <td>  385.200</td> <td>  465.171</td>\n",
       "</tr>\n",
       "<tr>\n",
       "  <th>Caucasian</th> <td>  -19.9074</td> <td>   11.986</td> <td>   -1.661</td> <td> 0.098</td> <td>  -43.473</td> <td>    3.658</td>\n",
       "</tr>\n",
       "</table>\n",
       "<table class=\"simpletable\">\n",
       "<tr>\n",
       "  <th>Omnibus:</th>       <td> 6.917</td> <th>  Durbin-Watson:     </th> <td>   1.880</td>\n",
       "</tr>\n",
       "<tr>\n",
       "  <th>Prob(Omnibus):</th> <td> 0.031</td> <th>  Jarque-Bera (JB):  </th> <td>   6.729</td>\n",
       "</tr>\n",
       "<tr>\n",
       "  <th>Skew:</th>          <td> 0.279</td> <th>  Prob(JB):          </th> <td>  0.0346</td>\n",
       "</tr>\n",
       "<tr>\n",
       "  <th>Kurtosis:</th>      <td> 2.696</td> <th>  Cond. No.          </th> <td>1.78e+04</td>\n",
       "</tr>\n",
       "</table><br/><br/>Notes:<br/>[1] R² is computed without centering (uncentered) since the model does not contain a constant.<br/>[2] Standard Errors assume that the covariance matrix of the errors is correctly specified.<br/>[3] The condition number is large, 1.78e+04. This might indicate that there are<br/>strong multicollinearity or other numerical problems."
      ],
      "text/plain": [
       "<class 'statsmodels.iolib.summary.Summary'>\n",
       "\"\"\"\n",
       "                                 OLS Regression Results                                \n",
       "=======================================================================================\n",
       "Dep. Variable:                Balance   R-squared (uncentered):                   0.970\n",
       "Model:                            OLS   Adj. R-squared (uncentered):              0.970\n",
       "Method:                 Least Squares   F-statistic:                              1595.\n",
       "Date:                Thu, 26 Aug 2021   Prob (F-statistic):                   1.08e-293\n",
       "Time:                        20:45:28   Log-Likelihood:                         -2481.8\n",
       "No. Observations:                 400   AIC:                                      4980.\n",
       "Df Residuals:                     392   BIC:                                      5012.\n",
       "Df Model:                           8                                                  \n",
       "Covariance Type:            nonrobust                                                  \n",
       "==============================================================================\n",
       "                 coef    std err          t      P>|t|      [0.025      0.975]\n",
       "------------------------------------------------------------------------------\n",
       "Income        -7.3103      0.283    -25.797      0.000      -7.867      -6.753\n",
       "Limit          0.3581      0.037      9.613      0.000       0.285       0.431\n",
       "Rating        -1.5781      0.550     -2.867      0.004      -2.660      -0.496\n",
       "Cards         14.8380      5.292      2.804      0.005       4.433      25.243\n",
       "Age           -2.4104      0.322     -7.481      0.000      -3.044      -1.777\n",
       "Education    -16.1553      1.449    -11.148      0.000     -19.004     -13.306\n",
       "Student      425.1854     20.338     20.906      0.000     385.200     465.171\n",
       "Caucasian    -19.9074     11.986     -1.661      0.098     -43.473       3.658\n",
       "==============================================================================\n",
       "Omnibus:                        6.917   Durbin-Watson:                   1.880\n",
       "Prob(Omnibus):                  0.031   Jarque-Bera (JB):                6.729\n",
       "Skew:                           0.279   Prob(JB):                       0.0346\n",
       "Kurtosis:                       2.696   Cond. No.                     1.78e+04\n",
       "==============================================================================\n",
       "\n",
       "Notes:\n",
       "[1] R² is computed without centering (uncentered) since the model does not contain a constant.\n",
       "[2] Standard Errors assume that the covariance matrix of the errors is correctly specified.\n",
       "[3] The condition number is large, 1.78e+04. This might indicate that there are\n",
       "strong multicollinearity or other numerical problems.\n",
       "\"\"\""
      ]
     },
     "execution_count": 54,
     "metadata": {},
     "output_type": "execute_result"
    }
   ],
   "source": [
    "modelo5 = sm.OLS(df.Balance,df.drop(columns = ['Balance','Male','Married','Asian'])).fit()\n",
    "modelo5.summary()"
   ]
  },
  {
   "cell_type": "markdown",
   "id": "d569815f",
   "metadata": {},
   "source": [
    "# ¿Mejoró o empeoró el modelo con la reducción de regresores?"
   ]
  },
  {
   "cell_type": "markdown",
   "id": "636ffcd3",
   "metadata": {},
   "source": [
    "**Respuesta**\n",
    "\n",
    "Cambió muy muy poco el rcuadrado, apenas un 0,001, empeoró muy muy muy poco, al parecer es buen threshold el p_value <= 0.025"
   ]
  },
  {
   "cell_type": "markdown",
   "id": "80aa04f6",
   "metadata": {},
   "source": [
    "# Desafío 6\n",
    "\n",
    "Utilizando <code>lmplot</code> de seaborn, inspeccione el comportamiento de los tres principales determinantes"
   ]
  },
  {
   "cell_type": "markdown",
   "id": "4ce6bc6e",
   "metadata": {},
   "source": [
    "Respuesta: Los tres principales determinantes son: Income, Student, Education"
   ]
  },
  {
   "cell_type": "code",
   "execution_count": 58,
   "id": "e7eccf72",
   "metadata": {},
   "outputs": [
    {
     "data": {
      "image/png": "[encoded data removed]",
      "text/plain": [
       "<Figure size 360x360 with 1 Axes>"
      ]
     },
     "metadata": {
      "needs_background": "light"
     },
     "output_type": "display_data"
    },
    {
     "data": {
      "image/png": "[encoded data removed]",
      "text/plain": [
       "<Figure size 360x360 with 1 Axes>"
      ]
     },
     "metadata": {
      "needs_background": "light"
     },
     "output_type": "display_data"
    },
    {
     "data": {
      "image/png": "[encoded data removed]",
      "text/plain": [
       "<Figure size 360x360 with 1 Axes>"
      ]
     },
     "metadata": {
      "needs_background": "light"
     },
     "output_type": "display_data"
    }
   ],
   "source": [
    "sns.lmplot(data = df,\n",
    "           x = 'Income',\n",
    "           y = 'Balance',\n",
    "           )\n",
    "plt.show()\n",
    "sns.lmplot(data = df,\n",
    "           x = 'Student',\n",
    "           y = 'Balance',\n",
    "           )\n",
    "plt.show()\n",
    "sns.lmplot(data = df,\n",
    "           x = 'Education',\n",
    "           y = 'Balance',\n",
    "           )\n",
    "plt.show()"
   ]
  },
  {
   "cell_type": "markdown",
   "id": "4bc3f1b5",
   "metadata": {},
   "source": [
    "# **COMENTARIOS**\n",
    "\n",
    "Es interesante notar lo inútil que puede ser lmplot para variables en que nuestro summary dice que están bien relacionadas a la variable objetivo \"balance\"\n",
    "\n",
    "Sin Embargo, la variable CONTINUA Income sí se puede apreciar su correlación positiva a través de lmplot, por tanto lmplot no es siempre una buena forma de analizar si una variable es determinante o no, se debe analizar de otra forma, como lo hicimos al inicio."
   ]
  }
 ],
 "metadata": {
  "kernelspec": {
   "display_name": "Python 3",
   "language": "python",
   "name": "python3"
  },
  "language_info": {
   "codemirror_mode": {
    "name": "ipython",
    "version": 3
   },
   "file_extension": ".py",
   "mimetype": "text/x-python",
   "name": "python",
   "nbconvert_exporter": "python",
   "pygments_lexer": "ipython3",
   "version": "3.8.8"
  }
 },
 "nbformat": 4,
 "nbformat_minor": 5
}
