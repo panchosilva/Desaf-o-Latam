{
 "cells": [
  {
   "cell_type": "markdown",
   "id": "792e5531",
   "metadata": {},
   "source": [
    "# Desafío - Regresión desde el aprendizaje demáquinas"
   ]
  },
  {
   "cell_type": "markdown",
   "id": "dc418fe9",
   "metadata": {},
   "source": [
    "Nuestro objetivo es desarrollar un modelo predictivo para el valor mediano de las casas mediante el entrenamiento de un modelo de regresión lineal.\n",
    "\n",
    "    ● crim : Tasa de criminalidad por sector de Boston.\n",
    "    ● zn: proporción de terreno residencial asignado para terrenos baldíos.\n",
    "    ● indus: proporción de negocios no asociados al comercio por sector.\n",
    "    ● chas: Dummy. 1 si el sector colinda con el río Charles, 0 de lo contrario.\n",
    "    ● nox: Concentración de dióxido de carbono.\n",
    "    ● rm: cantidad promedio de habitaciones por casa.\n",
    "    ● age: proporción de casas construidas antes de 1940.\n",
    "    ● dis: distancia promedio a cinco centros de empleos.\n",
    "    ● rad: índice de accesibilidad a autopistas.\n",
    "    ● tax: nivel de impuestos asociados a viviendas.\n",
    "    ● ptratio razón alumno:profesor por sector de Boston.\n",
    "    ● black: proporción de afroamericanos por sector de Boston.\n",
    "    ● lstat: porcentaje de población de estratos bajos.\n",
    "    ● medv: valor mediano de las casas"
   ]
  },
  {
   "cell_type": "markdown",
   "id": "f21fbc31",
   "metadata": {},
   "source": [
    "# Desafío 1: Prepare el ambiente de trabajo"
   ]
  },
  {
   "cell_type": "code",
   "execution_count": 1,
   "id": "dc185146",
   "metadata": {},
   "outputs": [
    {
     "data": {
      "text/html": [
       "<div>\n",
       "<style scoped>\n",
       "    .dataframe tbody tr th:only-of-type {\n",
       "        vertical-align: middle;\n",
       "    }\n",
       "\n",
       "    .dataframe tbody tr th {\n",
       "        vertical-align: top;\n",
       "    }\n",
       "\n",
       "    .dataframe thead th {\n",
       "        text-align: right;\n",
       "    }\n",
       "</style>\n",
       "<table border=\"1\" class=\"dataframe\">\n",
       "  <thead>\n",
       "    <tr style=\"text-align: right;\">\n",
       "      <th></th>\n",
       "      <th>crim</th>\n",
       "      <th>zn</th>\n",
       "      <th>indus</th>\n",
       "      <th>chas</th>\n",
       "      <th>nox</th>\n",
       "      <th>rm</th>\n",
       "      <th>age</th>\n",
       "      <th>dis</th>\n",
       "      <th>rad</th>\n",
       "      <th>tax</th>\n",
       "      <th>ptratio</th>\n",
       "      <th>black</th>\n",
       "      <th>lstat</th>\n",
       "      <th>medv</th>\n",
       "    </tr>\n",
       "  </thead>\n",
       "  <tbody>\n",
       "    <tr>\n",
       "      <th>1</th>\n",
       "      <td>0.00632</td>\n",
       "      <td>18.0</td>\n",
       "      <td>2.31</td>\n",
       "      <td>0</td>\n",
       "      <td>0.538</td>\n",
       "      <td>6.575</td>\n",
       "      <td>65.2</td>\n",
       "      <td>4.0900</td>\n",
       "      <td>1</td>\n",
       "      <td>296</td>\n",
       "      <td>15.3</td>\n",
       "      <td>396.90</td>\n",
       "      <td>4.98</td>\n",
       "      <td>24.0</td>\n",
       "    </tr>\n",
       "    <tr>\n",
       "      <th>2</th>\n",
       "      <td>0.02731</td>\n",
       "      <td>0.0</td>\n",
       "      <td>7.07</td>\n",
       "      <td>0</td>\n",
       "      <td>0.469</td>\n",
       "      <td>6.421</td>\n",
       "      <td>78.9</td>\n",
       "      <td>4.9671</td>\n",
       "      <td>2</td>\n",
       "      <td>242</td>\n",
       "      <td>17.8</td>\n",
       "      <td>396.90</td>\n",
       "      <td>9.14</td>\n",
       "      <td>21.6</td>\n",
       "    </tr>\n",
       "    <tr>\n",
       "      <th>3</th>\n",
       "      <td>0.02729</td>\n",
       "      <td>0.0</td>\n",
       "      <td>7.07</td>\n",
       "      <td>0</td>\n",
       "      <td>0.469</td>\n",
       "      <td>7.185</td>\n",
       "      <td>61.1</td>\n",
       "      <td>4.9671</td>\n",
       "      <td>2</td>\n",
       "      <td>242</td>\n",
       "      <td>17.8</td>\n",
       "      <td>392.83</td>\n",
       "      <td>4.03</td>\n",
       "      <td>34.7</td>\n",
       "    </tr>\n",
       "    <tr>\n",
       "      <th>4</th>\n",
       "      <td>0.03237</td>\n",
       "      <td>0.0</td>\n",
       "      <td>2.18</td>\n",
       "      <td>0</td>\n",
       "      <td>0.458</td>\n",
       "      <td>6.998</td>\n",
       "      <td>45.8</td>\n",
       "      <td>6.0622</td>\n",
       "      <td>3</td>\n",
       "      <td>222</td>\n",
       "      <td>18.7</td>\n",
       "      <td>394.63</td>\n",
       "      <td>2.94</td>\n",
       "      <td>33.4</td>\n",
       "    </tr>\n",
       "    <tr>\n",
       "      <th>5</th>\n",
       "      <td>0.06905</td>\n",
       "      <td>0.0</td>\n",
       "      <td>2.18</td>\n",
       "      <td>0</td>\n",
       "      <td>0.458</td>\n",
       "      <td>7.147</td>\n",
       "      <td>54.2</td>\n",
       "      <td>6.0622</td>\n",
       "      <td>3</td>\n",
       "      <td>222</td>\n",
       "      <td>18.7</td>\n",
       "      <td>396.90</td>\n",
       "      <td>5.33</td>\n",
       "      <td>36.2</td>\n",
       "    </tr>\n",
       "  </tbody>\n",
       "</table>\n",
       "</div>"
      ],
      "text/plain": [
       "      crim    zn  indus  chas    nox     rm   age     dis  rad  tax  ptratio  \\\n",
       "1  0.00632  18.0   2.31     0  0.538  6.575  65.2  4.0900    1  296     15.3   \n",
       "2  0.02731   0.0   7.07     0  0.469  6.421  78.9  4.9671    2  242     17.8   \n",
       "3  0.02729   0.0   7.07     0  0.469  7.185  61.1  4.9671    2  242     17.8   \n",
       "4  0.03237   0.0   2.18     0  0.458  6.998  45.8  6.0622    3  222     18.7   \n",
       "5  0.06905   0.0   2.18     0  0.458  7.147  54.2  6.0622    3  222     18.7   \n",
       "\n",
       "    black  lstat  medv  \n",
       "1  396.90   4.98  24.0  \n",
       "2  396.90   9.14  21.6  \n",
       "3  392.83   4.03  34.7  \n",
       "4  394.63   2.94  33.4  \n",
       "5  396.90   5.33  36.2  "
      ]
     },
     "execution_count": 1,
     "metadata": {},
     "output_type": "execute_result"
    }
   ],
   "source": [
    "import pandas as pd\n",
    "import numpy as np\n",
    "import scipy.stats as stats\n",
    "import matplotlib.pyplot as plt\n",
    "import seaborn as sns\n",
    "from sklearn.linear_model import LinearRegression\n",
    "from sklearn.metrics import mean_squared_error, r2_score\n",
    "from sklearn.model_selection import train_test_split\n",
    "\n",
    "df = pd.read_csv(\"boston.csv\", index_col = 0)\n",
    "df.head()"
   ]
  },
  {
   "cell_type": "code",
   "execution_count": 2,
   "id": "d7129dfd",
   "metadata": {},
   "outputs": [
    {
     "data": {
      "text/plain": [
       "0"
      ]
     },
     "execution_count": 2,
     "metadata": {},
     "output_type": "execute_result"
    }
   ],
   "source": [
    "df.isnull().sum().sum()"
   ]
  },
  {
   "cell_type": "markdown",
   "id": "ec974eb9",
   "metadata": {},
   "source": [
    "**Notar que...**\n",
    "\n",
    "La BD ha sido actualizada. No, mentira, La BD ha sido reactualizada, OK ahora sí. ¡La Base no tiene datos nulos!"
   ]
  },
  {
   "cell_type": "code",
   "execution_count": 3,
   "id": "0dedc8f9",
   "metadata": {},
   "outputs": [
    {
     "data": {
      "text/html": [
       "<div>\n",
       "<style scoped>\n",
       "    .dataframe tbody tr th:only-of-type {\n",
       "        vertical-align: middle;\n",
       "    }\n",
       "\n",
       "    .dataframe tbody tr th {\n",
       "        vertical-align: top;\n",
       "    }\n",
       "\n",
       "    .dataframe thead th {\n",
       "        text-align: right;\n",
       "    }\n",
       "</style>\n",
       "<table border=\"1\" class=\"dataframe\">\n",
       "  <thead>\n",
       "    <tr style=\"text-align: right;\">\n",
       "      <th></th>\n",
       "      <th>count</th>\n",
       "      <th>mean</th>\n",
       "      <th>std</th>\n",
       "      <th>min</th>\n",
       "      <th>25%</th>\n",
       "      <th>50%</th>\n",
       "      <th>75%</th>\n",
       "      <th>max</th>\n",
       "    </tr>\n",
       "  </thead>\n",
       "  <tbody>\n",
       "    <tr>\n",
       "      <th>crim</th>\n",
       "      <td>506.0</td>\n",
       "      <td>3.613524</td>\n",
       "      <td>8.601545</td>\n",
       "      <td>0.00632</td>\n",
       "      <td>0.082045</td>\n",
       "      <td>0.25651</td>\n",
       "      <td>3.677083</td>\n",
       "      <td>88.9762</td>\n",
       "    </tr>\n",
       "    <tr>\n",
       "      <th>zn</th>\n",
       "      <td>506.0</td>\n",
       "      <td>11.363636</td>\n",
       "      <td>23.322453</td>\n",
       "      <td>0.00000</td>\n",
       "      <td>0.000000</td>\n",
       "      <td>0.00000</td>\n",
       "      <td>12.500000</td>\n",
       "      <td>100.0000</td>\n",
       "    </tr>\n",
       "    <tr>\n",
       "      <th>indus</th>\n",
       "      <td>506.0</td>\n",
       "      <td>11.136779</td>\n",
       "      <td>6.860353</td>\n",
       "      <td>0.46000</td>\n",
       "      <td>5.190000</td>\n",
       "      <td>9.69000</td>\n",
       "      <td>18.100000</td>\n",
       "      <td>27.7400</td>\n",
       "    </tr>\n",
       "    <tr>\n",
       "      <th>chas</th>\n",
       "      <td>506.0</td>\n",
       "      <td>0.069170</td>\n",
       "      <td>0.253994</td>\n",
       "      <td>0.00000</td>\n",
       "      <td>0.000000</td>\n",
       "      <td>0.00000</td>\n",
       "      <td>0.000000</td>\n",
       "      <td>1.0000</td>\n",
       "    </tr>\n",
       "    <tr>\n",
       "      <th>nox</th>\n",
       "      <td>506.0</td>\n",
       "      <td>0.554695</td>\n",
       "      <td>0.115878</td>\n",
       "      <td>0.38500</td>\n",
       "      <td>0.449000</td>\n",
       "      <td>0.53800</td>\n",
       "      <td>0.624000</td>\n",
       "      <td>0.8710</td>\n",
       "    </tr>\n",
       "    <tr>\n",
       "      <th>rm</th>\n",
       "      <td>506.0</td>\n",
       "      <td>6.284634</td>\n",
       "      <td>0.702617</td>\n",
       "      <td>3.56100</td>\n",
       "      <td>5.885500</td>\n",
       "      <td>6.20850</td>\n",
       "      <td>6.623500</td>\n",
       "      <td>8.7800</td>\n",
       "    </tr>\n",
       "    <tr>\n",
       "      <th>age</th>\n",
       "      <td>506.0</td>\n",
       "      <td>68.574901</td>\n",
       "      <td>28.148861</td>\n",
       "      <td>2.90000</td>\n",
       "      <td>45.025000</td>\n",
       "      <td>77.50000</td>\n",
       "      <td>94.075000</td>\n",
       "      <td>100.0000</td>\n",
       "    </tr>\n",
       "    <tr>\n",
       "      <th>dis</th>\n",
       "      <td>506.0</td>\n",
       "      <td>3.795043</td>\n",
       "      <td>2.105710</td>\n",
       "      <td>1.12960</td>\n",
       "      <td>2.100175</td>\n",
       "      <td>3.20745</td>\n",
       "      <td>5.188425</td>\n",
       "      <td>12.1265</td>\n",
       "    </tr>\n",
       "    <tr>\n",
       "      <th>rad</th>\n",
       "      <td>506.0</td>\n",
       "      <td>9.549407</td>\n",
       "      <td>8.707259</td>\n",
       "      <td>1.00000</td>\n",
       "      <td>4.000000</td>\n",
       "      <td>5.00000</td>\n",
       "      <td>24.000000</td>\n",
       "      <td>24.0000</td>\n",
       "    </tr>\n",
       "    <tr>\n",
       "      <th>tax</th>\n",
       "      <td>506.0</td>\n",
       "      <td>408.237154</td>\n",
       "      <td>168.537116</td>\n",
       "      <td>187.00000</td>\n",
       "      <td>279.000000</td>\n",
       "      <td>330.00000</td>\n",
       "      <td>666.000000</td>\n",
       "      <td>711.0000</td>\n",
       "    </tr>\n",
       "    <tr>\n",
       "      <th>ptratio</th>\n",
       "      <td>506.0</td>\n",
       "      <td>18.455534</td>\n",
       "      <td>2.164946</td>\n",
       "      <td>12.60000</td>\n",
       "      <td>17.400000</td>\n",
       "      <td>19.05000</td>\n",
       "      <td>20.200000</td>\n",
       "      <td>22.0000</td>\n",
       "    </tr>\n",
       "    <tr>\n",
       "      <th>black</th>\n",
       "      <td>506.0</td>\n",
       "      <td>356.674032</td>\n",
       "      <td>91.294864</td>\n",
       "      <td>0.32000</td>\n",
       "      <td>375.377500</td>\n",
       "      <td>391.44000</td>\n",
       "      <td>396.225000</td>\n",
       "      <td>396.9000</td>\n",
       "    </tr>\n",
       "    <tr>\n",
       "      <th>lstat</th>\n",
       "      <td>506.0</td>\n",
       "      <td>12.653063</td>\n",
       "      <td>7.141062</td>\n",
       "      <td>1.73000</td>\n",
       "      <td>6.950000</td>\n",
       "      <td>11.36000</td>\n",
       "      <td>16.955000</td>\n",
       "      <td>37.9700</td>\n",
       "    </tr>\n",
       "    <tr>\n",
       "      <th>medv</th>\n",
       "      <td>506.0</td>\n",
       "      <td>22.532806</td>\n",
       "      <td>9.197104</td>\n",
       "      <td>5.00000</td>\n",
       "      <td>17.025000</td>\n",
       "      <td>21.20000</td>\n",
       "      <td>25.000000</td>\n",
       "      <td>50.0000</td>\n",
       "    </tr>\n",
       "  </tbody>\n",
       "</table>\n",
       "</div>"
      ],
      "text/plain": [
       "         count        mean         std        min         25%        50%  \\\n",
       "crim     506.0    3.613524    8.601545    0.00632    0.082045    0.25651   \n",
       "zn       506.0   11.363636   23.322453    0.00000    0.000000    0.00000   \n",
       "indus    506.0   11.136779    6.860353    0.46000    5.190000    9.69000   \n",
       "chas     506.0    0.069170    0.253994    0.00000    0.000000    0.00000   \n",
       "nox      506.0    0.554695    0.115878    0.38500    0.449000    0.53800   \n",
       "rm       506.0    6.284634    0.702617    3.56100    5.885500    6.20850   \n",
       "age      506.0   68.574901   28.148861    2.90000   45.025000   77.50000   \n",
       "dis      506.0    3.795043    2.105710    1.12960    2.100175    3.20745   \n",
       "rad      506.0    9.549407    8.707259    1.00000    4.000000    5.00000   \n",
       "tax      506.0  408.237154  168.537116  187.00000  279.000000  330.00000   \n",
       "ptratio  506.0   18.455534    2.164946   12.60000   17.400000   19.05000   \n",
       "black    506.0  356.674032   91.294864    0.32000  375.377500  391.44000   \n",
       "lstat    506.0   12.653063    7.141062    1.73000    6.950000   11.36000   \n",
       "medv     506.0   22.532806    9.197104    5.00000   17.025000   21.20000   \n",
       "\n",
       "                75%       max  \n",
       "crim       3.677083   88.9762  \n",
       "zn        12.500000  100.0000  \n",
       "indus     18.100000   27.7400  \n",
       "chas       0.000000    1.0000  \n",
       "nox        0.624000    0.8710  \n",
       "rm         6.623500    8.7800  \n",
       "age       94.075000  100.0000  \n",
       "dis        5.188425   12.1265  \n",
       "rad       24.000000   24.0000  \n",
       "tax      666.000000  711.0000  \n",
       "ptratio   20.200000   22.0000  \n",
       "black    396.225000  396.9000  \n",
       "lstat     16.955000   37.9700  \n",
       "medv      25.000000   50.0000  "
      ]
     },
     "execution_count": 3,
     "metadata": {},
     "output_type": "execute_result"
    }
   ],
   "source": [
    "df.describe().T"
   ]
  },
  {
   "cell_type": "markdown",
   "id": "23ff5396",
   "metadata": {},
   "source": [
    "# Desafío 2: División de la muestra"
   ]
  },
  {
   "cell_type": "code",
   "execution_count": 4,
   "id": "abc24179",
   "metadata": {},
   "outputs": [],
   "source": [
    "X = df.drop(columns = 'medv')\n",
    "y = df['medv']\n",
    "X_train, X_test, y_train, y_test = train_test_split(X, y, test_size=0.33, random_state=50)"
   ]
  },
  {
   "cell_type": "markdown",
   "id": "2aabffb1",
   "metadata": {},
   "source": [
    "# Desafío 3: Generación de modelos"
   ]
  },
  {
   "cell_type": "code",
   "execution_count": 5,
   "id": "cf648a92",
   "metadata": {},
   "outputs": [
    {
     "data": {
      "text/plain": [
       "0.6956190362781691"
      ]
     },
     "execution_count": 5,
     "metadata": {},
     "output_type": "execute_result"
    }
   ],
   "source": [
    "reg1 = LinearRegression(fit_intercept = True, normalize = True).fit(X_train, y_train)\n",
    "y_pred1 = reg1.predict(X_test)\n",
    "score1 = r2_score(y_test, y_pred1)\n",
    "score1"
   ]
  },
  {
   "cell_type": "code",
   "execution_count": 6,
   "id": "64e643c6",
   "metadata": {},
   "outputs": [
    {
     "data": {
      "text/plain": [
       "0.6549781334227461"
      ]
     },
     "execution_count": 6,
     "metadata": {},
     "output_type": "execute_result"
    }
   ],
   "source": [
    "reg2 = LinearRegression(fit_intercept = False, normalize = False).fit(X_train, y_train)\n",
    "y_pred2 = reg2.predict(X_test)\n",
    "score2 = r2_score(y_test, y_pred2)\n",
    "score2"
   ]
  },
  {
   "cell_type": "markdown",
   "id": "a4d37fbe",
   "metadata": {},
   "source": [
    "**¡Interesante!**\n",
    "\n",
    "El modelo normalizado y con intercepto aportó en aprox un 0.05 de poder explicativo de la variable dependiente"
   ]
  },
  {
   "cell_type": "markdown",
   "id": "8976552f",
   "metadata": {},
   "source": [
    "# Desafío 4: Obtención de métricas"
   ]
  },
  {
   "cell_type": "code",
   "execution_count": 7,
   "id": "9a763afd",
   "metadata": {},
   "outputs": [
    {
     "name": "stdout",
     "output_type": "stream",
     "text": [
      "         ECP  RCuadrado Modelo\n",
      "0  32.321126   0.695619   reg1\n",
      "*********************************\n",
      "         ECP  RCuadrado Modelo\n",
      "0  36.636638   0.654978   reg2\n"
     ]
    }
   ],
   "source": [
    "def report_scores(y_test, predict_y, name = 'results'):\n",
    "    ECP = mean_squared_error(y_test, predict_y)\n",
    "    RCuadrado = r2_score(y_test, predict_y)\n",
    "    return pd.DataFrame({'ECP':[ECP],'RCuadrado':[RCuadrado],'Modelo':[name]})\n",
    "\n",
    "print(report_scores(y_test, y_pred1,'reg1'))\n",
    "print(\"*********************************\")\n",
    "print(report_scores(y_test, y_pred2,'reg2'))"
   ]
  },
  {
   "cell_type": "code",
   "execution_count": 8,
   "id": "eb39c7ae",
   "metadata": {},
   "outputs": [
    {
     "data": {
      "text/html": [
       "<div>\n",
       "<style scoped>\n",
       "    .dataframe tbody tr th:only-of-type {\n",
       "        vertical-align: middle;\n",
       "    }\n",
       "\n",
       "    .dataframe tbody tr th {\n",
       "        vertical-align: top;\n",
       "    }\n",
       "\n",
       "    .dataframe thead th {\n",
       "        text-align: right;\n",
       "    }\n",
       "</style>\n",
       "<table border=\"1\" class=\"dataframe\">\n",
       "  <thead>\n",
       "    <tr style=\"text-align: right;\">\n",
       "      <th></th>\n",
       "      <th>ECP</th>\n",
       "      <th>RCuadrado</th>\n",
       "      <th>Modelo</th>\n",
       "    </tr>\n",
       "  </thead>\n",
       "  <tbody>\n",
       "    <tr>\n",
       "      <th>0</th>\n",
       "      <td>32.321126</td>\n",
       "      <td>0.695619</td>\n",
       "      <td>reg1</td>\n",
       "    </tr>\n",
       "    <tr>\n",
       "      <th>1</th>\n",
       "      <td>36.636638</td>\n",
       "      <td>0.654978</td>\n",
       "      <td>reg2</td>\n",
       "    </tr>\n",
       "  </tbody>\n",
       "</table>\n",
       "</div>"
      ],
      "text/plain": [
       "         ECP  RCuadrado Modelo\n",
       "0  32.321126   0.695619   reg1\n",
       "1  36.636638   0.654978   reg2"
      ]
     },
     "execution_count": 8,
     "metadata": {},
     "output_type": "execute_result"
    }
   ],
   "source": [
    "df4 = report_scores(y_test, y_pred1,'reg1').append(report_scores(y_test, y_pred2,'reg2')).reset_index(drop = True)\n",
    "df4"
   ]
  },
  {
   "cell_type": "code",
   "execution_count": 9,
   "id": "b20b32ea",
   "metadata": {},
   "outputs": [
    {
     "data": {
      "image/png": "[encoded data removed]",
      "text/plain": [
       "<Figure size 432x288 with 1 Axes>"
      ]
     },
     "metadata": {
      "needs_background": "light"
     },
     "output_type": "display_data"
    },
    {
     "data": {
      "image/png": "[encoded data removed]",
      "text/plain": [
       "<Figure size 432x288 with 1 Axes>"
      ]
     },
     "metadata": {
      "needs_background": "light"
     },
     "output_type": "display_data"
    }
   ],
   "source": [
    "df4_ECP = df4.drop(columns = 'RCuadrado')\n",
    "df4_RCuadrado = df4.drop(columns = 'ECP')\n",
    "\n",
    "plt.barh(y = 'Modelo', width = 'ECP', data = df4_ECP)\n",
    "plt.title(\"Error cuadrático promedio (ECP)\")\n",
    "plt.show()\n",
    "\n",
    "plt.barh(y = 'Modelo', width = 'RCuadrado', data = df4_RCuadrado, color = 'orange')\n",
    "plt.title(\"r^2 (RCuadrado)\")\n",
    "plt.show()"
   ]
  },
  {
   "cell_type": "markdown",
   "id": "4efc1634",
   "metadata": {},
   "source": [
    "El Modelo reg1(el cual tiene intercepto y está normalizado) tiene menor error cuadrático promedio y a la vez mayor R^2,\n",
    "por tanto ambos scores indican que reg1 es mejor que reg2.\n",
    "\n",
    "**Respuesta**\n",
    "\n",
    "Por tanto eligo el primer modelo, el normalizado y con intercepto"
   ]
  },
  {
   "cell_type": "markdown",
   "id": "74775e4a",
   "metadata": {},
   "source": [
    "# Desafío 5: Refactorización del modelo"
   ]
  },
  {
   "attachments": {
    "image5.PNG": {
     "image/png": "[encoded data removed]"
    }
   },
   "cell_type": "markdown",
   "id": "f8e5a5d6",
   "metadata": {},
   "source": [
    "![image5.PNG](attachment:image5.PNG)"
   ]
  },
  {
   "cell_type": "code",
   "execution_count": 60,
   "id": "94178992",
   "metadata": {},
   "outputs": [
    {
     "data": {
      "text/html": [
       "<div>\n",
       "<style scoped>\n",
       "    .dataframe tbody tr th:only-of-type {\n",
       "        vertical-align: middle;\n",
       "    }\n",
       "\n",
       "    .dataframe tbody tr th {\n",
       "        vertical-align: top;\n",
       "    }\n",
       "\n",
       "    .dataframe thead th {\n",
       "        text-align: right;\n",
       "    }\n",
       "</style>\n",
       "<table border=\"1\" class=\"dataframe\">\n",
       "  <thead>\n",
       "    <tr style=\"text-align: right;\">\n",
       "      <th></th>\n",
       "      <th>medv</th>\n",
       "    </tr>\n",
       "  </thead>\n",
       "  <tbody>\n",
       "    <tr>\n",
       "      <th>lstat</th>\n",
       "      <td>0.737663</td>\n",
       "    </tr>\n",
       "    <tr>\n",
       "      <th>rm</th>\n",
       "      <td>0.695360</td>\n",
       "    </tr>\n",
       "    <tr>\n",
       "      <th>ptratio</th>\n",
       "      <td>0.507787</td>\n",
       "    </tr>\n",
       "    <tr>\n",
       "      <th>indus</th>\n",
       "      <td>0.483725</td>\n",
       "    </tr>\n",
       "    <tr>\n",
       "      <th>tax</th>\n",
       "      <td>0.468536</td>\n",
       "    </tr>\n",
       "    <tr>\n",
       "      <th>nox</th>\n",
       "      <td>0.427321</td>\n",
       "    </tr>\n",
       "    <tr>\n",
       "      <th>crim</th>\n",
       "      <td>0.388305</td>\n",
       "    </tr>\n",
       "    <tr>\n",
       "      <th>rad</th>\n",
       "      <td>0.381626</td>\n",
       "    </tr>\n",
       "    <tr>\n",
       "      <th>age</th>\n",
       "      <td>0.376955</td>\n",
       "    </tr>\n",
       "    <tr>\n",
       "      <th>zn</th>\n",
       "      <td>0.360445</td>\n",
       "    </tr>\n",
       "    <tr>\n",
       "      <th>black</th>\n",
       "      <td>0.333461</td>\n",
       "    </tr>\n",
       "    <tr>\n",
       "      <th>dis</th>\n",
       "      <td>0.249929</td>\n",
       "    </tr>\n",
       "    <tr>\n",
       "      <th>chas</th>\n",
       "      <td>0.175260</td>\n",
       "    </tr>\n",
       "  </tbody>\n",
       "</table>\n",
       "</div>"
      ],
      "text/plain": [
       "             medv\n",
       "lstat    0.737663\n",
       "rm       0.695360\n",
       "ptratio  0.507787\n",
       "indus    0.483725\n",
       "tax      0.468536\n",
       "nox      0.427321\n",
       "crim     0.388305\n",
       "rad      0.381626\n",
       "age      0.376955\n",
       "zn       0.360445\n",
       "black    0.333461\n",
       "dis      0.249929\n",
       "chas     0.175260"
      ]
     },
     "execution_count": 60,
     "metadata": {},
     "output_type": "execute_result"
    }
   ],
   "source": [
    "def fetch_features(dataframe, variable = 'medv'):\n",
    "    return abs(pd.DataFrame(dataframe.corr()[variable]) # Ojo que apliqué el método ABS para no tener problemas con la correlaciones negativas\n",
    "              ).sort_values(by = variable,ascending = False).drop(\n",
    "        [variable])#No lo dejé como lista, porque sino no se nota a qué variable corresponde cada correlación\n",
    "\n",
    "fetch_features(df)"
   ]
  },
  {
   "cell_type": "code",
   "execution_count": 34,
   "id": "b07ec744",
   "metadata": {},
   "outputs": [
    {
     "name": "stdout",
     "output_type": "stream",
     "text": [
      "['lstat', 'rm', 'ptratio', 'indus', 'tax', 'nox']\n",
      "\n",
      "Estos son los 6 atributos con mayor correlación a medv\n"
     ]
    }
   ],
   "source": [
    "print(list(fetch_features(df).head(6).index))\n",
    "print('\\nEstos son los 6 atributos con mayor correlación a medv')"
   ]
  },
  {
   "attachments": {
    "Captura6.PNG": {
     "image/png": "[encoded data removed]"
    }
   },
   "cell_type": "markdown",
   "id": "0eb61f47",
   "metadata": {},
   "source": [
    "![Captura6.PNG](attachment:Captura6.PNG)"
   ]
  },
  {
   "cell_type": "code",
   "execution_count": 57,
   "id": "a83eccd1",
   "metadata": {},
   "outputs": [],
   "source": [
    "X = df[list(fetch_features(df).head(6).index)]\n",
    "y = df['medv']\n",
    "X_train, X_test, y_train, y_test = train_test_split(X, y, test_size=0.33, random_state=50)\n",
    "\n",
    "modelo6_0 = LinearRegression(fit_intercept = False, normalize = False).fit(X_train, y_train)\n",
    "y_predict6_0 = modelo6_0.predict(X_test)\n",
    "\n",
    "modelo6_1 = LinearRegression(fit_intercept = True, normalize = True).fit(X_train, y_train)\n",
    "y_predict6_1 = modelo6_1.predict(X_test)"
   ]
  },
  {
   "cell_type": "code",
   "execution_count": 58,
   "id": "a4a81473",
   "metadata": {},
   "outputs": [
    {
     "data": {
      "text/html": [
       "<div>\n",
       "<style scoped>\n",
       "    .dataframe tbody tr th:only-of-type {\n",
       "        vertical-align: middle;\n",
       "    }\n",
       "\n",
       "    .dataframe tbody tr th {\n",
       "        vertical-align: top;\n",
       "    }\n",
       "\n",
       "    .dataframe thead th {\n",
       "        text-align: right;\n",
       "    }\n",
       "</style>\n",
       "<table border=\"1\" class=\"dataframe\">\n",
       "  <thead>\n",
       "    <tr style=\"text-align: right;\">\n",
       "      <th></th>\n",
       "      <th>ECP</th>\n",
       "      <th>RCuadrado</th>\n",
       "      <th>Modelo</th>\n",
       "    </tr>\n",
       "  </thead>\n",
       "  <tbody>\n",
       "    <tr>\n",
       "      <th>0</th>\n",
       "      <td>41.623481</td>\n",
       "      <td>0.608015</td>\n",
       "      <td>modelo6_0</td>\n",
       "    </tr>\n",
       "    <tr>\n",
       "      <th>1</th>\n",
       "      <td>39.607564</td>\n",
       "      <td>0.627000</td>\n",
       "      <td>modelo6_1</td>\n",
       "    </tr>\n",
       "    <tr>\n",
       "      <th>2</th>\n",
       "      <td>32.321126</td>\n",
       "      <td>0.695619</td>\n",
       "      <td>reg1</td>\n",
       "    </tr>\n",
       "    <tr>\n",
       "      <th>3</th>\n",
       "      <td>36.636638</td>\n",
       "      <td>0.654978</td>\n",
       "      <td>reg2</td>\n",
       "    </tr>\n",
       "  </tbody>\n",
       "</table>\n",
       "</div>"
      ],
      "text/plain": [
       "         ECP  RCuadrado     Modelo\n",
       "0  41.623481   0.608015  modelo6_0\n",
       "1  39.607564   0.627000  modelo6_1\n",
       "2  32.321126   0.695619       reg1\n",
       "3  36.636638   0.654978       reg2"
      ]
     },
     "execution_count": 58,
     "metadata": {},
     "output_type": "execute_result"
    }
   ],
   "source": [
    "df6 = report_scores(y_test, y_predict6_0,'modelo6_0').append(report_scores(y_test, y_predict6_1,'modelo6_1')).append(df4).reset_index(drop = True)\n",
    "df6"
   ]
  },
  {
   "cell_type": "code",
   "execution_count": 56,
   "id": "16fb6b95",
   "metadata": {},
   "outputs": [
    {
     "data": {
      "image/png": "[encoded data removed]",
      "text/plain": [
       "<Figure size 432x288 with 1 Axes>"
      ]
     },
     "metadata": {
      "needs_background": "light"
     },
     "output_type": "display_data"
    },
    {
     "data": {
      "image/png": "[encoded data removed]",
      "text/plain": [
       "<Figure size 432x288 with 1 Axes>"
      ]
     },
     "metadata": {
      "needs_background": "light"
     },
     "output_type": "display_data"
    }
   ],
   "source": [
    "df6_ECP = df6.drop(columns = 'RCuadrado')\n",
    "df6_RCuadrado = df6.drop(columns = 'ECP')\n",
    "\n",
    "plt.barh(y = 'Modelo', width = 'ECP', data = df6_ECP)\n",
    "plt.title(\"Error cuadrático promedio (ECP)\")\n",
    "plt.show()\n",
    "\n",
    "plt.barh(y = 'Modelo', width = 'RCuadrado', data = df6_RCuadrado, color = 'orange')\n",
    "plt.title(\"r^2 (RCuadrado)\")\n",
    "plt.show()"
   ]
  },
  {
   "cell_type": "markdown",
   "id": "71c10b02",
   "metadata": {},
   "source": [
    "# **Comentario extra**\n",
    "\n",
    "¡Los nuevos modelos con sólo los 6 atributos más correlacionados con el vector objetivo no son mejores que las regresiones\n",
    "hechas anteriormente!\n",
    "\n",
    "Ambos tienen mayor Error cuadrático promedio y menos r^2 que las 2 regresiones anteriores"
   ]
  },
  {
   "attachments": {
    "Captura7.PNG": {
     "image/png": "[encoded data removed]"
    }
   },
   "cell_type": "markdown",
   "id": "acabff37",
   "metadata": {},
   "source": [
    "![Captura7.PNG](attachment:Captura7.PNG)"
   ]
  },
  {
   "cell_type": "code",
   "execution_count": 16,
   "id": "31471b54",
   "metadata": {},
   "outputs": [],
   "source": [
    "worst_neighbor = np.array([37.9, 12.6, 3.5, 27.7, 187, 0.87]).reshape(1,-1)\n",
    "best_neighbor = np.array([1.73, 22, 8.7, 0.46, 711, 0.38]).reshape(1,-1)"
   ]
  },
  {
   "cell_type": "code",
   "execution_count": 61,
   "id": "c1e64e98",
   "metadata": {},
   "outputs": [
    {
     "data": {
      "text/plain": [
       "array([59.67998243])"
      ]
     },
     "execution_count": 61,
     "metadata": {},
     "output_type": "execute_result"
    }
   ],
   "source": [
    "modelo6_1.predict(worst_neighbor)"
   ]
  },
  {
   "cell_type": "code",
   "execution_count": 62,
   "id": "eec79079",
   "metadata": {},
   "outputs": [
    {
     "data": {
      "text/plain": [
       "array([120.03251126])"
      ]
     },
     "execution_count": 62,
     "metadata": {},
     "output_type": "execute_result"
    }
   ],
   "source": [
    "modelo6_1.predict(best_neighbor)"
   ]
  },
  {
   "cell_type": "markdown",
   "id": "c53b415f",
   "metadata": {},
   "source": [
    "# OJO\n",
    "\n",
    "El orden de las variables de ambos vectores dados.... tienen que estar en el mismo orden en que se definió el modelo para que tenga sentido la predicción, no estoy seguro si el ejercicio está hecho para que me den las mismas 6 variables que el ejercicio espera que me den..... porque de partida la refactorización con sólo los 6 atributos con mayor correlación, no me entregó mejores modelos...."
   ]
  }
 ],
 "metadata": {
  "kernelspec": {
   "display_name": "Python 3",
   "language": "python",
   "name": "python3"
  },
  "language_info": {
   "codemirror_mode": {
    "name": "ipython",
    "version": 3
   },
   "file_extension": ".py",
   "mimetype": "text/x-python",
   "name": "python",
   "nbconvert_exporter": "python",
   "pygments_lexer": "ipython3",
   "version": "3.8.8"
  }
 },
 "nbformat": 4,
 "nbformat_minor": 5
}
