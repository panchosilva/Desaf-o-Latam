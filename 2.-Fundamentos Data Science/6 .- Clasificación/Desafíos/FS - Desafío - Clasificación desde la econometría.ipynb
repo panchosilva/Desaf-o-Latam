{
 "cells": [
  {
   "cell_type": "markdown",
   "id": "fad99023",
   "metadata": {
    "id": "fad99023"
   },
   "source": [
    "# Desafío - Clasificación desde la econometría"
   ]
  },
  {
   "cell_type": "markdown",
   "id": "aa2353ad",
   "metadata": {
    "id": "aa2353ad"
   },
   "source": [
    "![Imagen%201.PNG](attachment:Imagen%201.PNG)"
   ]
  },
  {
   "cell_type": "markdown",
   "id": "b04aa952",
   "metadata": {
    "id": "b04aa952"
   },
   "source": [
    "# Desafío 1: Preparar el ambiente de trabajo"
   ]
  },
  {
   "cell_type": "code",
   "execution_count": 1,
   "id": "289b391f",
   "metadata": {
    "colab": {
     "base_uri": "https://localhost:8080/",
     "height": 258
    },
    "executionInfo": {
     "elapsed": 904,
     "status": "ok",
     "timestamp": 1630596684493,
     "user": {
      "displayName": "Francisco Silva",
      "photoUrl": "https://lh3.googleusercontent.com/a-/AOh14GhnBCIyF5R8AiTi5ykZU8rl4YlVuugPZqCU5uBJ4YQ=s64",
      "userId": "14439525103954735478"
     },
     "user_tz": 240
    },
    "id": "289b391f",
    "outputId": "598ac824-ba93-4d2e-8011-8ef1128587a9"
   },
   "outputs": [
    {
     "data": {
      "text/html": [
       "<div>\n",
       "<style scoped>\n",
       "    .dataframe tbody tr th:only-of-type {\n",
       "        vertical-align: middle;\n",
       "    }\n",
       "\n",
       "    .dataframe tbody tr th {\n",
       "        vertical-align: top;\n",
       "    }\n",
       "\n",
       "    .dataframe thead th {\n",
       "        text-align: right;\n",
       "    }\n",
       "</style>\n",
       "<table border=\"1\" class=\"dataframe\">\n",
       "  <thead>\n",
       "    <tr style=\"text-align: right;\">\n",
       "      <th></th>\n",
       "      <th>sbp</th>\n",
       "      <th>tobacco</th>\n",
       "      <th>ldl</th>\n",
       "      <th>adiposity</th>\n",
       "      <th>famhist</th>\n",
       "      <th>typea</th>\n",
       "      <th>obesity</th>\n",
       "      <th>alcohol</th>\n",
       "      <th>age</th>\n",
       "      <th>chd</th>\n",
       "    </tr>\n",
       "  </thead>\n",
       "  <tbody>\n",
       "    <tr>\n",
       "      <th>1</th>\n",
       "      <td>160</td>\n",
       "      <td>12.00</td>\n",
       "      <td>5.73</td>\n",
       "      <td>23.11</td>\n",
       "      <td>Present</td>\n",
       "      <td>49</td>\n",
       "      <td>25.30</td>\n",
       "      <td>97.20</td>\n",
       "      <td>52</td>\n",
       "      <td>1</td>\n",
       "    </tr>\n",
       "    <tr>\n",
       "      <th>2</th>\n",
       "      <td>144</td>\n",
       "      <td>0.01</td>\n",
       "      <td>4.41</td>\n",
       "      <td>28.61</td>\n",
       "      <td>Absent</td>\n",
       "      <td>55</td>\n",
       "      <td>28.87</td>\n",
       "      <td>2.06</td>\n",
       "      <td>63</td>\n",
       "      <td>1</td>\n",
       "    </tr>\n",
       "    <tr>\n",
       "      <th>3</th>\n",
       "      <td>118</td>\n",
       "      <td>0.08</td>\n",
       "      <td>3.48</td>\n",
       "      <td>32.28</td>\n",
       "      <td>Present</td>\n",
       "      <td>52</td>\n",
       "      <td>29.14</td>\n",
       "      <td>3.81</td>\n",
       "      <td>46</td>\n",
       "      <td>0</td>\n",
       "    </tr>\n",
       "    <tr>\n",
       "      <th>4</th>\n",
       "      <td>170</td>\n",
       "      <td>7.50</td>\n",
       "      <td>6.41</td>\n",
       "      <td>38.03</td>\n",
       "      <td>Present</td>\n",
       "      <td>51</td>\n",
       "      <td>31.99</td>\n",
       "      <td>24.26</td>\n",
       "      <td>58</td>\n",
       "      <td>1</td>\n",
       "    </tr>\n",
       "    <tr>\n",
       "      <th>5</th>\n",
       "      <td>134</td>\n",
       "      <td>13.60</td>\n",
       "      <td>3.50</td>\n",
       "      <td>27.78</td>\n",
       "      <td>Present</td>\n",
       "      <td>60</td>\n",
       "      <td>25.99</td>\n",
       "      <td>57.34</td>\n",
       "      <td>49</td>\n",
       "      <td>1</td>\n",
       "    </tr>\n",
       "  </tbody>\n",
       "</table>\n",
       "</div>"
      ],
      "text/plain": [
       "   sbp  tobacco   ldl  adiposity  famhist  typea  obesity  alcohol  age  chd\n",
       "1  160    12.00  5.73      23.11  Present     49    25.30    97.20   52    1\n",
       "2  144     0.01  4.41      28.61   Absent     55    28.87     2.06   63    1\n",
       "3  118     0.08  3.48      32.28  Present     52    29.14     3.81   46    0\n",
       "4  170     7.50  6.41      38.03  Present     51    31.99    24.26   58    1\n",
       "5  134    13.60  3.50      27.78  Present     60    25.99    57.34   49    1"
      ]
     },
     "execution_count": 1,
     "metadata": {},
     "output_type": "execute_result"
    }
   ],
   "source": [
    "import pandas as pd\n",
    "import numpy as np\n",
    "import matplotlib.pyplot as plt\n",
    "import seaborn as sns\n",
    "import scipy.stats as stats\n",
    "import statsmodels.api as sm\n",
    "import statsmodels.formula.api as smf\n",
    "\n",
    "\n",
    "path_casita = \"southafricanheart.csv\"\n",
    "path_colab = \"/content/drive/MyDrive/Data Scientist/Desafío Latam/2 .-Fundamentos Data Science/6 .- Clasificación/Desafíos/southafricanheart.csv\"\n",
    "df = pd.read_csv(path_casita, index_col = 0)\n",
    "df.head()"
   ]
  },
  {
   "cell_type": "code",
   "execution_count": 2,
   "id": "vdfSCjF23M-J",
   "metadata": {
    "colab": {
     "base_uri": "https://localhost:8080/"
    },
    "executionInfo": {
     "elapsed": 12,
     "status": "ok",
     "timestamp": 1630596684493,
     "user": {
      "displayName": "Francisco Silva",
      "photoUrl": "https://lh3.googleusercontent.com/a-/AOh14GhnBCIyF5R8AiTi5ykZU8rl4YlVuugPZqCU5uBJ4YQ=s64",
      "userId": "14439525103954735478"
     },
     "user_tz": 240
    },
    "id": "vdfSCjF23M-J",
    "outputId": "fae5b1ed-30f5-4f53-e53f-318d0ef3e7cc"
   },
   "outputs": [],
   "source": [
    "#from google.colab import drive\n",
    "#drive.mount('/content/drive')"
   ]
  },
  {
   "cell_type": "markdown",
   "id": "36bb5d59",
   "metadata": {
    "id": "36bb5d59"
   },
   "source": [
    "Lista de las variables importadas"
   ]
  },
  {
   "cell_type": "code",
   "execution_count": 3,
   "id": "cb7d9e2d",
   "metadata": {
    "colab": {
     "base_uri": "https://localhost:8080/"
    },
    "executionInfo": {
     "elapsed": 7,
     "status": "ok",
     "timestamp": 1630596684494,
     "user": {
      "displayName": "Francisco Silva",
      "photoUrl": "https://lh3.googleusercontent.com/a-/AOh14GhnBCIyF5R8AiTi5ykZU8rl4YlVuugPZqCU5uBJ4YQ=s64",
      "userId": "14439525103954735478"
     },
     "user_tz": 240
    },
    "id": "cb7d9e2d",
    "outputId": "9776dcf3-8079-4d4f-8a8b-3031a3f2ef63"
   },
   "outputs": [
    {
     "data": {
      "text/plain": [
       "['sbp',\n",
       " 'tobacco',\n",
       " 'ldl',\n",
       " 'adiposity',\n",
       " 'famhist',\n",
       " 'typea',\n",
       " 'obesity',\n",
       " 'alcohol',\n",
       " 'age',\n",
       " 'chd']"
      ]
     },
     "execution_count": 3,
     "metadata": {},
     "output_type": "execute_result"
    }
   ],
   "source": [
    "list(df.columns)"
   ]
  },
  {
   "cell_type": "code",
   "execution_count": 4,
   "id": "4f24e468",
   "metadata": {
    "colab": {
     "base_uri": "https://localhost:8080/",
     "height": 297
    },
    "executionInfo": {
     "elapsed": 343,
     "status": "ok",
     "timestamp": 1630596684832,
     "user": {
      "displayName": "Francisco Silva",
      "photoUrl": "https://lh3.googleusercontent.com/a-/AOh14GhnBCIyF5R8AiTi5ykZU8rl4YlVuugPZqCU5uBJ4YQ=s64",
      "userId": "14439525103954735478"
     },
     "user_tz": 240
    },
    "id": "4f24e468",
    "outputId": "4d971888-46a2-4089-98d9-1ba883191c75"
   },
   "outputs": [
    {
     "data": {
      "text/html": [
       "<div>\n",
       "<style scoped>\n",
       "    .dataframe tbody tr th:only-of-type {\n",
       "        vertical-align: middle;\n",
       "    }\n",
       "\n",
       "    .dataframe tbody tr th {\n",
       "        vertical-align: top;\n",
       "    }\n",
       "\n",
       "    .dataframe thead th {\n",
       "        text-align: right;\n",
       "    }\n",
       "</style>\n",
       "<table border=\"1\" class=\"dataframe\">\n",
       "  <thead>\n",
       "    <tr style=\"text-align: right;\">\n",
       "      <th></th>\n",
       "      <th>sbp</th>\n",
       "      <th>tobacco</th>\n",
       "      <th>ldl</th>\n",
       "      <th>adiposity</th>\n",
       "      <th>typea</th>\n",
       "      <th>obesity</th>\n",
       "      <th>alcohol</th>\n",
       "      <th>age</th>\n",
       "      <th>chd</th>\n",
       "    </tr>\n",
       "  </thead>\n",
       "  <tbody>\n",
       "    <tr>\n",
       "      <th>count</th>\n",
       "      <td>462.000000</td>\n",
       "      <td>462.000000</td>\n",
       "      <td>462.000000</td>\n",
       "      <td>462.000000</td>\n",
       "      <td>462.000000</td>\n",
       "      <td>462.000000</td>\n",
       "      <td>462.000000</td>\n",
       "      <td>462.000000</td>\n",
       "      <td>462.000000</td>\n",
       "    </tr>\n",
       "    <tr>\n",
       "      <th>mean</th>\n",
       "      <td>138.326840</td>\n",
       "      <td>3.635649</td>\n",
       "      <td>4.740325</td>\n",
       "      <td>25.406732</td>\n",
       "      <td>53.103896</td>\n",
       "      <td>26.044113</td>\n",
       "      <td>17.044394</td>\n",
       "      <td>42.816017</td>\n",
       "      <td>0.346320</td>\n",
       "    </tr>\n",
       "    <tr>\n",
       "      <th>std</th>\n",
       "      <td>20.496317</td>\n",
       "      <td>4.593024</td>\n",
       "      <td>2.070909</td>\n",
       "      <td>7.780699</td>\n",
       "      <td>9.817534</td>\n",
       "      <td>4.213680</td>\n",
       "      <td>24.481059</td>\n",
       "      <td>14.608956</td>\n",
       "      <td>0.476313</td>\n",
       "    </tr>\n",
       "    <tr>\n",
       "      <th>min</th>\n",
       "      <td>101.000000</td>\n",
       "      <td>0.000000</td>\n",
       "      <td>0.980000</td>\n",
       "      <td>6.740000</td>\n",
       "      <td>13.000000</td>\n",
       "      <td>14.700000</td>\n",
       "      <td>0.000000</td>\n",
       "      <td>15.000000</td>\n",
       "      <td>0.000000</td>\n",
       "    </tr>\n",
       "    <tr>\n",
       "      <th>25%</th>\n",
       "      <td>124.000000</td>\n",
       "      <td>0.052500</td>\n",
       "      <td>3.282500</td>\n",
       "      <td>19.775000</td>\n",
       "      <td>47.000000</td>\n",
       "      <td>22.985000</td>\n",
       "      <td>0.510000</td>\n",
       "      <td>31.000000</td>\n",
       "      <td>0.000000</td>\n",
       "    </tr>\n",
       "    <tr>\n",
       "      <th>50%</th>\n",
       "      <td>134.000000</td>\n",
       "      <td>2.000000</td>\n",
       "      <td>4.340000</td>\n",
       "      <td>26.115000</td>\n",
       "      <td>53.000000</td>\n",
       "      <td>25.805000</td>\n",
       "      <td>7.510000</td>\n",
       "      <td>45.000000</td>\n",
       "      <td>0.000000</td>\n",
       "    </tr>\n",
       "    <tr>\n",
       "      <th>75%</th>\n",
       "      <td>148.000000</td>\n",
       "      <td>5.500000</td>\n",
       "      <td>5.790000</td>\n",
       "      <td>31.227500</td>\n",
       "      <td>60.000000</td>\n",
       "      <td>28.497500</td>\n",
       "      <td>23.892500</td>\n",
       "      <td>55.000000</td>\n",
       "      <td>1.000000</td>\n",
       "    </tr>\n",
       "    <tr>\n",
       "      <th>max</th>\n",
       "      <td>218.000000</td>\n",
       "      <td>31.200000</td>\n",
       "      <td>15.330000</td>\n",
       "      <td>42.490000</td>\n",
       "      <td>78.000000</td>\n",
       "      <td>46.580000</td>\n",
       "      <td>147.190000</td>\n",
       "      <td>64.000000</td>\n",
       "      <td>1.000000</td>\n",
       "    </tr>\n",
       "  </tbody>\n",
       "</table>\n",
       "</div>"
      ],
      "text/plain": [
       "              sbp     tobacco         ldl   adiposity       typea     obesity  \\\n",
       "count  462.000000  462.000000  462.000000  462.000000  462.000000  462.000000   \n",
       "mean   138.326840    3.635649    4.740325   25.406732   53.103896   26.044113   \n",
       "std     20.496317    4.593024    2.070909    7.780699    9.817534    4.213680   \n",
       "min    101.000000    0.000000    0.980000    6.740000   13.000000   14.700000   \n",
       "25%    124.000000    0.052500    3.282500   19.775000   47.000000   22.985000   \n",
       "50%    134.000000    2.000000    4.340000   26.115000   53.000000   25.805000   \n",
       "75%    148.000000    5.500000    5.790000   31.227500   60.000000   28.497500   \n",
       "max    218.000000   31.200000   15.330000   42.490000   78.000000   46.580000   \n",
       "\n",
       "          alcohol         age         chd  \n",
       "count  462.000000  462.000000  462.000000  \n",
       "mean    17.044394   42.816017    0.346320  \n",
       "std     24.481059   14.608956    0.476313  \n",
       "min      0.000000   15.000000    0.000000  \n",
       "25%      0.510000   31.000000    0.000000  \n",
       "50%      7.510000   45.000000    0.000000  \n",
       "75%     23.892500   55.000000    1.000000  \n",
       "max    147.190000   64.000000    1.000000  "
      ]
     },
     "execution_count": 4,
     "metadata": {},
     "output_type": "execute_result"
    }
   ],
   "source": [
    "df.describe()"
   ]
  },
  {
   "cell_type": "markdown",
   "id": "96887890",
   "metadata": {
    "id": "96887890"
   },
   "source": [
    "Distribución de categorías para las variables <code>famhist</code> y <code>chd</code>"
   ]
  },
  {
   "cell_type": "code",
   "execution_count": 5,
   "id": "6417937e",
   "metadata": {
    "colab": {
     "base_uri": "https://localhost:8080/"
    },
    "executionInfo": {
     "elapsed": 12,
     "status": "ok",
     "timestamp": 1630596684833,
     "user": {
      "displayName": "Francisco Silva",
      "photoUrl": "https://lh3.googleusercontent.com/a-/AOh14GhnBCIyF5R8AiTi5ykZU8rl4YlVuugPZqCU5uBJ4YQ=s64",
      "userId": "14439525103954735478"
     },
     "user_tz": 240
    },
    "id": "6417937e",
    "outputId": "24be8d11-8c0d-46d0-f05c-9a2b5713ab9a"
   },
   "outputs": [
    {
     "name": "stdout",
     "output_type": "stream",
     "text": [
      "Absent     270\n",
      "Present    192\n",
      "Name: famhist, dtype: int64\n",
      "0    302\n",
      "1    160\n",
      "Name: chd, dtype: int64\n"
     ]
    }
   ],
   "source": [
    "print(df['famhist'].value_counts())\n",
    "\n",
    "print(df['chd'].value_counts())"
   ]
  },
  {
   "cell_type": "markdown",
   "id": "219e9737",
   "metadata": {
    "id": "219e9737"
   },
   "source": [
    "# Desafío 2"
   ]
  },
  {
   "cell_type": "markdown",
   "id": "8f26011e",
   "metadata": {
    "id": "8f26011e"
   },
   "source": [
    "Recodifique <code>famhist</code> a dummy, asignando 1 a la categoría minoritaria."
   ]
  },
  {
   "cell_type": "code",
   "execution_count": 6,
   "id": "1bd25577",
   "metadata": {
    "colab": {
     "base_uri": "https://localhost:8080/",
     "height": 204
    },
    "executionInfo": {
     "elapsed": 10,
     "status": "ok",
     "timestamp": 1630596684833,
     "user": {
      "displayName": "Francisco Silva",
      "photoUrl": "https://lh3.googleusercontent.com/a-/AOh14GhnBCIyF5R8AiTi5ykZU8rl4YlVuugPZqCU5uBJ4YQ=s64",
      "userId": "14439525103954735478"
     },
     "user_tz": 240
    },
    "id": "1bd25577",
    "outputId": "333a0383-79d7-4b66-c45b-7f42ba10195d"
   },
   "outputs": [
    {
     "data": {
      "text/html": [
       "<div>\n",
       "<style scoped>\n",
       "    .dataframe tbody tr th:only-of-type {\n",
       "        vertical-align: middle;\n",
       "    }\n",
       "\n",
       "    .dataframe tbody tr th {\n",
       "        vertical-align: top;\n",
       "    }\n",
       "\n",
       "    .dataframe thead th {\n",
       "        text-align: right;\n",
       "    }\n",
       "</style>\n",
       "<table border=\"1\" class=\"dataframe\">\n",
       "  <thead>\n",
       "    <tr style=\"text-align: right;\">\n",
       "      <th></th>\n",
       "      <th>sbp</th>\n",
       "      <th>tobacco</th>\n",
       "      <th>ldl</th>\n",
       "      <th>adiposity</th>\n",
       "      <th>famhist</th>\n",
       "      <th>typea</th>\n",
       "      <th>obesity</th>\n",
       "      <th>alcohol</th>\n",
       "      <th>age</th>\n",
       "      <th>chd</th>\n",
       "    </tr>\n",
       "  </thead>\n",
       "  <tbody>\n",
       "    <tr>\n",
       "      <th>1</th>\n",
       "      <td>160</td>\n",
       "      <td>12.00</td>\n",
       "      <td>5.73</td>\n",
       "      <td>23.11</td>\n",
       "      <td>1</td>\n",
       "      <td>49</td>\n",
       "      <td>25.30</td>\n",
       "      <td>97.20</td>\n",
       "      <td>52</td>\n",
       "      <td>1</td>\n",
       "    </tr>\n",
       "    <tr>\n",
       "      <th>2</th>\n",
       "      <td>144</td>\n",
       "      <td>0.01</td>\n",
       "      <td>4.41</td>\n",
       "      <td>28.61</td>\n",
       "      <td>0</td>\n",
       "      <td>55</td>\n",
       "      <td>28.87</td>\n",
       "      <td>2.06</td>\n",
       "      <td>63</td>\n",
       "      <td>1</td>\n",
       "    </tr>\n",
       "    <tr>\n",
       "      <th>3</th>\n",
       "      <td>118</td>\n",
       "      <td>0.08</td>\n",
       "      <td>3.48</td>\n",
       "      <td>32.28</td>\n",
       "      <td>1</td>\n",
       "      <td>52</td>\n",
       "      <td>29.14</td>\n",
       "      <td>3.81</td>\n",
       "      <td>46</td>\n",
       "      <td>0</td>\n",
       "    </tr>\n",
       "    <tr>\n",
       "      <th>4</th>\n",
       "      <td>170</td>\n",
       "      <td>7.50</td>\n",
       "      <td>6.41</td>\n",
       "      <td>38.03</td>\n",
       "      <td>1</td>\n",
       "      <td>51</td>\n",
       "      <td>31.99</td>\n",
       "      <td>24.26</td>\n",
       "      <td>58</td>\n",
       "      <td>1</td>\n",
       "    </tr>\n",
       "    <tr>\n",
       "      <th>5</th>\n",
       "      <td>134</td>\n",
       "      <td>13.60</td>\n",
       "      <td>3.50</td>\n",
       "      <td>27.78</td>\n",
       "      <td>1</td>\n",
       "      <td>60</td>\n",
       "      <td>25.99</td>\n",
       "      <td>57.34</td>\n",
       "      <td>49</td>\n",
       "      <td>1</td>\n",
       "    </tr>\n",
       "  </tbody>\n",
       "</table>\n",
       "</div>"
      ],
      "text/plain": [
       "   sbp  tobacco   ldl  adiposity  famhist  typea  obesity  alcohol  age  chd\n",
       "1  160    12.00  5.73      23.11        1     49    25.30    97.20   52    1\n",
       "2  144     0.01  4.41      28.61        0     55    28.87     2.06   63    1\n",
       "3  118     0.08  3.48      32.28        1     52    29.14     3.81   46    0\n",
       "4  170     7.50  6.41      38.03        1     51    31.99    24.26   58    1\n",
       "5  134    13.60  3.50      27.78        1     60    25.99    57.34   49    1"
      ]
     },
     "execution_count": 6,
     "metadata": {},
     "output_type": "execute_result"
    }
   ],
   "source": [
    "df['famhist'].replace({'Present':1,'Absent':0}, inplace = True)\n",
    "df.head()"
   ]
  },
  {
   "cell_type": "markdown",
   "id": "3b7f4375",
   "metadata": {
    "id": "3b7f4375"
   },
   "source": [
    " Utilice <code>smf.logit</code> para estimar el modelo."
   ]
  },
  {
   "cell_type": "code",
   "execution_count": 7,
   "id": "fb457c23",
   "metadata": {
    "colab": {
     "base_uri": "https://localhost:8080/",
     "height": 299
    },
    "executionInfo": {
     "elapsed": 10,
     "status": "ok",
     "timestamp": 1630596684834,
     "user": {
      "displayName": "Francisco Silva",
      "photoUrl": "https://lh3.googleusercontent.com/a-/AOh14GhnBCIyF5R8AiTi5ykZU8rl4YlVuugPZqCU5uBJ4YQ=s64",
      "userId": "14439525103954735478"
     },
     "user_tz": 240
    },
    "id": "fb457c23",
    "outputId": "425b01e0-5bcd-4570-9c72-5d18acf3eac2"
   },
   "outputs": [
    {
     "name": "stdout",
     "output_type": "stream",
     "text": [
      "Optimization terminated successfully.\n",
      "         Current function value: 0.608111\n",
      "         Iterations 5\n"
     ]
    },
    {
     "data": {
      "text/html": [
       "<table class=\"simpletable\">\n",
       "<caption>Logit Regression Results</caption>\n",
       "<tr>\n",
       "  <th>Dep. Variable:</th>          <td>chd</td>       <th>  No. Observations:  </th>  <td>   462</td>  \n",
       "</tr>\n",
       "<tr>\n",
       "  <th>Model:</th>                 <td>Logit</td>      <th>  Df Residuals:      </th>  <td>   460</td>  \n",
       "</tr>\n",
       "<tr>\n",
       "  <th>Method:</th>                 <td>MLE</td>       <th>  Df Model:          </th>  <td>     1</td>  \n",
       "</tr>\n",
       "<tr>\n",
       "  <th>Date:</th>            <td>Sat, 04 Sep 2021</td> <th>  Pseudo R-squ.:     </th>  <td>0.05740</td> \n",
       "</tr>\n",
       "<tr>\n",
       "  <th>Time:</th>                <td>18:29:26</td>     <th>  Log-Likelihood:    </th> <td> -280.95</td> \n",
       "</tr>\n",
       "<tr>\n",
       "  <th>converged:</th>             <td>True</td>       <th>  LL-Null:           </th> <td> -298.05</td> \n",
       "</tr>\n",
       "<tr>\n",
       "  <th>Covariance Type:</th>     <td>nonrobust</td>    <th>  LLR p-value:       </th> <td>4.937e-09</td>\n",
       "</tr>\n",
       "</table>\n",
       "<table class=\"simpletable\">\n",
       "<tr>\n",
       "      <td></td>         <th>coef</th>     <th>std err</th>      <th>z</th>      <th>P>|z|</th>  <th>[0.025</th>    <th>0.975]</th>  \n",
       "</tr>\n",
       "<tr>\n",
       "  <th>Intercept</th> <td>   -1.1690</td> <td>    0.143</td> <td>   -8.169</td> <td> 0.000</td> <td>   -1.449</td> <td>   -0.889</td>\n",
       "</tr>\n",
       "<tr>\n",
       "  <th>famhist</th>   <td>    1.1690</td> <td>    0.203</td> <td>    5.751</td> <td> 0.000</td> <td>    0.771</td> <td>    1.567</td>\n",
       "</tr>\n",
       "</table>"
      ],
      "text/plain": [
       "<class 'statsmodels.iolib.summary.Summary'>\n",
       "\"\"\"\n",
       "                           Logit Regression Results                           \n",
       "==============================================================================\n",
       "Dep. Variable:                    chd   No. Observations:                  462\n",
       "Model:                          Logit   Df Residuals:                      460\n",
       "Method:                           MLE   Df Model:                            1\n",
       "Date:                Sat, 04 Sep 2021   Pseudo R-squ.:                 0.05740\n",
       "Time:                        18:29:26   Log-Likelihood:                -280.95\n",
       "converged:                       True   LL-Null:                       -298.05\n",
       "Covariance Type:            nonrobust   LLR p-value:                 4.937e-09\n",
       "==============================================================================\n",
       "                 coef    std err          z      P>|z|      [0.025      0.975]\n",
       "------------------------------------------------------------------------------\n",
       "Intercept     -1.1690      0.143     -8.169      0.000      -1.449      -0.889\n",
       "famhist        1.1690      0.203      5.751      0.000       0.771       1.567\n",
       "==============================================================================\n",
       "\"\"\""
      ]
     },
     "execution_count": 7,
     "metadata": {},
     "output_type": "execute_result"
    }
   ],
   "source": [
    "mod1 = smf.logit('chd ~ famhist', data = df).fit()\n",
    "mod1.summary()"
   ]
  },
  {
   "cell_type": "markdown",
   "id": "37ef1e86",
   "metadata": {
    "id": "37ef1e86"
   },
   "source": [
    "Implemente una función <code>inverse_logit</code> que realice el mapeo de log-odds a probabilidad"
   ]
  },
  {
   "cell_type": "code",
   "execution_count": 8,
   "id": "378d6a11",
   "metadata": {
    "executionInfo": {
     "elapsed": 8,
     "status": "ok",
     "timestamp": 1630596684834,
     "user": {
      "displayName": "Francisco Silva",
      "photoUrl": "https://lh3.googleusercontent.com/a-/AOh14GhnBCIyF5R8AiTi5ykZU8rl4YlVuugPZqCU5uBJ4YQ=s64",
      "userId": "14439525103954735478"
     },
     "user_tz": 240
    },
    "id": "378d6a11"
   },
   "outputs": [],
   "source": [
    "def inverse_logit(x):\n",
    "    return 1/(1+np.exp(-x))"
   ]
  },
  {
   "cell_type": "markdown",
   "id": "3735f044",
   "metadata": {
    "id": "3735f044"
   },
   "source": [
    "Prediga lo siguiente:"
   ]
  },
  {
   "cell_type": "code",
   "execution_count": 9,
   "id": "b12366bd",
   "metadata": {
    "executionInfo": {
     "elapsed": 7,
     "status": "ok",
     "timestamp": 1630596684834,
     "user": {
      "displayName": "Francisco Silva",
      "photoUrl": "https://lh3.googleusercontent.com/a-/AOh14GhnBCIyF5R8AiTi5ykZU8rl4YlVuugPZqCU5uBJ4YQ=s64",
      "userId": "14439525103954735478"
     },
     "user_tz": 240
    },
    "id": "b12366bd"
   },
   "outputs": [],
   "source": [
    "def prediccion1(famhist):\n",
    "    return mod1.predict(pd.DataFrame({'famhist':[famhist]}))\n",
    "\n",
    "def prediccion2(famhist):\n",
    "    return inverse_logit(mod1.params['Intercept']+mod1.params['famhist']*famhist)"
   ]
  },
  {
   "cell_type": "markdown",
   "id": "c75d80f0",
   "metadata": {
    "id": "c75d80f0"
   },
   "source": [
    "a) ¿Cuál es la probabilidad de un individuo con antecedentes familiares de tene runa enfermedad coronaria?"
   ]
  },
  {
   "cell_type": "code",
   "execution_count": 10,
   "id": "3b822db8",
   "metadata": {
    "colab": {
     "base_uri": "https://localhost:8080/"
    },
    "executionInfo": {
     "elapsed": 446,
     "status": "ok",
     "timestamp": 1630596685273,
     "user": {
      "displayName": "Francisco Silva",
      "photoUrl": "https://lh3.googleusercontent.com/a-/AOh14GhnBCIyF5R8AiTi5ykZU8rl4YlVuugPZqCU5uBJ4YQ=s64",
      "userId": "14439525103954735478"
     },
     "user_tz": 240
    },
    "id": "3b822db8",
    "outputId": "3a34bfe2-fdb3-4843-9390-d763e37f7a8a"
   },
   "outputs": [
    {
     "name": "stdout",
     "output_type": "stream",
     "text": [
      "[True]\n"
     ]
    },
    {
     "data": {
      "text/plain": [
       "[0.4999999999999999]"
      ]
     },
     "execution_count": 10,
     "metadata": {},
     "output_type": "execute_result"
    }
   ],
   "source": [
    "print(list(prediccion1(1) == prediccion2(1)))\n",
    "list(prediccion1(1))"
   ]
  },
  {
   "cell_type": "markdown",
   "id": "1d1daac9",
   "metadata": {
    "id": "1d1daac9"
   },
   "source": [
    "b) ¿Cuál es la probabilidad de un individuo sin antecedentes familiares de tener una enfermedad coronaria?"
   ]
  },
  {
   "cell_type": "code",
   "execution_count": 11,
   "id": "1aa59f5b",
   "metadata": {
    "colab": {
     "base_uri": "https://localhost:8080/"
    },
    "executionInfo": {
     "elapsed": 26,
     "status": "ok",
     "timestamp": 1630596685273,
     "user": {
      "displayName": "Francisco Silva",
      "photoUrl": "https://lh3.googleusercontent.com/a-/AOh14GhnBCIyF5R8AiTi5ykZU8rl4YlVuugPZqCU5uBJ4YQ=s64",
      "userId": "14439525103954735478"
     },
     "user_tz": 240
    },
    "id": "1aa59f5b",
    "outputId": "18fe8c92-4b3e-41e1-c74b-9cea8e108646"
   },
   "outputs": [
    {
     "name": "stdout",
     "output_type": "stream",
     "text": [
      "[True]\n"
     ]
    },
    {
     "data": {
      "text/plain": [
       "[0.23703703703703705]"
      ]
     },
     "execution_count": 11,
     "metadata": {},
     "output_type": "execute_result"
    }
   ],
   "source": [
    "print(list(prediccion1(0) == prediccion2(0)))\n",
    "list(prediccion1(0))"
   ]
  },
  {
   "cell_type": "markdown",
   "id": "57101f9d",
   "metadata": {
    "id": "57101f9d"
   },
   "source": [
    "c) ¿Cuál es la diferencia en la probabilidad entre un individuo con antecedentes y otro sin antecedentes?"
   ]
  },
  {
   "cell_type": "code",
   "execution_count": 12,
   "id": "323f0379",
   "metadata": {
    "colab": {
     "base_uri": "https://localhost:8080/"
    },
    "executionInfo": {
     "elapsed": 24,
     "status": "ok",
     "timestamp": 1630596685274,
     "user": {
      "displayName": "Francisco Silva",
      "photoUrl": "https://lh3.googleusercontent.com/a-/AOh14GhnBCIyF5R8AiTi5ykZU8rl4YlVuugPZqCU5uBJ4YQ=s64",
      "userId": "14439525103954735478"
     },
     "user_tz": 240
    },
    "id": "323f0379",
    "outputId": "dd810007-473b-4c56-a652-167e9fc54ecd"
   },
   "outputs": [
    {
     "data": {
      "text/plain": [
       "[0.26296296296296284]"
      ]
     },
     "execution_count": 12,
     "metadata": {},
     "output_type": "execute_result"
    }
   ],
   "source": [
    "list(abs(prediccion1(0) - prediccion1(1)))"
   ]
  },
  {
   "cell_type": "markdown",
   "id": "351307e5",
   "metadata": {
    "id": "351307e5"
   },
   "source": [
    "d) Replique el modelo con <code>smf.ols</code>y comente las similitudes entre los coeficientes estimados."
   ]
  },
  {
   "cell_type": "code",
   "execution_count": 13,
   "id": "13908105",
   "metadata": {
    "colab": {
     "base_uri": "https://localhost:8080/",
     "height": 444
    },
    "executionInfo": {
     "elapsed": 22,
     "status": "ok",
     "timestamp": 1630596685274,
     "user": {
      "displayName": "Francisco Silva",
      "photoUrl": "https://lh3.googleusercontent.com/a-/AOh14GhnBCIyF5R8AiTi5ykZU8rl4YlVuugPZqCU5uBJ4YQ=s64",
      "userId": "14439525103954735478"
     },
     "user_tz": 240
    },
    "id": "13908105",
    "outputId": "b36f8d0a-2454-4c8b-bc36-5037c4786f25"
   },
   "outputs": [
    {
     "data": {
      "text/html": [
       "<table class=\"simpletable\">\n",
       "<caption>OLS Regression Results</caption>\n",
       "<tr>\n",
       "  <th>Dep. Variable:</th>           <td>chd</td>       <th>  R-squared:         </th> <td>   0.074</td>\n",
       "</tr>\n",
       "<tr>\n",
       "  <th>Model:</th>                   <td>OLS</td>       <th>  Adj. R-squared:    </th> <td>   0.072</td>\n",
       "</tr>\n",
       "<tr>\n",
       "  <th>Method:</th>             <td>Least Squares</td>  <th>  F-statistic:       </th> <td>   36.86</td>\n",
       "</tr>\n",
       "<tr>\n",
       "  <th>Date:</th>             <td>Sat, 04 Sep 2021</td> <th>  Prob (F-statistic):</th> <td>2.66e-09</td>\n",
       "</tr>\n",
       "<tr>\n",
       "  <th>Time:</th>                 <td>18:29:26</td>     <th>  Log-Likelihood:    </th> <td> -294.59</td>\n",
       "</tr>\n",
       "<tr>\n",
       "  <th>No. Observations:</th>      <td>   462</td>      <th>  AIC:               </th> <td>   593.2</td>\n",
       "</tr>\n",
       "<tr>\n",
       "  <th>Df Residuals:</th>          <td>   460</td>      <th>  BIC:               </th> <td>   601.4</td>\n",
       "</tr>\n",
       "<tr>\n",
       "  <th>Df Model:</th>              <td>     1</td>      <th>                     </th>     <td> </td>   \n",
       "</tr>\n",
       "<tr>\n",
       "  <th>Covariance Type:</th>      <td>nonrobust</td>    <th>                     </th>     <td> </td>   \n",
       "</tr>\n",
       "</table>\n",
       "<table class=\"simpletable\">\n",
       "<tr>\n",
       "      <td></td>         <th>coef</th>     <th>std err</th>      <th>t</th>      <th>P>|t|</th>  <th>[0.025</th>    <th>0.975]</th>  \n",
       "</tr>\n",
       "<tr>\n",
       "  <th>Intercept</th> <td>    0.2370</td> <td>    0.028</td> <td>    8.489</td> <td> 0.000</td> <td>    0.182</td> <td>    0.292</td>\n",
       "</tr>\n",
       "<tr>\n",
       "  <th>famhist</th>   <td>    0.2630</td> <td>    0.043</td> <td>    6.071</td> <td> 0.000</td> <td>    0.178</td> <td>    0.348</td>\n",
       "</tr>\n",
       "</table>\n",
       "<table class=\"simpletable\">\n",
       "<tr>\n",
       "  <th>Omnibus:</th>       <td>768.898</td> <th>  Durbin-Watson:     </th> <td>   1.961</td>\n",
       "</tr>\n",
       "<tr>\n",
       "  <th>Prob(Omnibus):</th> <td> 0.000</td>  <th>  Jarque-Bera (JB):  </th> <td>  58.778</td>\n",
       "</tr>\n",
       "<tr>\n",
       "  <th>Skew:</th>          <td> 0.579</td>  <th>  Prob(JB):          </th> <td>1.72e-13</td>\n",
       "</tr>\n",
       "<tr>\n",
       "  <th>Kurtosis:</th>      <td> 1.692</td>  <th>  Cond. No.          </th> <td>    2.47</td>\n",
       "</tr>\n",
       "</table><br/><br/>Notes:<br/>[1] Standard Errors assume that the covariance matrix of the errors is correctly specified."
      ],
      "text/plain": [
       "<class 'statsmodels.iolib.summary.Summary'>\n",
       "\"\"\"\n",
       "                            OLS Regression Results                            \n",
       "==============================================================================\n",
       "Dep. Variable:                    chd   R-squared:                       0.074\n",
       "Model:                            OLS   Adj. R-squared:                  0.072\n",
       "Method:                 Least Squares   F-statistic:                     36.86\n",
       "Date:                Sat, 04 Sep 2021   Prob (F-statistic):           2.66e-09\n",
       "Time:                        18:29:26   Log-Likelihood:                -294.59\n",
       "No. Observations:                 462   AIC:                             593.2\n",
       "Df Residuals:                     460   BIC:                             601.4\n",
       "Df Model:                           1                                         \n",
       "Covariance Type:            nonrobust                                         \n",
       "==============================================================================\n",
       "                 coef    std err          t      P>|t|      [0.025      0.975]\n",
       "------------------------------------------------------------------------------\n",
       "Intercept      0.2370      0.028      8.489      0.000       0.182       0.292\n",
       "famhist        0.2630      0.043      6.071      0.000       0.178       0.348\n",
       "==============================================================================\n",
       "Omnibus:                      768.898   Durbin-Watson:                   1.961\n",
       "Prob(Omnibus):                  0.000   Jarque-Bera (JB):               58.778\n",
       "Skew:                           0.579   Prob(JB):                     1.72e-13\n",
       "Kurtosis:                       1.692   Cond. No.                         2.47\n",
       "==============================================================================\n",
       "\n",
       "Notes:\n",
       "[1] Standard Errors assume that the covariance matrix of the errors is correctly specified.\n",
       "\"\"\""
      ]
     },
     "execution_count": 13,
     "metadata": {},
     "output_type": "execute_result"
    }
   ],
   "source": [
    "mod2 = smf.ols('chd ~ famhist', data = df).fit()\n",
    "mod2.summary()"
   ]
  },
  {
   "cell_type": "code",
   "execution_count": 14,
   "id": "a6f38f72",
   "metadata": {
    "colab": {
     "base_uri": "https://localhost:8080/"
    },
    "executionInfo": {
     "elapsed": 22,
     "status": "ok",
     "timestamp": 1630596685274,
     "user": {
      "displayName": "Francisco Silva",
      "photoUrl": "https://lh3.googleusercontent.com/a-/AOh14GhnBCIyF5R8AiTi5ykZU8rl4YlVuugPZqCU5uBJ4YQ=s64",
      "userId": "14439525103954735478"
     },
     "user_tz": 240
    },
    "id": "a6f38f72",
    "outputId": "31e53e7a-7ef1-4888-8035-de4c3e48a0ed"
   },
   "outputs": [
    {
     "data": {
      "text/plain": [
       "0.22494826209023785"
      ]
     },
     "execution_count": 14,
     "metadata": {},
     "output_type": "execute_result"
    }
   ],
   "source": [
    "mod2.params['famhist']/mod1.params['famhist']"
   ]
  },
  {
   "cell_type": "markdown",
   "id": "97017f78",
   "metadata": {
    "id": "97017f78"
   },
   "source": [
    "Aproximadamentte el beta de famhist del modelo de regresión lineal es apenas el 0.225 porciento del beta del beta de regresión logística de famhist"
   ]
  },
  {
   "cell_type": "markdown",
   "id": "05164c31",
   "metadata": {
    "id": "05164c31"
   },
   "source": [
    "# Desafío 3: Estimación completa"
   ]
  },
  {
   "cell_type": "markdown",
   "id": "hTTxGaOHECgh",
   "metadata": {
    "id": "hTTxGaOHECgh"
   },
   "source": [
    "a)"
   ]
  },
  {
   "cell_type": "code",
   "execution_count": 15,
   "id": "05f5cc42",
   "metadata": {
    "colab": {
     "base_uri": "https://localhost:8080/",
     "height": 467
    },
    "executionInfo": {
     "elapsed": 21,
     "status": "ok",
     "timestamp": 1630596685275,
     "user": {
      "displayName": "Francisco Silva",
      "photoUrl": "https://lh3.googleusercontent.com/a-/AOh14GhnBCIyF5R8AiTi5ykZU8rl4YlVuugPZqCU5uBJ4YQ=s64",
      "userId": "14439525103954735478"
     },
     "user_tz": 240
    },
    "id": "05f5cc42",
    "outputId": "25cd69d4-4dfd-47bb-9949-4b2bb03137fc"
   },
   "outputs": [
    {
     "name": "stdout",
     "output_type": "stream",
     "text": [
      "Optimization terminated successfully.\n",
      "         Current function value: 0.510974\n",
      "         Iterations 6\n"
     ]
    },
    {
     "data": {
      "text/html": [
       "<table class=\"simpletable\">\n",
       "<caption>Logit Regression Results</caption>\n",
       "<tr>\n",
       "  <th>Dep. Variable:</th>          <td>chd</td>       <th>  No. Observations:  </th>  <td>   462</td>  \n",
       "</tr>\n",
       "<tr>\n",
       "  <th>Model:</th>                 <td>Logit</td>      <th>  Df Residuals:      </th>  <td>   452</td>  \n",
       "</tr>\n",
       "<tr>\n",
       "  <th>Method:</th>                 <td>MLE</td>       <th>  Df Model:          </th>  <td>     9</td>  \n",
       "</tr>\n",
       "<tr>\n",
       "  <th>Date:</th>            <td>Sat, 04 Sep 2021</td> <th>  Pseudo R-squ.:     </th>  <td>0.2080</td>  \n",
       "</tr>\n",
       "<tr>\n",
       "  <th>Time:</th>                <td>18:29:26</td>     <th>  Log-Likelihood:    </th> <td> -236.07</td> \n",
       "</tr>\n",
       "<tr>\n",
       "  <th>converged:</th>             <td>True</td>       <th>  LL-Null:           </th> <td> -298.05</td> \n",
       "</tr>\n",
       "<tr>\n",
       "  <th>Covariance Type:</th>     <td>nonrobust</td>    <th>  LLR p-value:       </th> <td>2.055e-22</td>\n",
       "</tr>\n",
       "</table>\n",
       "<table class=\"simpletable\">\n",
       "<tr>\n",
       "      <td></td>         <th>coef</th>     <th>std err</th>      <th>z</th>      <th>P>|z|</th>  <th>[0.025</th>    <th>0.975]</th>  \n",
       "</tr>\n",
       "<tr>\n",
       "  <th>Intercept</th> <td>   -6.1507</td> <td>    1.308</td> <td>   -4.701</td> <td> 0.000</td> <td>   -8.715</td> <td>   -3.587</td>\n",
       "</tr>\n",
       "<tr>\n",
       "  <th>sbp</th>       <td>    0.0065</td> <td>    0.006</td> <td>    1.135</td> <td> 0.256</td> <td>   -0.005</td> <td>    0.018</td>\n",
       "</tr>\n",
       "<tr>\n",
       "  <th>tobacco</th>   <td>    0.0794</td> <td>    0.027</td> <td>    2.984</td> <td> 0.003</td> <td>    0.027</td> <td>    0.132</td>\n",
       "</tr>\n",
       "<tr>\n",
       "  <th>ldl</th>       <td>    0.1739</td> <td>    0.060</td> <td>    2.915</td> <td> 0.004</td> <td>    0.057</td> <td>    0.291</td>\n",
       "</tr>\n",
       "<tr>\n",
       "  <th>adiposity</th> <td>    0.0186</td> <td>    0.029</td> <td>    0.635</td> <td> 0.526</td> <td>   -0.039</td> <td>    0.076</td>\n",
       "</tr>\n",
       "<tr>\n",
       "  <th>famhist</th>   <td>    0.9254</td> <td>    0.228</td> <td>    4.061</td> <td> 0.000</td> <td>    0.479</td> <td>    1.372</td>\n",
       "</tr>\n",
       "<tr>\n",
       "  <th>typea</th>     <td>    0.0396</td> <td>    0.012</td> <td>    3.214</td> <td> 0.001</td> <td>    0.015</td> <td>    0.064</td>\n",
       "</tr>\n",
       "<tr>\n",
       "  <th>obesity</th>   <td>   -0.0629</td> <td>    0.044</td> <td>   -1.422</td> <td> 0.155</td> <td>   -0.150</td> <td>    0.024</td>\n",
       "</tr>\n",
       "<tr>\n",
       "  <th>alcohol</th>   <td>    0.0001</td> <td>    0.004</td> <td>    0.027</td> <td> 0.978</td> <td>   -0.009</td> <td>    0.009</td>\n",
       "</tr>\n",
       "<tr>\n",
       "  <th>age</th>       <td>    0.0452</td> <td>    0.012</td> <td>    3.728</td> <td> 0.000</td> <td>    0.021</td> <td>    0.069</td>\n",
       "</tr>\n",
       "</table>"
      ],
      "text/plain": [
       "<class 'statsmodels.iolib.summary.Summary'>\n",
       "\"\"\"\n",
       "                           Logit Regression Results                           \n",
       "==============================================================================\n",
       "Dep. Variable:                    chd   No. Observations:                  462\n",
       "Model:                          Logit   Df Residuals:                      452\n",
       "Method:                           MLE   Df Model:                            9\n",
       "Date:                Sat, 04 Sep 2021   Pseudo R-squ.:                  0.2080\n",
       "Time:                        18:29:26   Log-Likelihood:                -236.07\n",
       "converged:                       True   LL-Null:                       -298.05\n",
       "Covariance Type:            nonrobust   LLR p-value:                 2.055e-22\n",
       "==============================================================================\n",
       "                 coef    std err          z      P>|z|      [0.025      0.975]\n",
       "------------------------------------------------------------------------------\n",
       "Intercept     -6.1507      1.308     -4.701      0.000      -8.715      -3.587\n",
       "sbp            0.0065      0.006      1.135      0.256      -0.005       0.018\n",
       "tobacco        0.0794      0.027      2.984      0.003       0.027       0.132\n",
       "ldl            0.1739      0.060      2.915      0.004       0.057       0.291\n",
       "adiposity      0.0186      0.029      0.635      0.526      -0.039       0.076\n",
       "famhist        0.9254      0.228      4.061      0.000       0.479       1.372\n",
       "typea          0.0396      0.012      3.214      0.001       0.015       0.064\n",
       "obesity       -0.0629      0.044     -1.422      0.155      -0.150       0.024\n",
       "alcohol        0.0001      0.004      0.027      0.978      -0.009       0.009\n",
       "age            0.0452      0.012      3.728      0.000       0.021       0.069\n",
       "==============================================================================\n",
       "\"\"\""
      ]
     },
     "execution_count": 15,
     "metadata": {},
     "output_type": "execute_result"
    }
   ],
   "source": [
    "tmp = smf.logit('chd ~ sbp +tobacco + ldl + adiposity + famhist + typea + obesity + alcohol + age', data = df).fit()\n",
    "tmp.summary()"
   ]
  },
  {
   "cell_type": "code",
   "execution_count": 16,
   "id": "5f695e4c",
   "metadata": {
    "colab": {
     "base_uri": "https://localhost:8080/"
    },
    "executionInfo": {
     "elapsed": 19,
     "status": "ok",
     "timestamp": 1630596685275,
     "user": {
      "displayName": "Francisco Silva",
      "photoUrl": "https://lh3.googleusercontent.com/a-/AOh14GhnBCIyF5R8AiTi5ykZU8rl4YlVuugPZqCU5uBJ4YQ=s64",
      "userId": "14439525103954735478"
     },
     "user_tz": 240
    },
    "id": "5f695e4c",
    "outputId": "57ec0cb3-b0d5-4da8-ddac-ad63ec809abb"
   },
   "outputs": [
    {
     "data": {
      "text/plain": [
       "['Intercept', 'tobacco', 'ldl', 'famhist', 'typea', 'age']"
      ]
     },
     "execution_count": 16,
     "metadata": {},
     "output_type": "execute_result"
    }
   ],
   "source": [
    "pvals = pd.DataFrame(tmp.pvalues)\n",
    "\n",
    "var_determinantes = pvals[pvals[0] < 0.025]\n",
    "list(var_determinantes.index)"
   ]
  },
  {
   "cell_type": "code",
   "execution_count": 17,
   "id": "eecbd445",
   "metadata": {
    "colab": {
     "base_uri": "https://localhost:8080/",
     "height": 383
    },
    "executionInfo": {
     "elapsed": 18,
     "status": "ok",
     "timestamp": 1630596685275,
     "user": {
      "displayName": "Francisco Silva",
      "photoUrl": "https://lh3.googleusercontent.com/a-/AOh14GhnBCIyF5R8AiTi5ykZU8rl4YlVuugPZqCU5uBJ4YQ=s64",
      "userId": "14439525103954735478"
     },
     "user_tz": 240
    },
    "id": "eecbd445",
    "outputId": "8765ba7e-8cf2-4945-b706-3ee942dd28ef"
   },
   "outputs": [
    {
     "name": "stdout",
     "output_type": "stream",
     "text": [
      "Optimization terminated successfully.\n",
      "         Current function value: 0.514811\n",
      "         Iterations 6\n"
     ]
    },
    {
     "data": {
      "text/html": [
       "<table class=\"simpletable\">\n",
       "<caption>Logit Regression Results</caption>\n",
       "<tr>\n",
       "  <th>Dep. Variable:</th>          <td>chd</td>       <th>  No. Observations:  </th>  <td>   462</td>  \n",
       "</tr>\n",
       "<tr>\n",
       "  <th>Model:</th>                 <td>Logit</td>      <th>  Df Residuals:      </th>  <td>   456</td>  \n",
       "</tr>\n",
       "<tr>\n",
       "  <th>Method:</th>                 <td>MLE</td>       <th>  Df Model:          </th>  <td>     5</td>  \n",
       "</tr>\n",
       "<tr>\n",
       "  <th>Date:</th>            <td>Sat, 04 Sep 2021</td> <th>  Pseudo R-squ.:     </th>  <td>0.2020</td>  \n",
       "</tr>\n",
       "<tr>\n",
       "  <th>Time:</th>                <td>18:29:26</td>     <th>  Log-Likelihood:    </th> <td> -237.84</td> \n",
       "</tr>\n",
       "<tr>\n",
       "  <th>converged:</th>             <td>True</td>       <th>  LL-Null:           </th> <td> -298.05</td> \n",
       "</tr>\n",
       "<tr>\n",
       "  <th>Covariance Type:</th>     <td>nonrobust</td>    <th>  LLR p-value:       </th> <td>2.554e-24</td>\n",
       "</tr>\n",
       "</table>\n",
       "<table class=\"simpletable\">\n",
       "<tr>\n",
       "      <td></td>         <th>coef</th>     <th>std err</th>      <th>z</th>      <th>P>|z|</th>  <th>[0.025</th>    <th>0.975]</th>  \n",
       "</tr>\n",
       "<tr>\n",
       "  <th>Intercept</th> <td>   -6.4464</td> <td>    0.921</td> <td>   -7.000</td> <td> 0.000</td> <td>   -8.251</td> <td>   -4.642</td>\n",
       "</tr>\n",
       "<tr>\n",
       "  <th>tobacco</th>   <td>    0.0804</td> <td>    0.026</td> <td>    3.106</td> <td> 0.002</td> <td>    0.030</td> <td>    0.131</td>\n",
       "</tr>\n",
       "<tr>\n",
       "  <th>ldl</th>       <td>    0.1620</td> <td>    0.055</td> <td>    2.947</td> <td> 0.003</td> <td>    0.054</td> <td>    0.270</td>\n",
       "</tr>\n",
       "<tr>\n",
       "  <th>famhist</th>   <td>    0.9082</td> <td>    0.226</td> <td>    4.023</td> <td> 0.000</td> <td>    0.466</td> <td>    1.351</td>\n",
       "</tr>\n",
       "<tr>\n",
       "  <th>typea</th>     <td>    0.0371</td> <td>    0.012</td> <td>    3.051</td> <td> 0.002</td> <td>    0.013</td> <td>    0.061</td>\n",
       "</tr>\n",
       "<tr>\n",
       "  <th>age</th>       <td>    0.0505</td> <td>    0.010</td> <td>    4.944</td> <td> 0.000</td> <td>    0.030</td> <td>    0.070</td>\n",
       "</tr>\n",
       "</table>"
      ],
      "text/plain": [
       "<class 'statsmodels.iolib.summary.Summary'>\n",
       "\"\"\"\n",
       "                           Logit Regression Results                           \n",
       "==============================================================================\n",
       "Dep. Variable:                    chd   No. Observations:                  462\n",
       "Model:                          Logit   Df Residuals:                      456\n",
       "Method:                           MLE   Df Model:                            5\n",
       "Date:                Sat, 04 Sep 2021   Pseudo R-squ.:                  0.2020\n",
       "Time:                        18:29:26   Log-Likelihood:                -237.84\n",
       "converged:                       True   LL-Null:                       -298.05\n",
       "Covariance Type:            nonrobust   LLR p-value:                 2.554e-24\n",
       "==============================================================================\n",
       "                 coef    std err          z      P>|z|      [0.025      0.975]\n",
       "------------------------------------------------------------------------------\n",
       "Intercept     -6.4464      0.921     -7.000      0.000      -8.251      -4.642\n",
       "tobacco        0.0804      0.026      3.106      0.002       0.030       0.131\n",
       "ldl            0.1620      0.055      2.947      0.003       0.054       0.270\n",
       "famhist        0.9082      0.226      4.023      0.000       0.466       1.351\n",
       "typea          0.0371      0.012      3.051      0.002       0.013       0.061\n",
       "age            0.0505      0.010      4.944      0.000       0.030       0.070\n",
       "==============================================================================\n",
       "\"\"\""
      ]
     },
     "execution_count": 17,
     "metadata": {},
     "output_type": "execute_result"
    }
   ],
   "source": [
    "mod3 = smf.logit('chd ~ tobacco + ldl + famhist + typea + age', data = df).fit()\n",
    "mod3.summary()"
   ]
  },
  {
   "cell_type": "markdown",
   "id": "2120d097",
   "metadata": {
    "id": "2120d097"
   },
   "source": [
    "b) Compare los estadísticos de bondad de ajuste entre ambos."
   ]
  },
  {
   "cell_type": "code",
   "execution_count": 18,
   "id": "2e1aee92",
   "metadata": {
    "colab": {
     "base_uri": "https://localhost:8080/"
    },
    "executionInfo": {
     "elapsed": 17,
     "status": "ok",
     "timestamp": 1630596685276,
     "user": {
      "displayName": "Francisco Silva",
      "photoUrl": "https://lh3.googleusercontent.com/a-/AOh14GhnBCIyF5R8AiTi5ykZU8rl4YlVuugPZqCU5uBJ4YQ=s64",
      "userId": "14439525103954735478"
     },
     "user_tz": 240
    },
    "id": "2e1aee92",
    "outputId": "59f7879d-94c3-4966-98a1-d0ee9665b045"
   },
   "outputs": [
    {
     "data": {
      "text/plain": [
       "0.005947820131952275"
      ]
     },
     "execution_count": 18,
     "metadata": {},
     "output_type": "execute_result"
    }
   ],
   "source": [
    "tmp.prsquared-mod3.prsquared"
   ]
  },
  {
   "cell_type": "markdown",
   "id": "0886c80f",
   "metadata": {
    "id": "0886c80f"
   },
   "source": [
    "Comentario: El Pseudo R-Square es apenas un 0.5% mayor en el caso del primer modelo. (son bien malitos los 2)"
   ]
  },
  {
   "cell_type": "markdown",
   "id": "42ab298e",
   "metadata": {
    "id": "42ab298e"
   },
   "source": [
    "c) Reporte de forma sucinta el efecto de las variables en el log-odds de tener una enfermedad coronaria"
   ]
  },
  {
   "cell_type": "code",
   "execution_count": 19,
   "id": "9A_EUzjmEzmV",
   "metadata": {
    "colab": {
     "base_uri": "https://localhost:8080/"
    },
    "executionInfo": {
     "elapsed": 15,
     "status": "ok",
     "timestamp": 1630596685276,
     "user": {
      "displayName": "Francisco Silva",
      "photoUrl": "https://lh3.googleusercontent.com/a-/AOh14GhnBCIyF5R8AiTi5ykZU8rl4YlVuugPZqCU5uBJ4YQ=s64",
      "userId": "14439525103954735478"
     },
     "user_tz": 240
    },
    "id": "9A_EUzjmEzmV",
    "outputId": "3cbb45ef-45fb-4f4b-a1f6-f5f52d7792ee"
   },
   "outputs": [
    {
     "data": {
      "text/plain": [
       "age        0.372973\n",
       "tobacco    0.299718\n",
       "famhist    0.272373\n",
       "ldl        0.263053\n",
       "typea      0.103156\n",
       "Name: chd, dtype: float64"
      ]
     },
     "execution_count": 19,
     "metadata": {},
     "output_type": "execute_result"
    }
   ],
   "source": [
    "df[['tobacco', 'ldl', 'famhist', 'typea', 'age','chd']].corr()['chd'].sort_values(ascending = False).drop('chd')"
   ]
  },
  {
   "cell_type": "code",
   "execution_count": 30,
   "id": "41bbde68",
   "metadata": {},
   "outputs": [
    {
     "data": {
      "text/html": [
       "<div>\n",
       "<style scoped>\n",
       "    .dataframe tbody tr th:only-of-type {\n",
       "        vertical-align: middle;\n",
       "    }\n",
       "\n",
       "    .dataframe tbody tr th {\n",
       "        vertical-align: top;\n",
       "    }\n",
       "\n",
       "    .dataframe thead th {\n",
       "        text-align: right;\n",
       "    }\n",
       "</style>\n",
       "<table border=\"1\" class=\"dataframe\">\n",
       "  <thead>\n",
       "    <tr style=\"text-align: right;\">\n",
       "      <th></th>\n",
       "      <th>tobacco</th>\n",
       "      <th>ldl</th>\n",
       "      <th>famhist</th>\n",
       "      <th>typea</th>\n",
       "      <th>age</th>\n",
       "    </tr>\n",
       "  </thead>\n",
       "  <tbody>\n",
       "    <tr>\n",
       "      <th>tobacco</th>\n",
       "      <td>3.635649</td>\n",
       "      <td>0.000000</td>\n",
       "      <td>0.000000</td>\n",
       "      <td>0.000000</td>\n",
       "      <td>0.000000</td>\n",
       "    </tr>\n",
       "    <tr>\n",
       "      <th>ldl</th>\n",
       "      <td>0.000000</td>\n",
       "      <td>4.740325</td>\n",
       "      <td>0.000000</td>\n",
       "      <td>0.000000</td>\n",
       "      <td>0.000000</td>\n",
       "    </tr>\n",
       "    <tr>\n",
       "      <th>famhist</th>\n",
       "      <td>0.000000</td>\n",
       "      <td>0.000000</td>\n",
       "      <td>0.415584</td>\n",
       "      <td>0.000000</td>\n",
       "      <td>0.000000</td>\n",
       "    </tr>\n",
       "    <tr>\n",
       "      <th>typea</th>\n",
       "      <td>0.000000</td>\n",
       "      <td>0.000000</td>\n",
       "      <td>0.000000</td>\n",
       "      <td>53.103896</td>\n",
       "      <td>0.000000</td>\n",
       "    </tr>\n",
       "    <tr>\n",
       "      <th>age</th>\n",
       "      <td>0.000000</td>\n",
       "      <td>0.000000</td>\n",
       "      <td>0.000000</td>\n",
       "      <td>0.000000</td>\n",
       "      <td>42.816017</td>\n",
       "    </tr>\n",
       "  </tbody>\n",
       "</table>\n",
       "</div>"
      ],
      "text/plain": [
       "          tobacco       ldl   famhist      typea        age\n",
       "tobacco  3.635649  0.000000  0.000000   0.000000   0.000000\n",
       "ldl      0.000000  4.740325  0.000000   0.000000   0.000000\n",
       "famhist  0.000000  0.000000  0.415584   0.000000   0.000000\n",
       "typea    0.000000  0.000000  0.000000  53.103896   0.000000\n",
       "age      0.000000  0.000000  0.000000   0.000000  42.816017"
      ]
     },
     "execution_count": 30,
     "metadata": {},
     "output_type": "execute_result"
    }
   ],
   "source": [
    "varss = ['tobacco', 'ldl', 'famhist', 'typea', 'age'] # Columnas del modelo mod3\n",
    "vector = pd.DataFrame(mod3.params).T.drop(columns = 'Intercept') #DataFrame con Betas de mod3\n",
    "r = pd.DataFrame(columns = ['tobacco', 'ldl', 'famhist', 'typea', 'age']) #DataFrame donde se guardarán las respuestas\n",
    "for i in varss:\n",
    "    vect_movil = pd.DataFrame(mod3.params).T.drop(columns = 'Intercept')\n",
    "    for j in varss:\n",
    "        if i != j:\n",
    "            vect_movil[j] = 0\n",
    "        else:\n",
    "            vect_movil[j] = df[i].mean() # Reemplazo la diagonal con el promedio de la muestra\n",
    "    r.loc[i] = list(vect_movil.loc[0])\n",
    "r"
   ]
  },
  {
   "cell_type": "code",
   "execution_count": 31,
   "id": "2c1cba83",
   "metadata": {},
   "outputs": [
    {
     "data": {
      "text/html": [
       "<div>\n",
       "<style scoped>\n",
       "    .dataframe tbody tr th:only-of-type {\n",
       "        vertical-align: middle;\n",
       "    }\n",
       "\n",
       "    .dataframe tbody tr th {\n",
       "        vertical-align: top;\n",
       "    }\n",
       "\n",
       "    .dataframe thead th {\n",
       "        text-align: right;\n",
       "    }\n",
       "</style>\n",
       "<table border=\"1\" class=\"dataframe\">\n",
       "  <thead>\n",
       "    <tr style=\"text-align: right;\">\n",
       "      <th></th>\n",
       "      <th>tobacco</th>\n",
       "      <th>ldl</th>\n",
       "      <th>famhist</th>\n",
       "      <th>typea</th>\n",
       "      <th>age</th>\n",
       "      <th>efecto_sucinto</th>\n",
       "    </tr>\n",
       "  </thead>\n",
       "  <tbody>\n",
       "    <tr>\n",
       "      <th>tobacco</th>\n",
       "      <td>3.635649</td>\n",
       "      <td>0.000000</td>\n",
       "      <td>0.000000</td>\n",
       "      <td>0.000000</td>\n",
       "      <td>0.000000</td>\n",
       "      <td>0.002120</td>\n",
       "    </tr>\n",
       "    <tr>\n",
       "      <th>ldl</th>\n",
       "      <td>0.000000</td>\n",
       "      <td>4.740325</td>\n",
       "      <td>0.000000</td>\n",
       "      <td>0.000000</td>\n",
       "      <td>0.000000</td>\n",
       "      <td>0.003407</td>\n",
       "    </tr>\n",
       "    <tr>\n",
       "      <th>famhist</th>\n",
       "      <td>0.000000</td>\n",
       "      <td>0.000000</td>\n",
       "      <td>0.415584</td>\n",
       "      <td>0.000000</td>\n",
       "      <td>0.000000</td>\n",
       "      <td>0.002308</td>\n",
       "    </tr>\n",
       "    <tr>\n",
       "      <th>typea</th>\n",
       "      <td>0.000000</td>\n",
       "      <td>0.000000</td>\n",
       "      <td>0.000000</td>\n",
       "      <td>53.103896</td>\n",
       "      <td>0.000000</td>\n",
       "      <td>0.011257</td>\n",
       "    </tr>\n",
       "    <tr>\n",
       "      <th>age</th>\n",
       "      <td>0.000000</td>\n",
       "      <td>0.000000</td>\n",
       "      <td>0.000000</td>\n",
       "      <td>0.000000</td>\n",
       "      <td>42.816017</td>\n",
       "      <td>0.013574</td>\n",
       "    </tr>\n",
       "  </tbody>\n",
       "</table>\n",
       "</div>"
      ],
      "text/plain": [
       "          tobacco       ldl   famhist      typea        age  efecto_sucinto\n",
       "tobacco  3.635649  0.000000  0.000000   0.000000   0.000000        0.002120\n",
       "ldl      0.000000  4.740325  0.000000   0.000000   0.000000        0.003407\n",
       "famhist  0.000000  0.000000  0.415584   0.000000   0.000000        0.002308\n",
       "typea    0.000000  0.000000  0.000000  53.103896   0.000000        0.011257\n",
       "age      0.000000  0.000000  0.000000   0.000000  42.816017        0.013574"
      ]
     },
     "execution_count": 31,
     "metadata": {},
     "output_type": "execute_result"
    }
   ],
   "source": [
    "lista = []\n",
    "\n",
    "for i in r.index:\n",
    "    lista.append(mod3.predict(pd.DataFrame(r.loc[i]).T)[0]) # Predigo según cada fila del dataframe del paso de arriba\n",
    "\n",
    "r['efecto_sucinto'] = lista\n",
    "r"
   ]
  },
  {
   "cell_type": "code",
   "execution_count": 32,
   "id": "c53dc72d",
   "metadata": {},
   "outputs": [
    {
     "data": {
      "text/plain": [
       "tobacco    0.002120\n",
       "ldl        0.003407\n",
       "famhist    0.002308\n",
       "typea      0.011257\n",
       "age        0.013574\n",
       "Name: efecto_sucinto, dtype: float64"
      ]
     },
     "execution_count": 32,
     "metadata": {},
     "output_type": "execute_result"
    }
   ],
   "source": [
    "r['efecto_sucinto']"
   ]
  },
  {
   "cell_type": "code",
   "execution_count": 33,
   "id": "5dd4a3f0",
   "metadata": {},
   "outputs": [
    {
     "data": {
      "text/plain": [
       "0.03266551602059853"
      ]
     },
     "execution_count": 33,
     "metadata": {},
     "output_type": "execute_result"
    }
   ],
   "source": [
    "r['efecto_sucinto'].sum()"
   ]
  },
  {
   "cell_type": "markdown",
   "id": "XSKabj2-HD-i",
   "metadata": {
    "id": "XSKabj2-HD-i"
   },
   "source": [
    "*Comentario extra*: Este sería la forma de decir qué variables están influyendo más en la variable dependiente 'chd'"
   ]
  },
  {
   "cell_type": "markdown",
   "id": "ZNdnmrnHBSfX",
   "metadata": {
    "id": "ZNdnmrnHBSfX"
   },
   "source": [
    "# Desafío 4: Estimación de perfiles"
   ]
  },
  {
   "cell_type": "markdown",
   "id": "Dhc4dOAQCUY2",
   "metadata": {
    "id": "Dhc4dOAQCUY2"
   },
   "source": [
    "a) La probabilidad de tener una enfermedad coronaria para un individuo con características similares a la muestra."
   ]
  },
  {
   "cell_type": "code",
   "execution_count": 22,
   "id": "9ae28831",
   "metadata": {
    "colab": {
     "base_uri": "https://localhost:8080/",
     "height": 80
    },
    "executionInfo": {
     "elapsed": 14,
     "status": "ok",
     "timestamp": 1630596685277,
     "user": {
      "displayName": "Francisco Silva",
      "photoUrl": "https://lh3.googleusercontent.com/a-/AOh14GhnBCIyF5R8AiTi5ykZU8rl4YlVuugPZqCU5uBJ4YQ=s64",
      "userId": "14439525103954735478"
     },
     "user_tz": 240
    },
    "id": "9ae28831",
    "outputId": "c3495a64-c320-4f8e-c6c9-dd6872d810ec"
   },
   "outputs": [
    {
     "data": {
      "text/html": [
       "<div>\n",
       "<style scoped>\n",
       "    .dataframe tbody tr th:only-of-type {\n",
       "        vertical-align: middle;\n",
       "    }\n",
       "\n",
       "    .dataframe tbody tr th {\n",
       "        vertical-align: top;\n",
       "    }\n",
       "\n",
       "    .dataframe thead th {\n",
       "        text-align: right;\n",
       "    }\n",
       "</style>\n",
       "<table border=\"1\" class=\"dataframe\">\n",
       "  <thead>\n",
       "    <tr style=\"text-align: right;\">\n",
       "      <th></th>\n",
       "      <th>tobacco</th>\n",
       "      <th>ldl</th>\n",
       "      <th>famhist</th>\n",
       "      <th>typea</th>\n",
       "      <th>age</th>\n",
       "    </tr>\n",
       "  </thead>\n",
       "  <tbody>\n",
       "    <tr>\n",
       "      <th>0</th>\n",
       "      <td>3.635649</td>\n",
       "      <td>4.740325</td>\n",
       "      <td>0.415584</td>\n",
       "      <td>53.103896</td>\n",
       "      <td>42.816017</td>\n",
       "    </tr>\n",
       "  </tbody>\n",
       "</table>\n",
       "</div>"
      ],
      "text/plain": [
       "    tobacco       ldl   famhist      typea        age\n",
       "0  3.635649  4.740325  0.415584  53.103896  42.816017"
      ]
     },
     "execution_count": 22,
     "metadata": {},
     "output_type": "execute_result"
    }
   ],
   "source": [
    "cuatro_a = pd.DataFrame(df[['tobacco', 'ldl', 'famhist', 'typea', 'age']].mean()).T\n",
    "cuatro_a"
   ]
  },
  {
   "cell_type": "code",
   "execution_count": 23,
   "id": "e6d98cc3",
   "metadata": {
    "colab": {
     "base_uri": "https://localhost:8080/"
    },
    "executionInfo": {
     "elapsed": 13,
     "status": "ok",
     "timestamp": 1630596685277,
     "user": {
      "displayName": "Francisco Silva",
      "photoUrl": "https://lh3.googleusercontent.com/a-/AOh14GhnBCIyF5R8AiTi5ykZU8rl4YlVuugPZqCU5uBJ4YQ=s64",
      "userId": "14439525103954735478"
     },
     "user_tz": 240
    },
    "id": "e6d98cc3",
    "outputId": "984cf0da-be05-4343-fae4-179d8e848dd0"
   },
   "outputs": [
    {
     "data": {
      "text/plain": [
       "0    0.293709\n",
       "dtype: float64"
      ]
     },
     "execution_count": 23,
     "metadata": {},
     "output_type": "execute_result"
    }
   ],
   "source": [
    "mod3.predict(cuatro_a)"
   ]
  },
  {
   "cell_type": "code",
   "execution_count": 24,
   "id": "a33632a7",
   "metadata": {
    "colab": {
     "base_uri": "https://localhost:8080/"
    },
    "executionInfo": {
     "elapsed": 13,
     "status": "ok",
     "timestamp": 1630596685624,
     "user": {
      "displayName": "Francisco Silva",
      "photoUrl": "https://lh3.googleusercontent.com/a-/AOh14GhnBCIyF5R8AiTi5ykZU8rl4YlVuugPZqCU5uBJ4YQ=s64",
      "userId": "14439525103954735478"
     },
     "user_tz": 240
    },
    "id": "a33632a7",
    "outputId": "9d79bd6d-37a8-4753-9c0a-610a0fdb1abe"
   },
   "outputs": [
    {
     "data": {
      "text/plain": [
       "0.29370927481586945"
      ]
     },
     "execution_count": 24,
     "metadata": {},
     "output_type": "execute_result"
    }
   ],
   "source": [
    "inverse_logit(\n",
    "    mod3.params['Intercept']+mod3.params['tobacco']*df['tobacco'].mean()+mod3.params['ldl']*df['ldl'].mean()+mod3.params['famhist']*df['famhist'].mean()+mod3.params['typea']*df['typea'].mean()+mod3.params['age']*df['age'].mean())"
   ]
  },
  {
   "cell_type": "markdown",
   "id": "RIW1BrpjEY6r",
   "metadata": {
    "id": "RIW1BrpjEY6r"
   },
   "source": [
    "b) La probabilidad de tener una enfermedad coronaria para un individuo con altos niveles de lipoproteína de baja densidad,​manteniendo todas las demás características constantes."
   ]
  },
  {
   "cell_type": "code",
   "execution_count": 25,
   "id": "78d24ff3",
   "metadata": {
    "colab": {
     "base_uri": "https://localhost:8080/",
     "height": 80
    },
    "executionInfo": {
     "elapsed": 11,
     "status": "ok",
     "timestamp": 1630596685625,
     "user": {
      "displayName": "Francisco Silva",
      "photoUrl": "https://lh3.googleusercontent.com/a-/AOh14GhnBCIyF5R8AiTi5ykZU8rl4YlVuugPZqCU5uBJ4YQ=s64",
      "userId": "14439525103954735478"
     },
     "user_tz": 240
    },
    "id": "78d24ff3",
    "outputId": "8ccb6472-9e87-4f1e-ccd4-d85b06c20d41"
   },
   "outputs": [
    {
     "data": {
      "text/html": [
       "<div>\n",
       "<style scoped>\n",
       "    .dataframe tbody tr th:only-of-type {\n",
       "        vertical-align: middle;\n",
       "    }\n",
       "\n",
       "    .dataframe tbody tr th {\n",
       "        vertical-align: top;\n",
       "    }\n",
       "\n",
       "    .dataframe thead th {\n",
       "        text-align: right;\n",
       "    }\n",
       "</style>\n",
       "<table border=\"1\" class=\"dataframe\">\n",
       "  <thead>\n",
       "    <tr style=\"text-align: right;\">\n",
       "      <th></th>\n",
       "      <th>tobacco</th>\n",
       "      <th>famhist</th>\n",
       "      <th>typea</th>\n",
       "      <th>age</th>\n",
       "      <th>ldl</th>\n",
       "    </tr>\n",
       "  </thead>\n",
       "  <tbody>\n",
       "    <tr>\n",
       "      <th>0</th>\n",
       "      <td>3.635649</td>\n",
       "      <td>0.415584</td>\n",
       "      <td>53.103896</td>\n",
       "      <td>42.816017</td>\n",
       "      <td>15.33</td>\n",
       "    </tr>\n",
       "  </tbody>\n",
       "</table>\n",
       "</div>"
      ],
      "text/plain": [
       "    tobacco   famhist      typea        age    ldl\n",
       "0  3.635649  0.415584  53.103896  42.816017  15.33"
      ]
     },
     "execution_count": 25,
     "metadata": {},
     "output_type": "execute_result"
    }
   ],
   "source": [
    "cuatro_b = cuatro_a.drop(columns = 'ldl')\n",
    "cuatro_b['ldl'] = np.max(df['ldl'])\n",
    "cuatro_b"
   ]
  },
  {
   "cell_type": "code",
   "execution_count": 26,
   "id": "q03cyPrJIbEG",
   "metadata": {
    "colab": {
     "base_uri": "https://localhost:8080/"
    },
    "executionInfo": {
     "elapsed": 11,
     "status": "ok",
     "timestamp": 1630596685625,
     "user": {
      "displayName": "Francisco Silva",
      "photoUrl": "https://lh3.googleusercontent.com/a-/AOh14GhnBCIyF5R8AiTi5ykZU8rl4YlVuugPZqCU5uBJ4YQ=s64",
      "userId": "14439525103954735478"
     },
     "user_tz": 240
    },
    "id": "q03cyPrJIbEG",
    "outputId": "d2a480cb-a6f2-4439-adb5-b23c081cf7ee"
   },
   "outputs": [
    {
     "data": {
      "text/plain": [
       "[0.6980443104466211]"
      ]
     },
     "execution_count": 26,
     "metadata": {},
     "output_type": "execute_result"
    }
   ],
   "source": [
    "list(mod3.predict(cuatro_b))"
   ]
  },
  {
   "cell_type": "markdown",
   "id": "w0pmFGNkEjx3",
   "metadata": {
    "id": "w0pmFGNkEjx3"
   },
   "source": [
    "c) La probabilidad de tener una enfermedad coronaria para un individuo con bajos niveles de lipoproteína de baja densidad,​manteniendo todas las demás características constantes."
   ]
  },
  {
   "cell_type": "code",
   "execution_count": 27,
   "id": "a7b145be",
   "metadata": {
    "colab": {
     "base_uri": "https://localhost:8080/",
     "height": 80
    },
    "executionInfo": {
     "elapsed": 8,
     "status": "ok",
     "timestamp": 1630596685625,
     "user": {
      "displayName": "Francisco Silva",
      "photoUrl": "https://lh3.googleusercontent.com/a-/AOh14GhnBCIyF5R8AiTi5ykZU8rl4YlVuugPZqCU5uBJ4YQ=s64",
      "userId": "14439525103954735478"
     },
     "user_tz": 240
    },
    "id": "a7b145be",
    "outputId": "52a2f6c2-7c99-45c0-f400-4690530b2a07"
   },
   "outputs": [
    {
     "data": {
      "text/html": [
       "<div>\n",
       "<style scoped>\n",
       "    .dataframe tbody tr th:only-of-type {\n",
       "        vertical-align: middle;\n",
       "    }\n",
       "\n",
       "    .dataframe tbody tr th {\n",
       "        vertical-align: top;\n",
       "    }\n",
       "\n",
       "    .dataframe thead th {\n",
       "        text-align: right;\n",
       "    }\n",
       "</style>\n",
       "<table border=\"1\" class=\"dataframe\">\n",
       "  <thead>\n",
       "    <tr style=\"text-align: right;\">\n",
       "      <th></th>\n",
       "      <th>tobacco</th>\n",
       "      <th>famhist</th>\n",
       "      <th>typea</th>\n",
       "      <th>age</th>\n",
       "      <th>ldl</th>\n",
       "    </tr>\n",
       "  </thead>\n",
       "  <tbody>\n",
       "    <tr>\n",
       "      <th>0</th>\n",
       "      <td>3.635649</td>\n",
       "      <td>0.415584</td>\n",
       "      <td>53.103896</td>\n",
       "      <td>42.816017</td>\n",
       "      <td>0.98</td>\n",
       "    </tr>\n",
       "  </tbody>\n",
       "</table>\n",
       "</div>"
      ],
      "text/plain": [
       "    tobacco   famhist      typea        age   ldl\n",
       "0  3.635649  0.415584  53.103896  42.816017  0.98"
      ]
     },
     "execution_count": 27,
     "metadata": {},
     "output_type": "execute_result"
    }
   ],
   "source": [
    "cuatro_c = cuatro_a.drop(columns = 'ldl')\n",
    "cuatro_c['ldl'] = np.min(df['ldl'])\n",
    "cuatro_c"
   ]
  },
  {
   "cell_type": "code",
   "execution_count": 28,
   "id": "gnJjSwueImHE",
   "metadata": {
    "colab": {
     "base_uri": "https://localhost:8080/"
    },
    "executionInfo": {
     "elapsed": 8,
     "status": "ok",
     "timestamp": 1630596685625,
     "user": {
      "displayName": "Francisco Silva",
      "photoUrl": "https://lh3.googleusercontent.com/a-/AOh14GhnBCIyF5R8AiTi5ykZU8rl4YlVuugPZqCU5uBJ4YQ=s64",
      "userId": "14439525103954735478"
     },
     "user_tz": 240
    },
    "id": "gnJjSwueImHE",
    "outputId": "af11f078-275c-4980-ad51-6d221c3dfada"
   },
   "outputs": [
    {
     "data": {
      "text/plain": [
       "[0.18443595575404634]"
      ]
     },
     "execution_count": 28,
     "metadata": {},
     "output_type": "execute_result"
    }
   ],
   "source": [
    "list(mod3.predict(cuatro_c))"
   ]
  }
 ],
 "metadata": {
  "colab": {
   "collapsed_sections": [],
   "name": "FS - Desafío - Clasificación desde la econometría.ipynb",
   "provenance": []
  },
  "kernelspec": {
   "display_name": "Python 3",
   "language": "python",
   "name": "python3"
  },
  "language_info": {
   "codemirror_mode": {
    "name": "ipython",
    "version": 3
   },
   "file_extension": ".py",
   "mimetype": "text/x-python",
   "name": "python",
   "nbconvert_exporter": "python",
   "pygments_lexer": "ipython3",
   "version": "3.8.8"
  }
 },
 "nbformat": 4,
 "nbformat_minor": 5
}
