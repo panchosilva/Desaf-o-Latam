{
 "cells": [
  {
   "cell_type": "markdown",
   "metadata": {},
   "source": [
    "# Prueba Final\n",
    "\n",
    "### Integrantes\n",
    "<small>\n",
    "\n",
    " - Francisca Pinto\n",
    " - Francisco Silva\n",
    " - Paula Rivera\n",
    " - Verónica Martínez\n",
    " - Benjamín Meneses\n",
    "</small>"
   ]
  },
  {
   "cell_type": "markdown",
   "metadata": {},
   "source": [
    "## Descripción Del Problema"
   ]
  },
  {
   "cell_type": "code",
   "execution_count": null,
   "metadata": {},
   "outputs": [],
   "source": []
  },
  {
   "cell_type": "markdown",
   "metadata": {},
   "source": [
    "## Preparación del ambiente de Trabajo"
   ]
  },
  {
   "cell_type": "code",
   "execution_count": 1,
   "metadata": {
    "colab": {
     "base_uri": "https://localhost:8080/",
     "height": 414
    },
    "id": "l9co6FnwNEcL",
    "outputId": "b3a3d661-3926-4546-b593-c5cbae32db7e"
   },
   "outputs": [
    {
     "name": "stdout",
     "output_type": "stream",
     "text": [
      "time: 9.23 s (started: 2022-03-06 00:33:45 -03:00)\n"
     ]
    }
   ],
   "source": [
    "#tiempo de ejecución\n",
    "%load_ext autotime\n",
    "\n",
    "#dataframe y arrays\n",
    "import pandas as pd\n",
    "import numpy as np\n",
    "\n",
    "#estadística\n",
    "import scipy.stats as stats\n",
    "\n",
    "#gráficos\n",
    "import matplotlib.pyplot as plt\n",
    "import seaborn as sns\n",
    "\n",
    "import warnings\n",
    "warnings.filterwarnings('ignore')\n",
    "\n",
    "#gama matplotlib para facilitar escritura de código\n",
    "%matplotlib inline\n",
    "\n",
    "#separación entrenamiento validación\n",
    "from sklearn.model_selection import train_test_split, GridSearchCV\n",
    "\n",
    "#pipeline\n",
    "from sklearn.pipeline import Pipeline\n",
    "\n",
    "#Árbol de decisión de regresión\n",
    "from sklearn.tree import DecisionTreeClassifier\n",
    "\n",
    "#AdaBoost Clasiffier\n",
    "from sklearn.ensemble import AdaBoostClassifier\n",
    "from sklearn.ensemble import GradientBoostingClassifier\n",
    "\n",
    "#dataframe filter\n",
    "import re\n",
    "\n",
    "#AUX: montar archivos y carpetas desde Google Drive\n",
    "#from google.colab import drive\n",
    "#drive.mount('/content/drive')\n",
    "\n",
    "import statsmodels.api as sm\n",
    "import statsmodels.tsa.api as smt\n",
    "import statsmodels.formula.api as smf\n",
    "\n",
    "from statsmodels.tsa.stattools import adfuller\n",
    "from sklearn.metrics import mean_absolute_percentage_error\n",
    "\n",
    "\n",
    "from darts.metrics import rho_risk\n",
    "from darts import TimeSeries\n",
    "from darts.dataprocessing.transformers import Scaler, MissingValuesFiller\n",
    "from darts.metrics.metrics import mape, mae, r2_score\n",
    "from darts import concatenate"
   ]
  },
  {
   "cell_type": "code",
   "execution_count": 2,
   "metadata": {},
   "outputs": [
    {
     "name": "stdout",
     "output_type": "stream",
     "text": [
      "time: 4.55 s (started: 2022-03-06 00:33:55 -03:00)\n"
     ]
    }
   ],
   "source": [
    "from darts.models import ExponentialSmoothing, NBEATSModel\n",
    "from darts.models.forecasting.arima import ARIMA"
   ]
  },
  {
   "cell_type": "code",
   "execution_count": 3,
   "metadata": {
    "colab": {
     "base_uri": "https://localhost:8080/"
    },
    "id": "LyH1FnlSOsn0",
    "outputId": "6498c107-3c18-4959-ece9-971ecb2ba5b9"
   },
   "outputs": [
    {
     "name": "stdout",
     "output_type": "stream",
     "text": [
      "time: 32 ms (started: 2022-03-06 00:33:59 -03:00)\n"
     ]
    }
   ],
   "source": [
    "# Importamos los datos\n",
    "path_items = 'items.csv'\n",
    "path_sales = 'ventas.csv'\n",
    "path_salesperson = 'vendedores.csv'\n",
    "path_extra = 'temperatura.csv'\n",
    "\n",
    "df_items = pd.read_csv(path_items)\n",
    "df_sales = pd.read_csv(path_sales)\n",
    "df_salesperson = pd.read_csv(path_salesperson)\n",
    "df_temperature = pd.read_csv(path_extra)\n",
    "\n",
    "random_seed = 3748"
   ]
  },
  {
   "cell_type": "markdown",
   "metadata": {
    "id": "PwutKtxpCDGQ"
   },
   "source": [
    "### Recodificación de columnas\n",
    "\n",
    "Haremos un análisis de las columnas y pasaremos a refactorizar los nombres"
   ]
  },
  {
   "cell_type": "code",
   "execution_count": 4,
   "metadata": {
    "colab": {
     "base_uri": "https://localhost:8080/"
    },
    "id": "YQdtnygr-32y",
    "outputId": "40f75342-cb4b-4266-b8ce-81a02da8c592"
   },
   "outputs": [
    {
     "name": "stdout",
     "output_type": "stream",
     "text": [
      "Productos\n",
      "Index(['Familia', 'Peso ( Kg )', 'InventoryUoMName',\n",
      "       'InventoryValuationMethod_E', 'Es artículo de Inventario',\n",
      "       'Es artículo de compras', 'Es artículo de ventas', 'ItemCode',\n",
      "       'ItemDescriptionAndCode', 'Descripción del artículo', 'ItemGroupName',\n",
      "       'El articulo esta activo', 'Sub - Familia'],\n",
      "      dtype='object')\n",
      "Ventas\n",
      "Index(['Cantidad (en UM de inventario)', 'VentaNeta', 'CodCliente',\n",
      "       'Número de documento', 'ItemCode', 'CodVendedor',\n",
      "       'Código de almacén de línea', 'Fecha', 'Descripción del artículo',\n",
      "       'CanalDeVenta', 'Kilombos'],\n",
      "      dtype='object')\n",
      "Vendedores\n",
      "Index(['Active', 'Locked', 'Codigo Vendedor', 'Nombre Vendedor'], dtype='object')\n",
      "time: 0 ns (started: 2022-03-06 00:33:59 -03:00)\n"
     ]
    }
   ],
   "source": [
    "# Vemos las columnas actuales\n",
    "print('Productos')\n",
    "print(df_items.columns)\n",
    "print('Ventas')\n",
    "print(df_sales.columns)\n",
    "print('Vendedores')\n",
    "print(df_salesperson.columns)"
   ]
  },
  {
   "cell_type": "markdown",
   "metadata": {
    "id": "cpCBqgCSIDIA"
   },
   "source": [
    "No se borrarán de <code>Items</code> inmediato las columnas <code>Peso (kg)</code> y <code>El articulo esta activo</code> ya que:\n",
    "- El peso se utilizará para sumar las filas para agrupar las ventas\n",
    "- La categoría del artículo se usará para filtrar la tabla <code>Items</code>"
   ]
  },
  {
   "cell_type": "code",
   "execution_count": 5,
   "metadata": {
    "colab": {
     "base_uri": "https://localhost:8080/"
    },
    "id": "bdOHVckzCS3I",
    "outputId": "fb2258be-5ece-4d79-df23-0052f62c7276"
   },
   "outputs": [
    {
     "name": "stdout",
     "output_type": "stream",
     "text": [
      "time: 0 ns (started: 2022-03-06 00:33:59 -03:00)\n"
     ]
    }
   ],
   "source": [
    "df_items.drop(columns = [\"Familia\",\n",
    "                         \"InventoryUoMName\",\n",
    "                         \"InventoryValuationMethod_E\",\n",
    "                         \"Es artículo de Inventario\",\n",
    "                         \"Es artículo de compras\",\n",
    "                         \"Es artículo de ventas\",\n",
    "                         \"ItemDescriptionAndCode\",\n",
    "                         \"ItemGroupName\",\n",
    "                         \"Sub - Familia\"],\n",
    "              inplace = True)\n",
    "\n",
    "df_sales.drop(columns = [\"Cantidad (en UM de inventario)\",\n",
    "                         \"Código de almacén de línea\",\n",
    "                         \"ItemCode\",\n",
    "                         \"CanalDeVenta\"],\n",
    "              inplace = True)\n",
    "\n",
    "df_salesperson.drop(columns = [\"Active\",\n",
    "                               \"Locked\",\n",
    "                               \"Nombre Vendedor\"],\n",
    "                    inplace = True)"
   ]
  },
  {
   "cell_type": "code",
   "execution_count": 6,
   "metadata": {
    "colab": {
     "base_uri": "https://localhost:8080/"
    },
    "id": "hx9AZmYECBz-",
    "outputId": "3b9e9ffa-d88c-467b-d280-7fa4ef801b6f"
   },
   "outputs": [
    {
     "name": "stdout",
     "output_type": "stream",
     "text": [
      "Productos\n",
      "Index(['Peso ( Kg )', 'ItemCode', 'Descripción del artículo',\n",
      "       'El articulo esta activo'],\n",
      "      dtype='object')\n",
      "Ventas\n",
      "Index(['VentaNeta', 'CodCliente', 'Número de documento', 'CodVendedor',\n",
      "       'Fecha', 'Descripción del artículo', 'Kilombos'],\n",
      "      dtype='object')\n",
      "Vendedores\n",
      "Index(['Codigo Vendedor'], dtype='object')\n",
      "time: 0 ns (started: 2022-03-06 00:34:00 -03:00)\n"
     ]
    }
   ],
   "source": [
    "# Vemos las columnas refactorizadas\n",
    "print('Productos')\n",
    "print(df_items.columns)\n",
    "print('Ventas')\n",
    "print(df_sales.columns)\n",
    "print('Vendedores')\n",
    "print(df_salesperson.columns)"
   ]
  },
  {
   "cell_type": "markdown",
   "metadata": {
    "id": "z7-NYDoAO_vS"
   },
   "source": [
    "Luego analizaremos los productos activos filtrando la tabla <code>Items</code> por la categoría <code>El articulo esta activo</code> con etiqueta positiva, <code>Y</code>."
   ]
  },
  {
   "cell_type": "code",
   "execution_count": 7,
   "metadata": {
    "colab": {
     "base_uri": "https://localhost:8080/"
    },
    "id": "uaKTZ6G3O_Lk",
    "outputId": "a454f738-cf57-41f4-cb1d-847c4a8f92e7"
   },
   "outputs": [
    {
     "name": "stdout",
     "output_type": "stream",
     "text": [
      "time: 0 ns (started: 2022-03-06 00:34:00 -03:00)\n"
     ]
    }
   ],
   "source": [
    "# Filtramos los productos y nos quedamos sólo con los activos\n",
    "df_items = df_items[df_items['El articulo esta activo'] == 'Y']\n",
    "df_items.drop(columns = ['El articulo esta activo'],inplace = True)"
   ]
  },
  {
   "cell_type": "code",
   "execution_count": 8,
   "metadata": {
    "colab": {
     "base_uri": "https://localhost:8080/",
     "height": 537
    },
    "id": "ZjkQm5SIES3k",
    "outputId": "a9d71cd3-28ba-4929-bd5d-77d8780d5468"
   },
   "outputs": [
    {
     "data": {
      "text/html": [
       "<div>\n",
       "<style scoped>\n",
       "    .dataframe tbody tr th:only-of-type {\n",
       "        vertical-align: middle;\n",
       "    }\n",
       "\n",
       "    .dataframe tbody tr th {\n",
       "        vertical-align: top;\n",
       "    }\n",
       "\n",
       "    .dataframe thead th {\n",
       "        text-align: right;\n",
       "    }\n",
       "</style>\n",
       "<table border=\"1\" class=\"dataframe\">\n",
       "  <thead>\n",
       "    <tr style=\"text-align: right;\">\n",
       "      <th></th>\n",
       "      <th>Peso ( Kg )</th>\n",
       "      <th>ItemCode</th>\n",
       "      <th>Descripción del artículo</th>\n",
       "    </tr>\n",
       "  </thead>\n",
       "  <tbody>\n",
       "    <tr>\n",
       "      <th>0</th>\n",
       "      <td>0.2</td>\n",
       "      <td>100402405101</td>\n",
       "      <td>Almendra Cubierta Con Chocolate De Leche Bl 20...</td>\n",
       "    </tr>\n",
       "    <tr>\n",
       "      <th>1</th>\n",
       "      <td>0.2</td>\n",
       "      <td>140201405101</td>\n",
       "      <td>Cranberry Entero  Cubierta Chocolate Bitter Bl...</td>\n",
       "    </tr>\n",
       "    <tr>\n",
       "      <th>2</th>\n",
       "      <td>0.2</td>\n",
       "      <td>140202405101</td>\n",
       "      <td>Cranberry Cubierta Chocolate Leche Bl. 200 Gr.</td>\n",
       "    </tr>\n",
       "    <tr>\n",
       "      <th>4</th>\n",
       "      <td>1.0</td>\n",
       "      <td>100402409101</td>\n",
       "      <td>Almendras Cubiertas Con Chocolate De Leche Bl ...</td>\n",
       "    </tr>\n",
       "    <tr>\n",
       "      <th>8</th>\n",
       "      <td>1.0</td>\n",
       "      <td>140201409102</td>\n",
       "      <td>Cranberry Entero  Cubierta Chocolate Bitter Bl...</td>\n",
       "    </tr>\n",
       "    <tr>\n",
       "      <th>9</th>\n",
       "      <td>1.0</td>\n",
       "      <td>140202408102</td>\n",
       "      <td>Cranberry Cubierta Chocolate Leche Bl. 1Kg</td>\n",
       "    </tr>\n",
       "    <tr>\n",
       "      <th>10</th>\n",
       "      <td>1.0</td>\n",
       "      <td>140202409101</td>\n",
       "      <td>Cranberry Cubierta Chocolate Leche Bl. 5Kg</td>\n",
       "    </tr>\n",
       "    <tr>\n",
       "      <th>11</th>\n",
       "      <td>1.0</td>\n",
       "      <td>140203409101</td>\n",
       "      <td>Cranberry Cubierta Chocolate Blanco Bl. 5Kg</td>\n",
       "    </tr>\n",
       "    <tr>\n",
       "      <th>12</th>\n",
       "      <td>0.2</td>\n",
       "      <td>100401405101</td>\n",
       "      <td>Almendra Cubierta Con Chocolate Bitter Bl 200Gr.</td>\n",
       "    </tr>\n",
       "    <tr>\n",
       "      <th>13</th>\n",
       "      <td>0.2</td>\n",
       "      <td>260501405101</td>\n",
       "      <td>Mani Cubierta Chocolate Bitter Bl. 200Gr.</td>\n",
       "    </tr>\n",
       "    <tr>\n",
       "      <th>14</th>\n",
       "      <td>0.2</td>\n",
       "      <td>260502405101</td>\n",
       "      <td>Mani Cubierta Chocolate Leche Bl. 200Gr.</td>\n",
       "    </tr>\n",
       "    <tr>\n",
       "      <th>16</th>\n",
       "      <td>1.0</td>\n",
       "      <td>100401409101</td>\n",
       "      <td>Almendra Cubiertas Con Chocolate Bitter Cj 5 Kg.</td>\n",
       "    </tr>\n",
       "    <tr>\n",
       "      <th>18</th>\n",
       "      <td>1.0</td>\n",
       "      <td>260501408102</td>\n",
       "      <td>Mani Cubierta Chocolate Bitter Bl. 1Kg</td>\n",
       "    </tr>\n",
       "    <tr>\n",
       "      <th>19</th>\n",
       "      <td>1.0</td>\n",
       "      <td>260501409102</td>\n",
       "      <td>Mani Cubierta Chocolate Bitter Bl. 5Kg</td>\n",
       "    </tr>\n",
       "    <tr>\n",
       "      <th>21</th>\n",
       "      <td>1.0</td>\n",
       "      <td>260502409101</td>\n",
       "      <td>Mani Cubierta Chocolate Leche Bl. 5Kg</td>\n",
       "    </tr>\n",
       "  </tbody>\n",
       "</table>\n",
       "</div>"
      ],
      "text/plain": [
       "    Peso ( Kg )      ItemCode  \\\n",
       "0           0.2  100402405101   \n",
       "1           0.2  140201405101   \n",
       "2           0.2  140202405101   \n",
       "4           1.0  100402409101   \n",
       "8           1.0  140201409102   \n",
       "9           1.0  140202408102   \n",
       "10          1.0  140202409101   \n",
       "11          1.0  140203409101   \n",
       "12          0.2  100401405101   \n",
       "13          0.2  260501405101   \n",
       "14          0.2  260502405101   \n",
       "16          1.0  100401409101   \n",
       "18          1.0  260501408102   \n",
       "19          1.0  260501409102   \n",
       "21          1.0  260502409101   \n",
       "\n",
       "                             Descripción del artículo  \n",
       "0   Almendra Cubierta Con Chocolate De Leche Bl 20...  \n",
       "1   Cranberry Entero  Cubierta Chocolate Bitter Bl...  \n",
       "2      Cranberry Cubierta Chocolate Leche Bl. 200 Gr.  \n",
       "4   Almendras Cubiertas Con Chocolate De Leche Bl ...  \n",
       "8   Cranberry Entero  Cubierta Chocolate Bitter Bl...  \n",
       "9          Cranberry Cubierta Chocolate Leche Bl. 1Kg  \n",
       "10         Cranberry Cubierta Chocolate Leche Bl. 5Kg  \n",
       "11        Cranberry Cubierta Chocolate Blanco Bl. 5Kg  \n",
       "12   Almendra Cubierta Con Chocolate Bitter Bl 200Gr.  \n",
       "13          Mani Cubierta Chocolate Bitter Bl. 200Gr.  \n",
       "14           Mani Cubierta Chocolate Leche Bl. 200Gr.  \n",
       "16   Almendra Cubiertas Con Chocolate Bitter Cj 5 Kg.  \n",
       "18             Mani Cubierta Chocolate Bitter Bl. 1Kg  \n",
       "19             Mani Cubierta Chocolate Bitter Bl. 5Kg  \n",
       "21              Mani Cubierta Chocolate Leche Bl. 5Kg  "
      ]
     },
     "execution_count": 8,
     "metadata": {},
     "output_type": "execute_result"
    },
    {
     "name": "stdout",
     "output_type": "stream",
     "text": [
      "time: 15 ms (started: 2022-03-06 00:34:00 -03:00)\n"
     ]
    }
   ],
   "source": [
    "# Vemos como quedó el df\n",
    "df_items"
   ]
  },
  {
   "cell_type": "markdown",
   "metadata": {
    "id": "pScpccJz3M21"
   },
   "source": [
    "Continuamos con el renombramiento final de las columnas de cada dataframe"
   ]
  },
  {
   "cell_type": "code",
   "execution_count": 9,
   "metadata": {
    "colab": {
     "base_uri": "https://localhost:8080/"
    },
    "id": "TjSKnWW6ES59",
    "outputId": "5d4a696b-af85-4c88-b13f-1332411d365e"
   },
   "outputs": [
    {
     "name": "stdout",
     "output_type": "stream",
     "text": [
      "time: 0 ns (started: 2022-03-06 00:34:00 -03:00)\n"
     ]
    }
   ],
   "source": [
    "def refactor(cols, df):\n",
    "    newDf = df.copy()\n",
    "    newDf.rename(columns = cols, inplace = True)\n",
    "    return newDf\n",
    "\n",
    "df_sales = refactor({\n",
    "    'VentaNeta' : 'venta_neta',\n",
    "    'CodCliente' : 'cod_cliente',\n",
    "    'Número de documento' : 'num_documento',\n",
    "    'Descripción del artículo' : 'description',\n",
    "    'CodVendedor' : 'cod_vendedor',\n",
    "    'Fecha' : 'fecha',\n",
    "    'Kilombos' : 'kilombos'\n",
    "    }, df_sales)\n",
    "df_items = refactor({\n",
    "    'Peso ( Kg )' : 'peso',\n",
    "    'ItemCode' : 'item_code',\n",
    "    'Descripción del artículo' : 'description',\n",
    "    }, df_items)\n",
    "df_salesperson = refactor({'Codigo Vendedor' : 'codigo_vendedor'}, df_salesperson)\n",
    "df_temperature = refactor({'Fecha' : 'fecha', 'Temperatura media Cº' : 'temperatura_media'}, df_temperature)"
   ]
  },
  {
   "cell_type": "markdown",
   "metadata": {
    "id": "GKAot0W2Uewa"
   },
   "source": [
    "### Anonimización de Descripciones"
   ]
  },
  {
   "cell_type": "code",
   "execution_count": 10,
   "metadata": {
    "colab": {
     "base_uri": "https://localhost:8080/"
    },
    "id": "967NG4wFES-t",
    "outputId": "7f70e018-bbcf-4d08-893d-b6526a04b862"
   },
   "outputs": [
    {
     "name": "stdout",
     "output_type": "stream",
     "text": [
      "Productos no encontrados\n",
      "['Almendra Cubiertas Con Chocolate Bitter Bl 1 Kg.', 'Almendras Cubiertas Con Chocolate De Leche Bl 1 Kg', 'Cranberry Entero  Cubierta Chocolate Bitter Bl. 1Kg', 'Mani Cubierta Chocolate Leche Bl. 1Kg.']\n",
      "time: 0 ns (started: 2022-03-06 00:34:00 -03:00)\n"
     ]
    }
   ],
   "source": [
    "# Conseguimos las descripciones unicas para ventas e listado de productos\n",
    "items = np.unique(df_items['description'])\n",
    "sales = np.unique(df_sales['description'])\n",
    "\n",
    "# Vemos los productos que no están en listado de productos\n",
    "registro_encontrado = []\n",
    "registro_no_encontrado = []\n",
    "for i in sales:\n",
    "  if i in items:\n",
    "    registro_encontrado.append(i)\n",
    "  else:\n",
    "    registro_no_encontrado.append(i)\n",
    "# Imprimimos los no encontrados\n",
    "print('Productos no encontrados')\n",
    "print(registro_no_encontrado)"
   ]
  },
  {
   "cell_type": "markdown",
   "metadata": {
    "id": "72f_R8OAcbba"
   },
   "source": [
    "Notamos que hay Items que no están en el listado de productos\n",
    "\n",
    "Por lo mis, la tabla <code>Items</code> no contiene la totalidad de los posibles productos a vender. Por otro lado, las descripciones de la columna <code>description</code> en la tabla <code>SalesFact</code> ya entregan la información necesaria de cada producto.\n",
    "\n",
    "Por lo anterior, no se utilizará la tabla <code>Items</code> para continuar el procesamiento de datos, y solo se considerarán los registros de la columna <code>description</code> de <code>df_sales</code>. Se re-codificará con un diccionario."
   ]
  },
  {
   "cell_type": "code",
   "execution_count": 11,
   "metadata": {
    "colab": {
     "base_uri": "https://localhost:8080/",
     "height": 441
    },
    "id": "utmfIQiIdAUf",
    "outputId": "51245ead-98f9-4d44-d15a-fa1cc2e32b07"
   },
   "outputs": [
    {
     "data": {
      "text/html": [
       "<div>\n",
       "<style scoped>\n",
       "    .dataframe tbody tr th:only-of-type {\n",
       "        vertical-align: middle;\n",
       "    }\n",
       "\n",
       "    .dataframe tbody tr th {\n",
       "        vertical-align: top;\n",
       "    }\n",
       "\n",
       "    .dataframe thead th {\n",
       "        text-align: right;\n",
       "    }\n",
       "</style>\n",
       "<table border=\"1\" class=\"dataframe\">\n",
       "  <thead>\n",
       "    <tr style=\"text-align: right;\">\n",
       "      <th></th>\n",
       "      <th>venta_neta</th>\n",
       "      <th>cod_cliente</th>\n",
       "      <th>num_documento</th>\n",
       "      <th>cod_vendedor</th>\n",
       "      <th>fecha</th>\n",
       "      <th>description</th>\n",
       "      <th>kilombos</th>\n",
       "    </tr>\n",
       "  </thead>\n",
       "  <tbody>\n",
       "    <tr>\n",
       "      <th>0</th>\n",
       "      <td>58172.0</td>\n",
       "      <td>C77196968</td>\n",
       "      <td>1054011</td>\n",
       "      <td>11</td>\n",
       "      <td>5-Apr-21</td>\n",
       "      <td>Almendra Cubierta Con Chocolate Bitter Bl 200Gr.</td>\n",
       "      <td>6.0</td>\n",
       "    </tr>\n",
       "    <tr>\n",
       "      <th>1</th>\n",
       "      <td>116345.0</td>\n",
       "      <td>C76047944</td>\n",
       "      <td>1065766</td>\n",
       "      <td>4</td>\n",
       "      <td>11-Aug-21</td>\n",
       "      <td>Almendra Cubierta Con Chocolate Bitter Bl 200Gr.</td>\n",
       "      <td>12.0</td>\n",
       "    </tr>\n",
       "    <tr>\n",
       "      <th>2</th>\n",
       "      <td>116344.0</td>\n",
       "      <td>C76047944</td>\n",
       "      <td>1071927</td>\n",
       "      <td>4</td>\n",
       "      <td>20-Oct-21</td>\n",
       "      <td>Almendra Cubierta Con Chocolate Bitter Bl 200Gr.</td>\n",
       "      <td>12.0</td>\n",
       "    </tr>\n",
       "    <tr>\n",
       "      <th>3</th>\n",
       "      <td>116345.0</td>\n",
       "      <td>T00000581</td>\n",
       "      <td>1044987</td>\n",
       "      <td>38</td>\n",
       "      <td>3-Nov-20</td>\n",
       "      <td>Almendra Cubierta Con Chocolate Bitter Bl 200Gr.</td>\n",
       "      <td>12.0</td>\n",
       "    </tr>\n",
       "    <tr>\n",
       "      <th>4</th>\n",
       "      <td>116345.0</td>\n",
       "      <td>T00000377</td>\n",
       "      <td>1055172</td>\n",
       "      <td>38</td>\n",
       "      <td>21-Apr-21</td>\n",
       "      <td>Almendra Cubierta Con Chocolate Bitter Bl 200Gr.</td>\n",
       "      <td>12.0</td>\n",
       "    </tr>\n",
       "    <tr>\n",
       "      <th>...</th>\n",
       "      <td>...</td>\n",
       "      <td>...</td>\n",
       "      <td>...</td>\n",
       "      <td>...</td>\n",
       "      <td>...</td>\n",
       "      <td>...</td>\n",
       "      <td>...</td>\n",
       "    </tr>\n",
       "    <tr>\n",
       "      <th>5958</th>\n",
       "      <td>33614.0</td>\n",
       "      <td>C76856428</td>\n",
       "      <td>1073400</td>\n",
       "      <td>11</td>\n",
       "      <td>9-Nov-21</td>\n",
       "      <td>Mani Cubierta Chocolate Leche Bl. 5Kg</td>\n",
       "      <td>5.0</td>\n",
       "    </tr>\n",
       "    <tr>\n",
       "      <th>5959</th>\n",
       "      <td>33613.0</td>\n",
       "      <td>C76856428</td>\n",
       "      <td>1074486</td>\n",
       "      <td>11</td>\n",
       "      <td>25-Nov-21</td>\n",
       "      <td>Mani Cubierta Chocolate Leche Bl. 5Kg</td>\n",
       "      <td>5.0</td>\n",
       "    </tr>\n",
       "    <tr>\n",
       "      <th>5960</th>\n",
       "      <td>67227.0</td>\n",
       "      <td>C77137814</td>\n",
       "      <td>1074961</td>\n",
       "      <td>38</td>\n",
       "      <td>2-Dec-21</td>\n",
       "      <td>Mani Cubierta Chocolate Leche Bl. 5Kg</td>\n",
       "      <td>10.0</td>\n",
       "    </tr>\n",
       "    <tr>\n",
       "      <th>5961</th>\n",
       "      <td>33613.0</td>\n",
       "      <td>C16686358</td>\n",
       "      <td>1074945</td>\n",
       "      <td>38</td>\n",
       "      <td>2-Dec-21</td>\n",
       "      <td>Mani Cubierta Chocolate Leche Bl. 5Kg</td>\n",
       "      <td>5.0</td>\n",
       "    </tr>\n",
       "    <tr>\n",
       "      <th>5962</th>\n",
       "      <td>55311.0</td>\n",
       "      <td>C77158644</td>\n",
       "      <td>1075007</td>\n",
       "      <td>4</td>\n",
       "      <td>3-Dec-21</td>\n",
       "      <td>Almendra Cubierta Con Chocolate De Leche Bl 20...</td>\n",
       "      <td>6.0</td>\n",
       "    </tr>\n",
       "  </tbody>\n",
       "</table>\n",
       "<p>5963 rows × 7 columns</p>\n",
       "</div>"
      ],
      "text/plain": [
       "      venta_neta cod_cliente  num_documento  cod_vendedor      fecha  \\\n",
       "0        58172.0   C77196968        1054011            11   5-Apr-21   \n",
       "1       116345.0   C76047944        1065766             4  11-Aug-21   \n",
       "2       116344.0   C76047944        1071927             4  20-Oct-21   \n",
       "3       116345.0   T00000581        1044987            38   3-Nov-20   \n",
       "4       116345.0   T00000377        1055172            38  21-Apr-21   \n",
       "...          ...         ...            ...           ...        ...   \n",
       "5958     33614.0   C76856428        1073400            11   9-Nov-21   \n",
       "5959     33613.0   C76856428        1074486            11  25-Nov-21   \n",
       "5960     67227.0   C77137814        1074961            38   2-Dec-21   \n",
       "5961     33613.0   C16686358        1074945            38   2-Dec-21   \n",
       "5962     55311.0   C77158644        1075007             4   3-Dec-21   \n",
       "\n",
       "                                            description  kilombos  \n",
       "0      Almendra Cubierta Con Chocolate Bitter Bl 200Gr.       6.0  \n",
       "1      Almendra Cubierta Con Chocolate Bitter Bl 200Gr.      12.0  \n",
       "2      Almendra Cubierta Con Chocolate Bitter Bl 200Gr.      12.0  \n",
       "3      Almendra Cubierta Con Chocolate Bitter Bl 200Gr.      12.0  \n",
       "4      Almendra Cubierta Con Chocolate Bitter Bl 200Gr.      12.0  \n",
       "...                                                 ...       ...  \n",
       "5958              Mani Cubierta Chocolate Leche Bl. 5Kg       5.0  \n",
       "5959              Mani Cubierta Chocolate Leche Bl. 5Kg       5.0  \n",
       "5960              Mani Cubierta Chocolate Leche Bl. 5Kg      10.0  \n",
       "5961              Mani Cubierta Chocolate Leche Bl. 5Kg       5.0  \n",
       "5962  Almendra Cubierta Con Chocolate De Leche Bl 20...       6.0  \n",
       "\n",
       "[5963 rows x 7 columns]"
      ]
     },
     "execution_count": 11,
     "metadata": {},
     "output_type": "execute_result"
    },
    {
     "name": "stdout",
     "output_type": "stream",
     "text": [
      "time: 15 ms (started: 2022-03-06 00:34:00 -03:00)\n"
     ]
    }
   ],
   "source": [
    "df_sales"
   ]
  },
  {
   "cell_type": "code",
   "execution_count": 12,
   "metadata": {
    "colab": {
     "base_uri": "https://localhost:8080/"
    },
    "id": "RO9RCOPsdAXB",
    "outputId": "e9b10d82-73ec-4324-9603-709b1f4b55d8"
   },
   "outputs": [
    {
     "name": "stdout",
     "output_type": "stream",
     "text": [
      "Productos ['AA1' 'AB1' 'AA2' 'AA3' 'AB2' 'AB3' 'BB1' 'BB3' 'BA2' 'BA3' 'BA1' 'CA1'\n",
      " 'CA3' 'CB2' 'CB1' 'CB3']\n",
      "Grupos ['AA' 'AB' 'BB' 'BA' 'CA' 'CB']\n",
      "time: 16 ms (started: 2022-03-06 00:34:00 -03:00)\n"
     ]
    }
   ],
   "source": [
    "sales_description_dict = {\n",
    "    \"Almendra Cubierta Con Chocolate Bitter Bl 200Gr.\" : \"AA1\", \n",
    "    \"Almendra Cubierta Con Chocolate De Leche Bl 200Gr.\" : \"AB1\",\n",
    "    \"Almendra Cubiertas Con Chocolate Bitter Bl 1 Kg.\" : \"AA2\",\n",
    "    \"Almendra Cubiertas Con Chocolate Bitter Cj 5 Kg.\" : \"AA3\",\n",
    "    \"Almendras Cubiertas Con Chocolate De Leche Bl 1 Kg\" : \"AB2\",\n",
    "    \"Almendras Cubiertas Con Chocolate De Leche Bl 5 Kg\" : \"AB3\",\n",
    "    \"Cranberry Cubierta Chocolate Leche Bl. 200 Gr.\" : \"BB1\",\n",
    "    \"Cranberry Cubierta Chocolate Leche Bl. 5Kg\" : \"BB3\", #BB2 no existe pero se salta para evitar confusiones\n",
    "    \"Cranberry Entero  Cubierta Chocolate Bitter Bl. 1Kg\" : \"BA2\",\n",
    "    \"Cranberry Entero  Cubierta Chocolate Bitter Bl. 5Kg\" : \"BA3\",\n",
    "    \"Cranberry Entero  Cubierta Chocolate Bitter Bl.200 Gr.\" : \"BA1\",\n",
    "    \"Mani Cubierta Chocolate Bitter Bl. 200Gr.\" : \"CA1\",\n",
    "    \"Mani Cubierta Chocolate Bitter Bl. 5Kg\" : \"CA3\", #CA2 no existe pero se salta para evitar confusiones\n",
    "    \"Mani Cubierta Chocolate Leche Bl. 1Kg.\" : \"CB2\",\n",
    "    \"Mani Cubierta Chocolate Leche Bl. 200Gr.\" : \"CB1\",\n",
    "    \"Mani Cubierta Chocolate Leche Bl. 5Kg\" : \"CB3\"\n",
    "}\n",
    "# Anonimizamos\n",
    "df_sales['description'] = df_sales['description'].replace(sales_description_dict)\n",
    "# Agregamos el grupo al que corresponden\n",
    "df_sales['grupo'] = df_sales['description'].apply(lambda x: x[0:2])\n",
    "#Verificamos la anonimización\n",
    "print('Productos', df_sales['description'].unique())\n",
    "print('Grupos', df_sales['grupo'].unique())"
   ]
  },
  {
   "cell_type": "markdown",
   "metadata": {},
   "source": [
    "### Recodificación de atributo temporal"
   ]
  },
  {
   "cell_type": "code",
   "execution_count": 13,
   "metadata": {
    "colab": {
     "base_uri": "https://localhost:8080/"
    },
    "id": "s7iymNQK6ft4",
    "outputId": "ceafa442-cf36-4438-c32f-0f34c2b143cd"
   },
   "outputs": [
    {
     "name": "stdout",
     "output_type": "stream",
     "text": [
      "time: 1.09 s (started: 2022-03-06 00:34:00 -03:00)\n"
     ]
    }
   ],
   "source": [
    "# Refactorizamos la columna fecha\n",
    "df_sales['ds'] = df_sales['fecha'].apply(lambda date: pd.to_datetime(date, format='%d-%b-%y')).sort_values(ascending=True)\n",
    "df_sales['ds-monthYear'] = df_sales['ds'].dt.strftime('%Y-%m')\n",
    "df_sales['ds-weekYear'] = df_sales['ds'].dt.strftime('%Y-%U')\n",
    "df_sales.drop(columns = ['fecha'],\n",
    "              inplace = True)"
   ]
  },
  {
   "cell_type": "markdown",
   "metadata": {
    "id": "mbaL3Eb6Lm6V"
   },
   "source": [
    "### Recodificación de tipos de datos"
   ]
  },
  {
   "cell_type": "code",
   "execution_count": 14,
   "metadata": {
    "colab": {
     "base_uri": "https://localhost:8080/"
    },
    "id": "QcGIQVaBLl5-",
    "outputId": "23884d92-f697-497d-810d-4b1455e4e638"
   },
   "outputs": [
    {
     "name": "stdout",
     "output_type": "stream",
     "text": [
      "time: 15 ms (started: 2022-03-06 00:34:01 -03:00)\n"
     ]
    }
   ],
   "source": [
    "df_sales.venta_neta.astype('float64')\n",
    "df_sales.cod_cliente.astype('str')\n",
    "df_sales.num_documento.astype('int32')\n",
    "df_sales.cod_vendedor.astype('int32')\n",
    "df_sales.description.astype('str')\n",
    "df_sales.kilombos.astype('float64')\n",
    "df_temperature.fecha = pd.to_datetime(df_temperature['fecha'], format = '%d/%m/%Y')\n",
    "df_temperature.temperatura_media.astype('float64');"
   ]
  },
  {
   "cell_type": "code",
   "execution_count": 15,
   "metadata": {
    "colab": {
     "base_uri": "https://localhost:8080/"
    },
    "id": "0Zdl0Dnhz2M8",
    "outputId": "948ea490-8106-4148-ac89-2049757f2093"
   },
   "outputs": [
    {
     "data": {
      "text/plain": [
       "venta_neta              float64\n",
       "cod_cliente              object\n",
       "num_documento             int64\n",
       "cod_vendedor              int64\n",
       "description              object\n",
       "kilombos                float64\n",
       "grupo                    object\n",
       "ds               datetime64[ns]\n",
       "ds-monthYear             object\n",
       "ds-weekYear              object\n",
       "dtype: object"
      ]
     },
     "execution_count": 15,
     "metadata": {},
     "output_type": "execute_result"
    },
    {
     "name": "stdout",
     "output_type": "stream",
     "text": [
      "time: 0 ns (started: 2022-03-06 00:34:02 -03:00)\n"
     ]
    }
   ],
   "source": [
    " # Comprobamos la asignación correcta de tipos de dato por columna\n",
    "df_sales.dtypes"
   ]
  },
  {
   "cell_type": "code",
   "execution_count": 16,
   "metadata": {
    "colab": {
     "base_uri": "https://localhost:8080/"
    },
    "id": "eg5_WsTJyg15",
    "outputId": "b4455084-e221-49f5-afea-45913f3ab1ef"
   },
   "outputs": [
    {
     "data": {
      "text/plain": [
       "fecha                datetime64[ns]\n",
       "temperatura_media           float64\n",
       "dtype: object"
      ]
     },
     "execution_count": 16,
     "metadata": {},
     "output_type": "execute_result"
    },
    {
     "name": "stdout",
     "output_type": "stream",
     "text": [
      "time: 0 ns (started: 2022-03-06 00:34:02 -03:00)\n"
     ]
    }
   ],
   "source": [
    "df_temperature.dtypes"
   ]
  },
  {
   "cell_type": "markdown",
   "metadata": {
    "id": "cxJwc-Vk4JmT"
   },
   "source": [
    "### Análisis de datos anómalos\n",
    "\n",
    "#### Datos Anómalos"
   ]
  },
  {
   "cell_type": "code",
   "execution_count": 17,
   "metadata": {},
   "outputs": [
    {
     "data": {
      "text/plain": [
       "description\n",
       "AA1     102\n",
       "AA2       1\n",
       "AA3    1069\n",
       "AB1      83\n",
       "AB2       1\n",
       "AB3     733\n",
       "BA1     105\n",
       "BA2       1\n",
       "BA3    1318\n",
       "BB1      74\n",
       "BB3     657\n",
       "CA1      85\n",
       "CA3     897\n",
       "CB1      89\n",
       "CB2       1\n",
       "CB3     747\n",
       "dtype: int64"
      ]
     },
     "execution_count": 17,
     "metadata": {},
     "output_type": "execute_result"
    },
    {
     "name": "stdout",
     "output_type": "stream",
     "text": [
      "time: 0 ns (started: 2022-03-06 00:34:02 -03:00)\n"
     ]
    }
   ],
   "source": [
    "# Verificamos que quedaron anonimizadas\n",
    "df_sales.groupby(['description']).size()"
   ]
  },
  {
   "cell_type": "code",
   "execution_count": 18,
   "metadata": {},
   "outputs": [
    {
     "data": {
      "text/plain": [
       "description\n",
       "AA1     102\n",
       "AA3    1069\n",
       "AB1      83\n",
       "AB3     733\n",
       "BA1     105\n",
       "BA3    1318\n",
       "BB1      74\n",
       "BB3     657\n",
       "CA1      85\n",
       "CA3     897\n",
       "CB1      89\n",
       "CB3     747\n",
       "dtype: int64"
      ]
     },
     "execution_count": 18,
     "metadata": {},
     "output_type": "execute_result"
    },
    {
     "name": "stdout",
     "output_type": "stream",
     "text": [
      "time: 0 ns (started: 2022-03-06 00:34:02 -03:00)\n"
     ]
    }
   ],
   "source": [
    "# Eliminamos los que aparecen una vez\n",
    "df_clean = df_sales[~df_sales['description'].isin(['AA2', 'AB2', 'BA2', 'CB2'])]\n",
    "df_clean.groupby(['description']).size()"
   ]
  },
  {
   "cell_type": "markdown",
   "metadata": {},
   "source": [
    "#### Anulaciones"
   ]
  },
  {
   "cell_type": "code",
   "execution_count": 19,
   "metadata": {
    "colab": {
     "base_uri": "https://localhost:8080/"
    },
    "id": "2ewFPy6DdAiD",
    "outputId": "2a3bd012-9d1b-4222-99ec-0bec519535cf"
   },
   "outputs": [
    {
     "name": "stdout",
     "output_type": "stream",
     "text": [
      "Anulaciones \n",
      "Cantidad de anulaciones: 89 \n",
      "Cantidad de num_documento de anulaciones (operaciones por comprador):  47\n",
      "count     89.000000\n",
      "mean     -11.400000\n",
      "std       18.228599\n",
      "min     -100.000000\n",
      "25%      -10.000000\n",
      "50%       -5.000000\n",
      "75%       -5.000000\n",
      "max       -0.200000\n",
      "Name: kilombos, dtype: float64\n",
      "-1014.5999999999999\n"
     ]
    },
    {
     "data": {
      "text/plain": [
       "55657.4"
      ]
     },
     "execution_count": 19,
     "metadata": {},
     "output_type": "execute_result"
    },
    {
     "name": "stdout",
     "output_type": "stream",
     "text": [
      "time: 15 ms (started: 2022-03-06 00:34:02 -03:00)\n"
     ]
    }
   ],
   "source": [
    "# Definición de anulaciones: kilos de transacción menores a 0\n",
    "df_sales_cancelled = df_clean[df_clean['kilombos'] < 0]\n",
    "print('Anulaciones', '\\nCantidad de anulaciones:', df_sales_cancelled.shape[0], '\\nCantidad de num_documento de anulaciones (operaciones por comprador): ', len(np.unique(df_sales_cancelled['num_documento'])))\n",
    "print(df_sales_cancelled['kilombos'].describe())\n",
    "print(df_sales_cancelled['kilombos'].sum())\n",
    "df_clean[df_clean['kilombos'] > 0]['kilombos'].sum()"
   ]
  },
  {
   "cell_type": "markdown",
   "metadata": {},
   "source": [
    "Notamos que hay 89 registros de devolución, repartidas en 47 documentos distintos. Creemos entonces que lo mejor es dejar estos datos "
   ]
  },
  {
   "cell_type": "markdown",
   "metadata": {},
   "source": [
    "#### Outliers"
   ]
  },
  {
   "cell_type": "code",
   "execution_count": 20,
   "metadata": {},
   "outputs": [
    {
     "data": {
      "text/plain": [
       "Index(['venta_neta', 'cod_cliente', 'num_documento', 'cod_vendedor',\n",
       "       'description', 'kilombos', 'grupo', 'ds', 'ds-monthYear',\n",
       "       'ds-weekYear'],\n",
       "      dtype='object')"
      ]
     },
     "execution_count": 20,
     "metadata": {},
     "output_type": "execute_result"
    },
    {
     "name": "stdout",
     "output_type": "stream",
     "text": [
      "time: 0 ns (started: 2022-03-06 00:34:02 -03:00)\n"
     ]
    }
   ],
   "source": [
    "df_clean.columns"
   ]
  },
  {
   "cell_type": "code",
   "execution_count": 21,
   "metadata": {},
   "outputs": [
    {
     "name": "stdout",
     "output_type": "stream",
     "text": [
      "time: 1.67 s (started: 2022-03-06 00:34:02 -03:00)\n"
     ]
    }
   ],
   "source": [
    "# Identificamos la media y desviacion estandar por semana\n",
    "df_sales_weekly = df_clean.groupby(['ds-weekYear', 'grupo']).agg({'kilombos' : ['mean', 'std']})\n",
    "df_sales_weekly.columns = ['mean', 'std']\n",
    "df_sales_weekly.reset_index(inplace = True)\n",
    "# Creamos un hash para identificar las semanas\n",
    "weeks = {}\n",
    "for i, series in df_sales_weekly.iterrows():\n",
    "    if(series['ds-weekYear'] not in weeks.keys()):\n",
    "        weeks[series['ds-weekYear']] = {}\n",
    "    weeks[series['ds-weekYear']][series['grupo']] = {\n",
    "        'mean' : series['mean'],\n",
    "        'std' : series['std']\n",
    "    }\n",
    "def checkOutlier(x, mean, std, steps):\n",
    "    if(x > mean + steps * std or x < mean - steps * std):\n",
    "        return 1\n",
    "    else:\n",
    "        return 0\n",
    "# Marcamos los valores que no cumplen con la media y desviacion estandar\n",
    "for i, row in df_clean.iterrows():\n",
    "    mean = weeks[row['ds-weekYear']][row['grupo']]['mean']\n",
    "    std = weeks[row['ds-weekYear']][row['grupo']]['std']\n",
    "    if row['ds-weekYear'] in weeks:\n",
    "        df_clean.at[i, 'outlier-1'] = checkOutlier(row['kilombos'], mean, std, 1)\n",
    "        df_clean.at[i, 'outlier-2'] = checkOutlier(row['kilombos'], mean, std, 2)\n",
    "        df_clean.at[i, 'outlier-3'] = checkOutlier(row['kilombos'], mean, std, 3)\n",
    "        df_clean.at[i, 'outlier-1-5'] = checkOutlier(row['kilombos'], mean, std, 1.5)\n",
    "    else:\n",
    "        print('Semana no encontrada', row['ds-weekYear'], row['grupo'])\n",
    "        df_clean.at[i, 'outlier-1'] = 1\n",
    "        df_clean.at[i, 'outlier-2'] = 1\n",
    "        df_clean.at[i, 'outlier-3'] = 1\n",
    "        df_clean.at[i, 'outlier-1-5'] = 1\n"
   ]
  },
  {
   "cell_type": "code",
   "execution_count": 22,
   "metadata": {},
   "outputs": [
    {
     "data": {
      "image/png": "[encoded data removed]",
      "text/plain": [
       "<Figure size 1440x1440 with 4 Axes>"
      ]
     },
     "metadata": {
      "needs_background": "light"
     },
     "output_type": "display_data"
    },
    {
     "name": "stdout",
     "output_type": "stream",
     "text": [
      "time: 2.92 s (started: 2022-03-06 00:34:04 -03:00)\n"
     ]
    }
   ],
   "source": [
    "# Graficamos los outliers en la serie de kilos\n",
    "fig, ax = plt.subplots(4, 1,figsize=(20,20))\n",
    "sns.scatterplot(df_clean['ds'], df_clean['kilombos'], hue = df_clean['outlier-1'], ax=ax[0])\n",
    "ax[0].set_title('Outliers con 1 desviación estandar')\n",
    "sns.scatterplot(df_clean['ds'], df_clean['kilombos'], hue = df_clean['outlier-1-5'], ax=ax[1])\n",
    "ax[1].set_title('Outliers con 1.5 desviaciones estandar')\n",
    "sns.scatterplot(df_clean['ds'], df_clean['kilombos'], hue = df_clean['outlier-2'], ax=ax[2])\n",
    "ax[2].set_title('Outliers con 2 desviaciones estandar')\n",
    "sns.scatterplot(df_clean['ds'], df_clean['kilombos'], hue = df_clean['outlier-3'], ax=ax[3])\n",
    "ax[3].set_title('Outliers con 3 desviaciones estandar')\n",
    "plt.tight_layout()"
   ]
  },
  {
   "cell_type": "code",
   "execution_count": 23,
   "metadata": {},
   "outputs": [
    {
     "data": {
      "image/png": "[encoded data removed]",
      "text/plain": [
       "<Figure size 1440x576 with 4 Axes>"
      ]
     },
     "metadata": {
      "needs_background": "light"
     },
     "output_type": "display_data"
    },
    {
     "name": "stdout",
     "output_type": "stream",
     "text": [
      "time: 1.17 s (started: 2022-03-06 00:34:07 -03:00)\n"
     ]
    }
   ],
   "source": [
    "# Graficamos el histograma de items con outliers\n",
    "fig, ax = plt.subplots(1, 4,figsize=(20,8))\n",
    "sns.histplot(data=df_clean, x='description', hue='outlier-1', ax=ax[0])\n",
    "ax[0].set_title('Outliers con 1 desviación estandar')\n",
    "sns.histplot(data=df_clean, x='description', hue='outlier-1-5', ax=ax[1])\n",
    "ax[1].set_title('Outliers con 1.5 desviaciones estandar')\n",
    "sns.histplot(data=df_clean, x='description', hue='outlier-2', ax=ax[2])\n",
    "ax[2].set_title('Outliers con 2 desviaciones estandar')\n",
    "sns.histplot(data=df_clean, x='description', hue='outlier-3', ax=ax[3])\n",
    "ax[3].set_title('Outliers con 3 desviaciones estandar')\n",
    "plt.tight_layout()"
   ]
  },
  {
   "cell_type": "markdown",
   "metadata": {},
   "source": [
    "Usaremos entonces 2 desviaciones estandar desde la media para identificar outliers"
   ]
  },
  {
   "cell_type": "code",
   "execution_count": 24,
   "metadata": {},
   "outputs": [
    {
     "data": {
      "text/plain": [
       "0.0    5631\n",
       "1.0     328\n",
       "Name: outlier-2, dtype: int64"
      ]
     },
     "execution_count": 24,
     "metadata": {},
     "output_type": "execute_result"
    },
    {
     "name": "stdout",
     "output_type": "stream",
     "text": [
      "time: 0 ns (started: 2022-03-06 00:34:08 -03:00)\n"
     ]
    }
   ],
   "source": [
    "# Vemos la distriución de datos sacados de la serie de kilos\n",
    "df_clean['outlier-2'].value_counts()"
   ]
  },
  {
   "cell_type": "code",
   "execution_count": 25,
   "metadata": {},
   "outputs": [
    {
     "name": "stdout",
     "output_type": "stream",
     "text": [
      "time: 0 ns (started: 2022-03-06 00:34:08 -03:00)\n"
     ]
    }
   ],
   "source": [
    "#Sacamos los outliers\n",
    "df_clean_outliers = df_clean[df_clean['outlier-2'] == 0]"
   ]
  },
  {
   "cell_type": "code",
   "execution_count": 26,
   "metadata": {},
   "outputs": [
    {
     "name": "stdout",
     "output_type": "stream",
     "text": [
      "<class 'pandas.core.frame.DataFrame'>\n",
      "Int64Index: 5631 entries, 0 to 5962\n",
      "Data columns (total 14 columns):\n",
      " #   Column         Non-Null Count  Dtype         \n",
      "---  ------         --------------  -----         \n",
      " 0   venta_neta     5631 non-null   float64       \n",
      " 1   cod_cliente    5631 non-null   object        \n",
      " 2   num_documento  5631 non-null   int64         \n",
      " 3   cod_vendedor   5631 non-null   int64         \n",
      " 4   description    5631 non-null   object        \n",
      " 5   kilombos       5631 non-null   float64       \n",
      " 6   grupo          5631 non-null   object        \n",
      " 7   ds             5631 non-null   datetime64[ns]\n",
      " 8   ds-monthYear   5631 non-null   object        \n",
      " 9   ds-weekYear    5631 non-null   object        \n",
      " 10  outlier-1      5631 non-null   float64       \n",
      " 11  outlier-2      5631 non-null   float64       \n",
      " 12  outlier-3      5631 non-null   float64       \n",
      " 13  outlier-1-5    5631 non-null   float64       \n",
      "dtypes: datetime64[ns](1), float64(6), int64(2), object(5)\n",
      "memory usage: 659.9+ KB\n",
      "time: 0 ns (started: 2022-03-06 00:34:08 -03:00)\n"
     ]
    }
   ],
   "source": [
    "df_clean_outliers.info()"
   ]
  },
  {
   "cell_type": "code",
   "execution_count": null,
   "metadata": {},
   "outputs": [],
   "source": []
  },
  {
   "cell_type": "code",
   "execution_count": null,
   "metadata": {},
   "outputs": [],
   "source": []
  },
  {
   "cell_type": "code",
   "execution_count": null,
   "metadata": {},
   "outputs": [],
   "source": []
  },
  {
   "cell_type": "markdown",
   "metadata": {},
   "source": [
    "Agrupación"
   ]
  },
  {
   "cell_type": "code",
   "execution_count": 27,
   "metadata": {},
   "outputs": [
    {
     "name": "stdout",
     "output_type": "stream",
     "text": [
      "time: 16 ms (started: 2022-03-06 00:34:09 -03:00)\n"
     ]
    }
   ],
   "source": [
    "# Transformamos las fechas de cada semana a pd.Int64Index\n",
    "def convertWeeklyIndex(df):\n",
    "    # Desde 2019-13 a 2021-48 hay 134 semanas\n",
    "    año = 2019\n",
    "    semana = 13\n",
    "    index = 1\n",
    "    indexes = []\n",
    "    debugLabels = []\n",
    "    while True:\n",
    "        cero = '0' if semana < 10 else ''\n",
    "        label = f'{año}-{cero}{semana}'\n",
    "        if label in df.index:\n",
    "            debugLabels.append(label)\n",
    "            indexes.append(index)\n",
    "        if label == '2021-48':\n",
    "            break\n",
    "        index += 1\n",
    "        semana += 1\n",
    "        if semana == 54:\n",
    "            semana = 0\n",
    "            año += 1\n",
    "    # Creamos un nuevo DataFrame con las fechas de las semanas\n",
    "\n",
    "    newIndex = pd.RangeIndex.from_range(indexes)\n",
    "    intWeekly = df.copy()\n",
    "    try :\n",
    "        intWeekly.index = newIndex\n",
    "    except:\n",
    "        # Buscar el index en df que no esta en debugLabels\n",
    "        notFound = list(filter(lambda x: x not in debugLabels, df.index))\n",
    "        print(notFound)\n",
    "    return intWeekly\n",
    "\n",
    "# Transformamos las fechas de cada semana a pd.Int64Index\n",
    "def convertMonthlyIndex(df):\n",
    "    # Desde 2019-13 a 2021-48 hay 134 semanas\n",
    "    año = 2019\n",
    "    mes = 4\n",
    "    index = 1\n",
    "    indexes = []\n",
    "    debugLabels = []\n",
    "    while True:\n",
    "        cero = '0' if mes < 10 else ''\n",
    "        label = f'{año}-{cero}{mes}'\n",
    "        if label in df.index:\n",
    "            debugLabels.append(label)\n",
    "            indexes.append(index)\n",
    "        if label == '2021-12':\n",
    "            break\n",
    "        index += 1\n",
    "        mes += 1\n",
    "        if mes > 12:\n",
    "            mes = 1\n",
    "            año += 1\n",
    "    # Creamos un nuevo DataFrame con las fechas de las semanas\n",
    "\n",
    "    newIndex = pd.RangeIndex.from_range(indexes)\n",
    "    intWeekly = df.copy()\n",
    "    try :\n",
    "        intWeekly.index = newIndex\n",
    "    except:\n",
    "        # Buscar el index en df que no esta en debugLabels\n",
    "        notFound = list(filter(lambda x: x not in debugLabels, df.index))\n",
    "        print(notFound)\n",
    "    return intWeekly"
   ]
  },
  {
   "cell_type": "code",
   "execution_count": 28,
   "metadata": {},
   "outputs": [
    {
     "name": "stdout",
     "output_type": "stream",
     "text": [
      "time: 0 ns (started: 2022-03-06 00:34:09 -03:00)\n"
     ]
    }
   ],
   "source": [
    "def preprocessSeries(subDf, freq = 'D'):\n",
    "    filler = MissingValuesFiller(fill=0.)\n",
    "    #Instanciamos\n",
    "    itemTimeSeries = TimeSeries.from_dataframe(subDf, None, value_cols=['kilombos_sum', 'kilombos_std', 'kilombos_max', 'kilombos_median'], freq=freq)\n",
    "    # Completamos valores faltantes\n",
    "    itemTimeSeries = filler.transform(itemTimeSeries)\n",
    "    # Separamos los datos en train y test\n",
    "    train, test = itemTimeSeries.split_before(0.8)\n",
    "    # Separamos las covariantes\n",
    "    scaled_train_covs = concatenate(\n",
    "        [\n",
    "            train['kilombos_max'],\n",
    "            train['kilombos_std'],\n",
    "            train['kilombos_median'],\n",
    "        ],\n",
    "        axis=\"component\",\n",
    "    )\n",
    "    scaled_test_covs = concatenate(\n",
    "        [\n",
    "            test['kilombos_max'],\n",
    "            test['kilombos_std'],\n",
    "            test['kilombos_median'],\n",
    "        ],\n",
    "        axis=\"component\",\n",
    "    )\n",
    "    return {\n",
    "        'df': subDf,\n",
    "        'series': itemTimeSeries,\n",
    "        'train': {\n",
    "            'target': train['kilombos_sum'],\n",
    "            'past_covars': scaled_train_covs,\n",
    "        },\n",
    "        'test': {\n",
    "            'target': test['kilombos_sum'],\n",
    "            'past_covars': scaled_test_covs,\n",
    "        }\n",
    "    }"
   ]
  },
  {
   "cell_type": "code",
   "execution_count": 29,
   "metadata": {},
   "outputs": [
    {
     "name": "stdout",
     "output_type": "stream",
     "text": [
      "time: 203 ms (started: 2022-03-06 00:34:09 -03:00)\n"
     ]
    }
   ],
   "source": [
    "# Agrupamos según fecha y grupo\n",
    "groupedDailyDf = df_clean_outliers.groupby(['ds', 'grupo']).agg({'kilombos': ['sum', 'max', 'min', 'mean', 'median', 'std']})\n",
    "groupedDailyDf.columns = ['_'.join(col).strip() for col in groupedDailyDf.columns.values]\n",
    "# Creamos un diccionario para guardar las series\n",
    "series = {}\n",
    "# Conseguimos según grupo\n",
    "for itemCode in groupedDailyDf.index.get_level_values(1).unique():\n",
    "    subDf = groupedDailyDf[groupedDailyDf.index.get_level_values(1) == itemCode].sort_values(by='ds')\n",
    "    if(subDf.shape[0] > 1):\n",
    "        subDf.index = subDf.index.droplevel(1)\n",
    "        processed_series = preprocessSeries(subDf, freq='D')\n",
    "        # Agregamos los datos al diccionario\n",
    "        series[itemCode] = processed_series\n",
    "# Conseguimos los totales\n",
    "groupedTotalDailyDf = df_clean_outliers.groupby(['ds']).agg({'kilombos': ['sum', 'max', 'min', 'mean', 'median', 'std']})\n",
    "groupedTotalDailyDf.columns = ['_'.join(col).strip() for col in groupedTotalDailyDf.columns.values]\n",
    "series['total'] = preprocessSeries(groupedTotalDailyDf, freq='D')\n"
   ]
  },
  {
   "cell_type": "code",
   "execution_count": 30,
   "metadata": {},
   "outputs": [
    {
     "ename": "TypeError",
     "evalue": "RangeIndex(...) must be called with object coercible to a range, [1, 4, 6, 7, 8, 9, 10, 11, 13, 14, 15, 17, 18, 19, 20, 21, 22, 23, 24, 26, 27, 28, 29, 30, 31, 32, 33, 34, 35, 36, 38, 39, 40, 43, 44, 45, 46, 47, 48, 49, 50, 51, 52, 53, 54, 55, 56, 57, 58, 60, 61, 62, 63, 64, 65, 66, 67, 68, 69, 70, 71, 72, 73, 74, 75, 76, 77, 78, 79, 80, 81, 82, 83, 84, 85, 86, 87, 88, 89, 90, 91, 92, 93, 94, 97, 98, 99, 100, 101, 102, 103, 104, 105, 106, 107, 108, 109, 110, 111, 112, 113, 114, 115, 116, 117, 118, 119, 120, 121, 122, 123, 124, 125, 126, 127, 128, 129, 130, 131, 132, 133, 134, 135, 136, 137, 138, 139, 140, 141, 142, 143, 144] was passed",
     "output_type": "error",
     "traceback": [
      "\u001b[1;31m---------------------------------------------------------------------------\u001b[0m",
      "\u001b[1;31mTypeError\u001b[0m                                 Traceback (most recent call last)",
      "\u001b[1;32m~\\AppData\\Local\\Temp/ipykernel_38724/4213943161.py\u001b[0m in \u001b[0;36m<module>\u001b[1;34m\u001b[0m\n\u001b[0;32m      9\u001b[0m         \u001b[0msubDf\u001b[0m\u001b[1;33m.\u001b[0m\u001b[0mindex\u001b[0m \u001b[1;33m=\u001b[0m \u001b[0msubDf\u001b[0m\u001b[1;33m.\u001b[0m\u001b[0mindex\u001b[0m\u001b[1;33m.\u001b[0m\u001b[0mdroplevel\u001b[0m\u001b[1;33m(\u001b[0m\u001b[1;36m1\u001b[0m\u001b[1;33m)\u001b[0m\u001b[1;33m\u001b[0m\u001b[1;33m\u001b[0m\u001b[0m\n\u001b[0;32m     10\u001b[0m         \u001b[1;31m# Convertimos los indices a pd.Int64Index\u001b[0m\u001b[1;33m\u001b[0m\u001b[1;33m\u001b[0m\u001b[1;33m\u001b[0m\u001b[0m\n\u001b[1;32m---> 11\u001b[1;33m         \u001b[0msubDf\u001b[0m \u001b[1;33m=\u001b[0m \u001b[0mconvertWeeklyIndex\u001b[0m\u001b[1;33m(\u001b[0m\u001b[0msubDf\u001b[0m\u001b[1;33m)\u001b[0m\u001b[1;33m\u001b[0m\u001b[1;33m\u001b[0m\u001b[0m\n\u001b[0m\u001b[0;32m     12\u001b[0m         \u001b[0mprocessed_series\u001b[0m \u001b[1;33m=\u001b[0m \u001b[0mpreprocessSeries\u001b[0m\u001b[1;33m(\u001b[0m\u001b[0msubDf\u001b[0m\u001b[1;33m,\u001b[0m \u001b[0mfreq\u001b[0m\u001b[1;33m=\u001b[0m\u001b[1;34m'W'\u001b[0m\u001b[1;33m)\u001b[0m\u001b[1;33m\u001b[0m\u001b[1;33m\u001b[0m\u001b[0m\n\u001b[0;32m     13\u001b[0m         \u001b[1;31m# Agregamos los datos al diccionario\u001b[0m\u001b[1;33m\u001b[0m\u001b[1;33m\u001b[0m\u001b[1;33m\u001b[0m\u001b[0m\n",
      "\u001b[1;32m~\\AppData\\Local\\Temp/ipykernel_38724/22907000.py\u001b[0m in \u001b[0;36mconvertWeeklyIndex\u001b[1;34m(df)\u001b[0m\n\u001b[0;32m     22\u001b[0m     \u001b[1;31m# Creamos un nuevo DataFrame con las fechas de las semanas\u001b[0m\u001b[1;33m\u001b[0m\u001b[1;33m\u001b[0m\u001b[1;33m\u001b[0m\u001b[0m\n\u001b[0;32m     23\u001b[0m \u001b[1;33m\u001b[0m\u001b[0m\n\u001b[1;32m---> 24\u001b[1;33m     \u001b[0mnewIndex\u001b[0m \u001b[1;33m=\u001b[0m \u001b[0mpd\u001b[0m\u001b[1;33m.\u001b[0m\u001b[0mRangeIndex\u001b[0m\u001b[1;33m.\u001b[0m\u001b[0mfrom_range\u001b[0m\u001b[1;33m(\u001b[0m\u001b[0mindexes\u001b[0m\u001b[1;33m)\u001b[0m\u001b[1;33m\u001b[0m\u001b[1;33m\u001b[0m\u001b[0m\n\u001b[0m\u001b[0;32m     25\u001b[0m     \u001b[0mintWeekly\u001b[0m \u001b[1;33m=\u001b[0m \u001b[0mdf\u001b[0m\u001b[1;33m.\u001b[0m\u001b[0mcopy\u001b[0m\u001b[1;33m(\u001b[0m\u001b[1;33m)\u001b[0m\u001b[1;33m\u001b[0m\u001b[1;33m\u001b[0m\u001b[0m\n\u001b[0;32m     26\u001b[0m     \u001b[1;32mtry\u001b[0m \u001b[1;33m:\u001b[0m\u001b[1;33m\u001b[0m\u001b[1;33m\u001b[0m\u001b[0m\n",
      "\u001b[1;32m~\\anaconda3\\lib\\site-packages\\pandas\\core\\indexes\\range.py\u001b[0m in \u001b[0;36mfrom_range\u001b[1;34m(cls, data, name, dtype)\u001b[0m\n\u001b[0;32m    158\u001b[0m         \"\"\"\n\u001b[0;32m    159\u001b[0m         \u001b[1;32mif\u001b[0m \u001b[1;32mnot\u001b[0m \u001b[0misinstance\u001b[0m\u001b[1;33m(\u001b[0m\u001b[0mdata\u001b[0m\u001b[1;33m,\u001b[0m \u001b[0mrange\u001b[0m\u001b[1;33m)\u001b[0m\u001b[1;33m:\u001b[0m\u001b[1;33m\u001b[0m\u001b[1;33m\u001b[0m\u001b[0m\n\u001b[1;32m--> 160\u001b[1;33m             raise TypeError(\n\u001b[0m\u001b[0;32m    161\u001b[0m                 \u001b[1;34mf\"{cls.__name__}(...) must be called with object coercible to a \"\u001b[0m\u001b[1;33m\u001b[0m\u001b[1;33m\u001b[0m\u001b[0m\n\u001b[0;32m    162\u001b[0m                 \u001b[1;34mf\"range, {repr(data)} was passed\"\u001b[0m\u001b[1;33m\u001b[0m\u001b[1;33m\u001b[0m\u001b[0m\n",
      "\u001b[1;31mTypeError\u001b[0m: RangeIndex(...) must be called with object coercible to a range, [1, 4, 6, 7, 8, 9, 10, 11, 13, 14, 15, 17, 18, 19, 20, 21, 22, 23, 24, 26, 27, 28, 29, 30, 31, 32, 33, 34, 35, 36, 38, 39, 40, 43, 44, 45, 46, 47, 48, 49, 50, 51, 52, 53, 54, 55, 56, 57, 58, 60, 61, 62, 63, 64, 65, 66, 67, 68, 69, 70, 71, 72, 73, 74, 75, 76, 77, 78, 79, 80, 81, 82, 83, 84, 85, 86, 87, 88, 89, 90, 91, 92, 93, 94, 97, 98, 99, 100, 101, 102, 103, 104, 105, 106, 107, 108, 109, 110, 111, 112, 113, 114, 115, 116, 117, 118, 119, 120, 121, 122, 123, 124, 125, 126, 127, 128, 129, 130, 131, 132, 133, 134, 135, 136, 137, 138, 139, 140, 141, 142, 143, 144] was passed"
     ]
    },
    {
     "name": "stdout",
     "output_type": "stream",
     "text": [
      "time: 47 ms (started: 2022-03-06 00:34:09 -03:00)\n"
     ]
    }
   ],
   "source": [
    "# Agrupamos por semana y grupo\n",
    "groupedWeeklyDf = df_clean_outliers.groupby(['ds-weekYear', 'grupo']).agg({'kilombos': ['sum', 'max', 'min', 'mean', 'median', 'std']})\n",
    "groupedWeeklyDf.columns = ['_'.join(col).strip() for col in groupedWeeklyDf.columns.values]\n",
    "# Iteramos por los grupos\n",
    "weekly_series = {}\n",
    "for itemCode in groupedWeeklyDf.index.get_level_values(1).unique():\n",
    "    subDf = groupedWeeklyDf[groupedWeeklyDf.index.get_level_values(1) == itemCode].sort_values(by='ds-weekYear')\n",
    "    if(subDf.shape[0] > 1):\n",
    "        subDf.index = subDf.index.droplevel(1)\n",
    "        # Convertimos los indices a pd.Int64Index\n",
    "        subDf = convertWeeklyIndex(subDf)\n",
    "        processed_series = preprocessSeries(subDf, freq='W')\n",
    "        # Agregamos los datos al diccionario\n",
    "        weekly_series[itemCode] = processed_series\n",
    "# Agrupamos los totales semana\n",
    "groupedTotalWeeklyDf = df_clean_outliers.groupby(['ds-weekYear']).agg({'kilombos': ['sum', 'max', 'min', 'mean', 'median', 'std']})\n",
    "groupedTotalWeeklyDf.columns = ['_'.join(col).strip() for col in groupedTotalWeeklyDf.columns.values]\n",
    "# Convertimos a pd.Int64Index\n",
    "groupedTotalWeeklyDf = convertWeeklyIndex(groupedTotalWeeklyDf)\n",
    "# Agregamos los datos al diccionario\n",
    "weekly_series['total'] = preprocessSeries(groupedTotalWeeklyDf, freq='W')"
   ]
  },
  {
   "cell_type": "code",
   "execution_count": null,
   "metadata": {},
   "outputs": [],
   "source": [
    "# Agrupamos según mes y gurpo\n",
    "groupedMonthlyDf = df_clean_outliers.groupby(['ds-monthYear', 'grupo']).agg({'kilombos': ['sum', 'max', 'min', 'mean', 'median', 'std']})\n",
    "groupedMonthlyDf.columns = ['_'.join(col).strip() for col in groupedMonthlyDf.columns.values]\n",
    "monthly_series = {}\n",
    "for itemCode in groupedMonthlyDf.index.get_level_values(1).unique():\n",
    "    subDf = groupedMonthlyDf[groupedMonthlyDf.index.get_level_values(1) == itemCode].sort_values(by='ds-monthYear')\n",
    "    if(subDf.shape[0] > 1):\n",
    "        subDf.index = subDf.index.droplevel(1)\n",
    "        # Convertimos los indices a pd.Int64Index\n",
    "        subDf = convertMonthlyIndex(subDf)\n",
    "        processed_series = preprocessSeries(subDf, freq='M')\n",
    "        # Agregamos los datos al diccionario\n",
    "        monthly_series[itemCode] = processed_series\n",
    "# Agrupamos los totales semana\n",
    "groupedTotalMonthlyDf = df_clean_outliers.groupby(['ds-monthYear']).agg({'kilombos': ['sum', 'max', 'min', 'mean', 'median', 'std']})\n",
    "groupedTotalMonthlyDf.columns = ['_'.join(col).strip() for col in groupedTotalMonthlyDf.columns.values]\n",
    "# Convertimos a pd.Int64Index\n",
    "groupedTotalMonthlyDf = convertMonthlyIndex(groupedTotalMonthlyDf)\n",
    "# Agregamos los datos al diccionario\n",
    "monthly_series['total'] = preprocessSeries(groupedTotalMonthlyDf, freq='M')\n"
   ]
  },
  {
   "cell_type": "markdown",
   "metadata": {
    "id": "-e6hyh_LbB29"
   },
   "source": [
    "Se quitaron las cancelaciones\n",
    "\n",
    "Ahora se van a crear columnas para tener la fecha separada: separación por días, semanas y meses: revisar factibilidad y si es posible, agrupar en nuevos dataframe separados"
   ]
  },
  {
   "cell_type": "code",
   "execution_count": null,
   "metadata": {
    "colab": {
     "base_uri": "https://localhost:8080/"
    },
    "id": "Tt8bCAfNr2wC",
    "outputId": "aafbb082-bd77-4d6b-ea7e-7d4b7aa0de59"
   },
   "outputs": [],
   "source": [
    "sales_AA = df_sales2[df_sales2.description.str.contains('AA', regex = True, na = False)]\n",
    "sales_AB = df_sales2[df_sales2.description.str.contains('AB', regex = True, na = False)]\n",
    "sales_BA = df_sales2[df_sales2.description.str.contains('BA', regex = True, na = False)]\n",
    "sales_BB = df_sales2[df_sales2.description.str.contains('BB', regex = True, na = False)]\n",
    "sales_CA = df_sales2[df_sales2.description.str.contains('CA', regex = True, na = False)]\n",
    "sales_CB = df_sales2[df_sales2.description.str.contains('CB', regex = True, na = False)]"
   ]
  },
  {
   "cell_type": "markdown",
   "metadata": {
    "id": "kgTOt2FD83GF"
   },
   "source": [
    "Agrupaciones temporales\n",
    "\n",
    "Se generarán los conjuntos de datos considerando:\n",
    "1. División temporal con totalidad de productos: agrupación diaria, semanal y mensual.\n",
    "2. División temporal por producto: considerando los 6 tipos de producto, se realizarán las mismas agrupaciones temporales de 1."
   ]
  },
  {
   "cell_type": "markdown",
   "metadata": {
    "id": "3rLS5ferKWJi"
   },
   "source": [
    "Datos de temperatura y tiempo\n",
    "\n",
    "Fuente: Dirección General de Aeronáutica Civil (DGAC), Dirección Meteorológica de Chile, Servicios Climáticos, temperatura media diaria en grados Celsius de Estación Quinta Normal (Región Metropolitana).\n",
    "\n",
    "Diario: temperatura\n",
    "Semanal y mensual: promedio de temperatura media de días correspondientes."
   ]
  },
  {
   "cell_type": "code",
   "execution_count": null,
   "metadata": {
    "colab": {
     "base_uri": "https://localhost:8080/"
    },
    "id": "5Rx0xKCkilZP",
    "outputId": "fc325e52-fb3c-4fc6-fd77-6a13f31186f9"
   },
   "outputs": [],
   "source": [
    "df_temperature_week = pd.DataFrame(df_temperature.groupby([pd.Grouper(key = 'fecha', freq = 'W-MON', label = 'left')])['temperatura_media'].mean())\n",
    "df_temperature_month = pd.DataFrame(df_temperature.groupby([pd.Grouper(key = 'fecha', freq = 'M', label = 'left')])['temperatura_media'].mean())"
   ]
  },
  {
   "cell_type": "code",
   "execution_count": null,
   "metadata": {
    "colab": {
     "base_uri": "https://localhost:8080/"
    },
    "id": "xVB_KEex4qfV",
    "outputId": "a800b417-8cd3-4545-d2a1-8c311ae93c0d"
   },
   "outputs": [],
   "source": [
    "#df_temperature_week y df_temperature_week ya tienen fecha como índice por la agrupación de la celda anterior\n",
    "\n",
    "df_temperature.set_index('fecha', inplace = True)"
   ]
  },
  {
   "cell_type": "markdown",
   "metadata": {
    "id": "qiH0q2jaH4dO"
   },
   "source": [
    "## Exploratorio\n",
    "\n",
    "### corregir describe\n",
    "\n",
    "agregar agrupación por otro criterio? \n",
    "1. agrupar df diario por semana y mes: poner rangos por mes, mínimos y máximos"
   ]
  },
  {
   "cell_type": "code",
   "execution_count": null,
   "metadata": {
    "colab": {
     "base_uri": "https://localhost:8080/"
    },
    "id": "uYO3KzCv02sZ",
    "outputId": "a6414831-18a6-4d65-f81c-543b48ea0216"
   },
   "outputs": [],
   "source": [
    "df_list = [sales_AA, sales_AB, sales_BA, sales_BB, sales_CA, sales_CB]\n",
    "\n",
    "for i in df_list:\n",
    "  print(i.describe())"
   ]
  },
  {
   "cell_type": "code",
   "execution_count": null,
   "metadata": {
    "colab": {
     "base_uri": "https://localhost:8080/"
    },
    "id": "sJwm3w4DicVa",
    "outputId": "a688b77b-c62f-4f92-e923-ac2fd3a177c0"
   },
   "outputs": [],
   "source": [
    "df_days_list = [AA_day, AB_day, BA_day, BB_day, CA_day, CB_day]\n",
    "df_weeks_list = [AA_week, AB_week, BA_week, BB_week, CA_week, CB_week]\n",
    "df_months_list = [AA_month, AB_month, BA_month, BB_month, CA_month, CB_month]"
   ]
  },
  {
   "cell_type": "code",
   "execution_count": null,
   "metadata": {
    "colab": {
     "base_uri": "https://localhost:8080/",
     "height": 1000
    },
    "id": "CNAw5hJ4ki8M",
    "outputId": "bad3c98a-90cf-4736-d813-6c1ff9d6af31"
   },
   "outputs": [],
   "source": [
    "#gráficos de agrupaciones diarias\n",
    "\n",
    "sns.set(font_scale = 0.7)\n",
    "plt.rcParams[\"figure.dpi\"] = 120 #DPI gráficos\n",
    "plt.rcParams[\"figure.figsize\"] = (20, 20)    \n",
    "\n",
    "for n, i in enumerate(df_days_list):\n",
    "    plt.subplot(6, 1, n+1)\n",
    "    ax = sns.lineplot(data = i,\n",
    "                      x = i.index, y = i['kilombos'])\n",
    "    plt.title('Distribución diaria de {}'.format(n)) #CORREGIR\n",
    "    plt.xlabel('Tiempo')\n",
    "    plt.ylabel('Kilos vendidos')"
   ]
  },
  {
   "cell_type": "code",
   "execution_count": null,
   "metadata": {
    "colab": {
     "base_uri": "https://localhost:8080/",
     "height": 1000
    },
    "id": "dj27WBOZkjEW",
    "outputId": "8d6edb10-27c9-4a9d-fe25-082f272e7eb0"
   },
   "outputs": [],
   "source": [
    "#gráficos de agrupaciones semanales\n",
    "\n",
    "sns.set(font_scale = 0.7)\n",
    "plt.rcParams[\"figure.dpi\"] = 120 #DPI gráficos\n",
    "plt.rcParams[\"figure.figsize\"] = (20, 20)    \n",
    "\n",
    "for n, i in enumerate(df_weeks_list):\n",
    "    plt.subplot(6, 1, n+1)\n",
    "    ax = sns.lineplot(data = i,\n",
    "                      x = i.index, y = i['kilombos'])\n",
    "    plt.title('Distribución diaria de {}'.format(n)) #CORREGIR\n",
    "    plt.xlabel('Tiempo')\n",
    "    plt.ylabel('Kilos vendidos')"
   ]
  },
  {
   "cell_type": "code",
   "execution_count": null,
   "metadata": {
    "colab": {
     "base_uri": "https://localhost:8080/",
     "height": 1000
    },
    "id": "65a3WRCO0yuR",
    "outputId": "b5c303ec-005e-40a7-9b54-1f801d237b79"
   },
   "outputs": [],
   "source": [
    "#gráficos de agrupaciones mensuales\n",
    "\n",
    "sns.set(font_scale = 0.7)\n",
    "plt.rcParams[\"figure.dpi\"] = 120 #DPI gráficos\n",
    "plt.rcParams[\"figure.figsize\"] = (20, 20)    \n",
    "\n",
    "for n, i in enumerate(df_months_list):\n",
    "    plt.subplot(6, 1, n+1)\n",
    "    ax = sns.lineplot(data = i,\n",
    "                      x = i.index, y = i['kilombos'])\n",
    "    plt.title('Distribución diaria de {}'.format(n)) #CORREGIR\n",
    "    plt.xlabel('Tiempo')\n",
    "    plt.ylabel('Kilos vendidos')"
   ]
  },
  {
   "cell_type": "markdown",
   "metadata": {},
   "source": [
    "La cantidad de días con venta 0 es alta. Esto se debe a que la cantidad de ventas no es tal como para tener cada día compra de cada tipo de producto. Junto con ello, se tienen los días domingo en los cuales la empresa no factura."
   ]
  },
  {
   "cell_type": "code",
   "execution_count": null,
   "metadata": {},
   "outputs": [],
   "source": [
    "#Agrupación diaria\n",
    "for i in df_days_list:\n",
    "    print('Filas sin venta: ', i[i['kilombos'] == 0].shape[0], '| Filas totales: ', i.shape[0], '| Porcentaje de filas sin venta: ', round((i[i['kilombos'] == 0].shape[0]/i.shape[0])*100, 1), '%')"
   ]
  },
  {
   "cell_type": "code",
   "execution_count": null,
   "metadata": {},
   "outputs": [],
   "source": [
    "#Agrupación semanal\n",
    "for i in df_weeks_list:\n",
    "    print('Filas sin venta: ', i[i['kilombos'] == 0].shape[0], '| Filas totales: ', i.shape[0], '| Porcentaje de filas sin venta: ', round((i[i['kilombos'] == 0].shape[0]/i.shape[0])*100, 1), '%')"
   ]
  },
  {
   "cell_type": "code",
   "execution_count": null,
   "metadata": {},
   "outputs": [],
   "source": [
    "#Agrupación mensual\n",
    "for i in df_months_list:\n",
    "    print('Filas sin venta: ', i[i['kilombos'] == 0].shape[0], '| Filas totales: ', i.shape[0], '| Porcentaje de filas sin venta: ', round((i[i['kilombos'] == 0].shape[0]/i.shape[0])*100, 1), '%')"
   ]
  },
  {
   "cell_type": "markdown",
   "metadata": {},
   "source": [
    "La grupación semanal tiene una cantidad de periodos sin venta proporcionalmente mucho menor a los conjuntos de datos diarios, y se acerca al objetivo del cliente: estimar mensualmente el stock de los productos. Por lo anterior, se continuará trabajando con esta temporalidad."
   ]
  },
  {
   "cell_type": "code",
   "execution_count": null,
   "metadata": {
    "colab": {
     "base_uri": "https://localhost:8080/",
     "height": 985
    },
    "id": "YSnBjYmd09ML",
    "outputId": "4e12d6a9-e0ea-4222-9bed-aa83d79a28fe"
   },
   "outputs": [],
   "source": [
    "sns.set(font_scale = 0.6)\n",
    "plt.rcParams[\"figure.dpi\"] = 120\n",
    "plt.rcParams[\"figure.figsize\"] = (10, 5)\n",
    "\n",
    "for n, i in enumerate(df_weeks_list):\n",
    "    plt.subplot(1, 6, n+1)\n",
    "    ax = sns.violinplot(data = i, y = i['kilombos'])\n",
    "    plt.ylim(0, 300)\n",
    "    plt.ylabel('Kilos vendidos')"
   ]
  },
  {
   "cell_type": "markdown",
   "metadata": {},
   "source": [
    "Respecto a la dsitribución de los datos:\n",
    "\n",
    "- Los productos A y B de primer tipo (productos 1 y 3) tienen mayor dispersión de venta. Son además los productos con menor cantidad de periodos sin venta, según las cifras anteriores.\n",
    "- Los productos C de ambos tipos son los que tienen, en conjunto, una mayor concentración en valores bajos. Son también los que presentan mayor cantidad de periodos con venta 0.\n",
    "- A pesar de la dispersión, el tercer cuartil solo supera los 100 kilos de venta semanal en el producto 3, mostrando una concentración de ventas de esta magnitud, o menor.\n",
    "- Se observa que los productos 2, 4 y 6 (tipo B) tienden a tener ventas de menor volumen."
   ]
  },
  {
   "cell_type": "code",
   "execution_count": null,
   "metadata": {},
   "outputs": [],
   "source": [
    "from scipy.stats import skew, kurtosis\n",
    "\n",
    "print('Análisis de conjuntos de datos semanales:\\n')\n",
    "print('Conjunto de datos AA_week, coeficiente de asimetría: ', round(skew(AA_week['kilombos']), 2), '| Curtosis: ', round(kurtosis(AA_week['kilombos']), 2))\n",
    "print('Conjunto de datos AB_week, coeficiente de asimetría: ', round(skew(AB_week['kilombos']), 2), '| Curtosis: ', round(kurtosis(AB_week['kilombos']), 2))\n",
    "print('Conjunto de datos BA_week, coeficiente de asimetría: ', round(skew(BA_week['kilombos']), 2), '| Curtosis: ', round(kurtosis(BA_week['kilombos']), 2))\n",
    "print('Conjunto de datos BB_week, coeficiente de asimetría: ', round(skew(BB_week['kilombos']), 2), '| Curtosis: ', round(kurtosis(BB_week['kilombos']), 2))\n",
    "print('Conjunto de datos CA_week, coeficiente de asimetría: ', round(skew(CA_week['kilombos']), 2), '| Curtosis: ', round(kurtosis(CA_week['kilombos']), 2))\n",
    "print('Conjunto de datos CB_week, coeficiente de asimetría: ', round(skew(CB_week['kilombos']), 2), '| Curtosis: ', round(kurtosis(CB_week['kilombos']), 2))"
   ]
  },
  {
   "cell_type": "markdown",
   "metadata": {},
   "source": [
    "Respecto al coeficiente de asimetría y curtosis (Fischer) para los conjuntos semanales, se tiene:\n",
    "- Todos los coeficientes de asimetría son mayores a 0: la distribución de valores se concentra en ventas mayores al promedio.\n",
    "- Los productos con distribuciones con mayor asimetría son los productos 1 y 4.\n",
    "- Las ventas con un comportamiento más cercano al de una distribución normal son las de los productos 5 y 6 (?)\n",
    "- Respecto a la curtosis, el producto 3 es el cual tiene montos de venta con que se acercan a una distribución mesocúrtica.\n",
    "- En el caso de los productos 1, 2 y 4 se presentan distribuciones leptocúrticas, con mayor cantidad de ventas semanales en torno a la media.\n",
    "- Los últimos dos productos presentan distribuciones platicúrticas, con curvas más achatadas y distribuciones más disperas.\n",
    "\n",
    "?? punto 1 (al revés?)"
   ]
  },
  {
   "cell_type": "markdown",
   "metadata": {
    "id": "RaJ-aw9GH9Ay"
   },
   "source": [
    "## Análisis relacionados con series de tiempo\n",
    "\n",
    "Importación de librerías para gráficos ACF Y PACF"
   ]
  },
  {
   "cell_type": "code",
   "execution_count": null,
   "metadata": {
    "colab": {
     "base_uri": "https://localhost:8080/"
    },
    "id": "mhURbQQOipHx",
    "outputId": "518eb551-3370-4a42-cf2b-5ee250d42866"
   },
   "outputs": [],
   "source": [
    "from statsmodels.graphics.tsaplots import plot_acf, plot_pacf\n"
   ]
  },
  {
   "cell_type": "code",
   "execution_count": null,
   "metadata": {},
   "outputs": [],
   "source": [
    "fig, ax = plt.subplots(3, 2, figsize = (20, 12))\n",
    "for i, ts in enumerate([series['total']['df']['kilombos_sum'], weekly_series['total']['df']['kilombos_sum'], monthly_series['total']['df']['kilombos_sum']]):\n",
    "    plot_acf(ts, ax=ax[i][0])\n",
    "    plot_pacf(ts, ax=ax[i][1], lags=15)\n",
    "ax[0][0].set_title('Auto-correlación diaria')\n",
    "ax[0][1].set_title('Auto-correlación parcial diaria')\n",
    "ax[1][0].set_title('Auto-correlación semanal')\n",
    "ax[1][1].set_title('Auto-correlación parcial semanal')\n",
    "ax[2][0].set_title('Auto-correlación mensual')\n",
    "ax[2][1].set_title('Auto-correlación parcial mensual');"
   ]
  },
  {
   "cell_type": "code",
   "execution_count": null,
   "metadata": {
    "colab": {
     "base_uri": "https://localhost:8080/",
     "height": 530
    },
    "id": "RUbPnGELhZwa",
    "outputId": "fb48b666-a865-428c-9f44-f0f3ece38a51"
   },
   "outputs": [],
   "source": [
    "sns.set(font_scale = 1.1)\n",
    "plt.rcParams[\"figure.dpi\"] = 120\n",
    "plt.rcParams[\"figure.figsize\"] = (10,6)\n",
    "\n",
    "AA_acf = plot_acf(AA_week.kilombos, lags = 100)\n",
    "plt.title(\"Conjunto de datos AA_weeks: Gráfico de autocorrelación con lags = 100\")"
   ]
  },
  {
   "cell_type": "code",
   "execution_count": null,
   "metadata": {
    "colab": {
     "base_uri": "https://localhost:8080/",
     "height": 530
    },
    "id": "do4-WLCzhZ0N",
    "outputId": "6815ed6e-abbe-460a-84b1-26e5f80cdd3a"
   },
   "outputs": [],
   "source": [
    "sns.set(font_scale = 1.1)\n",
    "plt.rcParams[\"figure.dpi\"] = 120\n",
    "plt.rcParams[\"figure.figsize\"] = (10, 6)\n",
    "\n",
    "AA_acf = plot_pacf(AA_week.kilombos)\n",
    "plt.title(\"Conjunto de datos AA_weeks: Gráfico de autocorrelación parcial\")"
   ]
  },
  {
   "cell_type": "markdown",
   "metadata": {},
   "source": [
    "Considerando como ejemplo el primer conjunto de datos con temporalidad semanal, se observan lags con grados de autorrelación parcial significativos, fuera de la banda mostrada. Se destacan los lags 1, 2, 3, 4 y 6 (semanas)."
   ]
  },
  {
   "cell_type": "markdown",
   "metadata": {
    "id": "z4epscn_kFlg"
   },
   "source": [
    "Guardar lags = 1, 2, 3, 4, 5, 7"
   ]
  },
  {
   "cell_type": "code",
   "execution_count": null,
   "metadata": {
    "colab": {
     "base_uri": "https://localhost:8080/",
     "height": 530
    },
    "id": "pcg2-J25hZ4V",
    "outputId": "25b5646e-d0a2-433e-f0c3-c12da8cd5b26"
   },
   "outputs": [],
   "source": [
    "sns.set(font_scale = 1.1)\n",
    "plt.rcParams[\"figure.dpi\"] = 120\n",
    "plt.rcParams[\"figure.figsize\"] = (10, 6)\n",
    "\n",
    "AA_acf = plot_pacf(CB_week.kilombos)\n",
    "plt.title(\"Conjunto de datos CB_weeks: Gráfico de autocorrelación parcial\")"
   ]
  },
  {
   "cell_type": "markdown",
   "metadata": {
    "id": "cuj1NwyNwFVh"
   },
   "source": [
    "Al repetir el ejercicio con el producto 6, los lags significativos se repiten, y se suma otro de 19 semanas."
   ]
  },
  {
   "cell_type": "markdown",
   "metadata": {
    "id": "-DogLJHI0RlN"
   },
   "source": [
    "gráficos df.rolling?"
   ]
  },
  {
   "cell_type": "code",
   "execution_count": null,
   "metadata": {
    "colab": {
     "base_uri": "https://localhost:8080/",
     "height": 516
    },
    "id": "PArDpSOSABbr",
    "outputId": "e9691d31-717b-4abd-eb1d-148359bdb261"
   },
   "outputs": [],
   "source": [
    "plt.plot(AA_week.kilombos.rolling(window = '7D').mean()) #opcional"
   ]
  },
  {
   "cell_type": "code",
   "execution_count": null,
   "metadata": {
    "colab": {
     "base_uri": "https://localhost:8080/",
     "height": 508
    },
    "id": "DUA2IZLOAOY9",
    "outputId": "b30f2ffb-7e85-4da1-f472-89eb48b7970d"
   },
   "outputs": [],
   "source": [
    "plt.plot(AA_week.kilombos.rolling(window = '7D').std()) #falla el output"
   ]
  },
  {
   "cell_type": "markdown",
   "metadata": {},
   "source": [
    "## Seasonal decomposition"
   ]
  },
  {
   "cell_type": "code",
   "execution_count": null,
   "metadata": {},
   "outputs": [],
   "source": [
    "from darts.utils.statistics import extract_trend_and_seasonality\n",
    "from darts.utils.utils import ModelMode"
   ]
  },
  {
   "cell_type": "code",
   "execution_count": null,
   "metadata": {},
   "outputs": [],
   "source": [
    "weekly_series['total']['series']['kilombos_sum']"
   ]
  },
  {
   "cell_type": "code",
   "execution_count": null,
   "metadata": {},
   "outputs": [],
   "source": [
    "trend, season = extract_trend_and_seasonality(weekly_series['total']['series']['kilombos_sum'], freq=52, model=ModelMode.ADDITIVE)\n",
    "fig, ax = plt.subplots(2, 1, figsize = (15, 10), sharex=True)\n",
    "trend.plot(ax=ax[0])\n",
    "ax[0].set_title('Tendencia')\n",
    "season.plot(ax=ax[1])\n",
    "ax[1].set_title('Estacionalidad')\n",
    "ax[1].set_xticklabels(['2019-13', '2021-48'])\n",
    "fig.autofmt_xdate()\n",
    "plt.tight_layout();"
   ]
  },
  {
   "cell_type": "code",
   "execution_count": null,
   "metadata": {
    "colab": {
     "base_uri": "https://localhost:8080/",
     "height": 776
    },
    "id": "w0OQcOT9sHI5",
    "outputId": "e82412d0-f9f8-459f-bd2f-9b35d3fae489"
   },
   "outputs": [],
   "source": [
    "sns.set(font_scale = 0.7)\n",
    "plt.rcParams[\"figure.dpi\"] = 120\n",
    "plt.rcParams[\"figure.figsize\"] = (10, 6)\n",
    "\n",
    "fig = decomposition.plot()\n",
    "\n",
    "fig.suptitle('Descomposión de la serie de tiempo de AA_week')\n",
    "plt.show()"
   ]
  },
  {
   "cell_type": "markdown",
   "metadata": {},
   "source": [
    "Al realizar una descomposición de la serie de tiempo del producto 1 (temporalidad semanal), es posible ver la tendencia creciente de ventas en el periodo. Para continuar con el análisis, se elegirá uno de los lags ya visualizados en el gráfico de PACF para que esa serie sea el nuevo conjunto de datos. Se revisará cada producto para realizar la misma tarea."
   ]
  },
  {
   "cell_type": "code",
   "execution_count": null,
   "metadata": {
    "colab": {
     "base_uri": "https://localhost:8080/",
     "height": 581
    },
    "id": "tK1HaMAKsHMt",
    "outputId": "fd3031bb-5802-4538-999d-2692eb0c81c7"
   },
   "outputs": [],
   "source": [
    "# lag = 1W, 2W, 3W, 4W, 5W y 6W\n",
    "\n",
    "AA_week['lag_1W'] = AA_week['kilombos'] - AA_week['kilombos'].shift(1)\n",
    "AA_week['lag_2W'] = AA_week['kilombos'] - AA_week['kilombos'].shift(2)\n",
    "AA_week['lag_3W'] = AA_week['kilombos'] - AA_week['kilombos'].shift(3)\n",
    "AA_week['lag_4W'] = AA_week['kilombos'] - AA_week['kilombos'].shift(4)\n",
    "AA_week['lag_6W'] = AA_week['kilombos'] - AA_week['kilombos'].shift(6)\n",
    "\n",
    "sns.set(font_scale = 0.8)\n",
    "plt.rcParams[\"figure.dpi\"] = 120\n",
    "plt.rcParams[\"figure.figsize\"] = (8, 5)\n",
    "plt.plot(AA_week.lag_1W)\n",
    "plt.title('Lag = 1 semana')\n",
    "plt.ylabel('Diferencia en kilos vendidos')"
   ]
  },
  {
   "cell_type": "markdown",
   "metadata": {
    "id": "r_zuFJXj-lsU"
   },
   "source": [
    "En este caso, al graficar la serie con lag de 1 semana, se observa que la curva ya no presenta la tendencia mostrada en la descomposición, por lo que esta serie será utilizada de aquí en adelante para la modelación. Sobre esta serie se chequea stationarity con el Augmented Dickey-Fuller Test."
   ]
  },
  {
   "cell_type": "code",
   "execution_count": null,
   "metadata": {
    "colab": {
     "base_uri": "https://localhost:8080/"
    },
    "id": "NxJEhfewsHUy",
    "outputId": "1f513a23-3eeb-447c-d5e2-bd3f79310afb"
   },
   "outputs": [],
   "source": [
    "def adf_test(series):\n",
    "  result = adfuller(series)\n",
    "  print(f'ADF Statistic: {result[0]}', '\\n', f'p-value: {result[1]}')"
   ]
  },
  {
   "cell_type": "code",
   "execution_count": null,
   "metadata": {
    "colab": {
     "base_uri": "https://localhost:8080/"
    },
    "id": "Le1or9LqsHZe",
    "outputId": "e37fed9b-94b7-4323-9ebc-e982daf4a5ab"
   },
   "outputs": [],
   "source": [
    "adf_test(AA_week.iloc[1:, 2])"
   ]
  },
  {
   "cell_type": "markdown",
   "metadata": {
    "id": "bcjl4wJRPWGf"
   },
   "source": [
    "Es una serie estacionaria, con un intervalo de confianza de un 95%."
   ]
  },
  {
   "cell_type": "markdown",
   "metadata": {
    "id": "XNrotcV1paTg"
   },
   "source": [
    "## Modelos\n",
    "\n",
    "1. Exponential Smoothing\n",
    "\n",
    "- Para datos con 1 variable\n",
    "- Utiliza una ponderación tal que las observaciones más alejadas (en el tiempo) tienen un peso menor, dando espacio a las más recientes.\n",
    "- Existe el Single Exponential Smoothing: datos sin tendencia, Double Exponential Smootinh: con tendencia y Triple Exponential Smoothing: incluye seasonality :D\n",
    "\n",
    "Trend y Seasonality pueden ser ajustados de forma lineal y exponencial.\n",
    "\n",
    "!! {información global, Darts solo tiene un tipo de modelo, que según los parámetros que muestra, parece ser del primer tipo: no hay hiperparámetros a ajustar que sugieran las otras modalidades}\n",
    "\n",
    "2. Kalman Forecaster\n",
    "\n",
    "Modelo predictivo que tiene filtro intermedio: usa una nueva serie de tiempo sin ruido, eliminado a través del método Kalman. Usado ampliamente en el área robótica y física, no encontré fuentes actualizadas que lo aplicaran para forecasting de ventas."
   ]
  },
  {
   "cell_type": "markdown",
   "metadata": {},
   "source": [
    "### ARIMA"
   ]
  },
  {
   "cell_type": "code",
   "execution_count": null,
   "metadata": {},
   "outputs": [],
   "source": [
    "# Creamos una instancia de ARIMA\n",
    "arima_model = ARIMA(p=9, d=1, q=4, seasonal_order=(1, 1, 1, 52))\n",
    "train = weekly_series['total']['train']['target']\n",
    "test = weekly_series['total']['test']['target']\n",
    "# Ajustamos el modelo\n",
    "arima_model.fit(train['kilombos_sum'])\n",
    "# Predecimos\n",
    "predictions = arima_model.predict(len(test))\n",
    "# Conseguimos las metricas de error\n",
    "prediction_mae = mae(test, predictions)\n",
    "prediction_mape = mape(test, predictions)"
   ]
  },
  {
   "cell_type": "code",
   "execution_count": null,
   "metadata": {},
   "outputs": [],
   "source": [
    "# Graficamos\n",
    "plt.figure(figsize=(20, 8))\n",
    "train.plot(label='Entrenamiento')\n",
    "test.plot(label='Validación')\n",
    "predictions.plot(label='Predicciones')\n",
    "plt.suptitle('Predicciones ARIMA')\n",
    "plt.title('MAE: ' + str(round(prediction_mae, 2)) + ' | MAPE: ' + str(round(prediction_mape, 2)));\n"
   ]
  },
  {
   "cell_type": "code",
   "execution_count": null,
   "metadata": {},
   "outputs": [],
   "source": [
    "print('MAE', mae(test, predictions))\n",
    "print('MAPE', mape(test, predictions))"
   ]
  },
  {
   "cell_type": "code",
   "execution_count": null,
   "metadata": {},
   "outputs": [],
   "source": [
    "ma"
   ]
  },
  {
   "cell_type": "markdown",
   "metadata": {},
   "source": [
    "Exponential Smoothing"
   ]
  },
  {
   "cell_type": "code",
   "execution_count": null,
   "metadata": {
    "colab": {
     "base_uri": "https://localhost:8080/"
    },
    "id": "kToxL_VqsHdi",
    "outputId": "6fee0907-1709-480e-e3f0-18fc4e98532f"
   },
   "outputs": [],
   "source": [
    "AA_week_model1_data = AA_week.drop(columns = ['kilombos', 'temperatura_media', 'lag_2W', 'lag_3W', 'lag_4W', 'lag_5W', 'lag_6W']) #se deja lag_1W\n",
    "AA_week_model1_data = AA_week_model1_data[1:]\n",
    "\n",
    "AA_week_train, AA_week_test = AA_week_model1_data[AA_week_model1_data.index <= '2021-10-31'], AA_week_model1_data[AA_week_model1_data.index > '2021-10-31']\n",
    "print(f'Cantidad de filas de dataframe original AA_week: {AA_week_model1_data.shape[0]}',\n",
    "      f'\\nCantidad de filas de conjunto de entrenamiento: {AA_week_train.shape[0]}',\n",
    "      f'\\nCantidad de filas de conjunto de validación: {AA_week_test.shape[0]}')"
   ]
  },
  {
   "cell_type": "code",
   "execution_count": null,
   "metadata": {},
   "outputs": [],
   "source": [
    "AA_week_model1_data"
   ]
  },
  {
   "cell_type": "code",
   "execution_count": null,
   "metadata": {
    "id": "aE7oFhdwsHiX"
   },
   "outputs": [],
   "source": [
    "AA_week_model1 = ExponentialSmoothing()\n",
    "AA_week_model1.fit(AA_week_train)\n",
    "AA_week_model1_fc = AA_week_model1.predict(len(AA_week_test), num_samples = 500)\n",
    "\n",
    "sns.set(font_scale = 0.7)\n",
    "plt.rcParams[\"figure.dpi\"] = 120 #DPI gráficos\n",
    "plt.rcParams[\"figure.figsize\"] = (20, 20)    \n",
    "\n",
    "sns.lineplot(data = AA_week_model1_data, x = AA_week_model1_data.index, y = AA_week_model1_data['kilombos'], label = 'data')\n",
    "sns.lineplot(data = AA_week_model1_fc, x = AA_week_model1_fc.index, y = AA_week_model1_fc['kilombos'], label = 'predicción')\n",
    "plt.legend()\n",
    "plt.show()"
   ]
  },
  {
   "cell_type": "markdown",
   "metadata": {
    "id": "UtwaDj53EOu0"
   },
   "source": [
    "Cálculo de MAPE y rho_risk (métrica propia de modelos probabilísticos)"
   ]
  },
  {
   "cell_type": "code",
   "execution_count": null,
   "metadata": {
    "colab": {
     "base_uri": "https://localhost:8080/"
    },
    "id": "LMrD6dHB41o8",
    "outputId": "966fbc07-572c-4c14-fc31-99a731c66133"
   },
   "outputs": [],
   "source": [
    "print(f'MAPE de la predicción: {mape(AA_week_test, AA_week_model1_fc)}')\n",
    "\n",
    "for rho in [0.05, 0.1, 0.5, 0.9, 0.95]:\n",
    "  rr = rho_risk(A_week_test, AA_week_model1_fc, rho = rho)\n",
    "  print(f'rho risk en cuartil {rho}: {rr}')"
   ]
  },
  {
   "cell_type": "code",
   "execution_count": null,
   "metadata": {
    "id": "-ATGHwy141sA"
   },
   "outputs": [],
   "source": []
  },
  {
   "cell_type": "markdown",
   "metadata": {
    "id": "hT5tgnyX30fc"
   },
   "source": [
    "# EXTRAS"
   ]
  },
  {
   "cell_type": "code",
   "execution_count": null,
   "metadata": {},
   "outputs": [],
   "source": [
    "AA_week_model1 = KalmanForecasting()\n",
    "AA_week_model1.fit(AA_week_train)\n",
    "AA_week_model1_fc = AA_week_model1.predict(len(AA_week_test), num_samples = 100)\n",
    "\n",
    "sns.set(font_scale = 0.7)\n",
    "plt.rcParams[\"figure.dpi\"] = 120 #DPI gráficos\n",
    "plt.rcParams[\"figure.figsize\"] = (20, 20)    \n",
    "\n",
    "sns.lineplot(data = AA_week_model1_data, x = AA_week_model1_data.index, y = AA_week_model1_data['kilombos'], label = 'data')\n",
    "sns.lineplot(data = AA_week_model1_fc, x = AA_week_model1_fc.index, y = AA_week_model1_fc['kilombos'], label = 'predicción')\n",
    "plt.legend()\n",
    "plt.show()"
   ]
  },
  {
   "cell_type": "code",
   "execution_count": null,
   "metadata": {
    "id": "iwmOrWaoG8JG"
   },
   "outputs": [],
   "source": [
    "plt.rcParams[\"figure.figsize\"] = (10, 10)\n",
    "\n",
    "for n, i in enumerate(df_weeks_list):\n",
    "    plt.subplot(6, 1, n+1)\n",
    "    ax = sns.boxplot(data = i,\n",
    "                     x = i['kilombos'])\n",
    "    plt.title('Distribución diaria de {}'.format(n)) #CORREGIR\n",
    "    plt.xlabel('Tiempo')\n",
    "    plt.ylabel('Kilos vendidos')"
   ]
  },
  {
   "cell_type": "code",
   "execution_count": null,
   "metadata": {
    "id": "hvJi2kmdZsJA"
   },
   "outputs": [],
   "source": [
    "df_sales2['day'] = df_sales2['fecha'].dt.day\n",
    "df_sales2['month'] = df_sales2['fecha'].dt.month\n",
    "df_sales2['year'] = df_sales2['fecha'].dt.year"
   ]
  },
  {
   "cell_type": "code",
   "execution_count": null,
   "metadata": {
    "id": "eFuH2K3FZsRb"
   },
   "outputs": [],
   "source": [
    "#borrar?\n",
    "df_sales_month = pd.DataFrame(df_sales2.groupby(['description', 'year', 'month']).sum())\n",
    "df_sales_day = pd.DataFrame(df_sales2.groupby(['description', 'year', 'month', 'day']).sum())"
   ]
  },
  {
   "cell_type": "code",
   "execution_count": null,
   "metadata": {
    "id": "0Dz5cb0-3gPG"
   },
   "outputs": [],
   "source": [
    "#no se ejecutó, no sirve\n",
    "\n",
    "df_sales_cancelled_clients = df_sales_cancelled['cod_cliente']\n",
    "df_sales_cancelled_dates = df_sales_cancelled['fecha']\n",
    "df_sales_transaction_cancelled2 = df_sales.cod_cliente.isin(df_sales_cancelled_clients)\n",
    "df_sales_transaction_cancelled2 = df_sales[df_sales_transaction_cancelled2]\n",
    "df_sales_transaction_cancelled2 = df_sales_transaction_cancelled2.fecha.isin(df_sales_cancelled_dates)\n",
    "df_sales_transaction_cancelled2 = df_sales_transaction_cancelled2[df_sales_transaction_cancelled2]"
   ]
  },
  {
   "cell_type": "code",
   "execution_count": null,
   "metadata": {
    "id": "K8i0WtVwVekF"
   },
   "outputs": [],
   "source": [
    "sns.set(font_scale = 0.7) #escalar fuente para acomodar a gráfico\n",
    "sns.set_style(\"darkgrid\")\n",
    "plt.rcParams[\"figure.figsize\"] = (5, 5) #escalar gráficos\n",
    "plt.rcParams[\"figure.dpi\"] = 120 #DPI gráficos (también modifica tamaño)\n",
    "\n",
    "ax = sns.countplot(x = df_all[\"pf_general\"])\n",
    "plt.title(f\"Distribución de vector atributo Caso 1\")\n",
    "\n",
    "plt.tight_layout()"
   ]
  },
  {
   "cell_type": "code",
   "execution_count": null,
   "metadata": {},
   "outputs": [],
   "source": [
    "ts = TimeSeries.from_dataframe(df_limpio, 'Fecha', 'Kilombos')\n",
    "ts = fill_missing_values(ts, \"auto\")\n",
    "\n",
    "train, val = ts.split_after(pd.Timestamp(\"20210906\"))\n",
    "train.plot(label=\"train\")\n",
    "val.plot(label=\"val\")"
   ]
  },
  {
   "cell_type": "code",
   "execution_count": null,
   "metadata": {},
   "outputs": [],
   "source": [
    "model = FFT(required_matches={'week'}, trend='exp', nr_freqs_to_keep=26)\n",
    "model.fit(train)\n",
    "pred_val = model.predict(len(val))\n",
    "\n",
    "train.plot(label=\"train\" )\n",
    "val.plot(label=\"val\")\n",
    "pred_val.plot(label=\"predict\")\n",
    "print(\"MAPE:\", mape(pred_val, val))"
   ]
  },
  {
   "cell_type": "markdown",
   "metadata": {},
   "source": [
    "Fuentes:\n",
    "    \n",
    "1. https://towardsdatascience.com/violin-plots-explained-fb1d115e023d\n",
    "2. https://machinelearningmastery.com/white-noise-time-series-python/#:~:text=A%20time%20series%20may%20be,other%20values%20in%20the%20series.\n",
    "3. https://medium.com/data-science-in-your-pocket/preprocessing-for-time-series-forecasting-3a331dbfb9c2\n",
    "4. https://towardsdatascience.com/violin-plots-explained-fb1d115e023d\n",
    "5.http://recursostic.educacion.es/descartes/web/materiales_didacticos/unidimensional_lbarrios/asimetria_est.htm\n",
    "6. "
   ]
  }
 ],
 "metadata": {
  "colab": {
   "collapsed_sections": [],
   "name": "Data-prep.ipynb",
   "provenance": []
  },
  "kernelspec": {
   "display_name": "Python 3 (ipykernel)",
   "language": "python",
   "name": "python3"
  },
  "language_info": {
   "codemirror_mode": {
    "name": "ipython",
    "version": 3
   },
   "file_extension": ".py",
   "mimetype": "text/x-python",
   "name": "python",
   "nbconvert_exporter": "python",
   "pygments_lexer": "ipython3",
   "version": "3.8.12"
  }
 },
 "nbformat": 4,
 "nbformat_minor": 4
}
