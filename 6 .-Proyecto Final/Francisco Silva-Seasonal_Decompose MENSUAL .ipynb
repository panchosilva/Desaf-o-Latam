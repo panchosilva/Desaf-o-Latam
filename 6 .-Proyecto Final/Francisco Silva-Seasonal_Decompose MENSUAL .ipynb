{
 "cells": [
  {
   "cell_type": "markdown",
   "id": "89a7e46d",
   "metadata": {},
   "source": [
    "# Análisis Pancho"
   ]
  },
  {
   "cell_type": "markdown",
   "id": "8e810039",
   "metadata": {},
   "source": [
    "## 1) Importar librerías, importar datos, cambio tipo de dato variable \"CodVendedor\" y \"ItemCode\", ver dimensiones del df y tipología de datos"
   ]
  },
  {
   "cell_type": "code",
   "execution_count": 147,
   "id": "9e8ae777-3c54-46bc-8c6f-0860cfb88297",
   "metadata": {},
   "outputs": [],
   "source": [
    "import pandas as pd\n",
    "import numpy as np\n",
    "import matplotlib.pyplot as plt\n",
    "import seaborn as sns\n",
    "from darts.models.forecasting import fft\n",
    "from statsmodels.tsa.arima.model import ARIMA\n",
    "import datetime\n",
    "from sklearn.metrics import mean_absolute_error, mean_absolute_percentage_error\n",
    "\n",
    "import os\n",
    "import statsmodels.api as sm\n",
    "from statsmodels.graphics.tsaplots import plot_acf, plot_pacf\n",
    "from statsmodels.tsa.stattools import adfuller\n",
    "import itertools\n",
    "\n",
    "import warnings\n",
    "warnings.filterwarnings(\"ignore\")"
   ]
  },
  {
   "cell_type": "code",
   "execution_count": 148,
   "id": "f411e78f",
   "metadata": {},
   "outputs": [
    {
     "data": {
      "text/html": [
       "<div>\n",
       "<style scoped>\n",
       "    .dataframe tbody tr th:only-of-type {\n",
       "        vertical-align: middle;\n",
       "    }\n",
       "\n",
       "    .dataframe tbody tr th {\n",
       "        vertical-align: top;\n",
       "    }\n",
       "\n",
       "    .dataframe thead th {\n",
       "        text-align: right;\n",
       "    }\n",
       "</style>\n",
       "<table border=\"1\" class=\"dataframe\">\n",
       "  <thead>\n",
       "    <tr style=\"text-align: right;\">\n",
       "      <th></th>\n",
       "      <th>VentaNeta</th>\n",
       "      <th>CodCliente</th>\n",
       "      <th>Número de documento</th>\n",
       "      <th>ItemCode</th>\n",
       "      <th>CodVendedor</th>\n",
       "      <th>Fecha</th>\n",
       "      <th>Descripción del artículo</th>\n",
       "      <th>Kilombos</th>\n",
       "    </tr>\n",
       "  </thead>\n",
       "  <tbody>\n",
       "    <tr>\n",
       "      <th>0</th>\n",
       "      <td>82530.0</td>\n",
       "      <td>C9233798</td>\n",
       "      <td>1017811</td>\n",
       "      <td>100401409101</td>\n",
       "      <td>95</td>\n",
       "      <td>2019-04-01</td>\n",
       "      <td>Almendra Cubiertas Con Chocolate Bitter Cj 5 Kg.</td>\n",
       "      <td>10.0</td>\n",
       "    </tr>\n",
       "    <tr>\n",
       "      <th>1</th>\n",
       "      <td>254117.0</td>\n",
       "      <td>C76658352</td>\n",
       "      <td>1017839</td>\n",
       "      <td>140202409101</td>\n",
       "      <td>4</td>\n",
       "      <td>2019-04-02</td>\n",
       "      <td>Cranberry Cubierta Chocolate Leche Bl. 5Kg</td>\n",
       "      <td>40.0</td>\n",
       "    </tr>\n",
       "    <tr>\n",
       "      <th>2</th>\n",
       "      <td>30252.0</td>\n",
       "      <td>C13479118</td>\n",
       "      <td>1018354</td>\n",
       "      <td>260502409101</td>\n",
       "      <td>4</td>\n",
       "      <td>2019-04-05</td>\n",
       "      <td>Mani Cubierta Chocolate Leche Bl. 5Kg</td>\n",
       "      <td>5.0</td>\n",
       "    </tr>\n",
       "    <tr>\n",
       "      <th>3</th>\n",
       "      <td>35294.0</td>\n",
       "      <td>C13479118</td>\n",
       "      <td>1018354</td>\n",
       "      <td>140202409101</td>\n",
       "      <td>4</td>\n",
       "      <td>2019-04-05</td>\n",
       "      <td>Cranberry Cubierta Chocolate Leche Bl. 5Kg</td>\n",
       "      <td>5.0</td>\n",
       "    </tr>\n",
       "    <tr>\n",
       "      <th>4</th>\n",
       "      <td>40757.0</td>\n",
       "      <td>C13479118</td>\n",
       "      <td>1018354</td>\n",
       "      <td>100402409101</td>\n",
       "      <td>4</td>\n",
       "      <td>2019-04-05</td>\n",
       "      <td>Almendras Cubiertas Con Chocolate De Leche Bl ...</td>\n",
       "      <td>5.0</td>\n",
       "    </tr>\n",
       "  </tbody>\n",
       "</table>\n",
       "</div>"
      ],
      "text/plain": [
       "   VentaNeta CodCliente  Número de documento      ItemCode  CodVendedor  \\\n",
       "0    82530.0   C9233798              1017811  100401409101           95   \n",
       "1   254117.0  C76658352              1017839  140202409101            4   \n",
       "2    30252.0  C13479118              1018354  260502409101            4   \n",
       "3    35294.0  C13479118              1018354  140202409101            4   \n",
       "4    40757.0  C13479118              1018354  100402409101            4   \n",
       "\n",
       "       Fecha                           Descripción del artículo  Kilombos  \n",
       "0 2019-04-01   Almendra Cubiertas Con Chocolate Bitter Cj 5 Kg.      10.0  \n",
       "1 2019-04-02         Cranberry Cubierta Chocolate Leche Bl. 5Kg      40.0  \n",
       "2 2019-04-05              Mani Cubierta Chocolate Leche Bl. 5Kg       5.0  \n",
       "3 2019-04-05         Cranberry Cubierta Chocolate Leche Bl. 5Kg       5.0  \n",
       "4 2019-04-05  Almendras Cubiertas Con Chocolate De Leche Bl ...       5.0  "
      ]
     },
     "execution_count": 148,
     "metadata": {},
     "output_type": "execute_result"
    }
   ],
   "source": [
    "df = pd.read_excel(\"SalesFact.xlsx\").drop(columns = ['Cantidad (en UM de inventario)', 'Código de almacén de línea', 'CanalDeVenta'])\n",
    "df.head()"
   ]
  },
  {
   "cell_type": "code",
   "execution_count": 149,
   "id": "ea548b1c-8874-4bd3-8b8e-28c3213bec5d",
   "metadata": {},
   "outputs": [
    {
     "data": {
      "text/plain": [
       "(6698, 8)"
      ]
     },
     "execution_count": 149,
     "metadata": {},
     "output_type": "execute_result"
    }
   ],
   "source": [
    "df.shape"
   ]
  },
  {
   "cell_type": "code",
   "execution_count": 150,
   "id": "d8a017dc-368e-44f8-887c-757f45663b88",
   "metadata": {},
   "outputs": [
    {
     "name": "stdout",
     "output_type": "stream",
     "text": [
      "<class 'pandas.core.frame.DataFrame'>\n",
      "RangeIndex: 6698 entries, 0 to 6697\n",
      "Data columns (total 8 columns):\n",
      " #   Column                    Non-Null Count  Dtype         \n",
      "---  ------                    --------------  -----         \n",
      " 0   VentaNeta                 5929 non-null   float64       \n",
      " 1   CodCliente                5929 non-null   object        \n",
      " 2   Número de documento       6698 non-null   int64         \n",
      " 3   ItemCode                  6698 non-null   int64         \n",
      " 4   CodVendedor               6698 non-null   int64         \n",
      " 5   Fecha                     6698 non-null   datetime64[ns]\n",
      " 6   Descripción del artículo  6698 non-null   object        \n",
      " 7   Kilombos                  6698 non-null   float64       \n",
      "dtypes: datetime64[ns](1), float64(2), int64(3), object(2)\n",
      "memory usage: 418.8+ KB\n"
     ]
    }
   ],
   "source": [
    "df.info()"
   ]
  },
  {
   "cell_type": "markdown",
   "id": "6dcfe19e",
   "metadata": {},
   "source": [
    "## 2) Crear variables:\n",
    "\n",
    "- Materia Prima: Si es Almendra, Cranberry o Maní\n",
    "- Chocolate: Si es envuelto en chocolate Leche o Bitter\n",
    "- Formato: Qué tipo de formato de venta fue (5 kilos o 200g)"
   ]
  },
  {
   "cell_type": "code",
   "execution_count": 151,
   "id": "d1bb811d-b09c-414f-a9b6-26e3bfc50bd9",
   "metadata": {},
   "outputs": [
    {
     "data": {
      "text/plain": [
       "array(['Almendra Cubiertas Con Chocolate Bitter Cj 5 Kg.',\n",
       "       'Cranberry Cubierta Chocolate Leche Bl. 5Kg',\n",
       "       'Mani Cubierta Chocolate Leche Bl. 5Kg',\n",
       "       'Almendras Cubiertas Con Chocolate De Leche Bl 5 Kg',\n",
       "       'Mani Cubierta Chocolate Bitter Bl. 5Kg',\n",
       "       'Cranberry Entero  Cubierta Chocolate Bitter Bl. 5Kg',\n",
       "       'Almendras Cubiertas Con Chocolate De Leche Bl 1 Kg',\n",
       "       'Almendra Cubierta Con Chocolate Bitter Bl 200Gr.',\n",
       "       'Mani Cubierta Chocolate Leche Bl. 200Gr.',\n",
       "       'Mani Cubierta Chocolate Bitter Bl. 200Gr.',\n",
       "       'Cranberry Cubierta Chocolate Leche Bl. 200 Gr.',\n",
       "       'Almendra Cubierta Con Chocolate De Leche Bl 200Gr.',\n",
       "       'Cranberry Entero  Cubierta Chocolate Bitter Bl.200 Gr.',\n",
       "       'Mani Cubierta Chocolate Leche Bl. 1Kg.',\n",
       "       'Almendra Cubiertas Con Chocolate Bitter Bl 1 Kg.',\n",
       "       'Cranberry Entero  Cubierta Chocolate Bitter Bl. 1Kg'],\n",
       "      dtype=object)"
      ]
     },
     "execution_count": 151,
     "metadata": {},
     "output_type": "execute_result"
    }
   ],
   "source": [
    "df['Descripción del artículo'].unique()"
   ]
  },
  {
   "cell_type": "code",
   "execution_count": 152,
   "id": "288cd27d-0b77-414c-8c73-a75261524bef",
   "metadata": {},
   "outputs": [
    {
     "data": {
      "text/plain": [
       "array(['Almendra', 'Cranberry', 'Maní'], dtype=object)"
      ]
     },
     "execution_count": 152,
     "metadata": {},
     "output_type": "execute_result"
    }
   ],
   "source": [
    "df['MateriaPrima'] = np.where(df['Descripción del artículo'].str.find(\"Mani\")>=0,\"Maní\",\n",
    "                     np.where(df['Descripción del artículo'].str.find(\"Almendra\")>=0,\"Almendra\",\n",
    "                     np.where(df['Descripción del artículo'].str.find(\"Cranberry\")>=0,\"Cranberry\",\"Otro\")))\n",
    "\n",
    "df.MateriaPrima.unique()"
   ]
  },
  {
   "cell_type": "code",
   "execution_count": 153,
   "id": "a5a528ed-45c7-41b9-9348-e78fea5ef64a",
   "metadata": {},
   "outputs": [
    {
     "data": {
      "text/plain": [
       "array(['Almendra', 'Cranberry', 'Maní'], dtype=object)"
      ]
     },
     "execution_count": 153,
     "metadata": {},
     "output_type": "execute_result"
    }
   ],
   "source": [
    "df['Chocolate'] = np.where(df['Descripción del artículo'].str.find(\"Bitter\")>=0,\"Bitter\",\n",
    "            np.where(df['Descripción del artículo'].str.find(\"Leche\")>=0,\"Leche\",\"Otro\"))\n",
    "df.MateriaPrima.unique()"
   ]
  },
  {
   "cell_type": "code",
   "execution_count": 154,
   "id": "f30d9655-655e-40d9-a6d9-e16d2e7fac3b",
   "metadata": {},
   "outputs": [
    {
     "data": {
      "text/plain": [
       "array(['5000 Gr', '1000 Gr', '200 Gr'], dtype=object)"
      ]
     },
     "execution_count": 154,
     "metadata": {},
     "output_type": "execute_result"
    }
   ],
   "source": [
    "df['Formato'] = np.where(df['Descripción del artículo'].str.find(\"200 Gr\")+df['Descripción del artículo'].str.find(\"200Gr\")>=0,\"200 Gr\",\n",
    "                np.where(df['Descripción del artículo'].str.find(\"1 Kg\")+df['Descripción del artículo'].str.find(\"1Kg\")>=0,\"1000 Gr\",\n",
    "                np.where(df['Descripción del artículo'].str.find(\"5 Kg\")+df['Descripción del artículo'].str.find(\"5Kg\")>=0,\"5000 Gr\",\"Otro\")))\n",
    "df.Formato.unique()"
   ]
  },
  {
   "cell_type": "code",
   "execution_count": 155,
   "id": "14d08d03-5924-4699-a342-06fbd82fe0f4",
   "metadata": {},
   "outputs": [
    {
     "data": {
      "text/html": [
       "<div>\n",
       "<style scoped>\n",
       "    .dataframe tbody tr th:only-of-type {\n",
       "        vertical-align: middle;\n",
       "    }\n",
       "\n",
       "    .dataframe tbody tr th {\n",
       "        vertical-align: top;\n",
       "    }\n",
       "\n",
       "    .dataframe thead th {\n",
       "        text-align: right;\n",
       "    }\n",
       "</style>\n",
       "<table border=\"1\" class=\"dataframe\">\n",
       "  <thead>\n",
       "    <tr style=\"text-align: right;\">\n",
       "      <th></th>\n",
       "      <th>VentaNeta</th>\n",
       "      <th>CodCliente</th>\n",
       "      <th>Número de documento</th>\n",
       "      <th>ItemCode</th>\n",
       "      <th>CodVendedor</th>\n",
       "      <th>Fecha</th>\n",
       "      <th>Descripción del artículo</th>\n",
       "      <th>Kilombos</th>\n",
       "      <th>MateriaPrima</th>\n",
       "      <th>Chocolate</th>\n",
       "      <th>Formato</th>\n",
       "    </tr>\n",
       "  </thead>\n",
       "  <tbody>\n",
       "    <tr>\n",
       "      <th>0</th>\n",
       "      <td>82530.0</td>\n",
       "      <td>C9233798</td>\n",
       "      <td>1017811</td>\n",
       "      <td>100401409101</td>\n",
       "      <td>95</td>\n",
       "      <td>2019-04-01</td>\n",
       "      <td>Almendra Cubiertas Con Chocolate Bitter Cj 5 Kg.</td>\n",
       "      <td>10.0</td>\n",
       "      <td>Almendra</td>\n",
       "      <td>Bitter</td>\n",
       "      <td>5000 Gr</td>\n",
       "    </tr>\n",
       "    <tr>\n",
       "      <th>1</th>\n",
       "      <td>254117.0</td>\n",
       "      <td>C76658352</td>\n",
       "      <td>1017839</td>\n",
       "      <td>140202409101</td>\n",
       "      <td>4</td>\n",
       "      <td>2019-04-02</td>\n",
       "      <td>Cranberry Cubierta Chocolate Leche Bl. 5Kg</td>\n",
       "      <td>40.0</td>\n",
       "      <td>Cranberry</td>\n",
       "      <td>Leche</td>\n",
       "      <td>5000 Gr</td>\n",
       "    </tr>\n",
       "    <tr>\n",
       "      <th>2</th>\n",
       "      <td>30252.0</td>\n",
       "      <td>C13479118</td>\n",
       "      <td>1018354</td>\n",
       "      <td>260502409101</td>\n",
       "      <td>4</td>\n",
       "      <td>2019-04-05</td>\n",
       "      <td>Mani Cubierta Chocolate Leche Bl. 5Kg</td>\n",
       "      <td>5.0</td>\n",
       "      <td>Maní</td>\n",
       "      <td>Leche</td>\n",
       "      <td>5000 Gr</td>\n",
       "    </tr>\n",
       "    <tr>\n",
       "      <th>3</th>\n",
       "      <td>35294.0</td>\n",
       "      <td>C13479118</td>\n",
       "      <td>1018354</td>\n",
       "      <td>140202409101</td>\n",
       "      <td>4</td>\n",
       "      <td>2019-04-05</td>\n",
       "      <td>Cranberry Cubierta Chocolate Leche Bl. 5Kg</td>\n",
       "      <td>5.0</td>\n",
       "      <td>Cranberry</td>\n",
       "      <td>Leche</td>\n",
       "      <td>5000 Gr</td>\n",
       "    </tr>\n",
       "    <tr>\n",
       "      <th>4</th>\n",
       "      <td>40757.0</td>\n",
       "      <td>C13479118</td>\n",
       "      <td>1018354</td>\n",
       "      <td>100402409101</td>\n",
       "      <td>4</td>\n",
       "      <td>2019-04-05</td>\n",
       "      <td>Almendras Cubiertas Con Chocolate De Leche Bl ...</td>\n",
       "      <td>5.0</td>\n",
       "      <td>Almendra</td>\n",
       "      <td>Leche</td>\n",
       "      <td>5000 Gr</td>\n",
       "    </tr>\n",
       "  </tbody>\n",
       "</table>\n",
       "</div>"
      ],
      "text/plain": [
       "   VentaNeta CodCliente  Número de documento      ItemCode  CodVendedor  \\\n",
       "0    82530.0   C9233798              1017811  100401409101           95   \n",
       "1   254117.0  C76658352              1017839  140202409101            4   \n",
       "2    30252.0  C13479118              1018354  260502409101            4   \n",
       "3    35294.0  C13479118              1018354  140202409101            4   \n",
       "4    40757.0  C13479118              1018354  100402409101            4   \n",
       "\n",
       "       Fecha                           Descripción del artículo  Kilombos  \\\n",
       "0 2019-04-01   Almendra Cubiertas Con Chocolate Bitter Cj 5 Kg.      10.0   \n",
       "1 2019-04-02         Cranberry Cubierta Chocolate Leche Bl. 5Kg      40.0   \n",
       "2 2019-04-05              Mani Cubierta Chocolate Leche Bl. 5Kg       5.0   \n",
       "3 2019-04-05         Cranberry Cubierta Chocolate Leche Bl. 5Kg       5.0   \n",
       "4 2019-04-05  Almendras Cubiertas Con Chocolate De Leche Bl ...       5.0   \n",
       "\n",
       "  MateriaPrima Chocolate  Formato  \n",
       "0     Almendra    Bitter  5000 Gr  \n",
       "1    Cranberry     Leche  5000 Gr  \n",
       "2         Maní     Leche  5000 Gr  \n",
       "3    Cranberry     Leche  5000 Gr  \n",
       "4     Almendra     Leche  5000 Gr  "
      ]
     },
     "execution_count": 155,
     "metadata": {},
     "output_type": "execute_result"
    }
   ],
   "source": [
    "df.head()"
   ]
  },
  {
   "cell_type": "code",
   "execution_count": 156,
   "id": "2eeb55ca-e934-4b43-8d75-aee2f8036f44",
   "metadata": {},
   "outputs": [
    {
     "data": {
      "text/html": [
       "<div>\n",
       "<style scoped>\n",
       "    .dataframe tbody tr th:only-of-type {\n",
       "        vertical-align: middle;\n",
       "    }\n",
       "\n",
       "    .dataframe tbody tr th {\n",
       "        vertical-align: top;\n",
       "    }\n",
       "\n",
       "    .dataframe thead th {\n",
       "        text-align: right;\n",
       "    }\n",
       "</style>\n",
       "<table border=\"1\" class=\"dataframe\">\n",
       "  <thead>\n",
       "    <tr style=\"text-align: right;\">\n",
       "      <th></th>\n",
       "      <th></th>\n",
       "      <th></th>\n",
       "      <th>sum</th>\n",
       "      <th>count</th>\n",
       "    </tr>\n",
       "    <tr>\n",
       "      <th>MateriaPrima</th>\n",
       "      <th>Chocolate</th>\n",
       "      <th>Formato</th>\n",
       "      <th></th>\n",
       "      <th></th>\n",
       "    </tr>\n",
       "  </thead>\n",
       "  <tbody>\n",
       "    <tr>\n",
       "      <th rowspan=\"6\" valign=\"top\">Almendra</th>\n",
       "      <th rowspan=\"3\" valign=\"top\">Bitter</th>\n",
       "      <th>1000 Gr</th>\n",
       "      <td>1.0</td>\n",
       "      <td>1</td>\n",
       "    </tr>\n",
       "    <tr>\n",
       "      <th>200 Gr</th>\n",
       "      <td>665.6</td>\n",
       "      <td>113</td>\n",
       "    </tr>\n",
       "    <tr>\n",
       "      <th>5000 Gr</th>\n",
       "      <td>10500.0</td>\n",
       "      <td>1196</td>\n",
       "    </tr>\n",
       "    <tr>\n",
       "      <th rowspan=\"3\" valign=\"top\">Leche</th>\n",
       "      <th>1000 Gr</th>\n",
       "      <td>1.0</td>\n",
       "      <td>1</td>\n",
       "    </tr>\n",
       "    <tr>\n",
       "      <th>200 Gr</th>\n",
       "      <td>598.2</td>\n",
       "      <td>91</td>\n",
       "    </tr>\n",
       "    <tr>\n",
       "      <th>5000 Gr</th>\n",
       "      <td>8300.0</td>\n",
       "      <td>844</td>\n",
       "    </tr>\n",
       "    <tr>\n",
       "      <th rowspan=\"5\" valign=\"top\">Cranberry</th>\n",
       "      <th rowspan=\"3\" valign=\"top\">Bitter</th>\n",
       "      <th>1000 Gr</th>\n",
       "      <td>1.0</td>\n",
       "      <td>1</td>\n",
       "    </tr>\n",
       "    <tr>\n",
       "      <th>200 Gr</th>\n",
       "      <td>884.8</td>\n",
       "      <td>119</td>\n",
       "    </tr>\n",
       "    <tr>\n",
       "      <th>5000 Gr</th>\n",
       "      <td>14310.0</td>\n",
       "      <td>1481</td>\n",
       "    </tr>\n",
       "    <tr>\n",
       "      <th rowspan=\"2\" valign=\"top\">Leche</th>\n",
       "      <th>200 Gr</th>\n",
       "      <td>497.4</td>\n",
       "      <td>83</td>\n",
       "    </tr>\n",
       "    <tr>\n",
       "      <th>5000 Gr</th>\n",
       "      <td>8195.0</td>\n",
       "      <td>743</td>\n",
       "    </tr>\n",
       "    <tr>\n",
       "      <th rowspan=\"5\" valign=\"top\">Maní</th>\n",
       "      <th rowspan=\"2\" valign=\"top\">Bitter</th>\n",
       "      <th>200 Gr</th>\n",
       "      <td>676.0</td>\n",
       "      <td>94</td>\n",
       "    </tr>\n",
       "    <tr>\n",
       "      <th>5000 Gr</th>\n",
       "      <td>8335.0</td>\n",
       "      <td>991</td>\n",
       "    </tr>\n",
       "    <tr>\n",
       "      <th rowspan=\"3\" valign=\"top\">Leche</th>\n",
       "      <th>1000 Gr</th>\n",
       "      <td>1.0</td>\n",
       "      <td>1</td>\n",
       "    </tr>\n",
       "    <tr>\n",
       "      <th>200 Gr</th>\n",
       "      <td>758.8</td>\n",
       "      <td>97</td>\n",
       "    </tr>\n",
       "    <tr>\n",
       "      <th>5000 Gr</th>\n",
       "      <td>8550.0</td>\n",
       "      <td>842</td>\n",
       "    </tr>\n",
       "  </tbody>\n",
       "</table>\n",
       "</div>"
      ],
      "text/plain": [
       "                                    sum  count\n",
       "MateriaPrima Chocolate Formato                \n",
       "Almendra     Bitter    1000 Gr      1.0      1\n",
       "                       200 Gr     665.6    113\n",
       "                       5000 Gr  10500.0   1196\n",
       "             Leche     1000 Gr      1.0      1\n",
       "                       200 Gr     598.2     91\n",
       "                       5000 Gr   8300.0    844\n",
       "Cranberry    Bitter    1000 Gr      1.0      1\n",
       "                       200 Gr     884.8    119\n",
       "                       5000 Gr  14310.0   1481\n",
       "             Leche     200 Gr     497.4     83\n",
       "                       5000 Gr   8195.0    743\n",
       "Maní         Bitter    200 Gr     676.0     94\n",
       "                       5000 Gr   8335.0    991\n",
       "             Leche     1000 Gr      1.0      1\n",
       "                       200 Gr     758.8     97\n",
       "                       5000 Gr   8550.0    842"
      ]
     },
     "execution_count": 156,
     "metadata": {},
     "output_type": "execute_result"
    }
   ],
   "source": [
    "df.groupby(['MateriaPrima', 'Chocolate', 'Formato'])['Kilombos'].agg(['sum', 'count'])"
   ]
  },
  {
   "cell_type": "markdown",
   "id": "3e57d6bb",
   "metadata": {},
   "source": [
    "## 3) Limpieza de datos\n",
    "\n",
    "1.  Dejamos sólo las variables 'Fecha' y 'Kilos' (Cambiando de nombre la variable 'kilombos')\n",
    "2.  Creamos la variable 'Año' y 'Semana' (Con semana empezando por día lunes)\n",
    "3.  Creamos la variable 'Año-Semana'\n",
    "4.  Dejamos solo la data desde 2019-04-15 en adelante (ya que hay semanas hacia atrás de esto que tienen ventas 0, impidiendo modelos asumiendo aditividad)\n",
    "5.  Dejamos sólo semanas completas, para obtener las 138 semanas de dataset y predecir las últimas 12 (3 meses)\n",
    "6.  Sacamos los Outliers por 2,3,4,5 Desvest"
   ]
  },
  {
   "cell_type": "markdown",
   "id": "c51a6bd7",
   "metadata": {},
   "source": [
    "## Pasos 1,2,3,4,5"
   ]
  },
  {
   "cell_type": "code",
   "execution_count": 157,
   "id": "ff947604",
   "metadata": {},
   "outputs": [
    {
     "data": {
      "text/html": [
       "<div>\n",
       "<style scoped>\n",
       "    .dataframe tbody tr th:only-of-type {\n",
       "        vertical-align: middle;\n",
       "    }\n",
       "\n",
       "    .dataframe tbody tr th {\n",
       "        vertical-align: top;\n",
       "    }\n",
       "\n",
       "    .dataframe thead th {\n",
       "        text-align: right;\n",
       "    }\n",
       "</style>\n",
       "<table border=\"1\" class=\"dataframe\">\n",
       "  <thead>\n",
       "    <tr style=\"text-align: right;\">\n",
       "      <th></th>\n",
       "      <th>Fecha</th>\n",
       "      <th>Kilos</th>\n",
       "      <th>MateriaPrimaChocolate</th>\n",
       "      <th>Año</th>\n",
       "      <th>Semana</th>\n",
       "      <th>Mes</th>\n",
       "      <th>Año-Semana</th>\n",
       "      <th>Año-Mes</th>\n",
       "    </tr>\n",
       "  </thead>\n",
       "  <tbody>\n",
       "    <tr>\n",
       "      <th>0</th>\n",
       "      <td>2019-04-01</td>\n",
       "      <td>10.0</td>\n",
       "      <td>AlmendraBitter</td>\n",
       "      <td>2019</td>\n",
       "      <td>14</td>\n",
       "      <td>04</td>\n",
       "      <td>2019-14</td>\n",
       "      <td>2019-04</td>\n",
       "    </tr>\n",
       "    <tr>\n",
       "      <th>9</th>\n",
       "      <td>2019-04-30</td>\n",
       "      <td>5.0</td>\n",
       "      <td>CranberryBitter</td>\n",
       "      <td>2019</td>\n",
       "      <td>18</td>\n",
       "      <td>04</td>\n",
       "      <td>2019-18</td>\n",
       "      <td>2019-04</td>\n",
       "    </tr>\n",
       "    <tr>\n",
       "      <th>7</th>\n",
       "      <td>2019-04-25</td>\n",
       "      <td>5.0</td>\n",
       "      <td>AlmendraBitter</td>\n",
       "      <td>2019</td>\n",
       "      <td>17</td>\n",
       "      <td>04</td>\n",
       "      <td>2019-17</td>\n",
       "      <td>2019-04</td>\n",
       "    </tr>\n",
       "    <tr>\n",
       "      <th>6</th>\n",
       "      <td>2019-04-25</td>\n",
       "      <td>5.0</td>\n",
       "      <td>AlmendraLeche</td>\n",
       "      <td>2019</td>\n",
       "      <td>17</td>\n",
       "      <td>04</td>\n",
       "      <td>2019-17</td>\n",
       "      <td>2019-04</td>\n",
       "    </tr>\n",
       "    <tr>\n",
       "      <th>5</th>\n",
       "      <td>2019-04-25</td>\n",
       "      <td>5.0</td>\n",
       "      <td>ManíBitter</td>\n",
       "      <td>2019</td>\n",
       "      <td>17</td>\n",
       "      <td>04</td>\n",
       "      <td>2019-17</td>\n",
       "      <td>2019-04</td>\n",
       "    </tr>\n",
       "  </tbody>\n",
       "</table>\n",
       "</div>"
      ],
      "text/plain": [
       "       Fecha  Kilos MateriaPrimaChocolate   Año Semana Mes Año-Semana  Año-Mes\n",
       "0 2019-04-01   10.0        AlmendraBitter  2019     14  04    2019-14  2019-04\n",
       "9 2019-04-30    5.0       CranberryBitter  2019     18  04    2019-18  2019-04\n",
       "7 2019-04-25    5.0        AlmendraBitter  2019     17  04    2019-17  2019-04\n",
       "6 2019-04-25    5.0         AlmendraLeche  2019     17  04    2019-17  2019-04\n",
       "5 2019-04-25    5.0            ManíBitter  2019     17  04    2019-17  2019-04"
      ]
     },
     "execution_count": 157,
     "metadata": {},
     "output_type": "execute_result"
    }
   ],
   "source": [
    "df = df[df.Formato != '1000 Gr']\n",
    "df['MateriaPrimaChocolate'] = df['MateriaPrima']+df['Chocolate']\n",
    "df = df[['Fecha', 'Kilombos', 'MateriaPrimaChocolate']].rename(columns={'Kilombos':'Kilos'})\n",
    "df['Año'] = df['Fecha'].dt.year\n",
    "df['Semana'] = np.where(df['Fecha'].dt.isocalendar().week<10, str(0) + df['Fecha'].dt.isocalendar().week.astype('str'), df['Fecha'].dt.isocalendar().week.astype('object'))\n",
    "df['Mes'] = np.where(df['Fecha'].dt.month <10, str(0) + df['Fecha'].dt.month.astype('str'), df['Fecha'].dt.month.astype('object'))\n",
    "df['Año-Semana'] = df['Año'].astype('str') + '-' + df['Semana'].astype('str')\n",
    "df['Año-Semana'] = df['Año-Semana'].replace({'2019-01':'2020-01'})\n",
    "df['Año-Mes'] = df['Año'].astype('str') + '-' + df['Mes'].astype('str')\n",
    "#df = df[df['Fecha'] >= '2019-03-01'] # Desde que empezó la pandemia y 1 año más para más train y test\n",
    "df = df[df['Fecha'] < '2022-03-01']\n",
    "df = df.sort_values(by = 'Año-Mes', ascending = True)\n",
    "df.head()"
   ]
  },
  {
   "cell_type": "code",
   "execution_count": 158,
   "id": "27c657f1",
   "metadata": {},
   "outputs": [
    {
     "data": {
      "text/plain": [
       "35"
      ]
     },
     "execution_count": 158,
     "metadata": {},
     "output_type": "execute_result"
    }
   ],
   "source": [
    "len(df['Año-Mes'].unique())"
   ]
  },
  {
   "cell_type": "markdown",
   "id": "ab9305fe",
   "metadata": {},
   "source": [
    "## Paso 6) Sacamos los Outliers por 3, 3.5, 4 y 5 Desvest (sacadas por año-semana), y luego se limpia cada registro según mean+-desvest que dió para cada año-semana"
   ]
  },
  {
   "cell_type": "code",
   "execution_count": 159,
   "id": "b7f97737",
   "metadata": {},
   "outputs": [
    {
     "data": {
      "text/html": [
       "<div>\n",
       "<style scoped>\n",
       "    .dataframe tbody tr th:only-of-type {\n",
       "        vertical-align: middle;\n",
       "    }\n",
       "\n",
       "    .dataframe tbody tr th {\n",
       "        vertical-align: top;\n",
       "    }\n",
       "\n",
       "    .dataframe thead th {\n",
       "        text-align: right;\n",
       "    }\n",
       "</style>\n",
       "<table border=\"1\" class=\"dataframe\">\n",
       "  <thead>\n",
       "    <tr style=\"text-align: right;\">\n",
       "      <th></th>\n",
       "      <th>Fecha</th>\n",
       "      <th>Kilos</th>\n",
       "      <th>MateriaPrimaChocolate</th>\n",
       "      <th>Año</th>\n",
       "      <th>Semana</th>\n",
       "      <th>Mes</th>\n",
       "      <th>Año-Semana</th>\n",
       "      <th>Año-Mes</th>\n",
       "      <th>mean</th>\n",
       "      <th>std</th>\n",
       "    </tr>\n",
       "  </thead>\n",
       "  <tbody>\n",
       "    <tr>\n",
       "      <th>0</th>\n",
       "      <td>2019-04-01</td>\n",
       "      <td>10.0</td>\n",
       "      <td>AlmendraBitter</td>\n",
       "      <td>2019</td>\n",
       "      <td>14</td>\n",
       "      <td>04</td>\n",
       "      <td>2019-14</td>\n",
       "      <td>2019-04</td>\n",
       "      <td>9.0</td>\n",
       "      <td>11.005049</td>\n",
       "    </tr>\n",
       "    <tr>\n",
       "      <th>9</th>\n",
       "      <td>2019-04-05</td>\n",
       "      <td>5.0</td>\n",
       "      <td>AlmendraLeche</td>\n",
       "      <td>2019</td>\n",
       "      <td>14</td>\n",
       "      <td>04</td>\n",
       "      <td>2019-14</td>\n",
       "      <td>2019-04</td>\n",
       "      <td>9.0</td>\n",
       "      <td>11.005049</td>\n",
       "    </tr>\n",
       "    <tr>\n",
       "      <th>7</th>\n",
       "      <td>2019-04-05</td>\n",
       "      <td>5.0</td>\n",
       "      <td>ManíLeche</td>\n",
       "      <td>2019</td>\n",
       "      <td>14</td>\n",
       "      <td>04</td>\n",
       "      <td>2019-14</td>\n",
       "      <td>2019-04</td>\n",
       "      <td>9.0</td>\n",
       "      <td>11.005049</td>\n",
       "    </tr>\n",
       "    <tr>\n",
       "      <th>6</th>\n",
       "      <td>2019-04-05</td>\n",
       "      <td>5.0</td>\n",
       "      <td>CranberryLeche</td>\n",
       "      <td>2019</td>\n",
       "      <td>14</td>\n",
       "      <td>04</td>\n",
       "      <td>2019-14</td>\n",
       "      <td>2019-04</td>\n",
       "      <td>9.0</td>\n",
       "      <td>11.005049</td>\n",
       "    </tr>\n",
       "    <tr>\n",
       "      <th>5</th>\n",
       "      <td>2019-04-25</td>\n",
       "      <td>5.0</td>\n",
       "      <td>AlmendraBitter</td>\n",
       "      <td>2019</td>\n",
       "      <td>17</td>\n",
       "      <td>04</td>\n",
       "      <td>2019-17</td>\n",
       "      <td>2019-04</td>\n",
       "      <td>9.0</td>\n",
       "      <td>11.005049</td>\n",
       "    </tr>\n",
       "  </tbody>\n",
       "</table>\n",
       "</div>"
      ],
      "text/plain": [
       "       Fecha  Kilos MateriaPrimaChocolate   Año Semana Mes Año-Semana  \\\n",
       "0 2019-04-01   10.0        AlmendraBitter  2019     14  04    2019-14   \n",
       "9 2019-04-05    5.0         AlmendraLeche  2019     14  04    2019-14   \n",
       "7 2019-04-05    5.0             ManíLeche  2019     14  04    2019-14   \n",
       "6 2019-04-05    5.0        CranberryLeche  2019     14  04    2019-14   \n",
       "5 2019-04-25    5.0        AlmendraBitter  2019     17  04    2019-17   \n",
       "\n",
       "   Año-Mes  mean        std  \n",
       "0  2019-04   9.0  11.005049  \n",
       "9  2019-04   9.0  11.005049  \n",
       "7  2019-04   9.0  11.005049  \n",
       "6  2019-04   9.0  11.005049  \n",
       "5  2019-04   9.0  11.005049  "
      ]
     },
     "execution_count": 159,
     "metadata": {},
     "output_type": "execute_result"
    }
   ],
   "source": [
    "# Código de Benja\n",
    "\n",
    "# Identificamos la media y desviacion estandar por semana\n",
    "df_sales_monthly= pd.DataFrame()\n",
    "df_sales_monthly = df.groupby(['Año-Mes']).agg({'Kilos' : ['mean', 'std']})\n",
    "df_sales_monthly.columns = ['mean', 'std']\n",
    "df_sales_monthly = df_sales_monthly.reset_index().fillna(0) #Se vuelve a dejar \"Año-Semana\" como columna. La semana 2019-25 tiene sólo 1 registro por lo que la desviación estándar da NAN\n",
    "\n",
    "#Cruzamos con el dataframe recién guardado\n",
    "df = pd.merge(df, df_sales_monthly, on ='Año-Mes', how='left')\n",
    "df = df.sort_values(by = 'Año-Mes', ascending = True)\n",
    "df.head()"
   ]
  },
  {
   "cell_type": "code",
   "execution_count": 160,
   "id": "9c2c984f",
   "metadata": {},
   "outputs": [
    {
     "data": {
      "text/plain": [
       "(6694, 10)"
      ]
     },
     "execution_count": 160,
     "metadata": {},
     "output_type": "execute_result"
    }
   ],
   "source": [
    "df.shape"
   ]
  },
  {
   "cell_type": "code",
   "execution_count": 161,
   "id": "66510cbb",
   "metadata": {},
   "outputs": [
    {
     "data": {
      "text/plain": [
       "(-75.0, 75.0)"
      ]
     },
     "execution_count": 161,
     "metadata": {},
     "output_type": "execute_result"
    },
    {
     "data": {
      "image/png": "[encoded data removed]",
      "text/plain": [
       "<Figure size 1440x720 with 1 Axes>"
      ]
     },
     "metadata": {
      "needs_background": "light"
     },
     "output_type": "display_data"
    }
   ],
   "source": [
    "plt.rcParams['figure.figsize'] =(20,10)\n",
    "sns.violinplot(data = df, x='Año-Mes', y='Kilos')\n",
    "plt.xticks(rotation=90)\n",
    "plt.ylim(-75,75)"
   ]
  },
  {
   "cell_type": "code",
   "execution_count": 162,
   "id": "795b69e5",
   "metadata": {},
   "outputs": [
    {
     "data": {
      "text/plain": [
       "(-25.0, 25.0)"
      ]
     },
     "execution_count": 162,
     "metadata": {},
     "output_type": "execute_result"
    }
   ],
   "source": [
    "plt.rcParams['figure.figsize'] =(20,10)\n",
    "sns.boxplot(data = df, x='Año-Mes', y='Kilos', orient='v')\n",
    "plt.xticks(rotation=90)\n",
    "plt.ylim(-25,25)"
   ]
  },
  {
   "cell_type": "code",
   "execution_count": null,
   "id": "1284ae65",
   "metadata": {},
   "outputs": [
    {
     "data": {
      "text/html": [
       "<div>\n",
       "<style scoped>\n",
       "    .dataframe tbody tr th:only-of-type {\n",
       "        vertical-align: middle;\n",
       "    }\n",
       "\n",
       "    .dataframe tbody tr th {\n",
       "        vertical-align: top;\n",
       "    }\n",
       "\n",
       "    .dataframe thead th {\n",
       "        text-align: right;\n",
       "    }\n",
       "</style>\n",
       "<table border=\"1\" class=\"dataframe\">\n",
       "  <thead>\n",
       "    <tr style=\"text-align: right;\">\n",
       "      <th></th>\n",
       "      <th>Fecha</th>\n",
       "      <th>Kilos</th>\n",
       "      <th>MateriaPrimaChocolate</th>\n",
       "      <th>Año</th>\n",
       "      <th>Semana</th>\n",
       "      <th>Mes</th>\n",
       "      <th>Año-Semana</th>\n",
       "      <th>Año-Mes</th>\n",
       "      <th>mean</th>\n",
       "      <th>std</th>\n",
       "      <th>Kilos_1DV</th>\n",
       "      <th>Kilos_2DV</th>\n",
       "      <th>Kilos_3DV</th>\n",
       "      <th>Kilos_35DV</th>\n",
       "      <th>Kilos_4DV</th>\n",
       "      <th>Kilos_5DV</th>\n",
       "      <th>Kilos_7DV</th>\n",
       "    </tr>\n",
       "  </thead>\n",
       "  <tbody>\n",
       "    <tr>\n",
       "      <th>0</th>\n",
       "      <td>2019-04-01</td>\n",
       "      <td>10.0</td>\n",
       "      <td>AlmendraBitter</td>\n",
       "      <td>2019</td>\n",
       "      <td>14</td>\n",
       "      <td>04</td>\n",
       "      <td>2019-14</td>\n",
       "      <td>2019-04</td>\n",
       "      <td>9.0</td>\n",
       "      <td>11.005049</td>\n",
       "      <td>0</td>\n",
       "      <td>0</td>\n",
       "      <td>0</td>\n",
       "      <td>0</td>\n",
       "      <td>0</td>\n",
       "      <td>0</td>\n",
       "      <td>0</td>\n",
       "    </tr>\n",
       "    <tr>\n",
       "      <th>9</th>\n",
       "      <td>2019-04-05</td>\n",
       "      <td>5.0</td>\n",
       "      <td>AlmendraLeche</td>\n",
       "      <td>2019</td>\n",
       "      <td>14</td>\n",
       "      <td>04</td>\n",
       "      <td>2019-14</td>\n",
       "      <td>2019-04</td>\n",
       "      <td>9.0</td>\n",
       "      <td>11.005049</td>\n",
       "      <td>0</td>\n",
       "      <td>0</td>\n",
       "      <td>0</td>\n",
       "      <td>0</td>\n",
       "      <td>0</td>\n",
       "      <td>0</td>\n",
       "      <td>0</td>\n",
       "    </tr>\n",
       "    <tr>\n",
       "      <th>7</th>\n",
       "      <td>2019-04-05</td>\n",
       "      <td>5.0</td>\n",
       "      <td>ManíLeche</td>\n",
       "      <td>2019</td>\n",
       "      <td>14</td>\n",
       "      <td>04</td>\n",
       "      <td>2019-14</td>\n",
       "      <td>2019-04</td>\n",
       "      <td>9.0</td>\n",
       "      <td>11.005049</td>\n",
       "      <td>0</td>\n",
       "      <td>0</td>\n",
       "      <td>0</td>\n",
       "      <td>0</td>\n",
       "      <td>0</td>\n",
       "      <td>0</td>\n",
       "      <td>0</td>\n",
       "    </tr>\n",
       "    <tr>\n",
       "      <th>6</th>\n",
       "      <td>2019-04-05</td>\n",
       "      <td>5.0</td>\n",
       "      <td>CranberryLeche</td>\n",
       "      <td>2019</td>\n",
       "      <td>14</td>\n",
       "      <td>04</td>\n",
       "      <td>2019-14</td>\n",
       "      <td>2019-04</td>\n",
       "      <td>9.0</td>\n",
       "      <td>11.005049</td>\n",
       "      <td>0</td>\n",
       "      <td>0</td>\n",
       "      <td>0</td>\n",
       "      <td>0</td>\n",
       "      <td>0</td>\n",
       "      <td>0</td>\n",
       "      <td>0</td>\n",
       "    </tr>\n",
       "    <tr>\n",
       "      <th>5</th>\n",
       "      <td>2019-04-25</td>\n",
       "      <td>5.0</td>\n",
       "      <td>AlmendraBitter</td>\n",
       "      <td>2019</td>\n",
       "      <td>17</td>\n",
       "      <td>04</td>\n",
       "      <td>2019-17</td>\n",
       "      <td>2019-04</td>\n",
       "      <td>9.0</td>\n",
       "      <td>11.005049</td>\n",
       "      <td>0</td>\n",
       "      <td>0</td>\n",
       "      <td>0</td>\n",
       "      <td>0</td>\n",
       "      <td>0</td>\n",
       "      <td>0</td>\n",
       "      <td>0</td>\n",
       "    </tr>\n",
       "  </tbody>\n",
       "</table>\n",
       "</div>"
      ],
      "text/plain": [
       "       Fecha  Kilos MateriaPrimaChocolate   Año Semana Mes Año-Semana  \\\n",
       "0 2019-04-01   10.0        AlmendraBitter  2019     14  04    2019-14   \n",
       "9 2019-04-05    5.0         AlmendraLeche  2019     14  04    2019-14   \n",
       "7 2019-04-05    5.0             ManíLeche  2019     14  04    2019-14   \n",
       "6 2019-04-05    5.0        CranberryLeche  2019     14  04    2019-14   \n",
       "5 2019-04-25    5.0        AlmendraBitter  2019     17  04    2019-17   \n",
       "\n",
       "   Año-Mes  mean        std  Kilos_1DV  Kilos_2DV  Kilos_3DV  Kilos_35DV  \\\n",
       "0  2019-04   9.0  11.005049          0          0          0           0   \n",
       "9  2019-04   9.0  11.005049          0          0          0           0   \n",
       "7  2019-04   9.0  11.005049          0          0          0           0   \n",
       "6  2019-04   9.0  11.005049          0          0          0           0   \n",
       "5  2019-04   9.0  11.005049          0          0          0           0   \n",
       "\n",
       "   Kilos_4DV  Kilos_5DV  Kilos_7DV  \n",
       "0          0          0          0  \n",
       "9          0          0          0  \n",
       "7          0          0          0  \n",
       "6          0          0          0  \n",
       "5          0          0          0  "
      ]
     },
     "execution_count": 114,
     "metadata": {},
     "output_type": "execute_result"
    }
   ],
   "source": [
    "#Definimos si es outlier o no en base a 3, 4 y 5 desviaciones estándar\n",
    "df['Kilos_1DV'] = np.where((df.Kilos > (df['mean'] + df['std'])) | (df.Kilos < (df['mean'] - df['std'])), 1, 0)\n",
    "df['Kilos_2DV'] = np.where((df.Kilos > (df['mean'] + 2*df['std'])) | (df.Kilos < (df['mean'] - 2*df['std'])), 1, 0)\n",
    "df['Kilos_3DV'] = np.where((df.Kilos > (df['mean'] + 3*df['std'])) | (df.Kilos < (df['mean'] - 3*df['std'])), 1, 0)\n",
    "df['Kilos_35DV'] = np.where((df.Kilos > (df['mean'] + 3.5*df['std'])) | (df.Kilos < (df['mean'] - 3.5*df['std'])), 1, 0)\n",
    "df['Kilos_4DV'] = np.where((df.Kilos > (df['mean'] + 4*df['std'])) | (df.Kilos < (df['mean'] - 4*df['std'])), 1, 0)\n",
    "df['Kilos_5DV'] = np.where((df.Kilos > (df['mean'] + 5*df['std'])) | (df.Kilos < (df['mean'] - 5*df['std'])), 1, 0)\n",
    "df['Kilos_7DV'] = np.where((df.Kilos > (df['mean'] + 7*df['std'])) | (df.Kilos < (df['mean'] - 7*df['std'])), 1, 0)\n",
    "df.head()"
   ]
  },
  {
   "cell_type": "code",
   "execution_count": null,
   "id": "60355879",
   "metadata": {},
   "outputs": [
    {
     "data": {
      "text/plain": [
       "Kilos                                                              62270.8\n",
       "MateriaPrimaChocolate    AlmendraBitterAlmendraLecheManíLecheCranberryL...\n",
       "Año                                                               13526507\n",
       "Año-Semana               2019-142019-142019-142019-142019-172019-142019...\n",
       "Año-Mes                  2019-042019-042019-042019-042019-042019-042019...\n",
       "mean                                                               62270.8\n",
       "std                                                           80481.493161\n",
       "Kilos_1DV                                                              589\n",
       "Kilos_2DV                                                              275\n",
       "Kilos_3DV                                                              133\n",
       "Kilos_35DV                                                              96\n",
       "Kilos_4DV                                                               77\n",
       "Kilos_5DV                                                               36\n",
       "Kilos_7DV                                                               21\n",
       "dtype: object"
      ]
     },
     "execution_count": 115,
     "metadata": {},
     "output_type": "execute_result"
    }
   ],
   "source": [
    "# Mostramos la cantidad de outliers que saca por cada caso\n",
    "df.sum()"
   ]
  },
  {
   "cell_type": "markdown",
   "id": "b7a6e043",
   "metadata": {},
   "source": [
    "## Generamos los dataset con cada caso, cada uno sin outliers según corresponda"
   ]
  },
  {
   "cell_type": "code",
   "execution_count": null,
   "id": "e71fbc66",
   "metadata": {},
   "outputs": [
    {
     "data": {
      "text/html": [
       "<div>\n",
       "<style scoped>\n",
       "    .dataframe tbody tr th:only-of-type {\n",
       "        vertical-align: middle;\n",
       "    }\n",
       "\n",
       "    .dataframe tbody tr th {\n",
       "        vertical-align: top;\n",
       "    }\n",
       "\n",
       "    .dataframe thead th {\n",
       "        text-align: right;\n",
       "    }\n",
       "</style>\n",
       "<table border=\"1\" class=\"dataframe\">\n",
       "  <thead>\n",
       "    <tr style=\"text-align: right;\">\n",
       "      <th></th>\n",
       "      <th>Fecha</th>\n",
       "      <th>Kilos</th>\n",
       "    </tr>\n",
       "  </thead>\n",
       "  <tbody>\n",
       "    <tr>\n",
       "      <th>0</th>\n",
       "      <td>2019-04-01</td>\n",
       "      <td>50.0</td>\n",
       "    </tr>\n",
       "    <tr>\n",
       "      <th>1</th>\n",
       "      <td>2019-05-01</td>\n",
       "      <td>195.0</td>\n",
       "    </tr>\n",
       "    <tr>\n",
       "      <th>2</th>\n",
       "      <td>2019-06-01</td>\n",
       "      <td>90.0</td>\n",
       "    </tr>\n",
       "    <tr>\n",
       "      <th>3</th>\n",
       "      <td>2019-07-01</td>\n",
       "      <td>255.0</td>\n",
       "    </tr>\n",
       "    <tr>\n",
       "      <th>4</th>\n",
       "      <td>2019-08-01</td>\n",
       "      <td>435.0</td>\n",
       "    </tr>\n",
       "  </tbody>\n",
       "</table>\n",
       "</div>"
      ],
      "text/plain": [
       "       Fecha  Kilos\n",
       "0 2019-04-01   50.0\n",
       "1 2019-05-01  195.0\n",
       "2 2019-06-01   90.0\n",
       "3 2019-07-01  255.0\n",
       "4 2019-08-01  435.0"
      ]
     },
     "execution_count": 116,
     "metadata": {},
     "output_type": "execute_result"
    }
   ],
   "source": [
    "df1dv = df[df['Kilos_1DV'] == 0][['Fecha', 'Año-Mes', 'Kilos']].set_index('Fecha').resample('MS', label='left').sum().reset_index()\n",
    "df2dv = df[df['Kilos_2DV'] == 0][['Fecha', 'Año-Mes', 'Kilos']].set_index('Fecha').resample('MS', label='left').sum().reset_index()\n",
    "df3dv = df[df['Kilos_3DV'] == 0][['Fecha', 'Año-Mes', 'Kilos']].set_index('Fecha').resample('MS', label='left').sum().reset_index()\n",
    "df35dv = df[df['Kilos_35DV'] == 0][['Fecha', 'Año-Mes', 'Kilos']].set_index('Fecha').resample('MS', label='left').sum().reset_index()\n",
    "df4dv = df[df['Kilos_4DV'] == 0][['Fecha', 'Año-Mes', 'Kilos']].set_index('Fecha').resample('MS', label='left').sum().reset_index()\n",
    "df5dv = df[df['Kilos_5DV'] == 0][['Fecha', 'Año-Mes', 'Kilos']].set_index('Fecha').resample('MS', label='left').sum().reset_index()\n",
    "df7dv = df[df['Kilos_7DV'] == 0][['Fecha', 'Año-Mes', 'Kilos']].set_index('Fecha').resample('MS', label='left').sum().reset_index()\n",
    "\n",
    "df1dv.head()"
   ]
  },
  {
   "cell_type": "code",
   "execution_count": null,
   "id": "b4e03591",
   "metadata": {},
   "outputs": [
    {
     "name": "stdout",
     "output_type": "stream",
     "text": [
      "(35, 1)\n",
      "(35, 1)\n",
      "(35, 1)\n",
      "(35, 1)\n",
      "(35, 1)\n",
      "(35, 1)\n"
     ]
    }
   ],
   "source": [
    "AB = df[df['Kilos_2DV'] == 0][['Fecha', 'Año-Mes', 'Kilos', 'MateriaPrimaChocolate']].set_index('Fecha')\n",
    "AB = AB[AB['MateriaPrimaChocolate']==\"AlmendraBitter\"].resample('MS', label='left').sum().rename(columns= {'Kilos':'AB'})\n",
    "\n",
    "AL = df[df['Kilos_2DV'] == 0][['Fecha', 'Año-Mes', 'Kilos', 'MateriaPrimaChocolate']].set_index('Fecha')\n",
    "AL = AL[AL['MateriaPrimaChocolate']==\"AlmendraLeche\"].resample('MS', label='left').sum().rename(columns={'Kilos':'AL'})\n",
    "\n",
    "CB = df[df['Kilos_2DV'] == 0][['Fecha', 'Año-Mes', 'Kilos', 'MateriaPrimaChocolate']].set_index('Fecha')\n",
    "CB = CB[CB['MateriaPrimaChocolate']==\"CranberryBitter\"].resample('MS', label='left').sum().rename(columns={'Kilos':'CB'})\n",
    "\n",
    "CL= df[df['Kilos_2DV'] == 0][['Fecha', 'Año-Mes', 'Kilos', 'MateriaPrimaChocolate']].set_index('Fecha')\n",
    "CL = CL[CL['MateriaPrimaChocolate']==\"CranberryLeche\"].resample('MS', label='left').sum().rename(columns={'Kilos':'CL'})\n",
    "\n",
    "MB = df[df['Kilos_2DV'] == 0][['Fecha', 'Año-Mes', 'Kilos', 'MateriaPrimaChocolate']].set_index('Fecha')\n",
    "MB = MB[MB['MateriaPrimaChocolate']==\"ManíBitter\"].resample('MS', label='left').sum().rename(columns={'Kilos':'MB'})\n",
    "\n",
    "ML = df[df['Kilos_2DV'] == 0][['Fecha', 'Año-Mes', 'Kilos', 'MateriaPrimaChocolate']].set_index('Fecha')\n",
    "ML = ML[ML['MateriaPrimaChocolate']==\"ManíLeche\"].resample('MS', label='left').sum().rename(columns={'Kilos':'ML'})\n",
    "\n",
    "print(AB.shape)\n",
    "print(AL.shape)\n",
    "print(CB.shape)\n",
    "print(CL.shape)\n",
    "print(MB.shape)\n",
    "print(ML.shape)"
   ]
  },
  {
   "cell_type": "code",
   "execution_count": null,
   "id": "202c36d3",
   "metadata": {},
   "outputs": [
    {
     "data": {
      "text/html": [
       "<div>\n",
       "<style scoped>\n",
       "    .dataframe tbody tr th:only-of-type {\n",
       "        vertical-align: middle;\n",
       "    }\n",
       "\n",
       "    .dataframe tbody tr th {\n",
       "        vertical-align: top;\n",
       "    }\n",
       "\n",
       "    .dataframe thead th {\n",
       "        text-align: right;\n",
       "    }\n",
       "</style>\n",
       "<table border=\"1\" class=\"dataframe\">\n",
       "  <thead>\n",
       "    <tr style=\"text-align: right;\">\n",
       "      <th></th>\n",
       "      <th>AB</th>\n",
       "      <th>AL</th>\n",
       "      <th>CB</th>\n",
       "      <th>CL</th>\n",
       "      <th>MB</th>\n",
       "      <th>ML</th>\n",
       "      <th>TOTAL</th>\n",
       "    </tr>\n",
       "    <tr>\n",
       "      <th>Fecha</th>\n",
       "      <th></th>\n",
       "      <th></th>\n",
       "      <th></th>\n",
       "      <th></th>\n",
       "      <th></th>\n",
       "      <th></th>\n",
       "      <th></th>\n",
       "    </tr>\n",
       "  </thead>\n",
       "  <tbody>\n",
       "    <tr>\n",
       "      <th>2019-04-01</th>\n",
       "      <td>20.0</td>\n",
       "      <td>10.0</td>\n",
       "      <td>5.0</td>\n",
       "      <td>5.0</td>\n",
       "      <td>5.0</td>\n",
       "      <td>5.0</td>\n",
       "      <td>50.0</td>\n",
       "    </tr>\n",
       "    <tr>\n",
       "      <th>2019-05-01</th>\n",
       "      <td>40.0</td>\n",
       "      <td>20.0</td>\n",
       "      <td>75.0</td>\n",
       "      <td>35.0</td>\n",
       "      <td>5.0</td>\n",
       "      <td>5.0</td>\n",
       "      <td>180.0</td>\n",
       "    </tr>\n",
       "    <tr>\n",
       "      <th>2019-06-01</th>\n",
       "      <td>20.0</td>\n",
       "      <td>65.0</td>\n",
       "      <td>35.0</td>\n",
       "      <td>5.0</td>\n",
       "      <td>0.0</td>\n",
       "      <td>5.0</td>\n",
       "      <td>130.0</td>\n",
       "    </tr>\n",
       "    <tr>\n",
       "      <th>2019-07-01</th>\n",
       "      <td>60.0</td>\n",
       "      <td>50.0</td>\n",
       "      <td>55.0</td>\n",
       "      <td>40.0</td>\n",
       "      <td>25.0</td>\n",
       "      <td>60.0</td>\n",
       "      <td>290.0</td>\n",
       "    </tr>\n",
       "    <tr>\n",
       "      <th>2019-08-01</th>\n",
       "      <td>125.0</td>\n",
       "      <td>90.0</td>\n",
       "      <td>115.0</td>\n",
       "      <td>35.0</td>\n",
       "      <td>30.0</td>\n",
       "      <td>40.0</td>\n",
       "      <td>435.0</td>\n",
       "    </tr>\n",
       "  </tbody>\n",
       "</table>\n",
       "</div>"
      ],
      "text/plain": [
       "               AB    AL     CB    CL    MB    ML  TOTAL\n",
       "Fecha                                                  \n",
       "2019-04-01   20.0  10.0    5.0   5.0   5.0   5.0   50.0\n",
       "2019-05-01   40.0  20.0   75.0  35.0   5.0   5.0  180.0\n",
       "2019-06-01   20.0  65.0   35.0   5.0   0.0   5.0  130.0\n",
       "2019-07-01   60.0  50.0   55.0  40.0  25.0  60.0  290.0\n",
       "2019-08-01  125.0  90.0  115.0  35.0  30.0  40.0  435.0"
      ]
     },
     "execution_count": 118,
     "metadata": {},
     "output_type": "execute_result"
    }
   ],
   "source": [
    "matrix = pd.concat([AB,AL,CB,CL,MB,ML], axis=1).fillna(0)\n",
    "matrix['TOTAL'] = matrix['AB']+ matrix['AL']+matrix['CB']+matrix['CL']+matrix['MB']+matrix['ML']\n",
    "matrix.head()"
   ]
  },
  {
   "cell_type": "code",
   "execution_count": null,
   "id": "836d125f",
   "metadata": {},
   "outputs": [
    {
     "data": {
      "text/plain": [
       "<AxesSubplot:>"
      ]
     },
     "execution_count": 119,
     "metadata": {},
     "output_type": "execute_result"
    },
    {
     "data": {
      "image/png": "[encoded data removed]",
      "text/plain": [
       "<Figure size 1440x720 with 2 Axes>"
      ]
     },
     "metadata": {
      "needs_background": "light"
     },
     "output_type": "display_data"
    }
   ],
   "source": [
    "\n",
    "sns.heatmap(matrix.corr(), annot=True, annot_kws={'size': 15})"
   ]
  },
  {
   "cell_type": "markdown",
   "id": "7cb4f1dc",
   "metadata": {},
   "source": [
    "# 4) Modeling"
   ]
  },
  {
   "cell_type": "code",
   "execution_count": null,
   "id": "c8d27118",
   "metadata": {},
   "outputs": [
    {
     "data": {
      "text/plain": [
       "<matplotlib.legend.Legend at 0x2132a9fe520>"
      ]
     },
     "execution_count": 120,
     "metadata": {},
     "output_type": "execute_result"
    },
    {
     "data": {
      "image/png": "[encoded data removed]",
      "text/plain": [
       "<Figure size 1080x576 with 1 Axes>"
      ]
     },
     "metadata": {
      "needs_background": "light"
     },
     "output_type": "display_data"
    }
   ],
   "source": [
    "plt.rcParams['figure.figsize'] =(15,8)\n",
    "sns.lineplot(data=df.set_index('Fecha').resample(\"MS\", label='left').sum().reset_index(), x=\"Fecha\", y=\"Kilos\", label= 'original')\n",
    "sns.lineplot(data=df1dv, x=\"Fecha\", y=\"Kilos\", label='1DV')\n",
    "sns.lineplot(data=df2dv, x=\"Fecha\", y=\"Kilos\", label='2DV')\n",
    "sns.lineplot(data=df3dv, x=\"Fecha\", y=\"Kilos\", label=\"3DV\")\n",
    "sns.lineplot(data=df35dv, x=\"Fecha\", y=\"Kilos\", label='3.5DV')\n",
    "sns.lineplot(data=df4dv, x=\"Fecha\", y=\"Kilos\", label='4DV')\n",
    "plt.legend()"
   ]
  },
  {
   "cell_type": "markdown",
   "id": "6ebf95fa",
   "metadata": {},
   "source": [
    "## Diferenciando\n",
    "\n",
    "Primero separamos la data entre train y test"
   ]
  },
  {
   "cell_type": "code",
   "execution_count": null,
   "id": "436a26f1",
   "metadata": {},
   "outputs": [
    {
     "name": "stdout",
     "output_type": "stream",
     "text": [
      "shape de data_real (35, 1)\n",
      "shape de train (23, 1)\n",
      "shape de test (12, 1)\n"
     ]
    }
   ],
   "source": [
    "data_real = df2dv[['Kilos']]\n",
    "largo_train = int(np.round(0.66*len(data_real)))\n",
    "largo_test = int(len(data_real)-largo_train)\n",
    "\n",
    "train, test = data_real[:largo_train], data_real[largo_train:]\n",
    "data_to_diff = train\n",
    "\n",
    "print(f\"shape de data_real {data_real.shape}\")\n",
    "print(f\"shape de train {train.shape}\")\n",
    "print(f\"shape de test {test.shape}\")"
   ]
  },
  {
   "cell_type": "code",
   "execution_count": null,
   "id": "ffde5a12",
   "metadata": {},
   "outputs": [
    {
     "name": "stdout",
     "output_type": "stream",
     "text": [
      "p-value para 0 diff es 0.6196797476903402\n",
      "p-value para 1 diff es 0.23879187489537662\n",
      "p-value para 2 diff es 1.1438957408858617e-08\n",
      "p-value para 3 diff es 0.23342103102976108\n",
      "p-value para 4 diff es 0.12805776910480032\n",
      "p-value para 5 diff es 0.12222111372620326\n",
      "p-value para 6 diff es 2.7804374684875554e-05\n",
      "p-value para 7 diff es 6.429122605941031e-07\n"
     ]
    }
   ],
   "source": [
    "#shifting = df.set_index('Fecha').resample(\"MS\", label='left').sum().reset_index()[['Kilos']].shift(1)\n",
    "print(f\"p-value para 0 diff es {adfuller(data_to_diff.dropna())[1]}\")\n",
    "print(f\"p-value para 1 diff es {adfuller(data_to_diff.diff().dropna())[1]}\")\n",
    "print(f\"p-value para 2 diff es {adfuller(data_to_diff.diff().diff().dropna())[1]}\")\n",
    "print(f\"p-value para 3 diff es {adfuller(data_to_diff.diff().diff().diff().dropna())[1]}\")\n",
    "print(f\"p-value para 4 diff es {adfuller(data_to_diff.diff().diff().diff().diff().dropna())[1]}\")\n",
    "print(f\"p-value para 5 diff es {adfuller(data_to_diff.diff().diff().diff().diff().diff().dropna())[1]}\")\n",
    "print(f\"p-value para 6 diff es {adfuller(data_to_diff.diff().diff().diff().diff().diff().diff().dropna())[1]}\")\n",
    "print(f\"p-value para 7 diff es {adfuller(data_to_diff.diff().diff().diff().diff().diff().diff().diff().dropna())[1]}\")"
   ]
  },
  {
   "cell_type": "markdown",
   "id": "20e63c62",
   "metadata": {},
   "source": [
    "Notamos que al diferenciar 2 veces, la serie se vuelve prácticamente estacionaria"
   ]
  },
  {
   "cell_type": "markdown",
   "id": "cc1391d4",
   "metadata": {},
   "source": [
    "Valor de $d = 2$"
   ]
  },
  {
   "cell_type": "code",
   "execution_count": null,
   "id": "0445e911",
   "metadata": {},
   "outputs": [
    {
     "data": {
      "text/plain": [
       "(21, 1)"
      ]
     },
     "execution_count": 123,
     "metadata": {},
     "output_type": "execute_result"
    }
   ],
   "source": [
    "diff_serie = train.diff().diff().dropna()\n",
    "diff_serie.shape"
   ]
  },
  {
   "cell_type": "code",
   "execution_count": null,
   "id": "b14e0cdf",
   "metadata": {},
   "outputs": [
    {
     "data": {
      "text/plain": [
       "<AxesSubplot:>"
      ]
     },
     "execution_count": 124,
     "metadata": {},
     "output_type": "execute_result"
    },
    {
     "data": {
      "image/png": "[encoded data removed]",
      "text/plain": [
       "<Figure size 1080x576 with 1 Axes>"
      ]
     },
     "metadata": {
      "needs_background": "light"
     },
     "output_type": "display_data"
    }
   ],
   "source": [
    "diff_serie.plot()"
   ]
  },
  {
   "cell_type": "markdown",
   "id": "bad907a7",
   "metadata": {},
   "source": [
    "Notamos que a simple vista pareciera ser una serie estacionaria"
   ]
  },
  {
   "cell_type": "markdown",
   "id": "379ebea8",
   "metadata": {},
   "source": [
    "## ACF & PACF"
   ]
  },
  {
   "cell_type": "markdown",
   "id": "ca6200e1",
   "metadata": {},
   "source": [
    "Los gráficos de ACF y PACF se hicieron sobre la serie diferenciada"
   ]
  },
  {
   "cell_type": "code",
   "execution_count": null,
   "id": "4e1dcf14",
   "metadata": {},
   "outputs": [
    {
     "data": {
      "image/png": "[encoded data removed]",
      "text/plain": [
       "<Figure size 1080x288 with 1 Axes>"
      ]
     },
     "metadata": {
      "needs_background": "light"
     },
     "output_type": "display_data"
    },
    {
     "data": {
      "image/png": "[encoded data removed]",
      "text/plain": [
       "<Figure size 1080x288 with 1 Axes>"
      ]
     },
     "metadata": {
      "needs_background": "light"
     },
     "output_type": "display_data"
    }
   ],
   "source": [
    "#ACF y PACF data_real\n",
    "plt.rcParams['figure.figsize'] =(15,4)\n",
    "plot_acf(data_real, lags=34);\n",
    "plot_pacf(data_real, lags=16);"
   ]
  },
  {
   "cell_type": "code",
   "execution_count": null,
   "id": "280ea0e0",
   "metadata": {},
   "outputs": [
    {
     "data": {
      "image/png": "[encoded data removed]",
      "text/plain": [
       "<Figure size 1080x288 with 1 Axes>"
      ]
     },
     "metadata": {
      "needs_background": "light"
     },
     "output_type": "display_data"
    },
    {
     "data": {
      "image/png": "[encoded data removed]",
      "text/plain": [
       "<Figure size 1080x288 with 1 Axes>"
      ]
     },
     "metadata": {
      "needs_background": "light"
     },
     "output_type": "display_data"
    }
   ],
   "source": [
    "plt.rcParams['figure.figsize'] =(15,4)\n",
    "plot_acf(diff_serie, lags=20);\n",
    "plot_pacf(diff_serie, lags=9);"
   ]
  },
  {
   "cell_type": "markdown",
   "id": "ee9d82fe",
   "metadata": {},
   "source": [
    "## ACF:\n",
    "Las correlaciones disminuyen con el tiempo, y después del lag 1 la señal se apaga.\n",
    "\n",
    "## PACF:\n",
    "Para los lags 8 y 9 hay valores muy altos, y antes de ello hay algunos que también son significativos.\n",
    "\n",
    "## CONCLUSIÓN:\n",
    "Según lo estudiado, cuando ACF va disminuyendo con el tiempo y los lagos del gráficos de PACF se apagan después de algún lag, esto indicaría que la componente AR debería considerarse, y quizás con una componente de MA(1)."
   ]
  },
  {
   "cell_type": "markdown",
   "id": "8029b3f4",
   "metadata": {},
   "source": [
    "## "
   ]
  },
  {
   "cell_type": "markdown",
   "id": "739884a2",
   "metadata": {},
   "source": [
    "## ARIMA OVER DATAFRAME"
   ]
  },
  {
   "cell_type": "code",
   "execution_count": null,
   "id": "c08ff324",
   "metadata": {},
   "outputs": [
    {
     "name": "stdout",
     "output_type": "stream",
     "text": [
      "[(0, 0, 0), (0, 0, 1), (0, 1, 0), (0, 1, 1), (1, 0, 0), (1, 0, 1), (1, 1, 0), (1, 1, 1)]\n",
      "cantidad de combinaciones 8\n"
     ]
    }
   ],
   "source": [
    "p = range(0,16)\n",
    "d = range(0,3)\n",
    "q = range(0,4)\n",
    "pdq = list(itertools.product(p,d,q))\n",
    "\n",
    "print(pdq)\n",
    "print(f\"cantidad de combinaciones {len(pdq)}\")"
   ]
  },
  {
   "cell_type": "code",
   "execution_count": null,
   "id": "230f8991",
   "metadata": {},
   "outputs": [
    {
     "name": "stdout",
     "output_type": "stream",
     "text": [
      "(0, 0, 0) 0.5726035402763245\n",
      "(0, 0, 1) 0.306911130757525\n",
      "(0, 1, 0) 0.1829096687861532\n",
      "(0, 1, 1) 0.1919731008470639\n",
      "(1, 0, 0) 0.18990688171406103\n",
      "(1, 0, 1) 0.19363546027493383\n",
      "(1, 1, 0) 0.19520836075325967\n",
      "(1, 1, 1) 0.19081980341779578\n"
     ]
    },
    {
     "data": {
      "text/html": [
       "<div>\n",
       "<style scoped>\n",
       "    .dataframe tbody tr th:only-of-type {\n",
       "        vertical-align: middle;\n",
       "    }\n",
       "\n",
       "    .dataframe tbody tr th {\n",
       "        vertical-align: top;\n",
       "    }\n",
       "\n",
       "    .dataframe thead th {\n",
       "        text-align: right;\n",
       "    }\n",
       "</style>\n",
       "<table border=\"1\" class=\"dataframe\">\n",
       "  <thead>\n",
       "    <tr style=\"text-align: right;\">\n",
       "      <th></th>\n",
       "      <th>mape</th>\n",
       "    </tr>\n",
       "  </thead>\n",
       "  <tbody>\n",
       "  </tbody>\n",
       "</table>\n",
       "</div>"
      ],
      "text/plain": [
       "Empty DataFrame\n",
       "Columns: [mape]\n",
       "Index: []"
      ]
     },
     "execution_count": 138,
     "metadata": {},
     "output_type": "execute_result"
    }
   ],
   "source": [
    "arima_dict = {}\n",
    "train_size = train.shape[0] # 23\n",
    "test_size = test.shape[0] # 12\n",
    "series_arima_size = data_real.shape[0] #35\n",
    "series_arima = data_real\n",
    "\n",
    "for j in pdq:\n",
    "    try:\n",
    "        rolling_pred = []\n",
    "        for i in range(train_size, series_arima_size):\n",
    "            train_for = series_arima[:i] #Comienza desde el index 22 hasta el index 233\n",
    "            arima_model = ARIMA(train_for, order = j)\n",
    "            arima_model_fit = arima_model.fit()\n",
    "            arima_model_preds = arima_model_fit.forecast(steps = 1)\n",
    "            rolling_pred.append(arima_model_preds.values[0])\n",
    "            #print(len(train_for))\n",
    "        rolling = pd.DataFrame(rolling_pred, columns=['ROLLING'])\n",
    "        rolling.index = [23, 24, 25, 26, 27, 28, 29, 30, 31, 32, 33, 34]\n",
    "        pred = rolling\n",
    "        error = mean_absolute_percentage_error(data_real[train_size:series_arima_size], pred)\n",
    "        print(j, error)\n",
    "    except:\n",
    "        continue\n",
    "\n",
    "results = pd.DataFrame.from_dict(arima_dict, orient='index', columns=[\"mape\"]).sort_values(by=\"mape\")\n",
    "results"
   ]
  },
  {
   "cell_type": "markdown",
   "id": "f4236272",
   "metadata": {},
   "source": [
    "### ROLLING FORECAST"
   ]
  },
  {
   "cell_type": "code",
   "execution_count": 85,
   "id": "ebed701d",
   "metadata": {},
   "outputs": [
    {
     "name": "stdout",
     "output_type": "stream",
     "text": [
      "MAPE: 0.20857233883804904\n",
      "MAE: 565.4785042000153\n"
     ]
    },
    {
     "data": {
      "text/plain": [
       "<matplotlib.legend.Legend at 0x213300c0e80>"
      ]
     },
     "execution_count": 85,
     "metadata": {},
     "output_type": "execute_result"
    },
    {
     "data": {
      "image/png": "[encoded data removed]",
      "text/plain": [
       "<Figure size 1080x360 with 1 Axes>"
      ]
     },
     "metadata": {
      "needs_background": "light"
     },
     "output_type": "display_data"
    }
   ],
   "source": [
    "train_size = train.shape[0] # 23\n",
    "test_size = test.shape[0] # 12\n",
    "series_arima_size = data_real.shape[0] #35\n",
    "series_arima = data_real\n",
    "rolling_pred = []\n",
    "\n",
    "for i in range(train_size,series_arima_size):\n",
    "    train_for = series_arima[:i] #Comienza desde el index 22 hasta el index 233\n",
    "    arima_model = ARIMA(train_for, order = (10, 2, 0))\n",
    "    arima_model_fit = arima_model.fit()\n",
    "    arima_model_preds = arima_model_fit.forecast(steps = 1)\n",
    "    rolling_pred.append(arima_model_preds.values[0])\n",
    "rolling = pd.DataFrame(rolling_pred, columns=['ROLLING'])\n",
    "rolling.index = range(train_size,series_arima_size)\n",
    "\n",
    "pred = rolling\n",
    "MAPE = mean_absolute_percentage_error(data_real[train_size:series_arima_size], pred)\n",
    "MAE = mean_absolute_error(data_real[train_size:series_arima_size], pred)\n",
    "print(f\"MAPE: {MAPE}\")\n",
    "print(f\"MAE: {MAE}\")\n",
    "\n",
    "fig, ax = plt.subplots(figsize= (15,5))\n",
    "\n",
    "data_real.rename(columns={'Kilos':'ORIGINAL'}).plot(label=\"original\", ax=ax)\n",
    "pred.plot(label=\"pred\", ax=ax)\n",
    "plt.legend()"
   ]
  },
  {
   "cell_type": "code",
   "execution_count": null,
   "id": "31286f3b",
   "metadata": {},
   "outputs": [],
   "source": [
    "train_size = train.shape[0] # 23\n",
    "test_size = test.shape[0] # 12\n",
    "series_arima_size = data_real.shape[0] #35\n",
    "series_arima = data_real\n",
    "rolling_pred = []\n",
    "\n",
    "for i in range(train_size,series_arima_size):\n",
    "    train_for = series_arima[:i] #Comienza desde el index 22 hasta el index 233\n",
    "    arima_model = ARIMA(train_for, order = (10, 2, 0))\n",
    "    arima_model_fit = arima_model.fit()\n",
    "    arima_model_preds = arima_model_fit.forecast(steps = 1)\n",
    "    rolling_pred.append(arima_model_preds.values[0])\n",
    "rolling = pd.DataFrame(rolling_pred, columns=['ROLLING'])\n",
    "rolling.index = range(train_size,series_arima_size)\n",
    "\n",
    "pred = rolling\n",
    "MAPE = mean_absolute_percentage_error(data_real[train_size:series_arima_size], pred)\n",
    "MAE = mean_absolute_error(data_real[train_size:series_arima_size], pred)\n",
    "print(f\"MAPE: {MAPE}\")\n",
    "print(f\"MAE: {MAE}\")\n",
    "\n",
    "fig, ax = plt.subplots(figsize= (15,5))\n",
    "\n",
    "data_real.rename(columns={'Kilos':'ORIGINAL'}).plot(label=\"original\", ax=ax)\n",
    "pred.plot(label=\"pred\", ax=ax)\n",
    "plt.legend()"
   ]
  },
  {
   "cell_type": "code",
   "execution_count": null,
   "id": "f25eb8f0",
   "metadata": {},
   "outputs": [],
   "source": [
    "train_size = train.shape[0] # 23\n",
    "test_size = test.shape[0] # 12\n",
    "series_arima_size = data_real.shape[0] #35\n",
    "series_arima = data_real\n",
    "rolling_pred = []\n",
    "\n",
    "for i in range(train_size,series_arima_size):\n",
    "    train_for = series_arima[:i] #Comienza desde el index 22 hasta el index 233\n",
    "    arima_model = ARIMA(train_for, order = (10, 2, 0))\n",
    "    arima_model_fit = arima_model.fit()\n",
    "    arima_model_preds = arima_model_fit.forecast(steps = 1)\n",
    "    rolling_pred.append(arima_model_preds.values[0])\n",
    "rolling = pd.DataFrame(rolling_pred, columns=['ROLLING'])\n",
    "rolling.index = range(train_size,series_arima_size)\n",
    "\n",
    "pred = rolling\n",
    "MAPE = mean_absolute_percentage_error(data_real[train_size:series_arima_size], pred)\n",
    "MAE = mean_absolute_error(data_real[train_size:series_arima_size], pred)\n",
    "print(f\"MAPE: {MAPE}\")\n",
    "print(f\"MAE: {MAE}\")\n",
    "\n",
    "fig, ax = plt.subplots(figsize= (15,5))\n",
    "\n",
    "data_real.rename(columns={'Kilos':'ORIGINAL'}).plot(label=\"original\", ax=ax)\n",
    "pred.plot(label=\"pred\", ax=ax)\n",
    "plt.legend()"
   ]
  },
  {
   "cell_type": "code",
   "execution_count": 251,
   "id": "3cf5b160",
   "metadata": {},
   "outputs": [
    {
     "data": {
      "text/html": [
       "<table class=\"simpletable\">\n",
       "<caption>SARIMAX Results</caption>\n",
       "<tr>\n",
       "  <th>Dep. Variable:</th>         <td>Kilos</td>      <th>  No. Observations:  </th>    <td>23</td>   \n",
       "</tr>\n",
       "<tr>\n",
       "  <th>Model:</th>            <td>ARIMA(10, 2, 0)</td> <th>  Log Likelihood     </th> <td>-149.723</td>\n",
       "</tr>\n",
       "<tr>\n",
       "  <th>Date:</th>            <td>Thu, 17 Mar 2022</td> <th>  AIC                </th>  <td>321.447</td>\n",
       "</tr>\n",
       "<tr>\n",
       "  <th>Time:</th>                <td>13:55:49</td>     <th>  BIC                </th>  <td>332.936</td>\n",
       "</tr>\n",
       "<tr>\n",
       "  <th>Sample:</th>                  <td>0</td>        <th>  HQIC               </th>  <td>323.940</td>\n",
       "</tr>\n",
       "<tr>\n",
       "  <th></th>                       <td> - 23</td>      <th>                     </th>     <td> </td>   \n",
       "</tr>\n",
       "<tr>\n",
       "  <th>Covariance Type:</th>        <td>opg</td>       <th>                     </th>     <td> </td>   \n",
       "</tr>\n",
       "</table>\n",
       "<table class=\"simpletable\">\n",
       "<tr>\n",
       "     <td></td>       <th>coef</th>     <th>std err</th>      <th>z</th>      <th>P>|z|</th>  <th>[0.025</th>    <th>0.975]</th>  \n",
       "</tr>\n",
       "<tr>\n",
       "  <th>ar.L1</th>  <td>   -1.0192</td> <td>    0.258</td> <td>   -3.954</td> <td> 0.000</td> <td>   -1.524</td> <td>   -0.514</td>\n",
       "</tr>\n",
       "<tr>\n",
       "  <th>ar.L2</th>  <td>   -0.8131</td> <td>    0.387</td> <td>   -2.103</td> <td> 0.036</td> <td>   -1.571</td> <td>   -0.055</td>\n",
       "</tr>\n",
       "<tr>\n",
       "  <th>ar.L3</th>  <td>   -0.2125</td> <td>    0.368</td> <td>   -0.577</td> <td> 0.564</td> <td>   -0.934</td> <td>    0.509</td>\n",
       "</tr>\n",
       "<tr>\n",
       "  <th>ar.L4</th>  <td>   -0.7285</td> <td>    0.336</td> <td>   -2.169</td> <td> 0.030</td> <td>   -1.387</td> <td>   -0.070</td>\n",
       "</tr>\n",
       "<tr>\n",
       "  <th>ar.L5</th>  <td>   -0.8212</td> <td>    0.464</td> <td>   -1.772</td> <td> 0.076</td> <td>   -1.730</td> <td>    0.087</td>\n",
       "</tr>\n",
       "<tr>\n",
       "  <th>ar.L6</th>  <td>   -1.2307</td> <td>    0.286</td> <td>   -4.300</td> <td> 0.000</td> <td>   -1.792</td> <td>   -0.670</td>\n",
       "</tr>\n",
       "<tr>\n",
       "  <th>ar.L7</th>  <td>   -0.6918</td> <td>    0.341</td> <td>   -2.028</td> <td> 0.043</td> <td>   -1.360</td> <td>   -0.023</td>\n",
       "</tr>\n",
       "<tr>\n",
       "  <th>ar.L8</th>  <td>   -0.5522</td> <td>    0.741</td> <td>   -0.745</td> <td> 0.456</td> <td>   -2.004</td> <td>    0.900</td>\n",
       "</tr>\n",
       "<tr>\n",
       "  <th>ar.L9</th>  <td>   -0.1344</td> <td>    1.105</td> <td>   -0.122</td> <td> 0.903</td> <td>   -2.300</td> <td>    2.031</td>\n",
       "</tr>\n",
       "<tr>\n",
       "  <th>ar.L10</th> <td>   -0.3093</td> <td>    0.829</td> <td>   -0.373</td> <td> 0.709</td> <td>   -1.935</td> <td>    1.316</td>\n",
       "</tr>\n",
       "<tr>\n",
       "  <th>sigma2</th> <td> 2.441e+04</td> <td> 9559.600</td> <td>    2.554</td> <td> 0.011</td> <td> 5678.421</td> <td> 4.32e+04</td>\n",
       "</tr>\n",
       "</table>\n",
       "<table class=\"simpletable\">\n",
       "<tr>\n",
       "  <th>Ljung-Box (L1) (Q):</th>     <td>0.58</td>  <th>  Jarque-Bera (JB):  </th> <td>1.16</td>\n",
       "</tr>\n",
       "<tr>\n",
       "  <th>Prob(Q):</th>                <td>0.45</td>  <th>  Prob(JB):          </th> <td>0.56</td>\n",
       "</tr>\n",
       "<tr>\n",
       "  <th>Heteroskedasticity (H):</th> <td>10.58</td> <th>  Skew:              </th> <td>0.57</td>\n",
       "</tr>\n",
       "<tr>\n",
       "  <th>Prob(H) (two-sided):</th>    <td>0.01</td>  <th>  Kurtosis:          </th> <td>3.07</td>\n",
       "</tr>\n",
       "</table><br/><br/>Warnings:<br/>[1] Covariance matrix calculated using the outer product of gradients (complex-step)."
      ],
      "text/plain": [
       "<class 'statsmodels.iolib.summary.Summary'>\n",
       "\"\"\"\n",
       "                               SARIMAX Results                                \n",
       "==============================================================================\n",
       "Dep. Variable:                  Kilos   No. Observations:                   23\n",
       "Model:                ARIMA(10, 2, 0)   Log Likelihood                -149.723\n",
       "Date:                Thu, 17 Mar 2022   AIC                            321.447\n",
       "Time:                        13:55:49   BIC                            332.936\n",
       "Sample:                             0   HQIC                           323.940\n",
       "                                 - 23                                         \n",
       "Covariance Type:                  opg                                         \n",
       "==============================================================================\n",
       "                 coef    std err          z      P>|z|      [0.025      0.975]\n",
       "------------------------------------------------------------------------------\n",
       "ar.L1         -1.0192      0.258     -3.954      0.000      -1.524      -0.514\n",
       "ar.L2         -0.8131      0.387     -2.103      0.036      -1.571      -0.055\n",
       "ar.L3         -0.2125      0.368     -0.577      0.564      -0.934       0.509\n",
       "ar.L4         -0.7285      0.336     -2.169      0.030      -1.387      -0.070\n",
       "ar.L5         -0.8212      0.464     -1.772      0.076      -1.730       0.087\n",
       "ar.L6         -1.2307      0.286     -4.300      0.000      -1.792      -0.670\n",
       "ar.L7         -0.6918      0.341     -2.028      0.043      -1.360      -0.023\n",
       "ar.L8         -0.5522      0.741     -0.745      0.456      -2.004       0.900\n",
       "ar.L9         -0.1344      1.105     -0.122      0.903      -2.300       2.031\n",
       "ar.L10        -0.3093      0.829     -0.373      0.709      -1.935       1.316\n",
       "sigma2      2.441e+04   9559.600      2.554      0.011    5678.421    4.32e+04\n",
       "===================================================================================\n",
       "Ljung-Box (L1) (Q):                   0.58   Jarque-Bera (JB):                 1.16\n",
       "Prob(Q):                              0.45   Prob(JB):                         0.56\n",
       "Heteroskedasticity (H):              10.58   Skew:                             0.57\n",
       "Prob(H) (two-sided):                  0.01   Kurtosis:                         3.07\n",
       "===================================================================================\n",
       "\n",
       "Warnings:\n",
       "[1] Covariance matrix calculated using the outer product of gradients (complex-step).\n",
       "\"\"\""
      ]
     },
     "execution_count": 251,
     "metadata": {},
     "output_type": "execute_result"
    }
   ],
   "source": [
    "arima_model.summary()"
   ]
  },
  {
   "cell_type": "markdown",
   "id": "fefcdc19",
   "metadata": {},
   "source": [
    "## Seasonal Decompose"
   ]
  },
  {
   "cell_type": "code",
   "execution_count": 95,
   "id": "a89b738b",
   "metadata": {},
   "outputs": [],
   "source": [
    "from darts.utils.statistics import extract_trend_and_seasonality\n",
    "from darts.utils.utils import ModelMode\n",
    "\n",
    "from darts.models import FFT, AutoARIMA, ExponentialSmoothing, Prophet, Theta\n",
    "from darts.metrics import mape, mae\n",
    "from darts import TimeSeries\n",
    "from darts.utils.missing_values import fill_missing_values\n",
    "from darts.datasets import TemperatureDataset"
   ]
  },
  {
   "cell_type": "code",
   "execution_count": 96,
   "id": "6d64d616",
   "metadata": {},
   "outputs": [
    {
     "data": {
      "text/html": [
       "<div>\n",
       "<style scoped>\n",
       "    .dataframe tbody tr th:only-of-type {\n",
       "        vertical-align: middle;\n",
       "    }\n",
       "\n",
       "    .dataframe tbody tr th {\n",
       "        vertical-align: top;\n",
       "    }\n",
       "\n",
       "    .dataframe thead th {\n",
       "        text-align: right;\n",
       "    }\n",
       "</style>\n",
       "<table border=\"1\" class=\"dataframe\">\n",
       "  <thead>\n",
       "    <tr style=\"text-align: right;\">\n",
       "      <th></th>\n",
       "      <th>Kilos</th>\n",
       "    </tr>\n",
       "  </thead>\n",
       "  <tbody>\n",
       "    <tr>\n",
       "      <th>0</th>\n",
       "      <td>717.0</td>\n",
       "    </tr>\n",
       "    <tr>\n",
       "      <th>1</th>\n",
       "      <td>357.0</td>\n",
       "    </tr>\n",
       "    <tr>\n",
       "      <th>2</th>\n",
       "      <td>404.0</td>\n",
       "    </tr>\n",
       "    <tr>\n",
       "      <th>3</th>\n",
       "      <td>647.6</td>\n",
       "    </tr>\n",
       "    <tr>\n",
       "      <th>4</th>\n",
       "      <td>995.4</td>\n",
       "    </tr>\n",
       "  </tbody>\n",
       "</table>\n",
       "</div>"
      ],
      "text/plain": [
       "   Kilos\n",
       "0  717.0\n",
       "1  357.0\n",
       "2  404.0\n",
       "3  647.6\n",
       "4  995.4"
      ]
     },
     "execution_count": 96,
     "metadata": {},
     "output_type": "execute_result"
    }
   ],
   "source": [
    "from statsmodels.tsa.seasonal import seasonal_decompose\n",
    "#data= shifting\n",
    "#data= df.set_index('Fecha').resample(\"MS\", label='left').sum().reset_index()[['Kilos']]\n",
    "data = df2dv[['Kilos']]\n",
    "data.head()"
   ]
  },
  {
   "cell_type": "code",
   "execution_count": 97,
   "id": "b3422a24",
   "metadata": {},
   "outputs": [
    {
     "data": {
      "text/html": [
       "<div>\n",
       "<style scoped>\n",
       "    .dataframe tbody tr th:only-of-type {\n",
       "        vertical-align: middle;\n",
       "    }\n",
       "\n",
       "    .dataframe tbody tr th {\n",
       "        vertical-align: top;\n",
       "    }\n",
       "\n",
       "    .dataframe thead th {\n",
       "        text-align: right;\n",
       "    }\n",
       "</style>\n",
       "<table border=\"1\" class=\"dataframe\">\n",
       "  <thead>\n",
       "    <tr style=\"text-align: right;\">\n",
       "      <th></th>\n",
       "      <th>sum_residuals</th>\n",
       "      <th>mean_residuals</th>\n",
       "    </tr>\n",
       "  </thead>\n",
       "  <tbody>\n",
       "    <tr>\n",
       "      <th>8</th>\n",
       "      <td>-3201.266667</td>\n",
       "      <td>-133.386111</td>\n",
       "    </tr>\n",
       "    <tr>\n",
       "      <th>6</th>\n",
       "      <td>-1950.300000</td>\n",
       "      <td>-81.262500</td>\n",
       "    </tr>\n",
       "    <tr>\n",
       "      <th>10</th>\n",
       "      <td>-1848.453333</td>\n",
       "      <td>-77.018889</td>\n",
       "    </tr>\n",
       "    <tr>\n",
       "      <th>9</th>\n",
       "      <td>-1316.322634</td>\n",
       "      <td>-54.846776</td>\n",
       "    </tr>\n",
       "    <tr>\n",
       "      <th>7</th>\n",
       "      <td>-1199.685714</td>\n",
       "      <td>-49.986905</td>\n",
       "    </tr>\n",
       "    <tr>\n",
       "      <th>11</th>\n",
       "      <td>-1190.852893</td>\n",
       "      <td>-49.618871</td>\n",
       "    </tr>\n",
       "    <tr>\n",
       "      <th>12</th>\n",
       "      <td>-891.037500</td>\n",
       "      <td>-37.126562</td>\n",
       "    </tr>\n",
       "    <tr>\n",
       "      <th>5</th>\n",
       "      <td>-545.792000</td>\n",
       "      <td>-22.741333</td>\n",
       "    </tr>\n",
       "    <tr>\n",
       "      <th>4</th>\n",
       "      <td>-370.483333</td>\n",
       "      <td>-15.436806</td>\n",
       "    </tr>\n",
       "    <tr>\n",
       "      <th>1</th>\n",
       "      <td>0.000000</td>\n",
       "      <td>0.000000</td>\n",
       "    </tr>\n",
       "    <tr>\n",
       "      <th>2</th>\n",
       "      <td>178.233333</td>\n",
       "      <td>7.426389</td>\n",
       "    </tr>\n",
       "    <tr>\n",
       "      <th>3</th>\n",
       "      <td>264.955556</td>\n",
       "      <td>11.039815</td>\n",
       "    </tr>\n",
       "  </tbody>\n",
       "</table>\n",
       "</div>"
      ],
      "text/plain": [
       "    sum_residuals  mean_residuals\n",
       "8    -3201.266667     -133.386111\n",
       "6    -1950.300000      -81.262500\n",
       "10   -1848.453333      -77.018889\n",
       "9    -1316.322634      -54.846776\n",
       "7    -1199.685714      -49.986905\n",
       "11   -1190.852893      -49.618871\n",
       "12    -891.037500      -37.126562\n",
       "5     -545.792000      -22.741333\n",
       "4     -370.483333      -15.436806\n",
       "1        0.000000        0.000000\n",
       "2      178.233333        7.426389\n",
       "3      264.955556       11.039815"
      ]
     },
     "execution_count": 97,
     "metadata": {},
     "output_type": "execute_result"
    }
   ],
   "source": [
    "residuals_abs_sum = {}\n",
    "residuals_abs_mean = {}\n",
    "\n",
    "for i in range(1,13):\n",
    "    ts_dicomposition = seasonal_decompose(x=data, model='additive', period=i, two_sided=True, extrapolate_trend=2)\n",
    "    residual_estimate = ts_dicomposition.resid\n",
    "    residuals_abs_sum[i] = residual_estimate.sum()\n",
    "    residuals_abs_mean[i] = residual_estimate.mean()\n",
    "\n",
    "pd.merge(\n",
    "    pd.DataFrame.from_dict(residuals_abs_sum, orient='index', columns=[\"sum_residuals\"]),\n",
    "    pd.DataFrame.from_dict(residuals_abs_mean, orient='index', columns=[\"mean_residuals\"]), left_index=True, right_index=True\n",
    ").sort_values(by=\"mean_residuals\")"
   ]
  },
  {
   "cell_type": "code",
   "execution_count": 98,
   "id": "9af36260",
   "metadata": {},
   "outputs": [
    {
     "name": "stdout",
     "output_type": "stream",
     "text": [
      "residual mean = 281.59609374999974\n"
     ]
    },
    {
     "data": {
      "image/png": "[encoded data removed]",
      "text/plain": [
       "<Figure size 1440x720 with 4 Axes>"
      ]
     },
     "metadata": {
      "needs_background": "light"
     },
     "output_type": "display_data"
    }
   ],
   "source": [
    "ts_dicomposition_a = seasonal_decompose(x=data, model='additive', period=3, two_sided=True, extrapolate_trend=2)\n",
    "trend_estimate_a = ts_dicomposition.trend\n",
    "seasonal_estimate_a = ts_dicomposition.seasonal\n",
    "residual_estimate_a = ts_dicomposition.resid\n",
    "\n",
    "print(f\"residual mean = {np.abs(residual_estimate).mean()}\")\n",
    "fig, axes = plt.subplots(4, 1, sharex=True, sharey=False)\n",
    "fig.set_figheight(10)\n",
    "fig.set_figwidth(20)\n",
    "# First plot to the Original time series\n",
    "axes[0].plot(data, label='Original')\n",
    "axes[0].legend(loc='upper left');\n",
    "# second plot to be for trend\n",
    "axes[1].plot(trend_estimate_a, label='Trend')\n",
    "axes[1].legend(loc='upper left');\n",
    "# third plot to be Seasonality component\n",
    "axes[2].plot(seasonal_estimate_a, label='Seasonality')\n",
    "axes[2].legend(loc='upper left');\n",
    "# last last plot to be Residual component\n",
    "axes[3].plot(residual_estimate_a, label='Residuals')\n",
    "axes[3].legend(loc='upper left');"
   ]
  },
  {
   "cell_type": "code",
   "execution_count": 99,
   "id": "84ec2989",
   "metadata": {},
   "outputs": [
    {
     "data": {
      "text/html": [
       "<div>\n",
       "<style scoped>\n",
       "    .dataframe tbody tr th:only-of-type {\n",
       "        vertical-align: middle;\n",
       "    }\n",
       "\n",
       "    .dataframe tbody tr th {\n",
       "        vertical-align: top;\n",
       "    }\n",
       "\n",
       "    .dataframe thead th {\n",
       "        text-align: right;\n",
       "    }\n",
       "</style>\n",
       "<table border=\"1\" class=\"dataframe\">\n",
       "  <thead>\n",
       "    <tr style=\"text-align: right;\">\n",
       "      <th></th>\n",
       "      <th>mean_residuals</th>\n",
       "      <th>min_residuals</th>\n",
       "      <th>max_residuals</th>\n",
       "    </tr>\n",
       "  </thead>\n",
       "  <tbody>\n",
       "    <tr>\n",
       "      <th>8</th>\n",
       "      <td>0.951998</td>\n",
       "      <td>0.441224</td>\n",
       "      <td>1.490800</td>\n",
       "    </tr>\n",
       "    <tr>\n",
       "      <th>9</th>\n",
       "      <td>0.966693</td>\n",
       "      <td>0.581241</td>\n",
       "      <td>1.431286</td>\n",
       "    </tr>\n",
       "    <tr>\n",
       "      <th>10</th>\n",
       "      <td>0.974982</td>\n",
       "      <td>0.541502</td>\n",
       "      <td>1.352104</td>\n",
       "    </tr>\n",
       "    <tr>\n",
       "      <th>11</th>\n",
       "      <td>0.977738</td>\n",
       "      <td>0.622204</td>\n",
       "      <td>1.541825</td>\n",
       "    </tr>\n",
       "    <tr>\n",
       "      <th>7</th>\n",
       "      <td>0.978102</td>\n",
       "      <td>0.623466</td>\n",
       "      <td>1.461093</td>\n",
       "    </tr>\n",
       "    <tr>\n",
       "      <th>5</th>\n",
       "      <td>1.016635</td>\n",
       "      <td>0.591326</td>\n",
       "      <td>1.969098</td>\n",
       "    </tr>\n",
       "    <tr>\n",
       "      <th>3</th>\n",
       "      <td>1.022678</td>\n",
       "      <td>0.784587</td>\n",
       "      <td>1.717197</td>\n",
       "    </tr>\n",
       "    <tr>\n",
       "      <th>2</th>\n",
       "      <td>1.032967</td>\n",
       "      <td>0.766421</td>\n",
       "      <td>2.182832</td>\n",
       "    </tr>\n",
       "    <tr>\n",
       "      <th>6</th>\n",
       "      <td>1.047970</td>\n",
       "      <td>0.605786</td>\n",
       "      <td>2.099742</td>\n",
       "    </tr>\n",
       "    <tr>\n",
       "      <th>4</th>\n",
       "      <td>1.066077</td>\n",
       "      <td>0.683017</td>\n",
       "      <td>2.558841</td>\n",
       "    </tr>\n",
       "    <tr>\n",
       "      <th>12</th>\n",
       "      <td>1.117412</td>\n",
       "      <td>0.398159</td>\n",
       "      <td>1.836666</td>\n",
       "    </tr>\n",
       "  </tbody>\n",
       "</table>\n",
       "</div>"
      ],
      "text/plain": [
       "    mean_residuals  min_residuals  max_residuals\n",
       "8         0.951998       0.441224       1.490800\n",
       "9         0.966693       0.581241       1.431286\n",
       "10        0.974982       0.541502       1.352104\n",
       "11        0.977738       0.622204       1.541825\n",
       "7         0.978102       0.623466       1.461093\n",
       "5         1.016635       0.591326       1.969098\n",
       "3         1.022678       0.784587       1.717197\n",
       "2         1.032967       0.766421       2.182832\n",
       "6         1.047970       0.605786       2.099742\n",
       "4         1.066077       0.683017       2.558841\n",
       "12        1.117412       0.398159       1.836666"
      ]
     },
     "execution_count": 99,
     "metadata": {},
     "output_type": "execute_result"
    }
   ],
   "source": [
    "residuals_abs_mean = {}\n",
    "residuals_abs_max = {}\n",
    "residuals_abs_min = {}\n",
    "\n",
    "for i in range(2,13):\n",
    "    ts_dicomposition = seasonal_decompose(x=data, model='multiplicative', period=i, two_sided=True, extrapolate_trend=2)\n",
    "    residual_estimate = ts_dicomposition.resid\n",
    "    residuals_abs_mean[i] = residual_estimate.mean()\n",
    "    residuals_abs_max[i] = residual_estimate.max()\n",
    "    residuals_abs_min[i] = residual_estimate.min()\n",
    "\n",
    "pd.merge(pd.merge(\n",
    "    pd.DataFrame.from_dict(residuals_abs_mean, orient='index', columns=[\"mean_residuals\"]),\n",
    "    pd.DataFrame.from_dict(residuals_abs_min, orient='index', columns=[\"min_residuals\"]),\n",
    "    left_index=True, right_index=True),\n",
    "    pd.DataFrame.from_dict(residuals_abs_max, orient='index', columns=[\"max_residuals\"]),\n",
    "    left_index=True, right_index=True\n",
    ").sort_values(by=\"mean_residuals\")"
   ]
  },
  {
   "cell_type": "code",
   "execution_count": 100,
   "id": "ed92d1ca",
   "metadata": {},
   "outputs": [
    {
     "data": {
      "text/plain": [
       "1.1174123331472294"
      ]
     },
     "execution_count": 100,
     "metadata": {},
     "output_type": "execute_result"
    }
   ],
   "source": [
    "ts_dicomposition_m = seasonal_decompose(x=data, model='multiplicative', period=11, two_sided=True, extrapolate_trend=2)\n",
    "trend_estimate_m = ts_dicomposition.trend\n",
    "seasonal_estimate_m = ts_dicomposition.seasonal\n",
    "residual_estimate_m = ts_dicomposition.resid\n",
    "\n",
    "np.abs(residual_estimate).mean()"
   ]
  },
  {
   "cell_type": "code",
   "execution_count": 101,
   "id": "977369d0",
   "metadata": {},
   "outputs": [
    {
     "name": "stdout",
     "output_type": "stream",
     "text": [
      "residual mean = 1.1174123331472294\n"
     ]
    },
    {
     "data": {
      "image/png": "[encoded data removed]",
      "text/plain": [
       "<Figure size 1440x720 with 4 Axes>"
      ]
     },
     "metadata": {
      "needs_background": "light"
     },
     "output_type": "display_data"
    }
   ],
   "source": [
    "fig, axes = plt.subplots(4, 1, sharex=True, sharey=False)\n",
    "fig.set_figheight(10)\n",
    "fig.set_figwidth(20)\n",
    "\n",
    "print(f\"residual mean = {np.abs(residual_estimate).mean()}\")\n",
    "\n",
    "# First plot to the Original time series\n",
    "axes[0].plot(data, label='Original')\n",
    "axes[0].legend(loc='upper left');\n",
    "# second plot to be for trend\n",
    "axes[1].plot(trend_estimate_m, label='Trend')\n",
    "axes[1].legend(loc='upper left');\n",
    "# third plot to be Seasonality component\n",
    "axes[2].plot(seasonal_estimate_m, label='Seasonality')\n",
    "axes[2].legend(loc='upper left');\n",
    "# last last plot to be Residual component\n",
    "axes[3].plot(residual_estimate_m, label='Residuals')\n",
    "axes[3].legend(loc='upper left');"
   ]
  },
  {
   "cell_type": "markdown",
   "id": "59ed9afa",
   "metadata": {},
   "source": [
    "## ARIMA  - SEASONAL_ESTIMATE_A"
   ]
  },
  {
   "cell_type": "code",
   "execution_count": 102,
   "id": "24980904",
   "metadata": {},
   "outputs": [
    {
     "name": "stdout",
     "output_type": "stream",
     "text": [
      "0    116.571701\n",
      "1     22.623785\n",
      "2    -66.715799\n",
      "3    307.886285\n",
      "4    358.721701\n",
      "Name: seasonal, dtype: float64\n",
      "(24,)\n"
     ]
    }
   ],
   "source": [
    "ts = seasonal_estimate_a\n",
    "print(ts.head())\n",
    "print(ts.shape)"
   ]
  },
  {
   "cell_type": "code",
   "execution_count": 103,
   "id": "aa9624a3",
   "metadata": {},
   "outputs": [
    {
     "name": "stdout",
     "output_type": "stream",
     "text": [
      "pvalue de adfuller es: 0.00014604362815840596\n"
     ]
    }
   ],
   "source": [
    "adftest = adfuller(ts)\n",
    "print(f\"pvalue de adfuller es: {adftest[1]}\")"
   ]
  },
  {
   "cell_type": "markdown",
   "id": "0b8cc84e",
   "metadata": {},
   "source": [
    "Es menor a 0.05, por tanto la serie es estacionaria bajo el test de Augmented Dickey-Fulled"
   ]
  },
  {
   "cell_type": "code",
   "execution_count": 104,
   "id": "7fc685e8",
   "metadata": {},
   "outputs": [
    {
     "name": "stdout",
     "output_type": "stream",
     "text": [
      "Largo de la serie es: 24, y el 0.8*LargoSerie es 19.200000000000003\n",
      "Largo de TRAIN: 19. Largo de TEST: 5\n"
     ]
    }
   ],
   "source": [
    "print(f\"Largo de la serie es: {len(ts)}, y el 0.8*LargoSerie es {0.8*len(ts)}\")\n",
    "train, test = ts[:19], ts[19:]\n",
    "print(f\"Largo de TRAIN: {len(train)}. Largo de TEST: {len(test)}\")"
   ]
  },
  {
   "cell_type": "code",
   "execution_count": 105,
   "id": "a73e59c7",
   "metadata": {},
   "outputs": [
    {
     "name": "stdout",
     "output_type": "stream",
     "text": [
      "36\n",
      "[(0, 0, 0), (0, 0, 1), (0, 0, 2), (0, 0, 3), (0, 0, 4), (0, 0, 5), (1, 0, 0), (1, 0, 1), (1, 0, 2), (1, 0, 3), (1, 0, 4), (1, 0, 5), (2, 0, 0), (2, 0, 1), (2, 0, 2), (2, 0, 3), (2, 0, 4), (2, 0, 5), (3, 0, 0), (3, 0, 1), (3, 0, 2), (3, 0, 3), (3, 0, 4), (3, 0, 5), (4, 0, 0), (4, 0, 1), (4, 0, 2), (4, 0, 3), (4, 0, 4), (4, 0, 5), (5, 0, 0), (5, 0, 1), (5, 0, 2), (5, 0, 3), (5, 0, 4), (5, 0, 5)]\n"
     ]
    }
   ],
   "source": [
    "p = range(0,6)\n",
    "d = range(0,1)\n",
    "q = range(0,6)\n",
    "\n",
    "\n",
    "pdq = list(itertools.product(p,d,q))\n",
    "print(len(pdq))\n",
    "print(pdq)"
   ]
  },
  {
   "cell_type": "code",
   "execution_count": 106,
   "id": "d305cdfc",
   "metadata": {},
   "outputs": [
    {
     "name": "stdout",
     "output_type": "stream",
     "text": [
      "(0, 0, 0) 1.0\n",
      "(0, 0, 1) 0.500027292208334\n",
      "(0, 0, 2) 0.29289335771441133\n",
      "(0, 0, 3) 0.19098342391530482\n",
      "(0, 0, 4) 0.13397921475301172\n",
      "(0, 0, 5) 0.09909972771769845\n",
      "(1, 0, 0) 0.0004383468454859516\n",
      "(1, 0, 1) 1.0437852919864908e-05\n",
      "(1, 0, 2) 3.7943908183617976e-05\n",
      "(1, 0, 3) 0.2931091319111077\n",
      "(1, 0, 4) 0.1910586730781608\n",
      "(1, 0, 5) 25.62660854032456\n",
      "(2, 0, 0) 0.00030930651853794156\n",
      "(2, 0, 1) 1.7998074801589252e-05\n",
      "(2, 0, 2) 0.06541098581450988\n",
      "(2, 0, 3) 0.004184259889868281\n",
      "(2, 0, 4) 0.29253812847304583\n",
      "(2, 0, 5) 0.00014327755771172536\n",
      "(3, 0, 0) 0.0002134647906773866\n",
      "(3, 0, 1) 1.3305783758389114e-05\n",
      "(3, 0, 2) 0.0005447060002407098\n",
      "(3, 0, 4) 0.014431779898295785\n",
      "(3, 0, 5) 4.425061454619661e-05\n",
      "(4, 0, 1) 5.253187526308229e-05\n",
      "(4, 0, 2) 0.005666475943748256\n",
      "(4, 0, 3) 4.9658540007498595e-05\n",
      "(4, 0, 4) 0.00014180529440610887\n",
      "(4, 0, 5) 2.1443022595039613e-05\n",
      "(5, 0, 0) 6.190712287423503e-05\n",
      "(5, 0, 1) 6.848351862521814e-05\n",
      "(5, 0, 4) 2.5709159390813256e-05\n"
     ]
    },
    {
     "data": {
      "text/html": [
       "<div>\n",
       "<style scoped>\n",
       "    .dataframe tbody tr th:only-of-type {\n",
       "        vertical-align: middle;\n",
       "    }\n",
       "\n",
       "    .dataframe tbody tr th {\n",
       "        vertical-align: top;\n",
       "    }\n",
       "\n",
       "    .dataframe thead th {\n",
       "        text-align: right;\n",
       "    }\n",
       "</style>\n",
       "<table border=\"1\" class=\"dataframe\">\n",
       "  <thead>\n",
       "    <tr style=\"text-align: right;\">\n",
       "      <th></th>\n",
       "      <th>mape</th>\n",
       "    </tr>\n",
       "  </thead>\n",
       "  <tbody>\n",
       "    <tr>\n",
       "      <th>(1, 0, 1)</th>\n",
       "      <td>0.000010</td>\n",
       "    </tr>\n",
       "    <tr>\n",
       "      <th>(3, 0, 1)</th>\n",
       "      <td>0.000013</td>\n",
       "    </tr>\n",
       "    <tr>\n",
       "      <th>(2, 0, 1)</th>\n",
       "      <td>0.000018</td>\n",
       "    </tr>\n",
       "    <tr>\n",
       "      <th>(4, 0, 5)</th>\n",
       "      <td>0.000021</td>\n",
       "    </tr>\n",
       "    <tr>\n",
       "      <th>(5, 0, 4)</th>\n",
       "      <td>0.000026</td>\n",
       "    </tr>\n",
       "    <tr>\n",
       "      <th>(1, 0, 2)</th>\n",
       "      <td>0.000038</td>\n",
       "    </tr>\n",
       "    <tr>\n",
       "      <th>(3, 0, 5)</th>\n",
       "      <td>0.000044</td>\n",
       "    </tr>\n",
       "    <tr>\n",
       "      <th>(4, 0, 3)</th>\n",
       "      <td>0.000050</td>\n",
       "    </tr>\n",
       "    <tr>\n",
       "      <th>(4, 0, 1)</th>\n",
       "      <td>0.000053</td>\n",
       "    </tr>\n",
       "    <tr>\n",
       "      <th>(5, 0, 0)</th>\n",
       "      <td>0.000062</td>\n",
       "    </tr>\n",
       "    <tr>\n",
       "      <th>(5, 0, 1)</th>\n",
       "      <td>0.000068</td>\n",
       "    </tr>\n",
       "    <tr>\n",
       "      <th>(4, 0, 4)</th>\n",
       "      <td>0.000142</td>\n",
       "    </tr>\n",
       "    <tr>\n",
       "      <th>(2, 0, 5)</th>\n",
       "      <td>0.000143</td>\n",
       "    </tr>\n",
       "    <tr>\n",
       "      <th>(3, 0, 0)</th>\n",
       "      <td>0.000213</td>\n",
       "    </tr>\n",
       "    <tr>\n",
       "      <th>(2, 0, 0)</th>\n",
       "      <td>0.000309</td>\n",
       "    </tr>\n",
       "    <tr>\n",
       "      <th>(1, 0, 0)</th>\n",
       "      <td>0.000438</td>\n",
       "    </tr>\n",
       "    <tr>\n",
       "      <th>(3, 0, 2)</th>\n",
       "      <td>0.000545</td>\n",
       "    </tr>\n",
       "    <tr>\n",
       "      <th>(2, 0, 3)</th>\n",
       "      <td>0.004184</td>\n",
       "    </tr>\n",
       "    <tr>\n",
       "      <th>(4, 0, 2)</th>\n",
       "      <td>0.005666</td>\n",
       "    </tr>\n",
       "    <tr>\n",
       "      <th>(3, 0, 4)</th>\n",
       "      <td>0.014432</td>\n",
       "    </tr>\n",
       "    <tr>\n",
       "      <th>(2, 0, 2)</th>\n",
       "      <td>0.065411</td>\n",
       "    </tr>\n",
       "    <tr>\n",
       "      <th>(0, 0, 5)</th>\n",
       "      <td>0.099100</td>\n",
       "    </tr>\n",
       "    <tr>\n",
       "      <th>(0, 0, 4)</th>\n",
       "      <td>0.133979</td>\n",
       "    </tr>\n",
       "    <tr>\n",
       "      <th>(0, 0, 3)</th>\n",
       "      <td>0.190983</td>\n",
       "    </tr>\n",
       "    <tr>\n",
       "      <th>(1, 0, 4)</th>\n",
       "      <td>0.191059</td>\n",
       "    </tr>\n",
       "    <tr>\n",
       "      <th>(2, 0, 4)</th>\n",
       "      <td>0.292538</td>\n",
       "    </tr>\n",
       "    <tr>\n",
       "      <th>(0, 0, 2)</th>\n",
       "      <td>0.292893</td>\n",
       "    </tr>\n",
       "    <tr>\n",
       "      <th>(1, 0, 3)</th>\n",
       "      <td>0.293109</td>\n",
       "    </tr>\n",
       "    <tr>\n",
       "      <th>(0, 0, 1)</th>\n",
       "      <td>0.500027</td>\n",
       "    </tr>\n",
       "    <tr>\n",
       "      <th>(0, 0, 0)</th>\n",
       "      <td>1.000000</td>\n",
       "    </tr>\n",
       "    <tr>\n",
       "      <th>(1, 0, 5)</th>\n",
       "      <td>25.626609</td>\n",
       "    </tr>\n",
       "  </tbody>\n",
       "</table>\n",
       "</div>"
      ],
      "text/plain": [
       "                mape\n",
       "(1, 0, 1)   0.000010\n",
       "(3, 0, 1)   0.000013\n",
       "(2, 0, 1)   0.000018\n",
       "(4, 0, 5)   0.000021\n",
       "(5, 0, 4)   0.000026\n",
       "(1, 0, 2)   0.000038\n",
       "(3, 0, 5)   0.000044\n",
       "(4, 0, 3)   0.000050\n",
       "(4, 0, 1)   0.000053\n",
       "(5, 0, 0)   0.000062\n",
       "(5, 0, 1)   0.000068\n",
       "(4, 0, 4)   0.000142\n",
       "(2, 0, 5)   0.000143\n",
       "(3, 0, 0)   0.000213\n",
       "(2, 0, 0)   0.000309\n",
       "(1, 0, 0)   0.000438\n",
       "(3, 0, 2)   0.000545\n",
       "(2, 0, 3)   0.004184\n",
       "(4, 0, 2)   0.005666\n",
       "(3, 0, 4)   0.014432\n",
       "(2, 0, 2)   0.065411\n",
       "(0, 0, 5)   0.099100\n",
       "(0, 0, 4)   0.133979\n",
       "(0, 0, 3)   0.190983\n",
       "(1, 0, 4)   0.191059\n",
       "(2, 0, 4)   0.292538\n",
       "(0, 0, 2)   0.292893\n",
       "(1, 0, 3)   0.293109\n",
       "(0, 0, 1)   0.500027\n",
       "(0, 0, 0)   1.000000\n",
       "(1, 0, 5)  25.626609"
      ]
     },
     "execution_count": 106,
     "metadata": {},
     "output_type": "execute_result"
    }
   ],
   "source": [
    "diccionarioo = {}\n",
    "\n",
    "for i in pdq:\n",
    "        try:\n",
    "                model=sm.tsa.statespace.SARIMAX(train, order = (0,0,0), seasonal_order= i+(12,) ).fit()\n",
    "                pred=model.predict(start=len(train), end=(len(ts)-1))\n",
    "                error=mean_absolute_percentage_error(test, pred)\n",
    "                print(i, error)\n",
    "                diccionarioo[str(i)]=error\n",
    "        except:\n",
    "                continue\n",
    "\n",
    "\n",
    "results = pd.DataFrame.from_dict(diccionarioo, orient='index', columns=[\"mape\"]).sort_values(by=\"mape\")\n",
    "results"
   ]
  },
  {
   "cell_type": "code",
   "execution_count": 107,
   "id": "74e9ffbf",
   "metadata": {},
   "outputs": [],
   "source": [
    "model=sm.tsa.statespace.SARIMAX(train, order = (0,0,0), seasonal_order= (1,0,1) +(12,) ).fit()\n",
    "forecast=model.predict(start=len(train), end=(len(ts)-1))"
   ]
  },
  {
   "cell_type": "code",
   "execution_count": 108,
   "id": "6a189afa",
   "metadata": {},
   "outputs": [
    {
     "name": "stdout",
     "output_type": "stream",
     "text": [
      "MAPE: 1.0437852919864908e-05\n"
     ]
    },
    {
     "data": {
      "text/plain": [
       "<matplotlib.legend.Legend at 0x15a153e5220>"
      ]
     },
     "execution_count": 108,
     "metadata": {},
     "output_type": "execute_result"
    },
    {
     "data": {
      "image/png": "[encoded data removed]",
      "text/plain": [
       "<Figure size 720x360 with 1 Axes>"
      ]
     },
     "metadata": {
      "needs_background": "light"
     },
     "output_type": "display_data"
    }
   ],
   "source": [
    "print(f\"MAPE: {mean_absolute_percentage_error(test, forecast)}\")\n",
    "plt.subplots(figsize=(10,5))\n",
    "ts.plot(label='original')\n",
    "forecast.plot(label='forecast')\n",
    "plt.legend()"
   ]
  },
  {
   "cell_type": "markdown",
   "id": "6f532053",
   "metadata": {},
   "source": [
    "### Regresión Lineal - TREND_ESTIMATE_A"
   ]
  },
  {
   "cell_type": "code",
   "execution_count": 109,
   "id": "a38e010c",
   "metadata": {},
   "outputs": [
    {
     "data": {
      "text/plain": [
       "0      186.051389\n",
       "1      338.638889\n",
       "2      491.226389\n",
       "3      643.813889\n",
       "4      796.401389\n",
       "5      948.988889\n",
       "6     1107.825000\n",
       "7     1241.666667\n",
       "8     1413.000000\n",
       "9     1608.000000\n",
       "10    1810.208333\n",
       "11    2025.258333\n",
       "12    2260.858333\n",
       "13    2444.766667\n",
       "14    2596.058333\n",
       "15    2718.266667\n",
       "16    2795.808333\n",
       "17    2840.658333\n",
       "18    3003.002778\n",
       "19    3102.877778\n",
       "20    3202.752778\n",
       "21    3302.627778\n",
       "22    3402.502778\n",
       "23    3502.377778\n",
       "Name: trend, dtype: float64"
      ]
     },
     "execution_count": 109,
     "metadata": {},
     "output_type": "execute_result"
    }
   ],
   "source": [
    "trend_estimate_a.dropna()"
   ]
  },
  {
   "cell_type": "code",
   "execution_count": 110,
   "id": "43040bb7",
   "metadata": {},
   "outputs": [
    {
     "data": {
      "text/plain": [
       "(151.34758152173913, 250.4877083333335)"
      ]
     },
     "execution_count": 110,
     "metadata": {},
     "output_type": "execute_result"
    }
   ],
   "source": [
    "a= min(trend_estimate_a.dropna().index)\n",
    "b= max(trend_estimate_a.dropna().index) +1\n",
    "c= len(ts) #min_index, max_index de la SerieAnterior +1, max\n",
    "\n",
    "pendiente, intercepto = np.polyfit(list(range(a,b)),trend_estimate_a.dropna(), deg=1 )\n",
    "(pendiente, intercepto)"
   ]
  },
  {
   "cell_type": "code",
   "execution_count": 111,
   "id": "48347b2e",
   "metadata": {},
   "outputs": [
    {
     "data": {
      "text/html": [
       "<div>\n",
       "<style scoped>\n",
       "    .dataframe tbody tr th:only-of-type {\n",
       "        vertical-align: middle;\n",
       "    }\n",
       "\n",
       "    .dataframe tbody tr th {\n",
       "        vertical-align: top;\n",
       "    }\n",
       "\n",
       "    .dataframe thead th {\n",
       "        text-align: right;\n",
       "    }\n",
       "</style>\n",
       "<table border=\"1\" class=\"dataframe\">\n",
       "  <thead>\n",
       "    <tr style=\"text-align: right;\">\n",
       "      <th></th>\n",
       "      <th>polyfit-2</th>\n",
       "    </tr>\n",
       "  </thead>\n",
       "  <tbody>\n",
       "    <tr>\n",
       "      <th>0</th>\n",
       "      <td>250.487708</td>\n",
       "    </tr>\n",
       "    <tr>\n",
       "      <th>1</th>\n",
       "      <td>401.835290</td>\n",
       "    </tr>\n",
       "    <tr>\n",
       "      <th>2</th>\n",
       "      <td>553.182871</td>\n",
       "    </tr>\n",
       "    <tr>\n",
       "      <th>3</th>\n",
       "      <td>704.530453</td>\n",
       "    </tr>\n",
       "    <tr>\n",
       "      <th>4</th>\n",
       "      <td>855.878034</td>\n",
       "    </tr>\n",
       "    <tr>\n",
       "      <th>5</th>\n",
       "      <td>1007.225616</td>\n",
       "    </tr>\n",
       "    <tr>\n",
       "      <th>6</th>\n",
       "      <td>1158.573197</td>\n",
       "    </tr>\n",
       "    <tr>\n",
       "      <th>7</th>\n",
       "      <td>1309.920779</td>\n",
       "    </tr>\n",
       "    <tr>\n",
       "      <th>8</th>\n",
       "      <td>1461.268361</td>\n",
       "    </tr>\n",
       "    <tr>\n",
       "      <th>9</th>\n",
       "      <td>1612.615942</td>\n",
       "    </tr>\n",
       "    <tr>\n",
       "      <th>10</th>\n",
       "      <td>1763.963524</td>\n",
       "    </tr>\n",
       "    <tr>\n",
       "      <th>11</th>\n",
       "      <td>1915.311105</td>\n",
       "    </tr>\n",
       "    <tr>\n",
       "      <th>12</th>\n",
       "      <td>2066.658687</td>\n",
       "    </tr>\n",
       "    <tr>\n",
       "      <th>13</th>\n",
       "      <td>2218.006268</td>\n",
       "    </tr>\n",
       "    <tr>\n",
       "      <th>14</th>\n",
       "      <td>2369.353850</td>\n",
       "    </tr>\n",
       "    <tr>\n",
       "      <th>15</th>\n",
       "      <td>2520.701431</td>\n",
       "    </tr>\n",
       "    <tr>\n",
       "      <th>16</th>\n",
       "      <td>2672.049013</td>\n",
       "    </tr>\n",
       "    <tr>\n",
       "      <th>17</th>\n",
       "      <td>2823.396594</td>\n",
       "    </tr>\n",
       "    <tr>\n",
       "      <th>18</th>\n",
       "      <td>2974.744176</td>\n",
       "    </tr>\n",
       "    <tr>\n",
       "      <th>19</th>\n",
       "      <td>3126.091757</td>\n",
       "    </tr>\n",
       "    <tr>\n",
       "      <th>20</th>\n",
       "      <td>3277.439339</td>\n",
       "    </tr>\n",
       "    <tr>\n",
       "      <th>21</th>\n",
       "      <td>3428.786920</td>\n",
       "    </tr>\n",
       "    <tr>\n",
       "      <th>22</th>\n",
       "      <td>3580.134502</td>\n",
       "    </tr>\n",
       "    <tr>\n",
       "      <th>23</th>\n",
       "      <td>3731.482083</td>\n",
       "    </tr>\n",
       "  </tbody>\n",
       "</table>\n",
       "</div>"
      ],
      "text/plain": [
       "      polyfit-2\n",
       "0    250.487708\n",
       "1    401.835290\n",
       "2    553.182871\n",
       "3    704.530453\n",
       "4    855.878034\n",
       "5   1007.225616\n",
       "6   1158.573197\n",
       "7   1309.920779\n",
       "8   1461.268361\n",
       "9   1612.615942\n",
       "10  1763.963524\n",
       "11  1915.311105\n",
       "12  2066.658687\n",
       "13  2218.006268\n",
       "14  2369.353850\n",
       "15  2520.701431\n",
       "16  2672.049013\n",
       "17  2823.396594\n",
       "18  2974.744176\n",
       "19  3126.091757\n",
       "20  3277.439339\n",
       "21  3428.786920\n",
       "22  3580.134502\n",
       "23  3731.482083"
      ]
     },
     "execution_count": 111,
     "metadata": {},
     "output_type": "execute_result"
    }
   ],
   "source": [
    "forecast_trend = [x*pendiente + intercepto for x in list(range(a,b))]\n",
    "forecast_trend = pd.DataFrame(forecast_trend, index=list(range(a,b)), columns=['polyfit-2'])\n",
    "forecast_trend"
   ]
  },
  {
   "cell_type": "code",
   "execution_count": 112,
   "id": "92a10f01",
   "metadata": {},
   "outputs": [
    {
     "name": "stdout",
     "output_type": "stream",
     "text": [
      "MAPE: 0.07050466868735498\n"
     ]
    },
    {
     "data": {
      "text/plain": [
       "<matplotlib.legend.Legend at 0x15a15309dc0>"
      ]
     },
     "execution_count": 112,
     "metadata": {},
     "output_type": "execute_result"
    },
    {
     "data": {
      "image/png": "[encoded data removed]",
      "text/plain": [
       "<Figure size 1080x576 with 1 Axes>"
      ]
     },
     "metadata": {
      "needs_background": "light"
     },
     "output_type": "display_data"
    }
   ],
   "source": [
    "print(f\"MAPE: {mean_absolute_percentage_error(trend_estimate_a.dropna(), forecast_trend)}\")\n",
    "forecast_trend.plot(label=\"forecast_trend\")\n",
    "trend_estimate_a.plot(label=\"original_trend\")\n",
    "plt.legend()"
   ]
  },
  {
   "cell_type": "markdown",
   "id": "e036f40a",
   "metadata": {},
   "source": [
    "### UNIMOS AMBAS PARTES - MODELO ADDITIVE"
   ]
  },
  {
   "cell_type": "code",
   "execution_count": 113,
   "id": "101887bd",
   "metadata": {},
   "outputs": [
    {
     "data": {
      "text/html": [
       "<div>\n",
       "<style scoped>\n",
       "    .dataframe tbody tr th:only-of-type {\n",
       "        vertical-align: middle;\n",
       "    }\n",
       "\n",
       "    .dataframe tbody tr th {\n",
       "        vertical-align: top;\n",
       "    }\n",
       "\n",
       "    .dataframe thead th {\n",
       "        text-align: right;\n",
       "    }\n",
       "</style>\n",
       "<table border=\"1\" class=\"dataframe\">\n",
       "  <thead>\n",
       "    <tr style=\"text-align: right;\">\n",
       "      <th></th>\n",
       "      <th>polyfit-2</th>\n",
       "      <th>season_estimate_a_20</th>\n",
       "      <th>Kilos</th>\n",
       "      <th>forecast_first_shot</th>\n",
       "    </tr>\n",
       "  </thead>\n",
       "  <tbody>\n",
       "    <tr>\n",
       "      <th>0</th>\n",
       "      <td>250.487708</td>\n",
       "      <td>116.571701</td>\n",
       "      <td>717.0</td>\n",
       "      <td>367.059410</td>\n",
       "    </tr>\n",
       "    <tr>\n",
       "      <th>1</th>\n",
       "      <td>401.835290</td>\n",
       "      <td>22.623785</td>\n",
       "      <td>357.0</td>\n",
       "      <td>424.459075</td>\n",
       "    </tr>\n",
       "    <tr>\n",
       "      <th>2</th>\n",
       "      <td>553.182871</td>\n",
       "      <td>-66.715799</td>\n",
       "      <td>404.0</td>\n",
       "      <td>486.467073</td>\n",
       "    </tr>\n",
       "    <tr>\n",
       "      <th>3</th>\n",
       "      <td>704.530453</td>\n",
       "      <td>307.886285</td>\n",
       "      <td>647.6</td>\n",
       "      <td>1012.416738</td>\n",
       "    </tr>\n",
       "    <tr>\n",
       "      <th>4</th>\n",
       "      <td>855.878034</td>\n",
       "      <td>358.721701</td>\n",
       "      <td>995.4</td>\n",
       "      <td>1214.599736</td>\n",
       "    </tr>\n",
       "    <tr>\n",
       "      <th>5</th>\n",
       "      <td>1007.225616</td>\n",
       "      <td>604.602951</td>\n",
       "      <td>1004.0</td>\n",
       "      <td>1611.828567</td>\n",
       "    </tr>\n",
       "    <tr>\n",
       "      <th>6</th>\n",
       "      <td>1158.573197</td>\n",
       "      <td>862.012674</td>\n",
       "      <td>1511.4</td>\n",
       "      <td>2020.585871</td>\n",
       "    </tr>\n",
       "    <tr>\n",
       "      <th>7</th>\n",
       "      <td>1309.920779</td>\n",
       "      <td>355.854340</td>\n",
       "      <td>1653.0</td>\n",
       "      <td>1665.775119</td>\n",
       "    </tr>\n",
       "    <tr>\n",
       "      <th>8</th>\n",
       "      <td>1461.268361</td>\n",
       "      <td>42.750174</td>\n",
       "      <td>1336.0</td>\n",
       "      <td>1504.018534</td>\n",
       "    </tr>\n",
       "    <tr>\n",
       "      <th>9</th>\n",
       "      <td>1612.615942</td>\n",
       "      <td>-212.187326</td>\n",
       "      <td>1717.0</td>\n",
       "      <td>1400.428616</td>\n",
       "    </tr>\n",
       "    <tr>\n",
       "      <th>10</th>\n",
       "      <td>1763.963524</td>\n",
       "      <td>-1102.728993</td>\n",
       "      <td>1025.0</td>\n",
       "      <td>661.234530</td>\n",
       "    </tr>\n",
       "    <tr>\n",
       "      <th>11</th>\n",
       "      <td>1915.311105</td>\n",
       "      <td>-1289.391493</td>\n",
       "      <td>1340.6</td>\n",
       "      <td>625.919612</td>\n",
       "    </tr>\n",
       "    <tr>\n",
       "      <th>12</th>\n",
       "      <td>2066.658687</td>\n",
       "      <td>116.571701</td>\n",
       "      <td>1888.8</td>\n",
       "      <td>2183.230388</td>\n",
       "    </tr>\n",
       "    <tr>\n",
       "      <th>13</th>\n",
       "      <td>2218.006268</td>\n",
       "      <td>22.623785</td>\n",
       "      <td>2397.4</td>\n",
       "      <td>2240.630053</td>\n",
       "    </tr>\n",
       "    <tr>\n",
       "      <th>14</th>\n",
       "      <td>2369.353850</td>\n",
       "      <td>-66.715799</td>\n",
       "      <td>2475.6</td>\n",
       "      <td>2302.638051</td>\n",
       "    </tr>\n",
       "    <tr>\n",
       "      <th>15</th>\n",
       "      <td>2520.701431</td>\n",
       "      <td>307.886285</td>\n",
       "      <td>3256.0</td>\n",
       "      <td>2828.587716</td>\n",
       "    </tr>\n",
       "    <tr>\n",
       "      <th>16</th>\n",
       "      <td>2672.049013</td>\n",
       "      <td>358.721701</td>\n",
       "      <td>3240.0</td>\n",
       "      <td>3030.770714</td>\n",
       "    </tr>\n",
       "    <tr>\n",
       "      <th>17</th>\n",
       "      <td>2823.396594</td>\n",
       "      <td>604.602951</td>\n",
       "      <td>3920.6</td>\n",
       "      <td>3427.999546</td>\n",
       "    </tr>\n",
       "    <tr>\n",
       "      <th>18</th>\n",
       "      <td>2974.744176</td>\n",
       "      <td>862.012674</td>\n",
       "      <td>4249.2</td>\n",
       "      <td>3836.756849</td>\n",
       "    </tr>\n",
       "    <tr>\n",
       "      <th>19</th>\n",
       "      <td>3126.091757</td>\n",
       "      <td>355.854340</td>\n",
       "      <td>3329.0</td>\n",
       "      <td>3481.946098</td>\n",
       "    </tr>\n",
       "    <tr>\n",
       "      <th>20</th>\n",
       "      <td>3277.439339</td>\n",
       "      <td>42.750174</td>\n",
       "      <td>3291.0</td>\n",
       "      <td>3320.189512</td>\n",
       "    </tr>\n",
       "    <tr>\n",
       "      <th>21</th>\n",
       "      <td>3428.786920</td>\n",
       "      <td>-212.187326</td>\n",
       "      <td>2695.0</td>\n",
       "      <td>3216.599594</td>\n",
       "    </tr>\n",
       "    <tr>\n",
       "      <th>22</th>\n",
       "      <td>3580.134502</td>\n",
       "      <td>-1102.728993</td>\n",
       "      <td>1908.0</td>\n",
       "      <td>2477.405509</td>\n",
       "    </tr>\n",
       "    <tr>\n",
       "      <th>23</th>\n",
       "      <td>3731.482083</td>\n",
       "      <td>-1289.391493</td>\n",
       "      <td>1534.0</td>\n",
       "      <td>2442.090590</td>\n",
       "    </tr>\n",
       "  </tbody>\n",
       "</table>\n",
       "</div>"
      ],
      "text/plain": [
       "      polyfit-2  season_estimate_a_20   Kilos  forecast_first_shot\n",
       "0    250.487708            116.571701   717.0           367.059410\n",
       "1    401.835290             22.623785   357.0           424.459075\n",
       "2    553.182871            -66.715799   404.0           486.467073\n",
       "3    704.530453            307.886285   647.6          1012.416738\n",
       "4    855.878034            358.721701   995.4          1214.599736\n",
       "5   1007.225616            604.602951  1004.0          1611.828567\n",
       "6   1158.573197            862.012674  1511.4          2020.585871\n",
       "7   1309.920779            355.854340  1653.0          1665.775119\n",
       "8   1461.268361             42.750174  1336.0          1504.018534\n",
       "9   1612.615942           -212.187326  1717.0          1400.428616\n",
       "10  1763.963524          -1102.728993  1025.0           661.234530\n",
       "11  1915.311105          -1289.391493  1340.6           625.919612\n",
       "12  2066.658687            116.571701  1888.8          2183.230388\n",
       "13  2218.006268             22.623785  2397.4          2240.630053\n",
       "14  2369.353850            -66.715799  2475.6          2302.638051\n",
       "15  2520.701431            307.886285  3256.0          2828.587716\n",
       "16  2672.049013            358.721701  3240.0          3030.770714\n",
       "17  2823.396594            604.602951  3920.6          3427.999546\n",
       "18  2974.744176            862.012674  4249.2          3836.756849\n",
       "19  3126.091757            355.854340  3329.0          3481.946098\n",
       "20  3277.439339             42.750174  3291.0          3320.189512\n",
       "21  3428.786920           -212.187326  2695.0          3216.599594\n",
       "22  3580.134502          -1102.728993  1908.0          2477.405509\n",
       "23  3731.482083          -1289.391493  1534.0          2442.090590"
      ]
     },
     "execution_count": 113,
     "metadata": {},
     "output_type": "execute_result"
    }
   ],
   "source": [
    "#Parte TREND del mes 5 al mes 20\n",
    "forecast_trend_20 = [x*pendiente + intercepto for x in list(range(a,c))]\n",
    "forecast_trend_20 = pd.DataFrame(forecast_trend_20, index=list(range(a,c)), columns=['polyfit-2'])\n",
    "\n",
    "#Parte SEASON del mes 5 al mes 20\n",
    "season_estimate_a_20 = pd.DataFrame(seasonal_estimate_a[a:c]).rename(columns={'seasonal':'season_estimate_a_20'})\n",
    "\n",
    "#Parte ORIGINAL\n",
    "data_real = data[a:c]\n",
    "\n",
    "#UNION\n",
    "first_shot = pd.concat([forecast_trend_20, season_estimate_a_20, data_real],axis=1)\n",
    "first_shot['forecast_first_shot'] = first_shot['polyfit-2'] + first_shot['season_estimate_a_20']\n",
    "first_shot\n"
   ]
  },
  {
   "cell_type": "code",
   "execution_count": 114,
   "id": "bea434ec",
   "metadata": {},
   "outputs": [
    {
     "name": "stdout",
     "output_type": "stream",
     "text": [
      "MAPE FIRST SHOT: 0.25237288160906074\n"
     ]
    },
    {
     "data": {
      "text/plain": [
       "<matplotlib.legend.Legend at 0x15a0ff76af0>"
      ]
     },
     "execution_count": 114,
     "metadata": {},
     "output_type": "execute_result"
    },
    {
     "data": {
      "image/png": "[encoded data removed]",
      "text/plain": [
       "<Figure size 1080x576 with 1 Axes>"
      ]
     },
     "metadata": {
      "needs_background": "light"
     },
     "output_type": "display_data"
    }
   ],
   "source": [
    "print(f\"MAPE FIRST SHOT: {mean_absolute_percentage_error(first_shot['forecast_first_shot'], first_shot['Kilos'])}\")\n",
    "\n",
    "first_shot['forecast_first_shot'].plot(label=\"forecast_first_shot\")\n",
    "first_shot['Kilos'].plot(label=\"dato_real\")\n",
    "plt.legend()"
   ]
  },
  {
   "cell_type": "markdown",
   "id": "82a1eb55",
   "metadata": {},
   "source": [
    "## ARIMA  - SEASONAL_ESTIMATE_M"
   ]
  },
  {
   "cell_type": "code",
   "execution_count": 115,
   "id": "dde6941d",
   "metadata": {},
   "outputs": [
    {
     "name": "stdout",
     "output_type": "stream",
     "text": [
      "0    116.571701\n",
      "1     22.623785\n",
      "2    -66.715799\n",
      "3    307.886285\n",
      "4    358.721701\n",
      "Name: seasonal, dtype: float64\n",
      "(24,)\n"
     ]
    }
   ],
   "source": [
    "ts_m = seasonal_estimate_m\n",
    "print(ts.head())\n",
    "print(ts.shape)"
   ]
  },
  {
   "cell_type": "code",
   "execution_count": 116,
   "id": "3157f16d",
   "metadata": {},
   "outputs": [
    {
     "name": "stdout",
     "output_type": "stream",
     "text": [
      "pvalue de adfuller es: 0.00014604362815840596\n"
     ]
    }
   ],
   "source": [
    "adftest_m = adfuller(ts_m)\n",
    "print(f\"pvalue de adfuller es: {adftest[1]}\")"
   ]
  },
  {
   "cell_type": "markdown",
   "id": "243c8ccc",
   "metadata": {},
   "source": [
    "menor a 0.05, es estacionaria"
   ]
  },
  {
   "cell_type": "code",
   "execution_count": 117,
   "id": "52c4359f",
   "metadata": {},
   "outputs": [
    {
     "name": "stdout",
     "output_type": "stream",
     "text": [
      "Largo de la serie es: 24, y el 0.8*LargoSerie es 19.200000000000003\n",
      "Largo de TRAIN: 19. Largo de TEST: 5\n"
     ]
    }
   ],
   "source": [
    "print(f\"Largo de la serie es: {len(ts_m)}, y el 0.8*LargoSerie es {0.8*len(ts_m)}\")\n",
    "train_m, test_m = ts_m[:19], ts_m[19:]\n",
    "print(f\"Largo de TRAIN: {len(train_m)}. Largo de TEST: {len(test_m)}\")"
   ]
  },
  {
   "cell_type": "code",
   "execution_count": 118,
   "id": "2e8dee6f",
   "metadata": {},
   "outputs": [
    {
     "name": "stdout",
     "output_type": "stream",
     "text": [
      "128\n",
      "[(0, 0, 0), (0, 0, 1), (0, 0, 2), (0, 0, 3), (0, 0, 4), (0, 0, 5), (0, 0, 6), (0, 0, 7), (0, 1, 0), (0, 1, 1), (0, 1, 2), (0, 1, 3), (0, 1, 4), (0, 1, 5), (0, 1, 6), (0, 1, 7), (1, 0, 0), (1, 0, 1), (1, 0, 2), (1, 0, 3), (1, 0, 4), (1, 0, 5), (1, 0, 6), (1, 0, 7), (1, 1, 0), (1, 1, 1), (1, 1, 2), (1, 1, 3), (1, 1, 4), (1, 1, 5), (1, 1, 6), (1, 1, 7), (2, 0, 0), (2, 0, 1), (2, 0, 2), (2, 0, 3), (2, 0, 4), (2, 0, 5), (2, 0, 6), (2, 0, 7), (2, 1, 0), (2, 1, 1), (2, 1, 2), (2, 1, 3), (2, 1, 4), (2, 1, 5), (2, 1, 6), (2, 1, 7), (3, 0, 0), (3, 0, 1), (3, 0, 2), (3, 0, 3), (3, 0, 4), (3, 0, 5), (3, 0, 6), (3, 0, 7), (3, 1, 0), (3, 1, 1), (3, 1, 2), (3, 1, 3), (3, 1, 4), (3, 1, 5), (3, 1, 6), (3, 1, 7), (4, 0, 0), (4, 0, 1), (4, 0, 2), (4, 0, 3), (4, 0, 4), (4, 0, 5), (4, 0, 6), (4, 0, 7), (4, 1, 0), (4, 1, 1), (4, 1, 2), (4, 1, 3), (4, 1, 4), (4, 1, 5), (4, 1, 6), (4, 1, 7), (5, 0, 0), (5, 0, 1), (5, 0, 2), (5, 0, 3), (5, 0, 4), (5, 0, 5), (5, 0, 6), (5, 0, 7), (5, 1, 0), (5, 1, 1), (5, 1, 2), (5, 1, 3), (5, 1, 4), (5, 1, 5), (5, 1, 6), (5, 1, 7), (6, 0, 0), (6, 0, 1), (6, 0, 2), (6, 0, 3), (6, 0, 4), (6, 0, 5), (6, 0, 6), (6, 0, 7), (6, 1, 0), (6, 1, 1), (6, 1, 2), (6, 1, 3), (6, 1, 4), (6, 1, 5), (6, 1, 6), (6, 1, 7), (7, 0, 0), (7, 0, 1), (7, 0, 2), (7, 0, 3), (7, 0, 4), (7, 0, 5), (7, 0, 6), (7, 0, 7), (7, 1, 0), (7, 1, 1), (7, 1, 2), (7, 1, 3), (7, 1, 4), (7, 1, 5), (7, 1, 6), (7, 1, 7)]\n"
     ]
    }
   ],
   "source": [
    "p = range(0,2)\n",
    "d = range(0,2)\n",
    "q = range(0,8)\n",
    "\n",
    "\n",
    "pdq = list(itertools.product(p,d,q))\n",
    "print(len(pdq))\n",
    "print(pdq)"
   ]
  },
  {
   "cell_type": "code",
   "execution_count": 119,
   "id": "88053158",
   "metadata": {},
   "outputs": [
    {
     "name": "stdout",
     "output_type": "stream",
     "text": [
      "(0, 0, 0) 1.0\n",
      "(0, 0, 1) 0.5204427920988751\n",
      "(0, 0, 2) 0.468746625041072\n",
      "(0, 0, 3) 0.25664428939213574\n",
      "(0, 0, 4) 0.26812800479073984\n",
      "(0, 0, 5) 0.1678489082379157\n",
      "(0, 0, 6) 0.1791112413441093\n",
      "(0, 0, 7) 0.12906852708471087\n",
      "(0, 1, 0) 0.555448076779106\n",
      "(0, 1, 1) 0.3702987088078064\n",
      "(0, 1, 2) 0.23405074905368561\n",
      "(0, 1, 3) 0.16335083885212845\n",
      "(0, 1, 4) 0.11990804749660233\n",
      "(0, 1, 5) 0.0915524631464808\n",
      "(0, 1, 6) 0.0722536401136205\n",
      "(0, 1, 7) 0.0584648638907452\n",
      "(1, 0, 0) 0.47287962982429355\n",
      "(1, 0, 1) 0.35499719181601613\n",
      "(1, 0, 2) 0.2268008152579571\n",
      "(1, 0, 3) 0.16101626376551206\n",
      "(1, 0, 4) 0.11807039656375418\n",
      "(1, 0, 5) 0.09075495597868687\n",
      "(1, 0, 6) 0.0714634789227622\n",
      "(1, 0, 7) 0.058334425748357996\n",
      "(1, 1, 0) 0.5554481126475863\n",
      "(1, 1, 1) 0.0004272115890138371\n",
      "(1, 1, 2) 0.0002596113277679563\n",
      "(1, 1, 3) 9.535176123808464e-05\n",
      "(1, 1, 4) 0.00011785384588155413\n",
      "(1, 1, 5) 0.00031801736963703845\n",
      "(1, 1, 6) 0.00014049009731747898\n",
      "(1, 1, 7) 0.00024982677337385284\n",
      "(2, 0, 0) 0.002076623364219891\n",
      "(2, 0, 1) 0.0008069418864703169\n",
      "(2, 0, 2) 0.0009226906500467656\n",
      "(2, 0, 3) 0.0007315983950676244\n",
      "(2, 0, 4) 0.0007088880759950907\n",
      "(2, 0, 5) 0.0006147279423995512\n",
      "(2, 0, 6) 0.00040574329110187564\n",
      "(2, 0, 7) 0.00017968740564185085\n",
      "(2, 1, 0) 4.339878595025242e-06\n",
      "(2, 1, 1) 2.6452548031617273e-05\n",
      "(2, 1, 2) 4.209836500164477e-05\n",
      "(2, 1, 3) 2.8110121458682637e-05\n",
      "(2, 1, 4) 2.239238231001976e-05\n",
      "(2, 1, 5) 9.10175657408087e-06\n",
      "(2, 1, 6) 9.365594781175135e-05\n",
      "(2, 1, 7) 2.4458064055476494e-05\n",
      "(3, 0, 0) 4.892389045524684e-05\n",
      "(3, 0, 1) 0.006972803688978542\n",
      "(3, 0, 2) 0.010243568306575024\n",
      "(3, 0, 3) 0.012206580060048017\n",
      "(3, 0, 4) 0.00886259893942864\n",
      "(3, 0, 5) 0.005583483019130214\n",
      "(3, 0, 6) 0.005634391490874903\n",
      "(3, 0, 7) 0.0016404503930742224\n",
      "(3, 1, 0) 6.35936212420994e-06\n",
      "(3, 1, 1) 2.879488278396853e-06\n",
      "(3, 1, 2) 1.2822134631562489e-05\n",
      "(3, 1, 3) 1.1702443868572783e-05\n",
      "(3, 1, 4) 9.422859908999288e-06\n",
      "(3, 1, 5) 1.5627598640908083e-05\n",
      "(3, 1, 6) 1.023357848329408e-05\n",
      "(3, 1, 7) 1.066281822336032e-05\n",
      "(4, 0, 0) 4.004562810884758e-05\n",
      "(4, 0, 1) 0.012544437077811629\n",
      "(4, 0, 2) 0.012499609647440717\n",
      "(4, 0, 3) 0.01297197234738342\n",
      "(4, 0, 4) 0.0016329324835700793\n",
      "(4, 0, 5) 0.0003764656850176548\n",
      "(4, 0, 6) 0.002257523367506483\n",
      "(4, 0, 7) 0.0007826130562276979\n",
      "(4, 1, 0) 1.4772334031762821e-06\n",
      "(4, 1, 1) 1.0711403412925808e-05\n",
      "(4, 1, 2) 1.403072511402212e-05\n",
      "(4, 1, 3) 1.324160903177144e-05\n",
      "(4, 1, 4) 9.939503461959816e-06\n",
      "(4, 1, 5) 1.1715066386104901e-05\n",
      "(4, 1, 6) 9.377483566868655e-06\n",
      "(4, 1, 7) 3.5575661730598772e-06\n",
      "(5, 0, 0) 1.8757953341924274e-05\n",
      "(5, 0, 2) 0.014192357936571231\n",
      "(5, 0, 3) 0.03561488083599249\n",
      "(5, 0, 4) 0.00011500681294733861\n",
      "(5, 0, 5) 0.00338746152473981\n",
      "(5, 0, 7) 0.00034575723831983287\n",
      "(5, 1, 0) 3.713942444292943e-06\n",
      "(5, 1, 1) 5.877241286375521e-06\n"
     ]
    }
   ],
   "source": [
    "diccionarioo_m = {}\n",
    "\n",
    "for i in pdq:\n",
    "        try:\n",
    "                model=sm.tsa.statespace.SARIMAX(train_m, order = (0,0,0), seasonal_order= i + (6,) ).fit()\n",
    "                pred_m=model.predict(start=len(train_m), end=(len(ts_m)-1))\n",
    "                error=mean_absolute_percentage_error(test_m, pred_m)\n",
    "                print(i, error)\n",
    "                diccionarioo_m[str(i)]=error\n",
    "        except:\n",
    "                continue\n",
    "\n",
    "\n",
    "results = pd.DataFrame.from_dict(diccionarioo_m, orient='index', columns=[\"mape\"]).sort_values(by=\"mape\")\n",
    "results"
   ]
  },
  {
   "cell_type": "code",
   "execution_count": null,
   "id": "9c87aaa7",
   "metadata": {},
   "outputs": [],
   "source": [
    "model_m=sm.tsa.statespace.SARIMAX(train_m, order = (0,0,0), seasonal_order= (6,1,1) +(6,) ).fit()\n",
    "forecast_m=model_m.predict(start=len(train_m), end=(len(ts_m)-1))"
   ]
  },
  {
   "cell_type": "code",
   "execution_count": null,
   "id": "672c4092",
   "metadata": {},
   "outputs": [
    {
     "name": "stdout",
     "output_type": "stream",
     "text": [
      "MAPE: 2.5287558589358054e-06\n"
     ]
    },
    {
     "data": {
      "text/plain": [
       "<matplotlib.legend.Legend at 0x1c84a103310>"
      ]
     },
     "execution_count": 75,
     "metadata": {},
     "output_type": "execute_result"
    },
    {
     "data": {
      "image/png": "[encoded data removed]",
      "text/plain": [
       "<Figure size 1440x576 with 1 Axes>"
      ]
     },
     "metadata": {
      "needs_background": "light"
     },
     "output_type": "display_data"
    }
   ],
   "source": [
    "print(f\"MAPE: {mean_absolute_percentage_error(test_m, forecast_m)}\")\n",
    "plt.subplots(figsize=(20,8))\n",
    "ts_m.plot(label='original')\n",
    "forecast_m.plot(label='forecast')\n",
    "plt.legend()"
   ]
  },
  {
   "cell_type": "markdown",
   "id": "e940263f",
   "metadata": {},
   "source": [
    "### Regresión Lineal - TREND_ESTIMATE_M"
   ]
  },
  {
   "cell_type": "code",
   "execution_count": null,
   "id": "96d23115",
   "metadata": {},
   "outputs": [
    {
     "data": {
      "text/plain": [
       "0      216.072222\n",
       "1      346.788889\n",
       "2      477.505556\n",
       "3      608.222222\n",
       "4      738.938889\n",
       "5      869.655556\n",
       "6     1004.216667\n",
       "7     1123.400000\n",
       "8     1265.650000\n",
       "9     1428.025000\n",
       "10    1602.733333\n",
       "11    1794.658333\n",
       "12    1981.375000\n",
       "13    2123.483333\n",
       "14    2274.316667\n",
       "15    2396.900000\n",
       "16    2456.525000\n",
       "17    2480.441667\n",
       "18    2649.226389\n",
       "19    2740.330556\n",
       "20    2831.434722\n",
       "21    2922.538889\n",
       "22    3013.643056\n",
       "23    3104.747222\n",
       "Name: trend, dtype: float64"
      ]
     },
     "execution_count": 76,
     "metadata": {},
     "output_type": "execute_result"
    }
   ],
   "source": [
    "trend_estimate_m.dropna()"
   ]
  },
  {
   "cell_type": "code",
   "execution_count": null,
   "id": "4c3afec5",
   "metadata": {},
   "outputs": [
    {
     "data": {
      "text/plain": [
       "(131.2977300724638, 258.8606527777768)"
      ]
     },
     "execution_count": 77,
     "metadata": {},
     "output_type": "execute_result"
    }
   ],
   "source": [
    "a= min(trend_estimate_m.dropna().index)\n",
    "b= max(trend_estimate_m.dropna().index) +1\n",
    "c= len(ts_m) #min_index, max_index de la SerieAnterior +1, max\n",
    "\n",
    "pendiente_m, intercepto_m = np.polyfit(list(range(a,b)),trend_estimate_m.dropna(), deg=1 )\n",
    "(pendiente_m, intercepto_m)"
   ]
  },
  {
   "cell_type": "code",
   "execution_count": null,
   "id": "247b8140",
   "metadata": {},
   "outputs": [
    {
     "data": {
      "text/html": [
       "<div>\n",
       "<style scoped>\n",
       "    .dataframe tbody tr th:only-of-type {\n",
       "        vertical-align: middle;\n",
       "    }\n",
       "\n",
       "    .dataframe tbody tr th {\n",
       "        vertical-align: top;\n",
       "    }\n",
       "\n",
       "    .dataframe thead th {\n",
       "        text-align: right;\n",
       "    }\n",
       "</style>\n",
       "<table border=\"1\" class=\"dataframe\">\n",
       "  <thead>\n",
       "    <tr style=\"text-align: right;\">\n",
       "      <th></th>\n",
       "      <th>polyfit-2_m</th>\n",
       "    </tr>\n",
       "  </thead>\n",
       "  <tbody>\n",
       "    <tr>\n",
       "      <th>0</th>\n",
       "      <td>258.860653</td>\n",
       "    </tr>\n",
       "    <tr>\n",
       "      <th>1</th>\n",
       "      <td>390.158383</td>\n",
       "    </tr>\n",
       "    <tr>\n",
       "      <th>2</th>\n",
       "      <td>521.456113</td>\n",
       "    </tr>\n",
       "    <tr>\n",
       "      <th>3</th>\n",
       "      <td>652.753843</td>\n",
       "    </tr>\n",
       "    <tr>\n",
       "      <th>4</th>\n",
       "      <td>784.051573</td>\n",
       "    </tr>\n",
       "    <tr>\n",
       "      <th>5</th>\n",
       "      <td>915.349303</td>\n",
       "    </tr>\n",
       "    <tr>\n",
       "      <th>6</th>\n",
       "      <td>1046.647033</td>\n",
       "    </tr>\n",
       "    <tr>\n",
       "      <th>7</th>\n",
       "      <td>1177.944763</td>\n",
       "    </tr>\n",
       "    <tr>\n",
       "      <th>8</th>\n",
       "      <td>1309.242493</td>\n",
       "    </tr>\n",
       "    <tr>\n",
       "      <th>9</th>\n",
       "      <td>1440.540223</td>\n",
       "    </tr>\n",
       "    <tr>\n",
       "      <th>10</th>\n",
       "      <td>1571.837954</td>\n",
       "    </tr>\n",
       "    <tr>\n",
       "      <th>11</th>\n",
       "      <td>1703.135684</td>\n",
       "    </tr>\n",
       "    <tr>\n",
       "      <th>12</th>\n",
       "      <td>1834.433414</td>\n",
       "    </tr>\n",
       "    <tr>\n",
       "      <th>13</th>\n",
       "      <td>1965.731144</td>\n",
       "    </tr>\n",
       "    <tr>\n",
       "      <th>14</th>\n",
       "      <td>2097.028874</td>\n",
       "    </tr>\n",
       "    <tr>\n",
       "      <th>15</th>\n",
       "      <td>2228.326604</td>\n",
       "    </tr>\n",
       "    <tr>\n",
       "      <th>16</th>\n",
       "      <td>2359.624334</td>\n",
       "    </tr>\n",
       "    <tr>\n",
       "      <th>17</th>\n",
       "      <td>2490.922064</td>\n",
       "    </tr>\n",
       "    <tr>\n",
       "      <th>18</th>\n",
       "      <td>2622.219794</td>\n",
       "    </tr>\n",
       "    <tr>\n",
       "      <th>19</th>\n",
       "      <td>2753.517524</td>\n",
       "    </tr>\n",
       "    <tr>\n",
       "      <th>20</th>\n",
       "      <td>2884.815254</td>\n",
       "    </tr>\n",
       "    <tr>\n",
       "      <th>21</th>\n",
       "      <td>3016.112984</td>\n",
       "    </tr>\n",
       "    <tr>\n",
       "      <th>22</th>\n",
       "      <td>3147.410714</td>\n",
       "    </tr>\n",
       "    <tr>\n",
       "      <th>23</th>\n",
       "      <td>3278.708444</td>\n",
       "    </tr>\n",
       "  </tbody>\n",
       "</table>\n",
       "</div>"
      ],
      "text/plain": [
       "    polyfit-2_m\n",
       "0    258.860653\n",
       "1    390.158383\n",
       "2    521.456113\n",
       "3    652.753843\n",
       "4    784.051573\n",
       "5    915.349303\n",
       "6   1046.647033\n",
       "7   1177.944763\n",
       "8   1309.242493\n",
       "9   1440.540223\n",
       "10  1571.837954\n",
       "11  1703.135684\n",
       "12  1834.433414\n",
       "13  1965.731144\n",
       "14  2097.028874\n",
       "15  2228.326604\n",
       "16  2359.624334\n",
       "17  2490.922064\n",
       "18  2622.219794\n",
       "19  2753.517524\n",
       "20  2884.815254\n",
       "21  3016.112984\n",
       "22  3147.410714\n",
       "23  3278.708444"
      ]
     },
     "execution_count": 78,
     "metadata": {},
     "output_type": "execute_result"
    }
   ],
   "source": [
    "forecast_trend_m = [x*pendiente_m + intercepto_m for x in list(range(a,b))]\n",
    "forecast_trend_m = pd.DataFrame(forecast_trend_m, index=list(range(a,b)), columns=['polyfit-2_m'])\n",
    "forecast_trend_m"
   ]
  },
  {
   "cell_type": "code",
   "execution_count": null,
   "id": "b90022ca",
   "metadata": {},
   "outputs": [
    {
     "name": "stdout",
     "output_type": "stream",
     "text": [
      "MAPE: 0.05470521657723861\n"
     ]
    },
    {
     "data": {
      "text/plain": [
       "<matplotlib.legend.Legend at 0x1c848be3f40>"
      ]
     },
     "execution_count": 79,
     "metadata": {},
     "output_type": "execute_result"
    },
    {
     "data": {
      "image/png": "[encoded data removed]",
      "text/plain": [
       "<Figure size 1440x720 with 1 Axes>"
      ]
     },
     "metadata": {
      "needs_background": "light"
     },
     "output_type": "display_data"
    }
   ],
   "source": [
    "print(f\"MAPE: {mean_absolute_percentage_error(trend_estimate_m.dropna(), forecast_trend_m)}\")\n",
    "forecast_trend_m.plot(label=\"forecast_trend_m\")\n",
    "trend_estimate_m.plot(label=\"original_trend_m\")\n",
    "plt.legend()"
   ]
  },
  {
   "cell_type": "markdown",
   "id": "3995948c",
   "metadata": {},
   "source": [
    "### UNIMOS AMBAS PARTES - MODELO MULTIPLICATIVE"
   ]
  },
  {
   "cell_type": "code",
   "execution_count": null,
   "id": "78a9b1ec",
   "metadata": {},
   "outputs": [
    {
     "data": {
      "text/html": [
       "<div>\n",
       "<style scoped>\n",
       "    .dataframe tbody tr th:only-of-type {\n",
       "        vertical-align: middle;\n",
       "    }\n",
       "\n",
       "    .dataframe tbody tr th {\n",
       "        vertical-align: top;\n",
       "    }\n",
       "\n",
       "    .dataframe thead th {\n",
       "        text-align: right;\n",
       "    }\n",
       "</style>\n",
       "<table border=\"1\" class=\"dataframe\">\n",
       "  <thead>\n",
       "    <tr style=\"text-align: right;\">\n",
       "      <th></th>\n",
       "      <th>polyfit-2_m</th>\n",
       "      <th>season_estimate_a_20_m</th>\n",
       "      <th>Kilos</th>\n",
       "      <th>forecast_second_shot</th>\n",
       "    </tr>\n",
       "  </thead>\n",
       "  <tbody>\n",
       "    <tr>\n",
       "      <th>0</th>\n",
       "      <td>258.860653</td>\n",
       "      <td>1.715318</td>\n",
       "      <td>597.0</td>\n",
       "      <td>444.028307</td>\n",
       "    </tr>\n",
       "    <tr>\n",
       "      <th>1</th>\n",
       "      <td>390.158383</td>\n",
       "      <td>0.946228</td>\n",
       "      <td>357.0</td>\n",
       "      <td>369.178634</td>\n",
       "    </tr>\n",
       "    <tr>\n",
       "      <th>2</th>\n",
       "      <td>521.456113</td>\n",
       "      <td>0.761758</td>\n",
       "      <td>344.0</td>\n",
       "      <td>397.223321</td>\n",
       "    </tr>\n",
       "    <tr>\n",
       "      <th>3</th>\n",
       "      <td>652.753843</td>\n",
       "      <td>0.984659</td>\n",
       "      <td>567.6</td>\n",
       "      <td>642.739924</td>\n",
       "    </tr>\n",
       "    <tr>\n",
       "      <th>4</th>\n",
       "      <td>784.051573</td>\n",
       "      <td>1.207536</td>\n",
       "      <td>995.4</td>\n",
       "      <td>946.770671</td>\n",
       "    </tr>\n",
       "    <tr>\n",
       "      <th>5</th>\n",
       "      <td>915.349303</td>\n",
       "      <td>1.177121</td>\n",
       "      <td>929.0</td>\n",
       "      <td>1077.476977</td>\n",
       "    </tr>\n",
       "    <tr>\n",
       "      <th>6</th>\n",
       "      <td>1046.647033</td>\n",
       "      <td>1.169581</td>\n",
       "      <td>1294.6</td>\n",
       "      <td>1224.138532</td>\n",
       "    </tr>\n",
       "    <tr>\n",
       "      <th>7</th>\n",
       "      <td>1177.944763</td>\n",
       "      <td>1.080976</td>\n",
       "      <td>1378.0</td>\n",
       "      <td>1273.330336</td>\n",
       "    </tr>\n",
       "    <tr>\n",
       "      <th>8</th>\n",
       "      <td>1309.242493</td>\n",
       "      <td>0.927678</td>\n",
       "      <td>1081.0</td>\n",
       "      <td>1214.554829</td>\n",
       "    </tr>\n",
       "    <tr>\n",
       "      <th>9</th>\n",
       "      <td>1440.540223</td>\n",
       "      <td>0.973691</td>\n",
       "      <td>1697.0</td>\n",
       "      <td>1402.641192</td>\n",
       "    </tr>\n",
       "    <tr>\n",
       "      <th>10</th>\n",
       "      <td>1571.837954</td>\n",
       "      <td>0.556501</td>\n",
       "      <td>1040.0</td>\n",
       "      <td>874.729473</td>\n",
       "    </tr>\n",
       "    <tr>\n",
       "      <th>11</th>\n",
       "      <td>1703.135684</td>\n",
       "      <td>0.498953</td>\n",
       "      <td>1200.0</td>\n",
       "      <td>849.785217</td>\n",
       "    </tr>\n",
       "    <tr>\n",
       "      <th>12</th>\n",
       "      <td>1834.433414</td>\n",
       "      <td>1.715318</td>\n",
       "      <td>1737.0</td>\n",
       "      <td>3146.636439</td>\n",
       "    </tr>\n",
       "    <tr>\n",
       "      <th>13</th>\n",
       "      <td>1965.731144</td>\n",
       "      <td>0.946228</td>\n",
       "      <td>2077.4</td>\n",
       "      <td>1860.029083</td>\n",
       "    </tr>\n",
       "    <tr>\n",
       "      <th>14</th>\n",
       "      <td>2097.028874</td>\n",
       "      <td>0.761758</td>\n",
       "      <td>2037.6</td>\n",
       "      <td>1597.428340</td>\n",
       "    </tr>\n",
       "    <tr>\n",
       "      <th>15</th>\n",
       "      <td>2228.326604</td>\n",
       "      <td>0.984659</td>\n",
       "      <td>2771.0</td>\n",
       "      <td>2194.141768</td>\n",
       "    </tr>\n",
       "    <tr>\n",
       "      <th>16</th>\n",
       "      <td>2359.624334</td>\n",
       "      <td>1.207536</td>\n",
       "      <td>2985.0</td>\n",
       "      <td>2849.331843</td>\n",
       "    </tr>\n",
       "    <tr>\n",
       "      <th>17</th>\n",
       "      <td>2490.922064</td>\n",
       "      <td>1.177121</td>\n",
       "      <td>3545.6</td>\n",
       "      <td>2932.116916</td>\n",
       "    </tr>\n",
       "    <tr>\n",
       "      <th>18</th>\n",
       "      <td>2622.219794</td>\n",
       "      <td>1.169581</td>\n",
       "      <td>3159.2</td>\n",
       "      <td>3066.898569</td>\n",
       "    </tr>\n",
       "    <tr>\n",
       "      <th>19</th>\n",
       "      <td>2753.517524</td>\n",
       "      <td>1.080976</td>\n",
       "      <td>2924.0</td>\n",
       "      <td>2976.487102</td>\n",
       "    </tr>\n",
       "    <tr>\n",
       "      <th>20</th>\n",
       "      <td>2884.815254</td>\n",
       "      <td>0.927678</td>\n",
       "      <td>3155.0</td>\n",
       "      <td>2676.178261</td>\n",
       "    </tr>\n",
       "    <tr>\n",
       "      <th>21</th>\n",
       "      <td>3016.112984</td>\n",
       "      <td>0.973691</td>\n",
       "      <td>2565.0</td>\n",
       "      <td>2936.762363</td>\n",
       "    </tr>\n",
       "    <tr>\n",
       "      <th>22</th>\n",
       "      <td>3147.410714</td>\n",
       "      <td>0.556501</td>\n",
       "      <td>1603.0</td>\n",
       "      <td>1751.537370</td>\n",
       "    </tr>\n",
       "    <tr>\n",
       "      <th>23</th>\n",
       "      <td>3278.708444</td>\n",
       "      <td>0.498953</td>\n",
       "      <td>1211.0</td>\n",
       "      <td>1635.922488</td>\n",
       "    </tr>\n",
       "  </tbody>\n",
       "</table>\n",
       "</div>"
      ],
      "text/plain": [
       "    polyfit-2_m  season_estimate_a_20_m   Kilos  forecast_second_shot\n",
       "0    258.860653                1.715318   597.0            444.028307\n",
       "1    390.158383                0.946228   357.0            369.178634\n",
       "2    521.456113                0.761758   344.0            397.223321\n",
       "3    652.753843                0.984659   567.6            642.739924\n",
       "4    784.051573                1.207536   995.4            946.770671\n",
       "5    915.349303                1.177121   929.0           1077.476977\n",
       "6   1046.647033                1.169581  1294.6           1224.138532\n",
       "7   1177.944763                1.080976  1378.0           1273.330336\n",
       "8   1309.242493                0.927678  1081.0           1214.554829\n",
       "9   1440.540223                0.973691  1697.0           1402.641192\n",
       "10  1571.837954                0.556501  1040.0            874.729473\n",
       "11  1703.135684                0.498953  1200.0            849.785217\n",
       "12  1834.433414                1.715318  1737.0           3146.636439\n",
       "13  1965.731144                0.946228  2077.4           1860.029083\n",
       "14  2097.028874                0.761758  2037.6           1597.428340\n",
       "15  2228.326604                0.984659  2771.0           2194.141768\n",
       "16  2359.624334                1.207536  2985.0           2849.331843\n",
       "17  2490.922064                1.177121  3545.6           2932.116916\n",
       "18  2622.219794                1.169581  3159.2           3066.898569\n",
       "19  2753.517524                1.080976  2924.0           2976.487102\n",
       "20  2884.815254                0.927678  3155.0           2676.178261\n",
       "21  3016.112984                0.973691  2565.0           2936.762363\n",
       "22  3147.410714                0.556501  1603.0           1751.537370\n",
       "23  3278.708444                0.498953  1211.0           1635.922488"
      ]
     },
     "execution_count": 80,
     "metadata": {},
     "output_type": "execute_result"
    }
   ],
   "source": [
    "#Parte TREND del mes a al mes c\n",
    "forecast_trend_20_m = [x*pendiente_m + intercepto_m for x in list(range(a,c))]\n",
    "forecast_trend_20_m = pd.DataFrame(forecast_trend_20_m, index=list(range(a,c)), columns=['polyfit-2_m'])\n",
    "\n",
    "#Parte SEASON del mes 5 al mes 20\n",
    "season_estimate_a_20_m = pd.DataFrame(seasonal_estimate_m[a:c]).rename(columns={'seasonal':'season_estimate_a_20_m'})\n",
    "\n",
    "#Parte ORIGINAL\n",
    "data_real = data[a:c]\n",
    "\n",
    "#UNION\n",
    "second_shot = pd.concat([forecast_trend_20_m, season_estimate_a_20_m, data_real],axis=1)\n",
    "second_shot['forecast_second_shot'] = second_shot['polyfit-2_m']*second_shot['season_estimate_a_20_m']\n",
    "second_shot"
   ]
  },
  {
   "cell_type": "code",
   "execution_count": null,
   "id": "88b56dbc",
   "metadata": {},
   "outputs": [
    {
     "name": "stdout",
     "output_type": "stream",
     "text": [
      "MAPE SECOND SHOT: 0.16400563674974084\n"
     ]
    },
    {
     "data": {
      "text/plain": [
       "<matplotlib.legend.Legend at 0x1c84a109610>"
      ]
     },
     "execution_count": 81,
     "metadata": {},
     "output_type": "execute_result"
    },
    {
     "data": {
      "image/png": "[encoded data removed]",
      "text/plain": [
       "<Figure size 1440x720 with 1 Axes>"
      ]
     },
     "metadata": {
      "needs_background": "light"
     },
     "output_type": "display_data"
    }
   ],
   "source": [
    "print(f\"MAPE SECOND SHOT: {mean_absolute_percentage_error(second_shot['forecast_second_shot'], second_shot['Kilos'])}\")\n",
    "\n",
    "second_shot['forecast_second_shot'].plot(label=\"forecast_second_shot\")\n",
    "second_shot['Kilos'].plot(label=\"dato_real\")\n",
    "plt.legend()"
   ]
  },
  {
   "cell_type": "markdown",
   "id": "5fe384b1",
   "metadata": {},
   "source": [
    "## ARIMAX (integrando la cantidad de casos nuevos covid-19 mensuales RM a SARIMAX)"
   ]
  },
  {
   "cell_type": "code",
   "execution_count": null,
   "id": "c3773a74",
   "metadata": {},
   "outputs": [
    {
     "data": {
      "text/html": [
       "<div>\n",
       "<style scoped>\n",
       "    .dataframe tbody tr th:only-of-type {\n",
       "        vertical-align: middle;\n",
       "    }\n",
       "\n",
       "    .dataframe tbody tr th {\n",
       "        vertical-align: top;\n",
       "    }\n",
       "\n",
       "    .dataframe thead th {\n",
       "        text-align: right;\n",
       "    }\n",
       "</style>\n",
       "<table border=\"1\" class=\"dataframe\">\n",
       "  <thead>\n",
       "    <tr style=\"text-align: right;\">\n",
       "      <th></th>\n",
       "      <th>casos</th>\n",
       "    </tr>\n",
       "    <tr>\n",
       "      <th>fecha</th>\n",
       "      <th></th>\n",
       "    </tr>\n",
       "  </thead>\n",
       "  <tbody>\n",
       "    <tr>\n",
       "      <th>2020-03-01</th>\n",
       "      <td>2738</td>\n",
       "    </tr>\n",
       "    <tr>\n",
       "      <th>2020-04-01</th>\n",
       "      <td>13285</td>\n",
       "    </tr>\n",
       "    <tr>\n",
       "      <th>2020-05-01</th>\n",
       "      <td>83665</td>\n",
       "    </tr>\n",
       "    <tr>\n",
       "      <th>2020-06-01</th>\n",
       "      <td>148283</td>\n",
       "    </tr>\n",
       "    <tr>\n",
       "      <th>2020-07-01</th>\n",
       "      <td>76144</td>\n",
       "    </tr>\n",
       "    <tr>\n",
       "      <th>2020-08-01</th>\n",
       "      <td>56049</td>\n",
       "    </tr>\n",
       "    <tr>\n",
       "      <th>2020-09-01</th>\n",
       "      <td>51171</td>\n",
       "    </tr>\n",
       "    <tr>\n",
       "      <th>2020-10-01</th>\n",
       "      <td>47143</td>\n",
       "    </tr>\n",
       "    <tr>\n",
       "      <th>2020-11-01</th>\n",
       "      <td>41487</td>\n",
       "    </tr>\n",
       "    <tr>\n",
       "      <th>2020-12-01</th>\n",
       "      <td>57211</td>\n",
       "    </tr>\n",
       "    <tr>\n",
       "      <th>2021-01-01</th>\n",
       "      <td>118095</td>\n",
       "    </tr>\n",
       "    <tr>\n",
       "      <th>2021-02-01</th>\n",
       "      <td>98469</td>\n",
       "    </tr>\n",
       "    <tr>\n",
       "      <th>2021-03-01</th>\n",
       "      <td>170583</td>\n",
       "    </tr>\n",
       "    <tr>\n",
       "      <th>2021-04-01</th>\n",
       "      <td>201480</td>\n",
       "    </tr>\n",
       "    <tr>\n",
       "      <th>2021-05-01</th>\n",
       "      <td>186264</td>\n",
       "    </tr>\n",
       "    <tr>\n",
       "      <th>2021-06-01</th>\n",
       "      <td>172249</td>\n",
       "    </tr>\n",
       "    <tr>\n",
       "      <th>2021-07-01</th>\n",
       "      <td>60022</td>\n",
       "    </tr>\n",
       "    <tr>\n",
       "      <th>2021-08-01</th>\n",
       "      <td>22915</td>\n",
       "    </tr>\n",
       "    <tr>\n",
       "      <th>2021-09-01</th>\n",
       "      <td>15754</td>\n",
       "    </tr>\n",
       "    <tr>\n",
       "      <th>2021-10-01</th>\n",
       "      <td>42245</td>\n",
       "    </tr>\n",
       "  </tbody>\n",
       "</table>\n",
       "</div>"
      ],
      "text/plain": [
       "             casos\n",
       "fecha             \n",
       "2020-03-01    2738\n",
       "2020-04-01   13285\n",
       "2020-05-01   83665\n",
       "2020-06-01  148283\n",
       "2020-07-01   76144\n",
       "2020-08-01   56049\n",
       "2020-09-01   51171\n",
       "2020-10-01   47143\n",
       "2020-11-01   41487\n",
       "2020-12-01   57211\n",
       "2021-01-01  118095\n",
       "2021-02-01   98469\n",
       "2021-03-01  170583\n",
       "2021-04-01  201480\n",
       "2021-05-01  186264\n",
       "2021-06-01  172249\n",
       "2021-07-01   60022\n",
       "2021-08-01   22915\n",
       "2021-09-01   15754\n",
       "2021-10-01   42245"
      ]
     },
     "execution_count": 64,
     "metadata": {},
     "output_type": "execute_result"
    }
   ],
   "source": []
  },
  {
   "cell_type": "code",
   "execution_count": null,
   "id": "5d72c790",
   "metadata": {},
   "outputs": [],
   "source": []
  }
 ],
 "metadata": {
  "kernelspec": {
   "display_name": "Python 3 (ipykernel)",
   "language": "python",
   "name": "python3"
  },
  "language_info": {
   "codemirror_mode": {
    "name": "ipython",
    "version": 3
   },
   "file_extension": ".py",
   "mimetype": "text/x-python",
   "name": "python",
   "nbconvert_exporter": "python",
   "pygments_lexer": "ipython3",
   "version": "3.8.12"
  }
 },
 "nbformat": 4,
 "nbformat_minor": 5
}
