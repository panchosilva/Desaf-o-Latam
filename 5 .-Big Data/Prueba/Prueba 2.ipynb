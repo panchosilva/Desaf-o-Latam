{
 "cells": [
  {
   "cell_type": "markdown",
   "id": "4d148270",
   "metadata": {},
   "source": [
    "# Prueba 2"
   ]
  },
  {
   "cell_type": "code",
   "execution_count": 1,
   "id": "9c4c6a22",
   "metadata": {},
   "outputs": [
    {
     "name": "stdout",
     "output_type": "stream",
     "text": [
      "Starting Spark application\n"
     ]
    },
    {
     "data": {
      "text/html": [
       "<table>\n",
       "<tr><th>ID</th><th>YARN Application ID</th><th>Kind</th><th>State</th><th>Spark UI</th><th>Driver log</th><th>Current session?</th></tr><tr><td>0</td><td>application_1643320542941_0001</td><td>pyspark</td><td>idle</td><td><a target=\"_blank\" href=\"http://ip-172-31-36-153.ec2.internal:20888/proxy/application_1643320542941_0001/\">Link</a></td><td><a target=\"_blank\" href=\"http://ip-172-31-33-161.ec2.internal:8042/node/containerlogs/container_1643320542941_0001_01_000001/livy\">Link</a></td><td>✔</td></tr></table>"
      ],
      "text/plain": [
       "<IPython.core.display.HTML object>"
      ]
     },
     "metadata": {},
     "output_type": "display_data"
    },
    {
     "name": "stdout",
     "output_type": "stream",
     "text": [
      "SparkSession available as 'spark'.\n",
      "<SparkContext master=yarn appName=livy-session-0>"
     ]
    }
   ],
   "source": [
    "sc"
   ]
  },
  {
   "cell_type": "code",
   "execution_count": 2,
   "id": "3e63b84e",
   "metadata": {},
   "outputs": [],
   "source": [
    "from pyspark import SparkConf, SparkContext\n",
    "from pyspark.sql import SQLContext\n",
    "\n",
    "df_yelp = spark.read.json('s3://bigdata-desafio/yelp-data/user.json')"
   ]
  },
  {
   "cell_type": "markdown",
   "id": "fd90a9b7",
   "metadata": {},
   "source": [
    "### Ejercicio 1: Identificando usuarios molestosos (4.6 Puntos)\n",
    "Utilizando el archivo user.json.\n",
    "Desde Yelp están interesados en identificar a aquellos usuarios que se pueden considerar\n",
    "como molestosos. Para ello, tienen la siguiente definición de un usuario molestoso:\n",
    "- Un usuario molestoso es aquél que su promedio de evaluaciones es menor o igual a\n",
    "2, tiene en promedio menos de 100 reviews y tiene cero fans.\n",
    "\n",
    "A partir de esta definición, se le solicita los siguientes puntos:\n",
    "- Identifique en una variable dummy todos los usuarios que se puedan clasificar como\n",
    "molestosos acorde al criterio.\n",
    "- Recodificaciones en el archivo user.json:\n",
    "    - friends, que corresponde a un string con todos los user_id de otros\n",
    "        usuarios j que siguen al usuario i. El objetivo es contar la cantidad de\n",
    "        amigos existentes.\n",
    "    - elite, que corresponde a un string con todos los años en los que el usuario\n",
    "        i fue considerado como un reviewer de elite. El objetivo es contar la cantidad\n",
    "        de años en los cuales se consideró como elite.\n",
    "    - Asegúrese de eliminar los siguientes registros: friends, yelping_since,\n",
    "        name, elite, user_id.\n"
   ]
  },
  {
   "cell_type": "code",
   "execution_count": 3,
   "id": "94d3b268",
   "metadata": {},
   "outputs": [
    {
     "name": "stdout",
     "output_type": "stream",
     "text": [
      "['average_stars', 'compliment_cool', 'compliment_cute', 'compliment_funny', 'compliment_hot', 'compliment_list', 'compliment_more', 'compliment_note', 'compliment_photos', 'compliment_plain', 'compliment_profile', 'compliment_writer', 'cool', 'elite', 'fans', 'friends', 'funny', 'name', 'review_count', 'useful', 'user_id', 'yelping_since']"
     ]
    }
   ],
   "source": [
    "df_yelp.columns"
   ]
  },
  {
   "cell_type": "code",
   "execution_count": 4,
   "id": "cd066774",
   "metadata": {},
   "outputs": [
    {
     "name": "stdout",
     "output_type": "stream",
     "text": [
      "[Row(average_stars=4.03, compliment_cool=1, compliment_cute=0, compliment_funny=1, compliment_hot=2, compliment_list=0, compliment_more=0, compliment_note=1, compliment_photos=0, compliment_plain=1, compliment_profile=0, compliment_writer=2, cool=25, elite=u'2015,2016,2017', fans=5, friends=u'c78V-rj8NQcQjOI8KP3UEA, alRMgPcngYSCJ5naFRBz5g, ajcnq75Z5xxkvUSmmJ1bCg, BSMAmp2-wMzCkhTfq9ToNg, jka10dk9ygX76hJG0gfPZQ, dut0e4xvme7QSlesOycHQA, l4l5lBnK356zBua7B-UJ6Q, 0HicMOOs-M_gl2eO-zES4Q, _uI57wL2fLyftrcSFpfSGQ, T4_Qd0YWbC3co6WSMw4vxg, iBRoLWPtWmsI1kdbE9ORSA, xjrUcid6Ymq0DoTJELkYyw, GqadWVzJ6At-vgLzK_SKgA, DvB13VJBmSnbFXBVBsKmDA, vRP9nQkYTeNioDjtxZlVhg, gT0A1iN3eeQ8EMAjJhwQtw, 6yCWjFPtp_AD4x93WAwmnw, 1dKzpNnib-JlViKv8_Gt5g, 3Bv4_JxHXq-gVLOxYMQX0Q, ikQyfu1iViYh8T0us7wiFQ, f1GGltNaB7K5DR1jf3dOmg, tgeFUChlh7v8bZFVl2-hjQ, -9-9oyXlqsMG2he5xIWdLQ, Adj9fBPVJad8vSs-mIP7gw, Ce49RY8CKXVsTifxRYFTsw, M1_7TLi8CbdA89nFLlH4iw, wFsNv-hqbW_F5-IRqfBN6g, 0Q1L7zXHocaUZ2gsG2XJeg, cBFgmOCBdhYa0xoFEAzp_g, VrD_AgiFvzqtlR15vir3SQ, cpE-7HK514Sr5vpSen9CEQ, F1UYelhPFB-zIKlt0ygIZg, CQAL1hvsLMCzuJf9AglsXw, 1KnY1wr15WfEWIRLB9IS6g, QWFQ-kXBiLbid-lm5Jr3dQ, nymT8liFugCrM16lTy0ZfQ, qj69bdd885heDvUPCyHd2Q, DySCZZcgbdrlHgEovk5y9w, lZMJIDuvhT9Dy4KyquLXyA, b_9Gn7wS93AoPZPR0dIJqQ, N07g1IaLh0_6sUjtiSRe4w, YdfPX_7DxSnKvvdCJ57iOw, 8GYryZPD22W7WgQ8kvMkEQ, cpQmAgOWatghp14h1pn1dQ, EnchhymLYMqftCRjqvVWmw, -JdfKhFktE7Zs9BMDFcPeQ, uWhC9eof98zPkvsalgaqJw, eyTlNDDaiPatfe6mheIZ0g, VfHq0o73aKsODvfAhwAQtg, kvD5tICngLAaQDujSFWupA, dXacwEhqi9-3_XT6JeH0Og, NfU0zDaTMEQ4-X9dbQWd9A, cTHWBdjSKbctSUIvWsgFxw, 3IEtCbSDF5t7RkZ20T6s9A, HJJXTrp6UybYyPdQ9DA0JA, JaXogQFVjzGRAeBvzamBHg, NUonfKkjS1iVqnNITtgXZg, D5vaJAYp0sOrGfsj9qvsMA, H27Ecbwwu4FGAlLgICourw, S8HrLmMiE4u8FWYWkNEoTw, Io36Y3xWQcIX9rYvPcYfXQ, J5mcqh8KxYpqjaLBNlwcig, -nTB3_08g06fD0GT8AtDBQ, wMpFA46lihK8oFns_5p65A, RZGFJHeomGJCWp3xcL3ejA, ZoQSzzXoSP1RxOD4Amv9Bg, qzM0EB0SkuuGIFv0adjQAQ, HuM6vvuveken-fPZ7d4olA, H3oukHpGpn9n_mJwSDSQyQ, PkmsJsQ8FIZe8eh8c_u96g, wSByVbwME4MzgkJaFyfvNg, YEVqknoDmrHAoUbHX0nPnA, li3vsK1XAPmeJYAUTYflHQ, MKc8yXi0glbPYt0Qb4PECw, fQPH6W9fksi27gkuUPnFaA, amrCMrDsoRetYFg2kwwdFA, 84dVQ6n6r2ezNaTuc7RkKA, yW9QjWY0olv5-uRKv3t_Kw, 5XJDj7c3eoidfQ3jW18Zgw, txSc6a6pIDctvwyBeu7Aqg, HFbbDCyyqP9xPkUlcxeIdg, hTUv5oh2do6Z3OppPuuiJA, gSqonG9J4fNM-fl_fE71AA, pd9mgTFpBTg5F9x-MsczNg, j3VE22V2GcHiH8UZxfFLfw, NYXlMW-T-3V4Jqr4r-i0Wg, btxgAZedxX8IWhMifA7Xkg, -Hp5mPLiRJNFnyeX5Ygzag, P6-DwVg6-t2JuQwIUEk0iQ, OI2TvxYvZrAodBG_RF53Xw, bHxf_VPKmZur1Bier-6A2A, Et_Sb39cVm81_Xe9HDM8ZQ, 5HwGl2UyYbaRq8aD6YC-fA, ZK228WMcCKLo5thcjD7rdw, iTf8wojwfm0NOi7dOiz3Nw, btYRxQYNJjpecflNHtFH0A, Kgo42FzpW_dXFgDKoewbtg, MNk_1Q_dqOY3xxHZKeO8VQ, AlwD504T9k0m5lkg3k5g6Q', funny=17, name=u'Rashmi', review_count=95, useful=84, user_id=u'l6BmjZMeQD3rDxWUbiAiow', yelping_since=u'2013-10-08 23:11:33'), Row(average_stars=3.63, compliment_cool=1, compliment_cute=0, compliment_funny=1, compliment_hot=1, compliment_list=0, compliment_more=0, compliment_note=0, compliment_photos=0, compliment_plain=0, compliment_profile=0, compliment_writer=0, cool=16, elite=u'', fans=4, friends=u'kEBTgDvFX754S68FllfCaA, aB2DynOxNOJK9st2ZeGTPg, h_n5JP28sI3u7ye8og7JvQ, TMSrplMAaTf3QOw4zMH9Wg, cquG1TemWd-ES12WmQlOBg, _d9mCuLwfI-jkpgEzpb9lg, nvUnHK6_spIRETGCHmEDRg, T02ESCnWJuC8MMRTm3Cjkw, sf0aoHUvmLlZ3Uy11qLzmg, ReTaT_3nR-xWRNv1BsbSig, minoBfKXlJHMkLbUf4gDpQ, 8AhUSMpSJ3N6mm2OE55R_A, 4c1apzIgLFeECL5OAYHMdQ, 2Hqgm0_BIgWCJuL0Pt-lPw, Mh4HOEuYQYJLFCNP0Jk8XQ, fBfIZE1fGaM6R5Fsm1EvgA, hJPyOFkW2F1uBmGyy_aldw, Q3zRIcJEwy0Md1d4Es6e5w, 0yiXAr1zP1MiZPfLdi04kA, aH4rppBlzUDgQYFK0osZfA, t92HiTeguIeWSnDm3c_xlA, MfzBe06SHpISbhT9J3xB1g, IRWukUy1hGs9DkAda2jn4g, gftOmXOamgf25uO6yj5Enw, 7e48D-hzcjBlLHc8wfL1-A, Ftckarhm7wgITnNMUTGOew, nlT_aq3y9KLep0RFMPG5NA, mtPTsKlkvM90g0ZsXczyuA, MDBtNsoBcdn2dU2vbSx4jg, TdSeeuT8QMQ7Q1XltdRNzQ, Rq7kpSGk75p6RUQTl44-CA, dt2jH-CRxeJxNSzb8OswTg, jO4VPrEi9ogCvpuuQwF0aQ, Ty7a1RlbVu-vvBa_bH30EA, x6LpbRWLY7uHtcHG-hT-4w, lyi8G3UuGOD-uVnJwxm7dA, wf9jFs-RMzkAnAlOSdyKdQ, -tduy5TTRYvb3gc6ROXURg, 85FBnbDwjXMk6ZN0ZXFUYQ, wzWEVFhHs479Q_5hfO_PWQ, s3JCFghhpb7EWHBIquvLyw, lEAbeyen7wyEKTXtPwrNRg, m3OuFlnQe3CTLBoNj392GA, jLBSdhVSMaCX6YUIoXqeew, tEmgJLx7755HW2_6BIdf2Q, M82F41vxz6oSNsrMcVFg4Q, KIqoF-TJJq6zzZLzKhQO-Q, A679WGj38oPUzskpsm0msg, udbtMXNc6f0fTBCbI9ijmw, iX6ddmkYJgkKO8pQfD-N6A, mjDl7zaRT4iNF5ljykLCTQ, BKDM3-WZ0RNcZNxVk0ZXhw, 3TVAZ2qnHArzy1XStN4yAg, RawdIlNlrUmJ9d5YNDp7Ig, ARCoW6ybDh0qxLnoFLIhTg, 4GdFacgv5QwX38SW4tUN4A, _PLQtuSdp8_YfaZeKJoz-g, hqTaJA0NytMrSmjWXBh2Dg, VwaaZoTWhPS4Yg3u6BukSA, yOrYV8bqCn6CMdAAcfyKcA, MRgCtioPk2Ds-nLqraf4KA, ENknPTCEynKX39gvTZNYMw, kh9XGcpBwYTOpM6Jk9r0iQ, 2irDpo60JRpyImsLXBP46w, hIl8XCzzXcGvUP3CcwWIcA, qG-y23KlK3LgMmlAiUYU9A, VDb3rdXMJYYNhFvD3Uwhyw, L6KCNfYlQgzx84uv6wg5EA, 3JkGdd93Ji6-1yrIe12Y8A, 9M_Qa6iAKLrJiQcU1YS10A, zR3OiwwsSpaUSszdGBaYaA, 3Gg9-4WbwKPgVT6gCIIoMw, LNe3i4aVoZnCuoSFfsKF0A, kW2_3hbYc4XsOd66dsOM9g, oCAjBmdqwGXe3075r-L9Hw, -RExIGngSY5whUYJwcg8fQ, mqsnS8fqoanUHzkndvSI5w, wB6TJ5PTwuuUg1RHzltbGA, S8I3-2arLbNmPdIso3Mxmg, FhMbsaGyU8vdSwEJ75paKQ, 8amY_cV52Sik5VV3zJyzLA, ZvyJWkkq7DqYzl8Wzpupqw, zOI9CNm6aYOGrUTGyqUAWg, CACIooteXzwr9Z0CPsEs6Q, uoBvxSkl4m8SWsysZF2nXA, 4RLwkSaevztWJ2Xg2DLKXQ, aiRRxiL-cMAi0uXO6HaskA, B3WvNqNDS9BH9s3S0e_nhQ, H3FBNyXFHgi-tB9LBWxIXg, 6_dqfAij74b-Wn-9n7ZpwA, -8KyX-3VrqGuHeQWKDJxxg, th5km-Q1Yzm3sp078_I3ng, zX8wKxADT-05T2eISXN2Ig, IoP3utbhFjGBuyXmZ8D3EQ, odr9nAtFPYyFa-aNiv-ndQ, s9Mr__AU799aAQ95Au3uQg, AzhP6wwftNzFqVOc2uD6IQ, jmMG-sdOoxpAk-vM3uPHRQ, KpXQz5-LftUyJo4Vu40a5A, vi4tmsZ0wJ8aVWpdlXEUWw, _d6mrVOFwFO4lieo8PNzvA, hwtsj4A8yRH7yRit3pptMg, Xw0temDWAb1pPMQCqWN4pQ, bKGrtbn7oZRzduCDstwLTw, sKSG0CAr3pkvbzKI1hwAbg, OWJ-4cZ-zjyQCjcEaVJFfA, BqThEfcqQD_N-FWoVRyGiA, YIVZkkCSBOGaSQXzD89Fsw, 5LYMUn1BGyO5j6nACSHnXQ, SyiSpMeiwnA0ueLifBoz-Q, mrh4ZGCplZvqVAnqHyKj_A, zZRI3UNHE4_nhjUIHUrW8A, NIgEZ0fXK3X4k0GcbLpmnQ, mc7Fdn-teXNsnymLWC7liQ, RDuwkMwGjGEomTSIgYLPBw, U-AczowQjcz89iHzRKfCeQ, paWY3XSnc0ArmYPmxxgO7g, sPrdeJi8hbTfyV055QywBg, MIEevkRXnjDlNZ3t08iZjA, AIrgkT1oxrj6bHoigYCqAg, eDqJKOCbnTf3D5HtgUq1uA, scupY8kmksjVdKWBWU7aEg, yFe7QYpMzpRp7ST-XxXQBg, uJTEn40MZuwQSwziAJxOSg, 1pw0dWTqLZ1AAOtTL2dCGg, UIVWsA9ZRpj1NcgrF2FDKg, J7_OJmRuuRWuTUdBO_FexA, V5XkdJHBYVzc26qeTgaydQ, C5ylp_RgbPTR9wRzv7wLCg, zyUtwf1_JjDOL3yiYjmgHw, L1at3JTRr-_E5o9WOnIB9Q, IiL_hKx1fybWFm2ww3O_rA, YtXbx0C27mJQE9mAjqvhXw, 09owAly0xUSt_JlDVLuNJg, kNilPRjWYtri56sNe7b0Eg, 8ovJN9Xxosc0iwAy0-AQWA, _bprdkMvo47ujn-mx_Nmeg, PyMWgvjBNkpvn5BjtK0DxA, gE2t3anX6CAJPeua1tk1-g, crVKTU-rCjaVUVllv0Dqtw, 7bMJApc_Qsyr3r5y8s4_tA, 1uZdr0tLT0fxY0r44jn5jA, 2O8IaQPw6oA-hlNM6Yn8SQ, l9ltx9im0yZsLP12YGr7OQ, g8eEiS-V7oAJao8z4smNcA, SmH1XfVrx3z-vo2veVX_bA, JcPHmtzQzJDuwGFNoPTwsA, 4YgMnWObhdU9SWqepx8Zfw, YM_i61CqjJtyK-3GgVH7Kg, 3NZLhMqYBFILJlyClBPYLw, VVDCpOlVCXpe4lPFKEdU1Q, MAD0zv992V4m99ZUeSZjvg, JXEHyyDjkp4VQmjwR_CXZQ, WKa_EeQr52OZVBTRYy0AYQ, JdhNaUxRGlgeJ1vyS0zmyg, NISmorIo6QK1nWCe2yW9mw, YAKdi1-OKxrXH9pcduCr9w, 2hcS2eXDFVF43CAkqjTuaw, g-YOzV9YIPmo6vZBHQuuUg, rp-tzGPbOJRinKR4cGPsTw, AtOfPgaLlDLYR4eqzaHFDA, cciesIn4pgxxkL0BuLoPZw, 1G9RhbX4VEjnFTSuPW8kGQ, O9KNlar5ZCCYGTLtZh5SbQ, 8uKB9s5fgsMuk5lhHEdXyg, 4qOK2IlHQCVAHtbo5rnFJA, GbUeOs3m0cqBf3IeGOD5BQ, koIU9-9Cb_EMCvO8wbGymg, bBZ9OwGPhEoLw867Fu_UrA, GpwqDbNnAAFdIWx-p1O_zw, D9z0yMim1hkUGIjzvqHsxw, pQpQCBaYYGNwBnqt-0nqvA, ak0mKdAelBnP8CkMQStJdA, RMmkVJ8hSLZ9VpHK9T5G9g, XYvO3DzB-XQo3Hgky9NQjg, 2CiSL3F4_5QoYHqtAHdZbg, 3IDmt_9K52J7fTzVBesPtQ, D5DPzkEl04hDdDS6ne6IOg, vI1cCBeIObQ9B22-_blUJA, GgyhW8ezhFMW-29Sjx7IDA, UOjGUjpirviyTvlyTAyFVA, nUg4p1QFtKO-bFTyhLhuVw, -pDOcjn4bELfviSTo-VChQ, ngzCEtok-e6epGW6XX-Ygg, 0Tw4HFuaXt_hd9BqmAr69A, ADCveK8XEK9C9cCgCT7kgw, 8oHEBa6INETiLvavIj_vyA, NlOdF7ryBY-Ca8Y_rtZ9dQ, ow61i9ErfKk10Jhu5Gxgww, tV7-IKzEkzk8jxdignw2-A, NeGg3ifxk2xu9jxFl2KAug, GNaBZj77fl_2CdQT_3ytEw, dx8UVML8AoMqpVenevTpEQ, 8nVDkP0ROFZ5VR53qFXP5w, 0dTsC6jBOoohb2QyLNBA4g, ap-axwmVbJ8Ir9as30NKTQ, e1IdnjjmxVKU4pZFWZWx1g, x01zamM65P8k4y-sP9ZqaA, 8kXITUUF96a0fy41yfvR_A, q3lv7obAox0Flfv7DRIS0g, tk-3uOFQ0eKw2gGZdPJERg, MgOwrF9OInPQXe7dVBtxYA, ieUxHmLzZ8JhGJZJTu70yA, JaYdmeOezhSevBMWltyN7Q, u-WrcI7dEnn8jIBIJmaI5A, 2T_iOv6YPIIkruYBBU5_rQ, 4STsHYWd8Q7P0UW7c39PSQ, Igza55ONYQW0E_EaJaAA1g, apn34ppCfJNX5H87XxvQFA, c7TVFhtlehU7qRJJpOa0yw, rY50774mq1bgZvFcu9j-zw, lpyUFrOBmet0zBpIZY84_w, 3n2xOk_zrOBF2mj9fDdMfQ, Npyg4Tx0lrmRxbqZffTBXA, GcvRaT8PK0ygexi36ciT1g, 6d8ydYyBZMUwgSB3ylKk_A, 1l700PRHjJAgqlm85sBQ9A, QbB9I_E6w20aMO08ZEVjRA, q_NNphepg-VdBFpZRdDuqg, yBdgmfxqt2RfZIkk24Z6jA, T4VvD2cJRUSb_p4t1Ku5zQ, wCGu-6vf16unNxRVcGyl_g, VpurA5Jpx4NxPzlbJ7mJdQ, D6czx6FPplktgf-Fkk9o9Q, W8qefxpuBOIubbsVGSHJwg, bO4-QsniYAzxEcQuuOV35Q, EU2LI2435_EgaCmtKG9bhw, uZ145guG0fudy7SX6omuTA, 6u69HcOtYqY-u2YsxtaRwg, JP5KcNlNVg00xAekMTAGrA, ik6_h82NQVE_TqgrqXZ-iA, vG2gRxdB3_2F7iXsJmS6eg, 76Ds03KYd-BaDnLxYUhzJQ, utcxe6uwxCOOwqRKLQNx3w, nO_beVN-aj5JUD-bI-FUYA, BJx6frFEcn-vR05RDpd_2Q, CbLq35Fxw5b0tPGNRPFu2w, uIlura9uWmrRQaUYjxh8bw, ewEJMnoWVKNcMM9U4CcqXQ, GKxuYZUBQE6pRgTgIBgshA, SLZVK-jB7Bt_GvBDRxccEg, YNJOCCINifNlJJScIzb6Hw, EKwimU5YQt0ePRgG6jR8MA, 9jTB-Zpj1etDnGHVjrl8aA, hAekHnRX_BTmttGwMqMwAQ, rysgvLyyaMOmPGyxBVlSyw, i28kp8Mx3KAgGYHe8TlsAA, 4HCDI2PYAvbVEa1qFjnmEg, 7YQbLHEB_uRvlPm7ccePaA, tnhxLMQgY_43xxEzmsXqXw, aW1pRVXQIg6omhCOtNIKuw, aITgyxHw8X-kn11AgflbWg, qkkLUjL25ZqpVd91UG1kqA, wyXsuenqW9RJAdBBkAQEVw, 3gn1tgwQ8PTdjXt0oBAV5w, xz762kpjXUwPajeZCEXbxQ, EzUYBHVDte8g-PN4S8Vh6Q, O1VHvqlizdsV-fo9tR6t0g, 5XCFEa1ovoQcZrUZ9xXcKQ, TAKTkPkHE-Duv9aCBDE6VQ, I6aOo-kGSw32MFza4-N7Xg, RcGnmfvpaBuajU-1Anf4lg, rwgZLiAAiERYyFtK7yYeDw, fNq7IPc4eTdlQUoEP9ZYTQ, BQDnpGFgnrRtWWlR7vJRbw, cdONkkKcXxHBpmvDq0C3Kg, PPTyE-shrJj785I4CrW8Dg, mSEoQv6yjl80EHX-brzn2g, KKR-dAD31msPjtqt64SagA, 5pi1FowYGwnAGNJQH5ORxQ, 6J-s3S6njmZGzTIJIDGt1Q, lQSpUq6nnCB-rgEKTEEIXQ, 0SkumAL-PvYJOQx7cGp-Cw, nPtg6wFLg-bGSYTG1mJRrw, g8knU3D8ctmJSoyNSSzzBA, v4Ev11XocGwHTn6p0t1-4A, -nuKSqlNyZv7AVuV6m8iVQ, p0CBjhua6ktRahKDXM36Dg, 8pRfh9jS_miaTFs26HnGtA, V8h79qqocgnxneKrJVHvdg, sMKkFWYmgCjPoxYmjdbr6g, sYD5Fc4xQlYZbhqMr6oJKg, 9Ast9Cl_P06W-IniZ_pF3w, pJPLYy3vmQ_BF9ffTEKZcQ, VPvJplXMuTPUkLu3z_TQrQ, evGeOv6zB5BysUfwQjaeiw, BBPFY-RH-2zD-MKQZqBfQw, b5lIv5UvrlI8X1rwe-lCpA, fCtx94tBLgGbzZtQT71nqg, yOKtL9r53ekeh_xNMep6iA, tGO1II_8OU19O7VHmnLn0Q, 1RqfGHGEriWxWDkrRuM7Fg, Tnaxm0KWsOr7eHgzsmudjA, 5PP_A_ggukz--ZlAy0_CMQ, Bz2NQPOCy4AdjPR-TACoOQ, _xmtNVrdJcz_I_dqarOueQ, _QGiutlKI0gM0AlHzTkwaQ, cDhJAfMWhvzRgj_2QgHOiA, gGjOPt2FrfCxlp9SuZtAAw, fDrpByFD47HxjZKrbu9Jiw, lfKsMXVnXz66zYkigjMh_g, vluh7iowUBrg49-IpvbAPA, rqyQA2_Et1x0IhQHFV3xMw, 2k_hiNqSBjEQ0PeO3OIlRA, jkajpE2j8_GbHELAqbpJlA, ROuIDO1qSDFdQPi07RmhRA, dA4y-KHDwVXYVJvKCZi2sg, qcL6gbl1Kg13I7KnmhZ8_Q, MEewm6T2ibAtZBnjlytkEw, km4G2uBmegYYv5wBvT0uTw, biHK4loNhHCtD47tWY36pw, SlH0V8EPUkuEodvL3a7SOQ, iZtmRbUBBQyHx3-yLMZWzw, LosQkEsomMpb4wFWQgQwXw, Oqx-8vHYrdz7On5o8jNgRA, a_KWXx5h327mZlF3uhbElQ, dFicq3EUkE2ezq0ilzUczg, WKoFoXM0FuGF0EOXQnqRFA, Y6wP4FqC_XIPhVfiJ-GCLw, GQ9ES3_NiJ7hGkwPqdfLoA, eJSEJKu5d5_K5Qd9sTfVUA, c8mvlkk6206Wk8x2d2UN4Q, X26kgDvuvb-9N5D5tXmY0Q, -3Iyka2UFxWR__LaXIVYXA, hJkzBq3LXzkn-oU6_YtrZQ, -4za9jdK75j4iZlCWQ4-jw, Qe1BfcuLSZbLZC8ekN-J8w, 3vMxdUJCSZ17ltIFYrJn9Q, sRpqhtsu9q30yFEq-hON8A, g-TWTtrj8CzL1NZ__JspXg, vXhmXv3lls_gQHoZJ5hwTQ, gU6jfeJAMLbEED4L7x75kA, r3z5IrlCaGE0vpuu0Jjqxg, Bn_WABJX4uoCNHKTf16yVQ, fja6__yKl66lReq4xkAP-A, YtSEVxUsDx-FxvPMuV9Fvw, NHkpH9of_DiRap0lK46rYA, qURUdKtZm8tNZJEcoPJhWg, LpK_aHZ-DGa8SWbcSbxdYQ, Rik9TyuHSNETLU_ItHsQIg, XSZWLyjRcWPDjRH1mytBPA, jmhUXkNUgfcg-1FPR_q86w, J-uouuVNSCAGUgQf4fFZYA, OYJ5mortKRk99rzmb-Ckbg, 3ZBvuC9thVylL8B33COrGA, YMAFrc5MByw2oyCboN-rUg, Z9J2vnba4fCIyYhi8dbDqA, dENy54aY-uIn8OBkAwUIAg, vP9WIejTgCJdJsO1RUxoaQ, 1Xb_JW5OPlb5WYn8YxF1RA, zAZTB5Vdguhr9DN_f53ssA, wvIG5qVAj8VeNfkJzs5mAw, Wd4MZZwQQEXeq30E18HuJw, 95TBLgrJX7AUIxd91bKUHg, LYmhIfIk0TdPlCcOXV42SA, jbkcJ1bGd4L0iNGmxvqI6A, nB0tpu6uRRZzoPyyQVp_Kw, d1pWQANEScR3mpBHXe8e2A, i32RuxEBw4iAPsHpjT3P8w, nlFX8wCSNh-N8gUl9d1jvA, U567_-ojyhuHWbN870PaLg, QXaJkls-huzLx7JhgZSAfA, zf_q-HZ5anG7VEhPABicjA, tmYCV82a1hnuPFI5WZMUYg, RC1HBYlhZRcHKpriclozGA, 3gbDGba5Qc5StkLVr6hGBw, gNqnylvod40VJj0bbJ6muQ, v7_jz3spopJVvID4YqSyAg, iZqYWZW2E1NvDtuIT6WsWg, 5dl7ghbJqR0mIY3mdFElCw, SCFF_Y75ustLVMu8LVIxmg, ZuYoefi07xhMuYoKaocRqQ, aQ4um1r7lRAXL22UjW-THQ, QcT4I7n9oQo9CrAEKTIcWQ, 0us__0wBxtbysFiscn94Bw, xpy-wDC0pmMX5Ih9ch2BHQ, sIDBi07eE94uLhlO19PlVQ, htMn0MPpdEOumTEWEvh-Ww, g3eekj1MFWBLwSamS7XIdQ, lKMrae1z-ms1_T_6GzRGUw, miBy-e65ATtLmk3N2OTH2A, UCBfVhyOmbLif1nGUn3LTw, _xbluxjw8hkOSBqcZigNHg, GA1JGHXAY57wT2O2hMZe8Q, g5Y27mXqOTFyWk-EO9pDGQ, yOlowdCROton9Br_SNmVWA, cy6GT5FVd4cIzWCNehqpGg, JxjYvqG6XbNgAQqw2qCfiQ, EmXvtHloF31oHf0yoMrBmA, 2NnbvRnvFYjK86NOP-lo-g, Pnj2nPjr5rWKKcBXiHVYnw, PbVIIHPEH6sK1vLRVrJ85Q, BgaDRyAwM20UQeBvZy1RBw, S7kpYioETIq6vsZbgFCJhw, zz25_Dsf99KnwTpdl4-PDQ, 6BKYRhqwmQhwuXSzyvV7sQ, EyQPQxkg4m3jUVcXs61dgg, Roc3MiULommj3LCpTj6VMw, OGf4VJBOGU3hR8_ZaKWD1g, nZV_X76RluGxtqXxx-YHTg, SgtKSHdJTli-YBAuaPJ6fQ, Yv-0osG-aIpC65ymDe0fYw, hecpSJiy15oPmRSba-JqbA, 44VH4QJ17hzECszvJSJjYA, JuurT_xh59kIZzuxNvwI_A, b8CxwsVQla152Z5AalyA3g, lZsSGpJVFmw4REP3jbB2Og, UqqsHGpDdCPFMD7rSfuo4Q, I98vGFUMqIkIUA7yjIP_Kw, ImVifHDINvqZLiuP-0O2RA, IIysnQI98SNHpX7VBEJimg, s3Rs4SLt0X4ct0_8OKJ1Og, 44v2F8FBzhTBr-IyCPoPng, j5zftMTaWzrjO9IP1M4qbQ, Aib8oSwg5XkPb8W4km_A1g, ViHKFdf6RY7APaz0JxqtIA, WsZ014NuuSEGL7R0nDU-cA, rV2KvM5JBI2SVkbZVIJWxQ, pEUtsTMuXRTRJ7QWtGdLLA, QxdtIAVXxKnMbkrAjlNa0w, tFHVotK86rt1cHlvnvNl7A, KuZNK1mYJ2BMWiVo9n-mFA, aWANiXYZA4SJM7gCn-1_tA, Aymrbe6Qy50khSZCMTL-Rw, zWSTRj-bXWuM-O4Z0n7__A, tMKzRPtyqLCKs1rrfceHsw, 4BIUErNy8FqsMPtlWPONhQ, QQ-mGTOv7Fyo5IVlcKf3tQ, sBzarw1DQJxDgohbpEqeJw, EvOQkly4sx-C4adKFJW_QQ, 4HQnbMSRauW8gW9p6TRI2A, jG9LOvR5gd9YlQ3en-YQaw, KYpjAFafpYQGQFpOS9PL2Q, Pik4Y82Mv_Tec-4JuufZRQ, yDRie1k-boCji8M1XbbW6Q, WiX-z39HRThSQmfQBW-UQA, b3ciU4zRipSZs5EKpBiTSw, K6xEhPLvDBGXOXwRuIrvvw, O_GWZZfQx7qv-n-CN7hsIA, GSm13Rq7MyUCZ2n9Vx5GPg, CJkvmS6zLEUozHKIVSkx6g, bdfH-iNU1Hv70dqsvpdc3w, BgrH8ypzPaPHecIDIQ4vyQ, teRIJBsrU25dWW9I3FjMHg, cEq2HuKVG6wUzquHaf2vZg, S9IY_qoG_iKcDygIWGR7tg, Xw82eRvw9YEMXOXjWQKBwg, zvJ5qvAYkfM1Vwi5FglyPQ, PP0iS6Fod0EY5DJWm0RTGg, o-mtqjNai2zuqYDgKrEcRQ, VOOATaXHsLWzIIiG-m1yWw, kjA6hyldMBKqxEmFp8hZ1A, UeunnmmwHMde2l7q-o9pOg, qMBPG9GxijcR3jcgTp5j4A, Tp_MES_f9dVbX3FLAUYF7Q, dRLqHBA0Z-jnlTvWJ4aoZQ, LGDWFnDpXFqcXf0FIL1Thw, S4VDBlH9qA_WCUHZF5vPFw, KExeV8zYLOgLzyZTzZa0YA, -RJUddlc_x3T1HN5vOsuaQ, _ky2-YPw3-MQZixGtFoZRA, FaIijOIoIev-iGtPVk45Qw, FMBCCUo6LovhNOLHVzQG3Q, np2cEu_LDw4R8Xg7sZK3zQ, 8Ln_NbulcqhWK1qNkA4A5w, V7JodjxcN1l8DQLgtp_sJA, Cj4XKWx-OgUZMbRkL3tw1Q, 6gX3ot5Js4jlPDgNukLlOg, spywj41gGg9Wt6PJtZJqJQ, TeP1CYCLiGDiZ0SplCWJFg, JlkGyG-n0m4ODHphNSdikA, k7LoM5EH35QbkA08d2jI-w, b12699E7czC-piLp07_xjw, jMAMm3K1nmW43tFbRVRzHw, H4jTJQCUU8vSR0yQtQEYCg, FfAVk1YJ5kuor8d7HXgufQ, md3lGYGpQNyRCDnMAy642A, d3FX6mPRsEgZFikhEA1ACA, Ed1L7ikOgl0uTkNNa_qS_w, Zvm3n9qm3g4B6d5M3OLBrg, odUqb1H1vjk9NN9gyhVpgw, jA9Io2FJCaqVCLN4NKCI_A, XoHD7WMNjfyx6P2uPjiz-Q, Wz92FVIfCPgtFU3qE2zWOA, kyNmcjf7er-SgS-58M-fig, CDghBccnk15gfi6uPhxSLg, BWoHVAl_LxoVaft06aVR5A, GKo5aIfUKv8e1AguD5qnvg, CgDn8YNxQfucw_wbyTOm5Q, fmoWMr3x32bDiduf3ADj7A, HRZz904VlbN8ZEq_Mq02xw, xCMNR3zoE7amPOGb5VxbSw, jK85qCt3IOtqyIDoCePRyQ, IXI6onl2E1q35NSzqCV4Yw, vJiA6TCIH87nO1TjjjTLjg, pKOFFr59PTY03cICQPlayQ, G2LXGADr2Il7wWUMMnEA9A, sZTllsS8Enaxl7_-igH9Dw, XyWwKP48_P8V7nn9SVIpvQ, sowxt6HlSRDfGTdQBErnCQ, VKuBSrpUU_5hhsVfLJhlJw, LLB-AX2QaOU3MzDmKwZJRA, b4SJ-N3b6C_AVd72a8Y32Q, hAlM6ml9rDKGGsDFXUG2sw, v33wPBg6rHDllmz7iRx5XQ, lanSEAUoCAblYod3l6ROew, pEZXkSxvPk1uES8Hgz79PA, c3P39IMT_IEf3Zrjd6Gq8g, d7ehaHB0Mk3Rn02BhOhPkw, KlRRcKpjEdH14yG10zZWPQ, YT-e5LoHXiEU4wQkpzCtvA, kdEzaLv2vquZh-5UEzir5A, N2-Gsn1Rw2jnBG8MExjGLQ, Raxyghpfm6929KRdPgOYmA, kpxjUxq8yZtWFXfdOj2A9Q, qQrZeCfCsY30v1JGAsjlfg, sMpyRkC9RLF9-cCd1BGGpg, wH0zgZVPnYU_Gjt23gWLQw, GDVDWlJAneHlpr5zbwshCQ, s1nVFZQfvu5Qu-ihzomaLg, 8gOnXNQpVkLlo7gTZeVsRQ, VCX_0RWTzPotklTjGsaTQw, M3F9casUL8rqZx3UYLeSJQ, UjdcbTAbe_tLYe52MFJzeg, ssL4hNnsl-6a_JWg7_4N3g, QZ9n9wSuub6PfrL8c-ggMQ, hMPb3nPKBS4CM4K-qg2BOw, ttsHVBbuFZa-TwPeHkA6tw, w31zZPx-qmUAcuZiqREEXQ, WV-Qldu4reTVwfo5WFOqrw, cumn7yK7pBCNqZfRbutohQ, J4Lf5Po9HXyxO3jiJ3F0QA, BIfW_NP1lFp7u0NhlkhN0A, 18eiRMlxPXm_zQ4G2QmdgQ, 2mQ8zh4BDsyB4Hzr5xdr1Q, wB9zyKs8BNFhnlrA7_6RBw, 0b7jS3YEDcYM6Qf3asQIUg, yi9BEjPzxdJGyGrFb4C4tQ, ixZGvWX5rxk4ZRqrzKQtGg, wCyDjalHRAbILn90mvZ9RA, mx7pTaCNVXRwpYrpd_sARA, 4p3H8-gRzB5HsEqKCZhKFA, KT-Dgl0RitvYmOz4ND-lEw, xbdPgKeDLiA6YyX4XowYiw, UwrHVng1PGNAuZAUG58n3g, D84gq9LEu7O9mCcyssUlIA, OFwv2yzwNts2eV18dH8oHA, Q2vc8uTsmGlZ2MGsbJjGuQ, DDnJq3P6UTOTh46-SFqlYQ, TKdpgfXfxJ6QSZu2KJpVhw, 49aPpRLoG2rdZ1Gi5YHwng, O3YtA0yx1Eltm9Qm0vvZkg, RLvuyQBgdWy9Uj6IlFiV_g, _LrWB1QgY7rRdCDUJEemKg, 4Jsw-cZTxWN605Ep4q2wOQ, KOYiD4hnWXytUA9e4yAFcQ, fB2DGY2wJRGFPr9wpk0sgg, h_P-y-KhLcpru3jjXZD5aQ, 24vc1YgFvOZd6x9T9m64aw, ZNKtqpTRPmheANk4iS2FLA, gXkwRwwoCl894uO9DWybMQ, c3Csuy2HyoOOBkytZDItFA, 5dzTZ1DXsj6F6mlBOpzLLA, c_Qsl-xcamKhyMsefTzjuA, fbAMsUwmtZvNO2534BOtgA, U3eI2oM4MF-ksvvebpxt1w, dZZ9jISk8hXq4wla-mv8kw, ha7GMmd6r_CXIY_ch1nwOw, AZDVn7Mziog5Surq5MdoIQ, TujAfcDoCxOHu3ftYEbA5w, H2FsG4nCv4Bnu90LNm8V_w, 6jeLJpk0TG6nut4BeNHpPw, NzoSa0GDXfZxsVMh54B-Ng, TdecWDf5doyw7TaSAIKfhw, yHsG7oA-hoZ341g76v75ng, 4vtvIGvyeQLRh0OsaPyncg, EjCTMM0sVvmeTthiFWwZmA, z2PjOs2Etx-azigGxMy7HQ, 4piHFFJI30FhacD8ejbDvA, 7aISYxL-JfDrTepIA3PTkg, t8Vjy7SaBIq4mtYn8JlOUQ, Ql0Z43_cX9Y9EYb5MV3cpA, zLa7E1z3Er_Zozj3OiFvrg, 1dL9Y01Tc9C1sUP7hSdZ-Q, 1A5JN4xK9wFf7cezU-1p0Q, jnl-IILTguohaB6GALzZIw, YLdyPNtOwBv8sxE8abvh3w, 9Rcm7pL2u5zfFAxIGG1GAw, sSfoV_z_qJp3j73dWHi3aA, Z507-UU61IJtCjdrqee1Wg, YQMtBAQ-KJxeo276P4xCJw, QbTUfmk5lmus3NCGLgN7sw, GzJ7ww5sT5z6wn6pDUZD5A, WHbIYay24Pkcq213s8LWaA, dB3z7oHvZulcYugvw1QOCQ, wR_vvNdDggkZasIXg0M5pA, L3Z-WvSvYXvTf-lzSTnxfg, hU_OSASK-XfpIxoZbj6B2Q, l8mfs4NUhFBOcdiX4E2C1g, JUN13j9GJ6ccKTunMrXHnA, 6gonBRDQG1D_Sg4MuCLcXg, CKHkbGrc1MGUjWkoK8mt-A, SZRoSJVTKTsJmqBmyXnZYw, 72uVhKECjjMkk0vC4xQDKw, jNR9rQ2bcBy_AChxyhBVNQ, xA0-wO9qiSquzw_hVDyDiQ, imfGFZWKP2rdTh4Kx0mEJA, SMGTlXHdu-I5b32E2D6wRg, Iv_6Z497ej35Y_7EN7QYUA, B3lthjmMleoXx2OqhShbaQ, 2pxJOAzGfGeV_8oPc6gGLg, Z18xWAU7vLqMavj9p1FRFw, Zb-50M_QfWwkoah9flzSiw, qUOeYYh39rb8Z4bbI6N9nw, Pz9NdQhnirwFizQKLHQiwg, s1-JH6iMv6mSN61XeMNB4Q, zzI1af-b9LDDRTz3hoekoA, L4_9BzDTBTIFUKmsN31nNA, cWEHD_idBtQKg5uU_XV3JA, G5U9sXKLHQ52UMPtXM8aeg, -vYcDfEpxLkLDZfy5U_9Uw, FzOpGYGyjMcJ8P0DXBa2gw, CLNC5iqNdIpgTSdmBl92nw, a7QK6ar-j-5-rrJVehLRmQ, _Z-FPdYps41wAZqanpR_mw, Gez0Zg2tF8K8J648jXETdQ, v4C2NjTkq4A6G4eazmHa9w, KiHvkOnJLPxOSLKu_prxqg, SdoIzqQNzith5n_OjQocJQ, kxajFGH142TorY6WQ2biig, Ik5-OcunM6LfnNwa5jqiEQ, CvRzyI67-tF2sqVtwMfdMg, 5xr2ZSwjdQQbnnG0RDd_QQ, XRWqkR7Gdb84nWNNEUr66Q, OxYXdo5tEY3pUWwkhc75cw, pDuH8EJPRYCXgvVQs6bPYQ, 1OEWOfAsPCaEuHohLV11Bw, -7Ph0p0vRszjQjyuU1P-_Q, lacC4Sd3FdI2NyQduUQ9oA, f5ozu2XOe1QvG91PXTuSeA, O4J_3miejcxa6mqMC9vT4Q, 2edha2AQSvghDja8w_UOhw, W0cpeT5FKRUWhhpQKiyfDA, y3RdPBhtMvxwXKsEp7OFHw, 1IJCsmxte3PkGXtfqX8-qw, xLSTszQHVefHmgVKD0hStg, wT-I9uuq4x6cw6dWhYv2OA, 8TMmHah1V1uDMaK9CLYIag, ngecKAxAGIW0NA9t-Bnn0Q, iDkwRT_ly6tzmmNwUt5jzg, shpGWHKeLBLwlvQ_Gz0SSw, kbstx26ZoJeTubxAifp_cA, QWiXKDLcHcjo3qZr3u2_eA, SpWsEHLIwgO5VlMf7W3VKw, apewshan52Ihx_LHuxudmQ, FWdyz0jg-MeSHZII5RCUrA, 1yQ4XFiy6CgwaDEtnTC1Dg, mtrnYOK4M5GOCc2e0N79Tg, pbth0eZn2f6TINuS-jYvRw, _OPsYgH84N_a2MApL_Oj5g, IAh7fmfbplNw5okW20zekA, C9o3uRt0Xu9S4u_JJR3imQ, Goo3I2h9RHyzGAidNRO-bg, WZE2msrVAdxGNKi4h2hS-w, Ghu5kL5n9n8vfxjzPJOzNQ, ibkbCBXY-iBI_uoTkoDUXg, jUnYuq_c-d9lbcB3N0CpoQ, Io_WLeZ6dqGwYBbVntMwug, k9lMWz23L8oeADzdCNAaYA, YPWxid733UhoaPw_zjOyOQ, 6K3w7LZYl0b2ARAvRMiHYw, EaaJHgw6gGyzMj2UZlsqtg, PnZQYKK487jH7niHxQiC8Q, nhRLajzK5oJ01U4qRxE_uw, _c9BD0ijFRTcsghqsUWTLQ, 1Le_2aHTtjnmzsLPH6SbQA, GTpGm-szeg7KGQ5YN5_1kg, TJn50imZdRx1Hs2bklaOwA, H24rnWh8MUjUj9xnCcPKrQ, 1eNvc5iH5SDlcs659WajNw, 4Lp8-TqWnpiSb-HFoufQDw, qsVblse2olvoa2uSmaXiYg, _x1H6SC86MVb6O_vrZuKaw, iYAu6VjwvgvMRZTvb8cV6w, IK9Q8apsB89D6RRJSvKBQw, YXmu2cfd_4I_wg5ZjnByFA, gaPLkwQYLVJ9lVL-RGPH4w, JecVwE013vUjG35edSNzxA, Xlbtsg47mfb8adi-XtviVQ, lGf2GtqzJRjdb3lHFj5Itw, ne2c7we2oqffFVDSMDAwRw, zaHFNatPHsfaz4Vr6EAbEQ, ayh2vkFHCWEzsRBrfyNfxA, GHZANpRDypsIm_TM37aHzw, pO-mOWMlW0EfrpV8FmjSJg, -XuVjwj4MpIsTZ-kiFj6rg, U8Su76TH9FCkzkVx44BBnw, BlyseEhJGP4UjJiN-f1FzA, lPvrJYNW9LSurQHGre_h4w, 3jZUEH617iv6R5NpE30IfQ, cVU9Hc0SrVB2QnVoE-BU0w, DeZxY5uEGSHAihF6H7g47w, rRbm8dpVDkMhwE7OjnzGig, XXq4No9jCaRsT_FOiByjEw, VJTg86Kfln4W6OtDqaJWnQ, DCNmlODgXu6ULUKYUkXLjA, 2PteLNhhpTaT_0Np-1tjrw, 3VmyyLGaVsLgTfCKZAshvg, Y6jd2OiSs0AvZyerdQ07gA, DEj4M-y5h17v6IsiBACsBQ, NH_FKMvhoxCL-4JV8GCVZQ, 7fHmEe2V87xvN6MAEhFHJA, G3K4BDOK9CVdnTpzzEUVrQ, QhL0pdGV5WNF-qkWFFfMuA, jUYr2vu0TaLUrgtNCcSmSA, cC-4Md2fRo9RSYb7LC7cBA, 60_lsQJ8JEGfZeXcTgKn8Q, aGX_snz2Jp_ooCME75_Xjg, TcfTWgMGiKsl3CflDmhp3g, _AvCyYrJ2TESqRkEOwkM-A, 70I6nYpVkarHnwWld0Q5MQ, gy4OVsZKGI66OO7w-pCKeg, Z6hZ9mXCg1QraSNxGAclJw, WiOYXYGZywSdD4qdq6mhsQ, xh9VekYUo5CgVBxySQ70Tw, sS2ZjMnB8jK77Ekx5Pc_bQ, nxGbJN9FfljWpoC6WBJeCA, cVyvYQLDECs6QTAA1NGiLw, AUm4TJo3D9RifBaJf3gMYw, BpYWuSQVDyUG2oq2JwjjAA, 6-suoyp3-HHfd5pMv-aOKA, IhYWUL5MT7WXBmctJmdYJQ, xTwLH0fGqRBRxkZGqLlfiA, w8bYA2dl4jKWRhK99ul0KQ, rP-g8OD1JKxJKjLv_fhkXQ, EaQAO5RB1r2UbpuvfxfaHA, UnJ9uV-rplhd3l9itdNz0Q, V0lG1pTRxR3e5BXag91fxg, 5Ju0H8Yb1dEsn991_TRyfA, gakhurT9xcjCdPCBY541Gg, XD_feAaK9rJLiAljCnMjVw, XmrwqeUxRlo7NQ95pIqI-g, 8JePGxmNZ8bbLIeGaLdFcA, 3LKKDwp_-Hpa4Bo12cDv1A, H9-MQjeN18p4IeOWA7ityA, V0UogOlCz-0g7P-Ws0w0XA, 0FCDwqtZOx8rFROI57TI7A, 2jBLL_1GO0g0I_WmoSuRdw, pDUwh8V1ziANb7k18sw-mw, 1l_O3VEl9TV_JjKAzzyz0Q, I0IUP9-uJn_mV8yApFa8ZQ, 5No6RE1h4XtuxVQedBRccw, qdbf0RUC2qrKSVNw5mMI9w, AzviXpewBVTAnTzB_zeIRA, Bfxt9Nw3sUwZkx1TTECRKQ, M7715GYSbcCEKqd43sUBMA, 7El6c9CseWpsgCOyk2JrXw, KXvl71UcLtBluUFAZqBK2A, dz8GR6_uG5vA0kDUcsyy5Q, oI-jlAAalINqUKN79NtgNg, FhAWa-Yyy2y421tgyhavNg, t3BcO0lhKxnJRRxZ9MwkoQ, sMuwReojnAwdllgc9pqXKw, i1a3ZtJWh1-WaVf1w1dIbg, IBJupluZzI4WWL3efJC1Eg, MLEkLguPur-PztAvxxJzww, DL_nOGpYKw4mNV03LYMHGQ, _ZlbtWouDqReZ6T77Zla8w, W0YKbc2Sw5vUSadGJVq48Q, Q_Q-o7CyH1mkkiVQum-yuA, BP4C1pyUJBCEFsxMMgA_CA, hjfyJTnoIqCm9iTBE9a3Ow, CJQ1ZGdZXBdPY0ElFfaOkQ, Xyjbts6lL_MSXF-cHl2kHg, oFAk8sWAowanzUjMqBHL7w, raUhAcab24t0W0u7n9Q6UA, BulvdRpv3Dy9KoCZpM2fGA, sYlhxlEhbXaHnYqTbL2uBQ, ca6poircjhkRUSfws83V8A, upr758SixuVug2eSNqECvg, m0q2kPtlrzzojYnCR_YSZQ, wGOsR6k6WOVizOBxIGjpRg, Jd-LIHWY0kTdi2u8F3sSUA, osj48EFVyZI_6mjePNxhDQ, dJiZZX5jsP1vmk6eOSM_hQ, oI57_Ko8EB5JH0Rqxm5UFA, OfdOiCFgSj_pXSsIZGR4tQ, Tty91RqcBwg93fnCr0BaHA, 0Tc4ov7O5RMH9FsYnKLBIg, SGIEjgqHAHnVf5sm8aQ3YA, uY8PKLlV-On_l2PYvPcITQ, OWBAGqeoPKAk5tq3g4wjFA, VvOm1HN7GN1xej2jUWP8-A, OnKxpcYgaxTaWJacj4CZsg, YADJMp2xuuJgN-n_5UFwTg, 9Xjr8eR2TGLtSWjqf1Tuyg, M0ivYnFv7_a0c-UTxNbG6g, GxL4lE5vcGqjAni5i3BkNg, h6BL_G4u_VNExbI9W0OLBQ, I8gpxbxfWy1ovpFa_iT8lQ, reVR1GVQPC1mZ5zoFGIlpA, RBZ_kMjowV0t6_nv2UKaDQ, aSQqm77TA8jDIf_XQEyQpA, ICT-fgVQ35xi5JXkRH2sPg, wm2KFrrP_rmKZGRcFGsatA, jq920V-A0fGTaOqMS4dRTA, RqaHhzwjioKYtTaktw9UGg, _QRrtVT_CQHeF13q1AKRGg, gaUsD6k8szg64EdEDWJuKA, Y_VxHnGDxG57d9uftAvgmg, 7zhNM7ZDd-pMOYmL8HPaSw, ZP6ugxWG4iLRiiF68GxxZw, wdDGJnDwNgjbMdwMDwyd6g, mPyjooT4uOSWRS-g8J9pAw, tlUElw8FnuixbLZx4AuvdQ, sXsytHYGDKgNfQ_cNPbYcQ, jlH7b1-6bPrQUHeWm-jjiA, gg4BI-IhJ-pCSyhfvassrA, 5zDis0wpO7Q2kig82jG-TQ, bYa-uAJLfjqHzXwwy54FNQ, fwwOvXs3Va-_UHxfyYdGXQ, HhViF60aQ8-5q22ehTD-Gg, DrK4T7J108xzQWZ8eO9XKw, tr5Zi2iqIfq9RBYp2OhkbQ, izMPjuvQOFKBQDTlh2lthg, mThC34BdOtmK7Y4JopiRrg, GFljw0rHF9PK7ZZfFehCJA, XcaVfOrnICv3ZiXQJyKW4A, maOjEdwrMT-wgsTbjWHDLA, ayys19sRAqOr0pjQrAUJXw, 4G44cm9Sq9PKj6SVpwT5Mg, v-Ufhnf44lUyoLwKjVHZew, o8Z38uYAkA5IyPQ6yT-oRA, b-g5RssxMltxeYRlWiNbCQ, F8iw_vmKJLCbSa59jGXSHQ, JWL_U9HvLf-He2Iwnund0A, bECZ5ZXC_tGyZ_r7tUeNbQ, K6Hecm-0TYGOU53rss6Tfg, c50iCmbhmXynNA33utCODw, IZXWwGMcDztTISW1ps9kUQ, ayajKii9BOZ6n_CO6n-lMw, WUYF62cpmIkWflAanjdM1Q, SXKJ8TPqBmLvnS81npThAA, hMqcYV2Oxn9jYPEz0LCJhA, vKhTKjYyBQqqUFjitOgpew, MnAtqEoSkx2vu59E7PviMg, OZhuoCD5zp2eyPD1aEiXLw, -TwGXHf8W0_7k2oo36fJ4A, x9nRKlGk46WWobweGpy4kA, YV-CdFUxC4_U3d8-158IhA, RmdlCmb85A5yWFh1uiVrnA, G-B1dtqi4kVWg9U8MUFhoQ, NGgN30DPJ10ym5w04167xg, 1jCrIIHNYHCGBV_ldnKYYg, eK70w5rsRwIldq9PQGxXGA, ZjVUzMVzES-RMiv_hgX7pA, 06j7NQ0jouTZ5VQOelgWRA, hx7MjvakDmZgLXJzeH4HNw, hXODmDfZK3e9r5sFkVMxKA, XNEGxzi-4S3oyjrrGPpJcw, XZIsH1jmI252St9gpJJRxQ, OF4GyIXBH0XAWfRx4SRCvw, szLUeRd39W3FNtY3xMzdEw, 98mXrJS3EoXWJ-y285EgUw, 7-itBCjkzoCZg74P7jwahQ, VGM3-nSXfSoFlxWjjO6qSg, zLiuWsvpP2rwCHX2SIWFgg, XcIOnrGaQxj4tUN3HwXc7Q, 0fLU7z8uuGr2owjwPRBwIg, xwOddwjv1HkHO5Z_gWeFxA, 9F1dcKKR5_N-JTpWU5ifyg, 6O-94xkhWfF5VmqY-0_Ntw, GaDx_Fy90_0o7M9w1XFqvQ, OvNzNMHj7sdqhCveAnAPSw, LXIltZUCj3OudSihPLu63A, koWDUqsAJyqWVh56rswIKQ, 5WxCFzajK3BMvLn0Xpmv4A, 4lgIOZErxKRvos4RKQE4UA, qQpgFrKV90MIBHhg1btxpw, CEpTejUOan7pbYScm-eZlQ, DoECv0nqf091Ml9bTsfb6Q, N2ElF60e_cdxq5hGWtxPJg, w_BLYBC_aZgyHfqzDCwr1g, HbEbLR7lDjp3l1qVgeUVHw, 1jU5f1U-voZh4IlQTgvWhQ, j0Eku7I5e6GB6JaKk939_Q, 6hN12wk32SdUhWmWE1EgNw, RqAT_IwEh3qV7Df-58xqMw, ddpE26kj2ssPXZySQCNJOw, r1fVsFPhX56X40_7o-3PlA, PZWRZG1WlPKNh5JNIdvYfg, -yLbf59RYvFLHTFlThJ0UA, wtE8T7WKLkW5U_3d1KYYtg, Przbqmy0lKOvd6fnykLMWw, txgHT8JbKQfmAj5y4xH41g, DJ78qlFOJPax8mrAgPh1IQ, tSi04ED3QY5cMhS4I_3j-w, afbBrv8hlpxmpak5cZgppQ, 17jLJoeMg6pyh5Nwq68lKQ, uyWuptScyO3nSKHv4xHW5g, Up-pCV2WtbZHOZ83Fh1A0g, jfF6_F9JGu-zK6fMLVUjJw, AgqabTcp0IkQr9-KtrCGgA, SS6OwC-34Zl2Fh06UuTPOw, P_hf-okOnfUh9vOr7dluXg, -Zg6xEtD_xqzrw2qtSsHKg, jxpUy1_mNQus66h1xk1Rnw, AgBRWcKLkJijIpG8D2FJpw, Dt_GtiBdBwTX7tBj7tItqA, kCFSV__nFEc3ZUDHsUAsCQ, 0DP4a3Duiaslp-k0HiSODQ, cNE0ST98RSMmvDoAAF8UBQ, duXLj6q7HiOlLo2bnLk26A, _cTKrvL79heIQv_MouYDlw, CnjuD7YQglMnYNt2b6aD_g, -BSENVNYH6xcWPmKn_v2Xw, P5ItnEez2XWSgOVd7JnW6w, 14GlR7ZjiqcK3-5IIBDCtg, 4CBE2qRfyXvksI03Q2biZw, 8N5TFTssjvGOklDASqDPGA, vQNu6bOB6hJVIK-LwTa92g, KKMhdk20_1S_3PA4FfMSaA, uRW2cAkCDsvFCq9TYX8ZSA, PDZs2VfvX7dn14GfZAv1xw, _lhBcZ4AL6B5Sz8Mk5AXsA, x1rM6dcMGA7qWdhnNl45_g, E60Gkdsyvm6K6CsJTryemQ, Z64hRl3u2qBO5X2JXNjIXg, 66gRvEXrOuenukMKkqgWdQ, UEDHUi4UGDlD2m5-lake_g, gx4HkNeeo4bCO0aLEkcvOw, rNboNxcGlY1NPWA04ZcoxQ, 8g1EytRfDXOv804MN1ps9w, qr5dPLTgXjC7AYLJqh06iA, 72hxyvs-l7WJrDy_mQnNKw, IoowRxv6ks7mXAHAuIVxzg, vbeCoknWRJZJ6VXFCThxmQ, yr0nvk40qo7z0kI5TgrDRA, iOhNbyiiqGnLNhxEb2leVw, v-XYGBb6rFFB0L_rxWs6Gw, RtCJJjCBSmjeBDgPOFtpTA, tb2uMEDz2sGX3UcbEBUkQg, 99SBbboUG6wPBF9ZlQcZaQ, KofOTtFcJR2ixrB0ckqasw, TkpD2kKJOX93L09Tltf9bA, 5srRmfM8C7Snm9_2bzbukQ, T87xfIkO9jH4qWEVmSYlaw, 2R2NfJ8xt-2896cx-7tSaQ, cFykhUajA9EqNZrOSpWVxA, cMKxx723BTuohxruTDpr0w, A0kZ85OM1V2hYX6qCf4uuw, qHmpkr4ykafDs1iRYmhK8A, wX45acyEswX193_d13fJuA, lo1xfc-_Ulkr0VjmrUinuQ, 1nGrp4vy-UYOV1MojjvL5w, 09jvfjeq1-eFR6LL_VmWqw, NXIVjn5ybTlhRPr5lwUvTQ, 5TnEGWL5oSTA2mexmUye8Q, ukw5NOOShzDAiYdWroVSYQ, G8j8EBmy6IDGM79ZK3Z3Ow, v6oQDb10VQ0t2H4GTvD2Dg, V9PDFmUVuTvfBmk88Dn_DQ, C8YxjX2PvPLB0zXecoz0YQ, GkIAsIJZGlCBI5IogfrqqQ, cZKFToWoqqAITD3G-DrgPA, Bx3EYqSAwDThcjQ2oNf9XA, ezl8UTuUur9cDyOOCEYbhQ, YnF0CjuryxzyXsqf_6mVBw, yswpZa3f8UzuLTo_pgjdPw, CWYfWZsgChaR0xNB2p7CuA, 13uQ1Zmvoz57oKCTwPBmog, pgR-phKC1Ot8nb36rqg91A, oZpHlxkQRSoZM7qXdrS3Wg, WvRS_T_eKgaf8YsE5S2dCg, 8YALFk3vCPX_7hShXXMj5Q, TEbgu_2OhbXK_rSJ3RIFCw, 6SUyxacP0zjRqThEdqnwVQ, vSNEowiCGGUNH0DMlsuwGg, T-Pk5eg8HXFl3Gi1_EGEcQ, Iz-j9Z9zEOkhYnMhVPBEzw, gKH7cQSB0XyXu4gIWrmk8A, imT3_OJqhIUmb72_eusx2A, ZmLWkJ4R4zAatQwcxYDw6A, AogmoE0XE47_QJnVW6Lz-w, SFRB-TRXMxVlISdTycULIw, 0nLuuFKZkuaj2HNZ1rphiQ, qKggYhbG_rSQto2Dzq1cXA, 5IXG53FZ358Nc7mYh2Exjg, frImPZ_BxF5-bpAa3nO0Sw, pSF-V0hAL4mYo0-hFAEbVg, xIvg-bublUfX0YPA3C9lkw, tLjVUZ5wGb9DZ_qaetWIEA, u2xhcrevhODDyhJnUTE4Gg, wicTHS0tsspxHMhRtVVZuQ, J8HW6QTGRubPigu4dRxdAQ, GF2-AP5TU8xS1OxON2FaGQ, nohGLNZuqI02JhO3yA-Rbg, zJr3ti1AZltFI-SOpAELwA, EKiWhS7JwmDMkQeP20Gy6g, V5qB1JMkZRG7bMNOeS73Xg, 4YEmQBBKu4vY6ImtlRYKKQ, Yd5LCLEtGUSk46uHK2hlaA, -oBNtEz0aI5haD4BBjL8Ow, XLRaXH7y7FS4huGXjNPrdA, vfiKyuODd78u-xxnOeE6uw, UQMQ9kbpZAcE1a_Uskb5qw, eVLv9fP7oq6E1R9d5RonLg, 0s40YswmtyPRlfIMDjbgcw, GEDTjy1r7Nj8xQTE-bsfnA, qzOTjv-s4ob6RirsIgQdLg, AWWC7SdkUJ-1OxNJ9RhPlQ, o1yOL0bmuNEflrnSyw1TSQ, kzRJX5Vl2X-TetG3IJHffA, GiFW7LIfujbHAQlk9zpS7Q, 8CirzBzpd2DOhk8GW1ozXA, Yzjy4jdnxbaZG8LkZZM8vQ, tNoLZfA4GKN9I8Qm16zvuw, wbG3m0Lk4cXS1VKS9xV8IA, cpzKSK2Yg2ZkxOTg4XNHjw, 0hhFodYrR0AtkMgIrgVjPg, enc4Atm6HfDxv9zsrJSh1g, nluWyvWskSVika-Fd_x8DQ, 5kGnx1csB88tbNqrWdvVDg, E7RCfwlnPjry3TvfR2jaUw, BJ5FJVYGfrfG4IZSHinuXw, n8qqDa5PaFtq5LVoR_rLow, 1CTS9-ROPvDjLZ4BHBRI7Q, WTZuyCmKThRNGy4kAGehRw, yJNBUbd1CzSoYc9IpBksxw, HW-BtRNhfgU7EiGADkA_LA, 7q8Ju3V_EcoosUZ6Zk_jfw, ZyHxwUHSZVkM-uU2XUrSsQ, YFVYF7SRg3Gwa2w0eb2gBg, UNDiUIRP63rP3p6nw-6vHQ, gW_JPhXEPAej1dbFMfVhyQ, pFNGnbi74y9d_Nh7qKE8AQ, flZEJlmwUQYYEPplF5mSJA, qVRhcdk2PssbywkNz-NksA, 5x5ZHlWe_4Gd3NW-OTn8hg, rNDjy3ExGBZQpb0HSUhdsg, UX1V42jXkZXxBzKnBb8MYQ, pERjYWcL3_FXbIRXAnkbJQ, lWJIMRmCxyhuqifOHC0NNQ, TdaTLrXLtRgx5noIPT9ZUA, S79dDqa5Ww7k3ZS7Z76XcA, ReCisI08_ODJJxV4UoPbnQ, 6lTzawLYGha2kU2U_i_EaQ, L331cgEMeiBtuRGy7a_TvA, zUJjoqdJESOeNqVlPxYcsQ, sw3cwzSinmZReMJhvJCxYw, RQvPWs6KVd6q7BQUN3-ETw, daJnf-rohzix6p2QJ_X-AA, BXyFs8inzjgfvsR2QGA0SA, _0R069Ziv10uhNPrIO-xlA, pkhHBV06LWjJG8LXVUN0SA, 0eXgd_CDOFCTvNDBOSR1wQ, d0ZmHldxJuaqo3iqqTuTew, frJFmCt11Iex2EjX58BYqw, fA2P7R-7LJbnC6bSchaIkg, t2X6f8NnBizj6MopYLivTQ, xHIbfLEz-r8-RUkcjoUUzg, 6o7VdjYb0FyDesOIK1baqQ, dk1LTKfY03qDB-SWKVWCkg, IRGIdIJIOEGauosQJAZPeA, KuulMtmS5jHGUVKTvsOJMw, WuHzNFo0FI9tIg1L9NimuQ, C8rDSmIp_E8rMMCxL5DTzw, Ift42HF7jeM5QvXkbNLFyA, ErmfLGgKizY5HLpuuA13Vw, 8T_UEa9ycNrfqEMp3qYp6A, YYLPYukyZHiY0iMEMdutvQ, _ZUe4iJP7gZQY7t2tp7BUw, mxy3-jHqIHCgRMfAohQn7w, m_yhtI3sAo7X1nGeHOhVDw, 30QIDo-qeyqNtSrW8lc2pw, sTb0erbKyHvViWzxN4yOxg, OhlPrjREP5GT-IUzd4p32Q, fMKom6pxUL__MHSvB-G8pw, 4HVC3Xb4Sksw9hsGU_yoHw, bmy86wFNy0XnRaskgzCsCw, 4BoE5bwPqVoV10X8hoIhJQ, 2aSt9M54bVm4h7EMMIhAAw, WTKGJoUI_oRsCps3WXu50w, rCgrcC-RPQ_rB4SbNuYM0Q, Q_qh4YC25sLUT8ah508eqw, ph_iRO_Yf_ucy3SPW-HYog, YrKpGphRP2_jDbRW2sCyPQ, DnKLeBQuL8TdOf6VmBamGg, 2sK8sapyXF9FXQif6pWjzg, 6xbwnCuFUHWobRI5P-byEw, AayMkCuPT7N3LDkjCr93KQ, oBfgBcjAQLYTGWO1w4tdjQ, _N29WPjfRhfIZu4Pt2X_6g, 0_rVWyo_2q2L_6ISPYQZ_w, DHXySsgR1756kmfWUIq5xw, xLJVKsBzaYAjjWabrPyvZw, DCEEvGu50r-wNM4ydC4uRw, V7NFbgkmQkzcKTnktYIgBA, Yjduy18MFUoOO7TK2JKTwg, hXmalSoY3TiUUhZ3lCRJ9A, Pufrkl8nkiqmV3n9Qo4l3A, vwRMqdNg9WrX73Job5AbJA, LqWI1xBGtxmOwuCvHU2wcA, 5PzXa4X0iEp5oaigyIlPRA, RmFFeOLEAPWROgMv2axT7g, 2AoIXN7A2sV8mLhS81EVqw, cQ2sOV00rjIXz-8CBawnaw, k8uLP8DGafdjZzK9EP2ksQ, p_J-BS5fPfnzj1s1xZVamw, tL8MMOZBzkwv3XvPM2Dslg, zYAcVY7s9wiVe0zWaHUpqw, 4HerY8RyTPCtF9xccL21IA, GrAw_KtUdy2U-X5L2Q20PA, WCXUT8yJzJRhAblC766rLw, zdSuaVngp68RLNyVKR8CYA, Ji1knSWYbCgWvlg630WCCA, xgd8q2obC06CNVwfeBNoOQ, 8sDZdE9ix05Ir-3HvRLP5Q, uJEb02j5JpNvsVOOQqhMbg, GOsKMICiMPuMZE_q_PWpBQ, 9uMtXA0ry2F08Hp9LlI_Sw, erATqsx49ZWokZTWsqeMdQ, k5l1kK9qXjHRzKJjRV1Zig, Deh9UfeccW6-ZPpfoRqqEw, 8LAmeihdqxmv4HM0pevFNA, S-Yz865jFmdrjtL9fCpNGw, LD1DOKoTGeh6CD6HZPEqWQ, WLKvaEpGFtwG7ORGW7SRYQ, iMShEjkJ8N7iUZ3rHny5dg, Sna-v7VZAnlndia9KELFUw, V927Poxk6V0MSCLYEO1MCg, tPxfJb6duBfrXGG9I6b5wA, N5yMn_8ORhlxL2y3PGw52A, K2JN5OkIppeFiuPEi03SxQ, SAAbHZa8s4oueGbKeCHO-A, Yem3CVRwt0aHDO8Eopsi_A, UpOuHhBM36ND0SNFh-jLBg, b8i8tCxGp8ByREcx5gjT1w, t61qMdbJI-V_MPRrP_FHUQ, zDeMj3MpQYYGDYIHMa9k2Q, Qf5_RC-K7nB5SpBud3WQWQ, i1Qh3Ogmu7luUGASeDQLmA, pqMVEj3h40sIuv_B9ycmtw, MXEtkfm-aTQGXpzhWrWEdQ, 5fOlpAE__ZugOSowIkOnvw, 0LeUvOLuzU0Pdi8yrVsdFw, DFiAS--jiFmnXXHut1jyPg, ioqRCUtrzZi6Ou5b70JUrg, vIsEJsMbPGOVsSp04cc6EQ, loRojkU6DPq5E7A-rHLtAQ, _l3m6-BkMY1NTqMZsiRsqg, B1C4Eohkv6syASDvuBUI9g', funny=22, name=u'Jenna', review_count=33, useful=48, user_id=u'4XChL029mKr5hydo79Ljxg', yelping_since=u'2013-02-21 22:29:06')]"
     ]
    }
   ],
   "source": [
    "df_yelp.head(2)"
   ]
  },
  {
   "cell_type": "code",
   "execution_count": 5,
   "id": "691ccdbd",
   "metadata": {},
   "outputs": [
    {
     "name": "stdout",
     "output_type": "stream",
     "text": [
      "root\n",
      " |-- average_stars: double (nullable = true)\n",
      " |-- compliment_cool: long (nullable = true)\n",
      " |-- compliment_cute: long (nullable = true)\n",
      " |-- compliment_funny: long (nullable = true)\n",
      " |-- compliment_hot: long (nullable = true)\n",
      " |-- compliment_list: long (nullable = true)\n",
      " |-- compliment_more: long (nullable = true)\n",
      " |-- compliment_note: long (nullable = true)\n",
      " |-- compliment_photos: long (nullable = true)\n",
      " |-- compliment_plain: long (nullable = true)\n",
      " |-- compliment_profile: long (nullable = true)\n",
      " |-- compliment_writer: long (nullable = true)\n",
      " |-- cool: long (nullable = true)\n",
      " |-- elite: string (nullable = true)\n",
      " |-- fans: long (nullable = true)\n",
      " |-- friends: string (nullable = true)\n",
      " |-- funny: long (nullable = true)\n",
      " |-- name: string (nullable = true)\n",
      " |-- review_count: long (nullable = true)\n",
      " |-- useful: long (nullable = true)\n",
      " |-- user_id: string (nullable = true)\n",
      " |-- yelping_since: string (nullable = true)"
     ]
    }
   ],
   "source": [
    "df_yelp.printSchema()"
   ]
  },
  {
   "cell_type": "code",
   "execution_count": 10,
   "id": "f7cba022",
   "metadata": {},
   "outputs": [],
   "source": [
    "from pyspark.sql.functions import when\n",
    "# Se identifica la variable\n",
    "df_yelp = df_yelp\\\n",
    "    .withColumn('molestoso', when((df_yelp['fans'] == 0) & (df_yelp['average_stars'] <= 2) & (df_yelp['review_count'] < 100), 1)\\\n",
    "    .otherwise(0))\n"
   ]
  },
  {
   "cell_type": "code",
   "execution_count": 27,
   "id": "581520ef",
   "metadata": {
    "scrolled": false
   },
   "outputs": [],
   "source": [
    "# Generamos el DF final con el vector objetivo y las refactorizaciones de friends y elite.\n",
    "df_yelp_final = df_yelp.rdd.map(lambda row: (row['average_stars'],\n",
    "    row['compliment_cool'],\n",
    "row['compliment_cute'],\n",
    "row['compliment_funny'],\n",
    "row['compliment_hot'],\n",
    "row['compliment_list'],\n",
    "row['compliment_more'],\n",
    "row['compliment_note'],\n",
    "row['compliment_photos'],\n",
    "row['compliment_plain'],\n",
    "row['compliment_profile'],\n",
    "row['compliment_writer'],\n",
    "row['cool'],\n",
    "len(row['elite'].split(',')),\n",
    "row['fans'],\n",
    "len(row['friends'].split(',')),\n",
    "row['funny'],\n",
    "row['review_count'],\n",
    "row['useful'],\n",
    "row['molestoso']                             \n",
    ")).toDF(['average_stars','compliment_cool',\n",
    "'compliment_cute',\n",
    "'compliment_funny',\n",
    "'compliment_hot',\n",
    "'compliment_list',\n",
    "'compliment_more',\n",
    "'compliment_note',\n",
    "'compliment_photos',\n",
    "'compliment_plain',\n",
    "'compliment_profile',\n",
    "'compliment_writer',\n",
    "'cool',\n",
    "'elite',\n",
    "'fans',\n",
    "'friends',\n",
    "'funny',\n",
    "'review_count',\n",
    "'useful',\n",
    "'molestoso'\n",
    "])"
   ]
  },
  {
   "cell_type": "code",
   "execution_count": 28,
   "id": "2b9cf285",
   "metadata": {},
   "outputs": [
    {
     "name": "stdout",
     "output_type": "stream",
     "text": [
      "+---------+-------+\n",
      "|molestoso|  count|\n",
      "+---------+-------+\n",
      "|        0|1453462|\n",
      "|        1| 183676|\n",
      "+---------+-------+"
     ]
    }
   ],
   "source": [
    "# Medimos la cardinalidad según usuarios molestos\n",
    "df_yelp_final.groupBy('molestoso').count().show()"
   ]
  },
  {
   "cell_type": "code",
   "execution_count": 29,
   "id": "64bcf612",
   "metadata": {},
   "outputs": [],
   "source": [
    "from pyspark.ml.feature import VectorAssembler\n",
    "from pyspark.ml.classification import LogisticRegression, GBTClassifier, DecisionTreeClassifier\n"
   ]
  },
  {
   "cell_type": "code",
   "execution_count": 40,
   "id": "05bdbcf7",
   "metadata": {},
   "outputs": [],
   "source": [
    "# Renombramos el vector objetivo y separamos el conjunto de atributos\n",
    "df_yelp_final = df_yelp_final.withColumnRenamed('molestoso', 'label')\n",
    "feats = df_yelp_final.columns\n",
    "feats.remove('label')"
   ]
  },
  {
   "cell_type": "code",
   "execution_count": 41,
   "id": "e6c6eef7",
   "metadata": {},
   "outputs": [],
   "source": [
    "vec = VectorAssembler(inputCols=feats, outputCol='assembled_features')\n",
    "\n"
   ]
  },
  {
   "cell_type": "code",
   "execution_count": 42,
   "id": "73920f61",
   "metadata": {},
   "outputs": [],
   "source": [
    "vec = vec.transform(df_yelp_final)"
   ]
  },
  {
   "cell_type": "code",
   "execution_count": 43,
   "id": "d2515ec8",
   "metadata": {},
   "outputs": [
    {
     "name": "stdout",
     "output_type": "stream",
     "text": [
      "[Row(label=0, assembled_features=DenseVector([4.03, 1.0, 0.0, 1.0, 2.0, 0.0, 0.0, 1.0, 0.0, 1.0, 0.0, 2.0, 25.0, 3.0, 5.0, 99.0, 17.0, 95.0, 84.0]))]"
     ]
    }
   ],
   "source": [
    "vec = vec.select('label', 'assembled_features')\n",
    "vec.take(1)"
   ]
  },
  {
   "cell_type": "code",
   "execution_count": 45,
   "id": "2372c439",
   "metadata": {},
   "outputs": [],
   "source": [
    "train, test = vec.randomSplit([0.7, 0.3], seed=42)\n"
   ]
  },
  {
   "cell_type": "code",
   "execution_count": 49,
   "id": "a564a40e",
   "metadata": {},
   "outputs": [
    {
     "name": "stdout",
     "output_type": "stream",
     "text": [
      "Overall behavior\n",
      "Area Under ROC: {model.areaUnderROC}\n",
      "Accuracy: 0.999987780727\n",
      "Behavior for class 0.0:\n",
      "\tPrecision 0.999993117248\n",
      "\tRecall 0.999993117248\n",
      "\tTrue Positive Rate 0.999993117248\n",
      "\tFalse Positive Rate 5.43917448872e-05\n",
      "\n",
      "\n",
      "Behavior for class 1.0:\n",
      "\tPrecision 0.999945608255\n",
      "\tRecall 0.999945608255\n",
      "\tTrue Positive Rate 0.999945608255\n",
      "\tFalse Positive Rate 6.88275231433e-06"
     ]
    }
   ],
   "source": [
    "# Modelo de regresión logística\n",
    "logistic_example = LogisticRegression(featuresCol='assembled_features',\n",
    "    labelCol='label',\n",
    "    predictionCol='molestoso_pred')\n",
    "logistic_example = logistic_example.fit(train)"
   ]
  },
  {
   "cell_type": "code",
   "execution_count": 52,
   "id": "7593a95e",
   "metadata": {},
   "outputs": [
    {
     "name": "stdout",
     "output_type": "stream",
     "text": [
      "Overall behavior\n",
      "Area Under ROC: 0.999973973897\n",
      "Accuracy: 0.999983720216\n",
      "Behavior for class 0.0:\n",
      "\tPrecision 0.99999541729\n",
      "\tRecall 0.999986251996\n",
      "\tTrue Positive Rate 0.999986251996\n",
      "\tFalse Positive Rate 3.63768643143e-05\n",
      "\n",
      "\n",
      "Behavior for class 1.0:\n",
      "\tPrecision 0.999890877346\n",
      "\tRecall 0.999963623136\n",
      "\tTrue Positive Rate 0.999963623136\n",
      "\tFalse Positive Rate 1.37480036753e-05"
     ]
    }
   ],
   "source": [
    "def report_metrics_on_pyspark_ml(model):\n",
    "    print(\"Overall behavior\")\n",
    "    print(\"Area Under ROC: {}\".format(model.areaUnderROC))\n",
    "    print(\"Accuracy: {0}\".format(model.accuracy))\n",
    "    for index, values in enumerate(model.labels):\n",
    "        print(\"Behavior for class {0}:\".format(values))\n",
    "        print(\"\\tPrecision {}\".format(model.precisionByLabel[index]))\n",
    "        print(\"\\tRecall {}\".format(model.recallByLabel[index]))\n",
    "        print(\"\\tTrue Positive Rate {}\".format(model.truePositiveRateByLabel[index]))\n",
    "        print(\"\\tFalse Positive Rate {}\".format(model.falsePositiveRateByLabel[index]))\n",
    "        print(\"\\n\")\n",
    "report_metrics_on_pyspark_ml(logistic_example.evaluate(test))"
   ]
  },
  {
   "cell_type": "code",
   "execution_count": 51,
   "id": "4baae9ad",
   "metadata": {},
   "outputs": [],
   "source": [
    "# Modelo de Gradient Boosting\n",
    "gradient_model = GBTClassifier(featuresCol='assembled_features',\n",
    "    labelCol='label',\n",
    "    predictionCol='molestoso_pred').fit(train)\n",
    "# Modelo Decision Tree\n",
    "decision_tree_model = DecisionTreeClassifier(featuresCol='assembled_features',\n",
    "    labelCol='label',\n",
    "    predictionCol='molestoso_pred').fit(train)"
   ]
  },
  {
   "cell_type": "code",
   "execution_count": 55,
   "id": "85b2ce57",
   "metadata": {},
   "outputs": [
    {
     "name": "stdout",
     "output_type": "stream",
     "text": [
      "[Row(label=0, assembled_features=SparseVector(19, {0: 3.79, 1: 1.0, 2: 1.0, 3: 1.0, 12: 4.0, 13: 1.0, 14: 2.0, 15: 49.0, 16: 12.0, 17: 13.0, 18: 32.0}), rawPrediction=DenseVector([1.5435, -1.5435]), probability=DenseVector([0.9564, 0.0436]), molestoso_pred=0.0), Row(label=0, assembled_features=SparseVector(19, {0: 4.6, 1: 1.0, 2: 1.0, 3: 1.0, 12: 2.0, 13: 1.0, 14: 2.0, 15: 79.0, 17: 10.0, 18: 7.0}), rawPrediction=DenseVector([1.5435, -1.5435]), probability=DenseVector([0.9564, 0.0436]), molestoso_pred=0.0)]"
     ]
    }
   ],
   "source": [
    "gradient_test_df = gradient_model.transform(test)\n",
    "gradient_test_df.take(2)\n",
    "#report_metrics_on_pyspark_ml(decision_tree_model.evaluate(test))"
   ]
  },
  {
   "cell_type": "code",
   "execution_count": 57,
   "id": "9dbd22d5",
   "metadata": {},
   "outputs": [
    {
     "name": "stdout",
     "output_type": "stream",
     "text": [
      "0.999974937566"
     ]
    }
   ],
   "source": [
    "from pyspark.ml.evaluation import BinaryClassificationEvaluator\n",
    "\n",
    "evaluator = BinaryClassificationEvaluator()\n",
    "evaluator.setRawPredictionCol(\"molestoso_pred\")\n"
   ]
  },
  {
   "cell_type": "code",
   "execution_count": 60,
   "id": "9619339a",
   "metadata": {},
   "outputs": [
    {
     "name": "stdout",
     "output_type": "stream",
     "text": [
      "AUC para Gradient: 0.999768575271\n",
      "AUC para DecisionTree: 0.987283362263\n",
      "AUC para Logistic: 0.999974937566"
     ]
    }
   ],
   "source": [
    "models = {\n",
    "    'Logistic': logistic_example,\n",
    "    'Gradient': gradient_model,\n",
    "    'DecisionTree': decision_tree_model\n",
    "}\n",
    "for name, model in models.items():\n",
    "    print('AUC para {}: {}'.format(name, evaluator.evaluate(model.transform(test))))"
   ]
  },
  {
   "cell_type": "markdown",
   "id": "7ac0808d",
   "metadata": {},
   "source": [
    "El mejor modelo es Logistic Regression."
   ]
  },
  {
   "cell_type": "code",
   "execution_count": 63,
   "id": "fa841371",
   "metadata": {},
   "outputs": [
    {
     "name": "stdout",
     "output_type": "stream",
     "text": [
      "('average_stars', -158.60348792129406)\n",
      "('compliment_cool', 0.1687055049203947)\n",
      "('compliment_cute', 0.9129427082992053)\n",
      "('compliment_funny', 0.1687055049203947)\n",
      "('compliment_hot', 0.1727011639970469)\n",
      "('compliment_list', 0.8527244866188693)\n",
      "('compliment_more', -0.128726537849921)\n",
      "('compliment_note', -0.2429044846590442)\n",
      "('compliment_photos', 0.0879267956359367)\n",
      "('compliment_plain', 0.02576592048806627)\n",
      "('compliment_profile', -0.5029559466304948)\n",
      "('compliment_writer', -0.8044497778912548)\n",
      "('cool', 0.06167836583574828)\n",
      "('elite', -1861.0167728366898)\n",
      "('fans', -189.00060230801432)\n",
      "('friends', -0.0017960670271112784)\n",
      "('funny', 0.037723462188272106)\n",
      "('review_count', -0.16037107485530785)\n",
      "('useful', -0.014423027103039216)"
     ]
    }
   ],
   "source": [
    "for name, logodd in zip(feats, list(logistic_example.coefficients)):\n",
    "    print(name, logodd)"
   ]
  },
  {
   "cell_type": "markdown",
   "id": "30352c06",
   "metadata": {},
   "source": [
    "Los atributos que mas influyen son elite, fans, y average_stars, seguido finalmente por el único positivo compliment_cute"
   ]
  }
 ],
 "metadata": {
  "interpreter": {
   "hash": "e51d721fdf457bd0d31e98ddb9b6dc9a3cebb3902bc8ec1fc88726f5d8f57f4e"
  },
  "kernelspec": {
   "display_name": "PySpark",
   "language": "python",
   "name": "python3"
  },
  "language_info": {
   "codemirror_mode": {
    "name": "python",
    "version": 2
   },
   "mimetype": "text/x-python",
   "name": "python",
   "pygments_lexer": "python2",
   "version": "3.8.12"
  }
 },
 "nbformat": 4,
 "nbformat_minor": 5
}
