{
 "cells": [
  {
   "cell_type": "markdown",
   "id": "07c159ae-f730-44aa-a518-72f01f402ead",
   "metadata": {},
   "source": [
    "# Desafío - Introducción a Big Data - Francisco Andrés Silva Concha"
   ]
  },
  {
   "cell_type": "code",
   "execution_count": 1,
   "id": "1d34ed0c-3b48-4193-ab53-13602cb6abd6",
   "metadata": {},
   "outputs": [
    {
     "name": "stdout",
     "output_type": "stream",
     "text": [
      "time: 0 ns (started: 2021-12-26 11:43:32 -03:00)\n"
     ]
    }
   ],
   "source": [
    "#tiempo de ejecución\n",
    "%load_ext autotime"
   ]
  },
  {
   "cell_type": "markdown",
   "id": "100a14a3-8bc7-4525-9fc4-0381beb9fe7a",
   "metadata": {},
   "source": [
    "# Ejercicio 1: Ingesta de datos semiestructurados"
   ]
  },
  {
   "cell_type": "markdown",
   "id": "43687d47-cdaf-4c72-a93d-09df12f3bc00",
   "metadata": {},
   "source": [
    "## a) Utilizando las librerías requests y json, realice una consulta a la API BallDontLie\n",
    "## b) Mediante esta API, genere una consulta de 100 juegos (busquen el endpoint Get All Games en la página, dentro de Games). Puede usar la opción ?per_page=100 en la dirección de la API para lograr esto.\n",
    "## c) Guarde la consulta en una variable, y asegúrese que ésta sea semiestructurada. Consulte los datos y metadatos asociados.\n",
    "## d) Dentro de la lista de datos, comente cuáles son las llaves de cada registro."
   ]
  },
  {
   "cell_type": "code",
   "execution_count": 2,
   "id": "5f644f6b-4f5f-4ab1-ba65-b937a5c2ade5",
   "metadata": {},
   "outputs": [
    {
     "name": "stdout",
     "output_type": "stream",
     "text": [
      "time: 63 ms (started: 2021-12-26 11:43:32 -03:00)\n"
     ]
    }
   ],
   "source": [
    "import json\n",
    "import requests"
   ]
  },
  {
   "cell_type": "code",
   "execution_count": 3,
   "id": "72696c6e-0b5f-4d7e-b9ef-5761585a6f29",
   "metadata": {},
   "outputs": [
    {
     "name": "stdout",
     "output_type": "stream",
     "text": [
      "time: 984 ms (started: 2021-12-26 11:43:32 -03:00)\n"
     ]
    }
   ],
   "source": [
    "r = requests.get(\"https://www.balldontlie.io/api/v1/games?per_page=100\").json()"
   ]
  },
  {
   "cell_type": "code",
   "execution_count": 4,
   "id": "b4726c5d-f454-4528-a83c-2023236d5317",
   "metadata": {},
   "outputs": [
    {
     "data": {
      "text/plain": [
       "dict"
      ]
     },
     "execution_count": 4,
     "metadata": {},
     "output_type": "execute_result"
    },
    {
     "name": "stdout",
     "output_type": "stream",
     "text": [
      "time: 0 ns (started: 2021-12-26 11:43:33 -03:00)\n"
     ]
    }
   ],
   "source": [
    "type(r)"
   ]
  },
  {
   "cell_type": "markdown",
   "id": "e81ec14c-34f9-4ee6-bbcb-2e1a992f70ab",
   "metadata": {},
   "source": [
    "Como el request es de tipo \"dict\", por tanto es un dato semiestructurados"
   ]
  },
  {
   "cell_type": "code",
   "execution_count": 5,
   "id": "6e54d36e-5b47-415a-83c9-1f7a9d4e945d",
   "metadata": {},
   "outputs": [
    {
     "data": {
      "text/plain": [
       "dict_keys(['data', 'meta'])"
      ]
     },
     "execution_count": 5,
     "metadata": {},
     "output_type": "execute_result"
    },
    {
     "name": "stdout",
     "output_type": "stream",
     "text": [
      "time: 15 ms (started: 2021-12-26 11:43:33 -03:00)\n"
     ]
    }
   ],
   "source": [
    "r.keys()"
   ]
  },
  {
   "cell_type": "code",
   "execution_count": 6,
   "id": "e501af4f-bd68-4e32-bc10-491041c1396c",
   "metadata": {},
   "outputs": [
    {
     "data": {
      "text/plain": [
       "100"
      ]
     },
     "execution_count": 6,
     "metadata": {},
     "output_type": "execute_result"
    },
    {
     "name": "stdout",
     "output_type": "stream",
     "text": [
      "time: 16 ms (started: 2021-12-26 11:43:33 -03:00)\n"
     ]
    }
   ],
   "source": [
    "len(r['data'])"
   ]
  },
  {
   "cell_type": "code",
   "execution_count": 7,
   "id": "247184cb-b821-449f-b59f-a7e7e210eff1",
   "metadata": {},
   "outputs": [
    {
     "data": {
      "text/plain": [
       "{'id': 47179,\n",
       " 'date': '2019-01-30T00:00:00.000Z',\n",
       " 'home_team': {'id': 2,\n",
       "  'abbreviation': 'BOS',\n",
       "  'city': 'Boston',\n",
       "  'conference': 'East',\n",
       "  'division': 'Atlantic',\n",
       "  'full_name': 'Boston Celtics',\n",
       "  'name': 'Celtics'},\n",
       " 'home_team_score': 126,\n",
       " 'period': 4,\n",
       " 'postseason': False,\n",
       " 'season': 2018,\n",
       " 'status': 'Final',\n",
       " 'time': ' ',\n",
       " 'visitor_team': {'id': 4,\n",
       "  'abbreviation': 'CHA',\n",
       "  'city': 'Charlotte',\n",
       "  'conference': 'East',\n",
       "  'division': 'Southeast',\n",
       "  'full_name': 'Charlotte Hornets',\n",
       "  'name': 'Hornets'},\n",
       " 'visitor_team_score': 94}"
      ]
     },
     "execution_count": 7,
     "metadata": {},
     "output_type": "execute_result"
    },
    {
     "name": "stdout",
     "output_type": "stream",
     "text": [
      "time: 0 ns (started: 2021-12-26 11:43:33 -03:00)\n"
     ]
    }
   ],
   "source": [
    "r['data'][0]"
   ]
  },
  {
   "cell_type": "code",
   "execution_count": 8,
   "id": "c329f9bc-efed-4e2a-a28f-e2b81dac63ba",
   "metadata": {},
   "outputs": [
    {
     "data": {
      "text/plain": [
       "{'total_pages': 512,\n",
       " 'current_page': 1,\n",
       " 'next_page': 2,\n",
       " 'per_page': 100,\n",
       " 'total_count': 51163}"
      ]
     },
     "execution_count": 8,
     "metadata": {},
     "output_type": "execute_result"
    },
    {
     "name": "stdout",
     "output_type": "stream",
     "text": [
      "time: 15 ms (started: 2021-12-26 11:43:33 -03:00)\n"
     ]
    }
   ],
   "source": [
    "r['meta']"
   ]
  },
  {
   "cell_type": "markdown",
   "id": "06870600-a621-4688-9d73-4abbd01808b4",
   "metadata": {},
   "source": [
    "## Ejercicio 2: Organización de los datos"
   ]
  },
  {
   "cell_type": "markdown",
   "id": "4d5e644b-c007-497a-953c-a34fe1d1dfdc",
   "metadata": {},
   "source": [
    "## En base a los datos consultados en la API, genere un objeto pd.DataFrame con la siguiente estructura:\n",
    "\n",
    "<code> games_df.head(2) </code>\n",
    "\n",
    "Para obtener la estructura, sólo puede utilizar operaciones map y comprensiones de lista."
   ]
  },
  {
   "cell_type": "code",
   "execution_count": 9,
   "id": "1b6c0135-79d8-46cf-a7aa-5f63f2aebb2b",
   "metadata": {
    "tags": []
   },
   "outputs": [
    {
     "data": {
      "text/plain": [
       "['id',\n",
       " 'date',\n",
       " 'home_team',\n",
       " 'home_team_score',\n",
       " 'period',\n",
       " 'postseason',\n",
       " 'season',\n",
       " 'status',\n",
       " 'time',\n",
       " 'visitor_team',\n",
       " 'visitor_team_score']"
      ]
     },
     "execution_count": 9,
     "metadata": {},
     "output_type": "execute_result"
    },
    {
     "name": "stdout",
     "output_type": "stream",
     "text": [
      "time: 0 ns (started: 2021-12-26 11:43:33 -03:00)\n"
     ]
    }
   ],
   "source": [
    "list(r['data'][0].keys())"
   ]
  },
  {
   "cell_type": "code",
   "execution_count": 10,
   "id": "be4b53a1-9314-464e-b232-6fb06b46ca0f",
   "metadata": {},
   "outputs": [
    {
     "data": {
      "text/plain": [
       "11"
      ]
     },
     "execution_count": 10,
     "metadata": {},
     "output_type": "execute_result"
    },
    {
     "name": "stdout",
     "output_type": "stream",
     "text": [
      "time: 15 ms (started: 2021-12-26 11:43:33 -03:00)\n"
     ]
    }
   ],
   "source": [
    "len(list(r['data'][0].keys()))"
   ]
  },
  {
   "cell_type": "code",
   "execution_count": 11,
   "id": "5e6ad693-b5de-482f-9ef4-de87dd80cc83",
   "metadata": {},
   "outputs": [
    {
     "data": {
      "text/plain": [
       "47179"
      ]
     },
     "execution_count": 11,
     "metadata": {},
     "output_type": "execute_result"
    },
    {
     "name": "stdout",
     "output_type": "stream",
     "text": [
      "time: 16 ms (started: 2021-12-26 11:43:33 -03:00)\n"
     ]
    }
   ],
   "source": [
    "r['data'][0]['id']"
   ]
  },
  {
   "cell_type": "code",
   "execution_count": 12,
   "id": "d14ad95a-1a0e-4e66-a387-6937f2c53dbc",
   "metadata": {},
   "outputs": [
    {
     "data": {
      "text/plain": [
       "{'id': 2,\n",
       " 'abbreviation': 'BOS',\n",
       " 'city': 'Boston',\n",
       " 'conference': 'East',\n",
       " 'division': 'Atlantic',\n",
       " 'full_name': 'Boston Celtics',\n",
       " 'name': 'Celtics'}"
      ]
     },
     "execution_count": 12,
     "metadata": {},
     "output_type": "execute_result"
    },
    {
     "name": "stdout",
     "output_type": "stream",
     "text": [
      "time: 16 ms (started: 2021-12-26 11:43:33 -03:00)\n"
     ]
    }
   ],
   "source": [
    "r['data'][0]['home_team']"
   ]
  },
  {
   "cell_type": "code",
   "execution_count": 13,
   "id": "15b3aa1a-b6f3-471c-abb1-c6e061c41667",
   "metadata": {},
   "outputs": [
    {
     "data": {
      "text/plain": [
       "{'id': 4,\n",
       " 'abbreviation': 'CHA',\n",
       " 'city': 'Charlotte',\n",
       " 'conference': 'East',\n",
       " 'division': 'Southeast',\n",
       " 'full_name': 'Charlotte Hornets',\n",
       " 'name': 'Hornets'}"
      ]
     },
     "execution_count": 13,
     "metadata": {},
     "output_type": "execute_result"
    },
    {
     "name": "stdout",
     "output_type": "stream",
     "text": [
      "time: 15 ms (started: 2021-12-26 11:43:33 -03:00)\n"
     ]
    }
   ],
   "source": [
    "r['data'][0]['visitor_team']"
   ]
  },
  {
   "cell_type": "code",
   "execution_count": 14,
   "id": "ed2e7bb2-ee33-49fe-8783-1f63a0e17064",
   "metadata": {},
   "outputs": [
    {
     "name": "stdout",
     "output_type": "stream",
     "text": [
      "time: 250 ms (started: 2021-12-26 11:43:33 -03:00)\n"
     ]
    }
   ],
   "source": [
    "import pandas as pd\n",
    "\n",
    "lista1 = ['season', 'period','home_team','visitor_team','home_team_score','visitor_team_score']\n",
    "lista2 = ['full_name', 'conference', 'division']"
   ]
  },
  {
   "cell_type": "code",
   "execution_count": 15,
   "id": "4b610823-c676-47a6-81f1-339be885572d",
   "metadata": {},
   "outputs": [
    {
     "data": {
      "text/html": [
       "<div>\n",
       "<style scoped>\n",
       "    .dataframe tbody tr th:only-of-type {\n",
       "        vertical-align: middle;\n",
       "    }\n",
       "\n",
       "    .dataframe tbody tr th {\n",
       "        vertical-align: top;\n",
       "    }\n",
       "\n",
       "    .dataframe thead th {\n",
       "        text-align: right;\n",
       "    }\n",
       "</style>\n",
       "<table border=\"1\" class=\"dataframe\">\n",
       "  <thead>\n",
       "    <tr style=\"text-align: right;\">\n",
       "      <th></th>\n",
       "      <th>season</th>\n",
       "      <th>period</th>\n",
       "      <th>home</th>\n",
       "      <th>home_conference</th>\n",
       "      <th>home_division</th>\n",
       "      <th>visitor</th>\n",
       "      <th>visitor_conference</th>\n",
       "      <th>visitor_division</th>\n",
       "      <th>home_score</th>\n",
       "      <th>visitor_score</th>\n",
       "      <th>home_differential</th>\n",
       "      <th>visitor_differential</th>\n",
       "    </tr>\n",
       "  </thead>\n",
       "  <tbody>\n",
       "    <tr>\n",
       "      <th>0</th>\n",
       "      <td>2018</td>\n",
       "      <td>4</td>\n",
       "      <td>Boston Celtics</td>\n",
       "      <td>East</td>\n",
       "      <td>Atlantic</td>\n",
       "      <td>Charlotte Hornets</td>\n",
       "      <td>East</td>\n",
       "      <td>Southeast</td>\n",
       "      <td>126</td>\n",
       "      <td>94</td>\n",
       "      <td>32</td>\n",
       "      <td>-32</td>\n",
       "    </tr>\n",
       "    <tr>\n",
       "      <th>1</th>\n",
       "      <td>2018</td>\n",
       "      <td>4</td>\n",
       "      <td>Boston Celtics</td>\n",
       "      <td>East</td>\n",
       "      <td>Atlantic</td>\n",
       "      <td>LA Clippers</td>\n",
       "      <td>West</td>\n",
       "      <td>Pacific</td>\n",
       "      <td>112</td>\n",
       "      <td>123</td>\n",
       "      <td>-11</td>\n",
       "      <td>11</td>\n",
       "    </tr>\n",
       "    <tr>\n",
       "      <th>2</th>\n",
       "      <td>2018</td>\n",
       "      <td>4</td>\n",
       "      <td>Philadelphia 76ers</td>\n",
       "      <td>East</td>\n",
       "      <td>Atlantic</td>\n",
       "      <td>Denver Nuggets</td>\n",
       "      <td>West</td>\n",
       "      <td>Northwest</td>\n",
       "      <td>117</td>\n",
       "      <td>110</td>\n",
       "      <td>7</td>\n",
       "      <td>-7</td>\n",
       "    </tr>\n",
       "    <tr>\n",
       "      <th>3</th>\n",
       "      <td>2018</td>\n",
       "      <td>4</td>\n",
       "      <td>Washington Wizards</td>\n",
       "      <td>East</td>\n",
       "      <td>Southeast</td>\n",
       "      <td>Cleveland Cavaliers</td>\n",
       "      <td>East</td>\n",
       "      <td>Central</td>\n",
       "      <td>119</td>\n",
       "      <td>106</td>\n",
       "      <td>13</td>\n",
       "      <td>-13</td>\n",
       "    </tr>\n",
       "    <tr>\n",
       "      <th>4</th>\n",
       "      <td>2018</td>\n",
       "      <td>4</td>\n",
       "      <td>Sacramento Kings</td>\n",
       "      <td>West</td>\n",
       "      <td>Pacific</td>\n",
       "      <td>Miami Heat</td>\n",
       "      <td>East</td>\n",
       "      <td>Southeast</td>\n",
       "      <td>102</td>\n",
       "      <td>96</td>\n",
       "      <td>6</td>\n",
       "      <td>-6</td>\n",
       "    </tr>\n",
       "    <tr>\n",
       "      <th>...</th>\n",
       "      <td>...</td>\n",
       "      <td>...</td>\n",
       "      <td>...</td>\n",
       "      <td>...</td>\n",
       "      <td>...</td>\n",
       "      <td>...</td>\n",
       "      <td>...</td>\n",
       "      <td>...</td>\n",
       "      <td>...</td>\n",
       "      <td>...</td>\n",
       "      <td>...</td>\n",
       "      <td>...</td>\n",
       "    </tr>\n",
       "    <tr>\n",
       "      <th>95</th>\n",
       "      <td>2018</td>\n",
       "      <td>4</td>\n",
       "      <td>Washington Wizards</td>\n",
       "      <td>East</td>\n",
       "      <td>Southeast</td>\n",
       "      <td>Indiana Pacers</td>\n",
       "      <td>East</td>\n",
       "      <td>Central</td>\n",
       "      <td>112</td>\n",
       "      <td>119</td>\n",
       "      <td>-7</td>\n",
       "      <td>7</td>\n",
       "    </tr>\n",
       "    <tr>\n",
       "      <th>96</th>\n",
       "      <td>2018</td>\n",
       "      <td>4</td>\n",
       "      <td>Brooklyn Nets</td>\n",
       "      <td>East</td>\n",
       "      <td>Atlantic</td>\n",
       "      <td>Portland Trail Blazers</td>\n",
       "      <td>West</td>\n",
       "      <td>Northwest</td>\n",
       "      <td>99</td>\n",
       "      <td>113</td>\n",
       "      <td>-14</td>\n",
       "      <td>14</td>\n",
       "    </tr>\n",
       "    <tr>\n",
       "      <th>97</th>\n",
       "      <td>2018</td>\n",
       "      <td>4</td>\n",
       "      <td>Cleveland Cavaliers</td>\n",
       "      <td>East</td>\n",
       "      <td>Central</td>\n",
       "      <td>Phoenix Suns</td>\n",
       "      <td>West</td>\n",
       "      <td>Pacific</td>\n",
       "      <td>111</td>\n",
       "      <td>98</td>\n",
       "      <td>13</td>\n",
       "      <td>-13</td>\n",
       "    </tr>\n",
       "    <tr>\n",
       "      <th>98</th>\n",
       "      <td>2018</td>\n",
       "      <td>4</td>\n",
       "      <td>Brooklyn Nets</td>\n",
       "      <td>East</td>\n",
       "      <td>Atlantic</td>\n",
       "      <td>Washington Wizards</td>\n",
       "      <td>East</td>\n",
       "      <td>Southeast</td>\n",
       "      <td>116</td>\n",
       "      <td>125</td>\n",
       "      <td>-9</td>\n",
       "      <td>9</td>\n",
       "    </tr>\n",
       "    <tr>\n",
       "      <th>99</th>\n",
       "      <td>2018</td>\n",
       "      <td>4</td>\n",
       "      <td>Indiana Pacers</td>\n",
       "      <td>East</td>\n",
       "      <td>Central</td>\n",
       "      <td>New Orleans Pelicans</td>\n",
       "      <td>West</td>\n",
       "      <td>Southwest</td>\n",
       "      <td>126</td>\n",
       "      <td>111</td>\n",
       "      <td>15</td>\n",
       "      <td>-15</td>\n",
       "    </tr>\n",
       "  </tbody>\n",
       "</table>\n",
       "<p>100 rows × 12 columns</p>\n",
       "</div>"
      ],
      "text/plain": [
       "   season period                 home home_conference home_division  \\\n",
       "0    2018      4       Boston Celtics            East      Atlantic   \n",
       "1    2018      4       Boston Celtics            East      Atlantic   \n",
       "2    2018      4   Philadelphia 76ers            East      Atlantic   \n",
       "3    2018      4   Washington Wizards            East     Southeast   \n",
       "4    2018      4     Sacramento Kings            West       Pacific   \n",
       "..    ...    ...                  ...             ...           ...   \n",
       "95   2018      4   Washington Wizards            East     Southeast   \n",
       "96   2018      4        Brooklyn Nets            East      Atlantic   \n",
       "97   2018      4  Cleveland Cavaliers            East       Central   \n",
       "98   2018      4        Brooklyn Nets            East      Atlantic   \n",
       "99   2018      4       Indiana Pacers            East       Central   \n",
       "\n",
       "                   visitor visitor_conference visitor_division home_score  \\\n",
       "0        Charlotte Hornets               East        Southeast        126   \n",
       "1              LA Clippers               West          Pacific        112   \n",
       "2           Denver Nuggets               West        Northwest        117   \n",
       "3      Cleveland Cavaliers               East          Central        119   \n",
       "4               Miami Heat               East        Southeast        102   \n",
       "..                     ...                ...              ...        ...   \n",
       "95          Indiana Pacers               East          Central        112   \n",
       "96  Portland Trail Blazers               West        Northwest         99   \n",
       "97            Phoenix Suns               West          Pacific        111   \n",
       "98      Washington Wizards               East        Southeast        116   \n",
       "99    New Orleans Pelicans               West        Southwest        126   \n",
       "\n",
       "   visitor_score home_differential visitor_differential  \n",
       "0             94                32                  -32  \n",
       "1            123               -11                   11  \n",
       "2            110                 7                   -7  \n",
       "3            106                13                  -13  \n",
       "4             96                 6                   -6  \n",
       "..           ...               ...                  ...  \n",
       "95           119                -7                    7  \n",
       "96           113               -14                   14  \n",
       "97            98                13                  -13  \n",
       "98           125                -9                    9  \n",
       "99           111                15                  -15  \n",
       "\n",
       "[100 rows x 12 columns]"
      ]
     },
     "execution_count": 15,
     "metadata": {},
     "output_type": "execute_result"
    },
    {
     "name": "stdout",
     "output_type": "stream",
     "text": [
      "time: 281 ms (started: 2021-12-26 11:43:33 -03:00)\n"
     ]
    }
   ],
   "source": [
    "df2 = pd.DataFrame({}, columns = ['season',\n",
    "                                 'period',\n",
    "                                 'home',\n",
    "                                 'home_conference',\n",
    "                                 'home_division',\n",
    "                                 'visitor',\n",
    "                                 'visitor_conference',\n",
    "                                 'visitor_division',\n",
    "                                 'home_score',\n",
    "                                 'visitor_score',\n",
    "                                 'home_differential',\n",
    "                                 'visitor_differential'])\n",
    "\n",
    "#agrega registro a registro usando fors\n",
    "for i in range(100):\n",
    "    registro = []\n",
    "    for j in lista1:\n",
    "        if j in ['home_team', 'visitor_team']:\n",
    "            for k in lista2:\n",
    "                registro.append(r['data'][i][j][k])\n",
    "        else:\n",
    "            registro.append(r['data'][i][j])\n",
    "    registro.append(r['data'][i]['home_team_score']-r['data'][i]['visitor_team_score'])\n",
    "    registro.append(r['data'][i]['visitor_team_score']-r['data'][i]['home_team_score'])\n",
    "    a_series = pd.Series(registro, index = df2.columns)\n",
    "    df2 = df2.append(a_series, ignore_index=True)\n",
    "    \n",
    "#resultado\n",
    "df2"
   ]
  },
  {
   "cell_type": "code",
   "execution_count": 16,
   "id": "af07058d-963a-4cfc-9e80-53143ca2d25f",
   "metadata": {},
   "outputs": [
    {
     "data": {
      "text/html": [
       "<div>\n",
       "<style scoped>\n",
       "    .dataframe tbody tr th:only-of-type {\n",
       "        vertical-align: middle;\n",
       "    }\n",
       "\n",
       "    .dataframe tbody tr th {\n",
       "        vertical-align: top;\n",
       "    }\n",
       "\n",
       "    .dataframe thead th {\n",
       "        text-align: right;\n",
       "    }\n",
       "</style>\n",
       "<table border=\"1\" class=\"dataframe\">\n",
       "  <thead>\n",
       "    <tr style=\"text-align: right;\">\n",
       "      <th></th>\n",
       "      <th>season</th>\n",
       "      <th>period</th>\n",
       "      <th>home</th>\n",
       "      <th>home_conference</th>\n",
       "      <th>home_division</th>\n",
       "      <th>visitor</th>\n",
       "      <th>visitor_conference</th>\n",
       "      <th>visitor_division</th>\n",
       "      <th>home_score</th>\n",
       "      <th>visitor_score</th>\n",
       "      <th>home_differential</th>\n",
       "      <th>visitor_differential</th>\n",
       "    </tr>\n",
       "  </thead>\n",
       "  <tbody>\n",
       "    <tr>\n",
       "      <th>0</th>\n",
       "      <td>2018</td>\n",
       "      <td>4</td>\n",
       "      <td>Boston Celtics</td>\n",
       "      <td>East</td>\n",
       "      <td>Atlantic</td>\n",
       "      <td>Charlotte Hornets</td>\n",
       "      <td>East</td>\n",
       "      <td>Southeast</td>\n",
       "      <td>126</td>\n",
       "      <td>94</td>\n",
       "      <td>32</td>\n",
       "      <td>-32</td>\n",
       "    </tr>\n",
       "    <tr>\n",
       "      <th>1</th>\n",
       "      <td>2018</td>\n",
       "      <td>4</td>\n",
       "      <td>Boston Celtics</td>\n",
       "      <td>East</td>\n",
       "      <td>Atlantic</td>\n",
       "      <td>LA Clippers</td>\n",
       "      <td>West</td>\n",
       "      <td>Pacific</td>\n",
       "      <td>112</td>\n",
       "      <td>123</td>\n",
       "      <td>-11</td>\n",
       "      <td>11</td>\n",
       "    </tr>\n",
       "    <tr>\n",
       "      <th>2</th>\n",
       "      <td>2018</td>\n",
       "      <td>4</td>\n",
       "      <td>Philadelphia 76ers</td>\n",
       "      <td>East</td>\n",
       "      <td>Atlantic</td>\n",
       "      <td>Denver Nuggets</td>\n",
       "      <td>West</td>\n",
       "      <td>Northwest</td>\n",
       "      <td>117</td>\n",
       "      <td>110</td>\n",
       "      <td>7</td>\n",
       "      <td>-7</td>\n",
       "    </tr>\n",
       "    <tr>\n",
       "      <th>3</th>\n",
       "      <td>2018</td>\n",
       "      <td>4</td>\n",
       "      <td>Washington Wizards</td>\n",
       "      <td>East</td>\n",
       "      <td>Southeast</td>\n",
       "      <td>Cleveland Cavaliers</td>\n",
       "      <td>East</td>\n",
       "      <td>Central</td>\n",
       "      <td>119</td>\n",
       "      <td>106</td>\n",
       "      <td>13</td>\n",
       "      <td>-13</td>\n",
       "    </tr>\n",
       "    <tr>\n",
       "      <th>4</th>\n",
       "      <td>2018</td>\n",
       "      <td>4</td>\n",
       "      <td>Sacramento Kings</td>\n",
       "      <td>West</td>\n",
       "      <td>Pacific</td>\n",
       "      <td>Miami Heat</td>\n",
       "      <td>East</td>\n",
       "      <td>Southeast</td>\n",
       "      <td>102</td>\n",
       "      <td>96</td>\n",
       "      <td>6</td>\n",
       "      <td>-6</td>\n",
       "    </tr>\n",
       "    <tr>\n",
       "      <th>...</th>\n",
       "      <td>...</td>\n",
       "      <td>...</td>\n",
       "      <td>...</td>\n",
       "      <td>...</td>\n",
       "      <td>...</td>\n",
       "      <td>...</td>\n",
       "      <td>...</td>\n",
       "      <td>...</td>\n",
       "      <td>...</td>\n",
       "      <td>...</td>\n",
       "      <td>...</td>\n",
       "      <td>...</td>\n",
       "    </tr>\n",
       "    <tr>\n",
       "      <th>95</th>\n",
       "      <td>2018</td>\n",
       "      <td>4</td>\n",
       "      <td>Washington Wizards</td>\n",
       "      <td>East</td>\n",
       "      <td>Southeast</td>\n",
       "      <td>Indiana Pacers</td>\n",
       "      <td>East</td>\n",
       "      <td>Central</td>\n",
       "      <td>112</td>\n",
       "      <td>119</td>\n",
       "      <td>-7</td>\n",
       "      <td>7</td>\n",
       "    </tr>\n",
       "    <tr>\n",
       "      <th>96</th>\n",
       "      <td>2018</td>\n",
       "      <td>4</td>\n",
       "      <td>Brooklyn Nets</td>\n",
       "      <td>East</td>\n",
       "      <td>Atlantic</td>\n",
       "      <td>Portland Trail Blazers</td>\n",
       "      <td>West</td>\n",
       "      <td>Northwest</td>\n",
       "      <td>99</td>\n",
       "      <td>113</td>\n",
       "      <td>-14</td>\n",
       "      <td>14</td>\n",
       "    </tr>\n",
       "    <tr>\n",
       "      <th>97</th>\n",
       "      <td>2018</td>\n",
       "      <td>4</td>\n",
       "      <td>Cleveland Cavaliers</td>\n",
       "      <td>East</td>\n",
       "      <td>Central</td>\n",
       "      <td>Phoenix Suns</td>\n",
       "      <td>West</td>\n",
       "      <td>Pacific</td>\n",
       "      <td>111</td>\n",
       "      <td>98</td>\n",
       "      <td>13</td>\n",
       "      <td>-13</td>\n",
       "    </tr>\n",
       "    <tr>\n",
       "      <th>98</th>\n",
       "      <td>2018</td>\n",
       "      <td>4</td>\n",
       "      <td>Brooklyn Nets</td>\n",
       "      <td>East</td>\n",
       "      <td>Atlantic</td>\n",
       "      <td>Washington Wizards</td>\n",
       "      <td>East</td>\n",
       "      <td>Southeast</td>\n",
       "      <td>116</td>\n",
       "      <td>125</td>\n",
       "      <td>-9</td>\n",
       "      <td>9</td>\n",
       "    </tr>\n",
       "    <tr>\n",
       "      <th>99</th>\n",
       "      <td>2018</td>\n",
       "      <td>4</td>\n",
       "      <td>Indiana Pacers</td>\n",
       "      <td>East</td>\n",
       "      <td>Central</td>\n",
       "      <td>New Orleans Pelicans</td>\n",
       "      <td>West</td>\n",
       "      <td>Southwest</td>\n",
       "      <td>126</td>\n",
       "      <td>111</td>\n",
       "      <td>15</td>\n",
       "      <td>-15</td>\n",
       "    </tr>\n",
       "  </tbody>\n",
       "</table>\n",
       "<p>100 rows × 12 columns</p>\n",
       "</div>"
      ],
      "text/plain": [
       "    season  period                 home home_conference home_division  \\\n",
       "0     2018       4       Boston Celtics            East      Atlantic   \n",
       "1     2018       4       Boston Celtics            East      Atlantic   \n",
       "2     2018       4   Philadelphia 76ers            East      Atlantic   \n",
       "3     2018       4   Washington Wizards            East     Southeast   \n",
       "4     2018       4     Sacramento Kings            West       Pacific   \n",
       "..     ...     ...                  ...             ...           ...   \n",
       "95    2018       4   Washington Wizards            East     Southeast   \n",
       "96    2018       4        Brooklyn Nets            East      Atlantic   \n",
       "97    2018       4  Cleveland Cavaliers            East       Central   \n",
       "98    2018       4        Brooklyn Nets            East      Atlantic   \n",
       "99    2018       4       Indiana Pacers            East       Central   \n",
       "\n",
       "                   visitor visitor_conference visitor_division  home_score  \\\n",
       "0        Charlotte Hornets               East        Southeast         126   \n",
       "1              LA Clippers               West          Pacific         112   \n",
       "2           Denver Nuggets               West        Northwest         117   \n",
       "3      Cleveland Cavaliers               East          Central         119   \n",
       "4               Miami Heat               East        Southeast         102   \n",
       "..                     ...                ...              ...         ...   \n",
       "95          Indiana Pacers               East          Central         112   \n",
       "96  Portland Trail Blazers               West        Northwest          99   \n",
       "97            Phoenix Suns               West          Pacific         111   \n",
       "98      Washington Wizards               East        Southeast         116   \n",
       "99    New Orleans Pelicans               West        Southwest         126   \n",
       "\n",
       "    visitor_score  home_differential  visitor_differential  \n",
       "0              94                 32                   -32  \n",
       "1             123                -11                    11  \n",
       "2             110                  7                    -7  \n",
       "3             106                 13                   -13  \n",
       "4              96                  6                    -6  \n",
       "..            ...                ...                   ...  \n",
       "95            119                 -7                     7  \n",
       "96            113                -14                    14  \n",
       "97             98                 13                   -13  \n",
       "98            125                 -9                     9  \n",
       "99            111                 15                   -15  \n",
       "\n",
       "[100 rows x 12 columns]"
      ]
     },
     "execution_count": 16,
     "metadata": {},
     "output_type": "execute_result"
    },
    {
     "name": "stdout",
     "output_type": "stream",
     "text": [
      "time: 16 ms (started: 2021-12-26 11:43:34 -03:00)\n"
     ]
    }
   ],
   "source": [
    "#vectorizar datos\n",
    "season               = [r['data'][i]['season'] for i in range(100)]\n",
    "period               = [r['data'][i]['period'] for i in range(100)]\n",
    "home                 = [r['data'][i]['home_team']['full_name'] for i in range(100)]\n",
    "home_conference      = [r['data'][i]['home_team']['conference'] for i in range(100)]\n",
    "home_division        = [r['data'][i]['home_team']['division'] for i in range(100)]\n",
    "visitor              = [r['data'][i]['visitor_team']['full_name'] for i in range(100)]\n",
    "visitor_conference   = [r['data'][i]['visitor_team']['conference'] for i in range(100)]\n",
    "visitor_division     = [r['data'][i]['visitor_team']['division'] for i in range(100)]\n",
    "home_score           = [r['data'][i]['home_team_score'] for i in range(100)]\n",
    "visitor_score        = [r['data'][i]['visitor_team_score'] for i in range(100)]\n",
    "home_differential    = [r['data'][i]['home_team_score'] - r['data'][i]['visitor_team_score'] for i in range(100)]\n",
    "visitor_differential = [r['data'][i]['visitor_team_score'] - r['data'][i]['home_team_score'] for i in range(100)]\n",
    "\n",
    "#dataframe vacío\n",
    "df = pd.DataFrame()\n",
    "\n",
    "#agrego data\n",
    "df = pd.concat([df,pd.Series(season)], axis = 1)\n",
    "df = pd.concat([df,pd.Series(period)], axis = 1)\n",
    "df = pd.concat([df,pd.Series(home)], axis = 1)\n",
    "df = pd.concat([df,pd.Series(home_conference)], axis = 1)\n",
    "df = pd.concat([df,pd.Series(home_division)], axis = 1)\n",
    "df = pd.concat([df,pd.Series(visitor)], axis = 1)\n",
    "df = pd.concat([df,pd.Series(visitor_conference)], axis = 1)\n",
    "df = pd.concat([df,pd.Series(visitor_division)], axis = 1)\n",
    "df = pd.concat([df,pd.Series(home_score)], axis = 1)\n",
    "df = pd.concat([df,pd.Series(visitor_score)], axis = 1)\n",
    "df = pd.concat([df,pd.Series(home_differential)], axis = 1)\n",
    "df = pd.concat([df,pd.Series(visitor_differential)], axis = 1)\n",
    "\n",
    "#cambio de nombre de columnas\n",
    "df.columns = ['season',\n",
    "             'period',\n",
    "             'home',\n",
    "             'home_conference',\n",
    "             'home_division',\n",
    "             'visitor',\n",
    "             'visitor_conference',\n",
    "             'visitor_division',\n",
    "             'home_score',\n",
    "             'visitor_score',\n",
    "             'home_differential',\n",
    "             'visitor_differential']\n",
    "df"
   ]
  },
  {
   "cell_type": "markdown",
   "id": "78baca74-4800-4acb-90ae-3364fc2b91c3",
   "metadata": {},
   "source": [
    "**Notar que esta última celda se demora aproximadamente un 12% del tiempo que lo que se demoró por medio de fors (proceso no vectorizado)**"
   ]
  },
  {
   "cell_type": "code",
   "execution_count": 17,
   "id": "4853670b-cee6-4e10-91c2-06f8f6880d76",
   "metadata": {},
   "outputs": [
    {
     "data": {
      "text/html": [
       "<div>\n",
       "<style scoped>\n",
       "    .dataframe tbody tr th:only-of-type {\n",
       "        vertical-align: middle;\n",
       "    }\n",
       "\n",
       "    .dataframe tbody tr th {\n",
       "        vertical-align: top;\n",
       "    }\n",
       "\n",
       "    .dataframe thead th {\n",
       "        text-align: right;\n",
       "    }\n",
       "</style>\n",
       "<table border=\"1\" class=\"dataframe\">\n",
       "  <thead>\n",
       "    <tr style=\"text-align: right;\">\n",
       "      <th></th>\n",
       "      <th>season</th>\n",
       "      <th>period</th>\n",
       "      <th>home</th>\n",
       "      <th>home_conference</th>\n",
       "      <th>home_division</th>\n",
       "      <th>visitor</th>\n",
       "      <th>visitor_conference</th>\n",
       "      <th>visitor_division</th>\n",
       "      <th>home_score</th>\n",
       "      <th>visitor_score</th>\n",
       "      <th>home_differential</th>\n",
       "      <th>visitor_differential</th>\n",
       "    </tr>\n",
       "  </thead>\n",
       "  <tbody>\n",
       "    <tr>\n",
       "      <th>0</th>\n",
       "      <td>True</td>\n",
       "      <td>True</td>\n",
       "      <td>True</td>\n",
       "      <td>True</td>\n",
       "      <td>True</td>\n",
       "      <td>True</td>\n",
       "      <td>True</td>\n",
       "      <td>True</td>\n",
       "      <td>True</td>\n",
       "      <td>True</td>\n",
       "      <td>True</td>\n",
       "      <td>True</td>\n",
       "    </tr>\n",
       "    <tr>\n",
       "      <th>1</th>\n",
       "      <td>True</td>\n",
       "      <td>True</td>\n",
       "      <td>True</td>\n",
       "      <td>True</td>\n",
       "      <td>True</td>\n",
       "      <td>True</td>\n",
       "      <td>True</td>\n",
       "      <td>True</td>\n",
       "      <td>True</td>\n",
       "      <td>True</td>\n",
       "      <td>True</td>\n",
       "      <td>True</td>\n",
       "    </tr>\n",
       "    <tr>\n",
       "      <th>2</th>\n",
       "      <td>True</td>\n",
       "      <td>True</td>\n",
       "      <td>True</td>\n",
       "      <td>True</td>\n",
       "      <td>True</td>\n",
       "      <td>True</td>\n",
       "      <td>True</td>\n",
       "      <td>True</td>\n",
       "      <td>True</td>\n",
       "      <td>True</td>\n",
       "      <td>True</td>\n",
       "      <td>True</td>\n",
       "    </tr>\n",
       "    <tr>\n",
       "      <th>3</th>\n",
       "      <td>True</td>\n",
       "      <td>True</td>\n",
       "      <td>True</td>\n",
       "      <td>True</td>\n",
       "      <td>True</td>\n",
       "      <td>True</td>\n",
       "      <td>True</td>\n",
       "      <td>True</td>\n",
       "      <td>True</td>\n",
       "      <td>True</td>\n",
       "      <td>True</td>\n",
       "      <td>True</td>\n",
       "    </tr>\n",
       "    <tr>\n",
       "      <th>4</th>\n",
       "      <td>True</td>\n",
       "      <td>True</td>\n",
       "      <td>True</td>\n",
       "      <td>True</td>\n",
       "      <td>True</td>\n",
       "      <td>True</td>\n",
       "      <td>True</td>\n",
       "      <td>True</td>\n",
       "      <td>True</td>\n",
       "      <td>True</td>\n",
       "      <td>True</td>\n",
       "      <td>True</td>\n",
       "    </tr>\n",
       "    <tr>\n",
       "      <th>...</th>\n",
       "      <td>...</td>\n",
       "      <td>...</td>\n",
       "      <td>...</td>\n",
       "      <td>...</td>\n",
       "      <td>...</td>\n",
       "      <td>...</td>\n",
       "      <td>...</td>\n",
       "      <td>...</td>\n",
       "      <td>...</td>\n",
       "      <td>...</td>\n",
       "      <td>...</td>\n",
       "      <td>...</td>\n",
       "    </tr>\n",
       "    <tr>\n",
       "      <th>95</th>\n",
       "      <td>True</td>\n",
       "      <td>True</td>\n",
       "      <td>True</td>\n",
       "      <td>True</td>\n",
       "      <td>True</td>\n",
       "      <td>True</td>\n",
       "      <td>True</td>\n",
       "      <td>True</td>\n",
       "      <td>True</td>\n",
       "      <td>True</td>\n",
       "      <td>True</td>\n",
       "      <td>True</td>\n",
       "    </tr>\n",
       "    <tr>\n",
       "      <th>96</th>\n",
       "      <td>True</td>\n",
       "      <td>True</td>\n",
       "      <td>True</td>\n",
       "      <td>True</td>\n",
       "      <td>True</td>\n",
       "      <td>True</td>\n",
       "      <td>True</td>\n",
       "      <td>True</td>\n",
       "      <td>True</td>\n",
       "      <td>True</td>\n",
       "      <td>True</td>\n",
       "      <td>True</td>\n",
       "    </tr>\n",
       "    <tr>\n",
       "      <th>97</th>\n",
       "      <td>True</td>\n",
       "      <td>True</td>\n",
       "      <td>True</td>\n",
       "      <td>True</td>\n",
       "      <td>True</td>\n",
       "      <td>True</td>\n",
       "      <td>True</td>\n",
       "      <td>True</td>\n",
       "      <td>True</td>\n",
       "      <td>True</td>\n",
       "      <td>True</td>\n",
       "      <td>True</td>\n",
       "    </tr>\n",
       "    <tr>\n",
       "      <th>98</th>\n",
       "      <td>True</td>\n",
       "      <td>True</td>\n",
       "      <td>True</td>\n",
       "      <td>True</td>\n",
       "      <td>True</td>\n",
       "      <td>True</td>\n",
       "      <td>True</td>\n",
       "      <td>True</td>\n",
       "      <td>True</td>\n",
       "      <td>True</td>\n",
       "      <td>True</td>\n",
       "      <td>True</td>\n",
       "    </tr>\n",
       "    <tr>\n",
       "      <th>99</th>\n",
       "      <td>True</td>\n",
       "      <td>True</td>\n",
       "      <td>True</td>\n",
       "      <td>True</td>\n",
       "      <td>True</td>\n",
       "      <td>True</td>\n",
       "      <td>True</td>\n",
       "      <td>True</td>\n",
       "      <td>True</td>\n",
       "      <td>True</td>\n",
       "      <td>True</td>\n",
       "      <td>True</td>\n",
       "    </tr>\n",
       "  </tbody>\n",
       "</table>\n",
       "<p>100 rows × 12 columns</p>\n",
       "</div>"
      ],
      "text/plain": [
       "    season  period  home  home_conference  home_division  visitor  \\\n",
       "0     True    True  True             True           True     True   \n",
       "1     True    True  True             True           True     True   \n",
       "2     True    True  True             True           True     True   \n",
       "3     True    True  True             True           True     True   \n",
       "4     True    True  True             True           True     True   \n",
       "..     ...     ...   ...              ...            ...      ...   \n",
       "95    True    True  True             True           True     True   \n",
       "96    True    True  True             True           True     True   \n",
       "97    True    True  True             True           True     True   \n",
       "98    True    True  True             True           True     True   \n",
       "99    True    True  True             True           True     True   \n",
       "\n",
       "    visitor_conference  visitor_division  home_score  visitor_score  \\\n",
       "0                 True              True        True           True   \n",
       "1                 True              True        True           True   \n",
       "2                 True              True        True           True   \n",
       "3                 True              True        True           True   \n",
       "4                 True              True        True           True   \n",
       "..                 ...               ...         ...            ...   \n",
       "95                True              True        True           True   \n",
       "96                True              True        True           True   \n",
       "97                True              True        True           True   \n",
       "98                True              True        True           True   \n",
       "99                True              True        True           True   \n",
       "\n",
       "    home_differential  visitor_differential  \n",
       "0                True                  True  \n",
       "1                True                  True  \n",
       "2                True                  True  \n",
       "3                True                  True  \n",
       "4                True                  True  \n",
       "..                ...                   ...  \n",
       "95               True                  True  \n",
       "96               True                  True  \n",
       "97               True                  True  \n",
       "98               True                  True  \n",
       "99               True                  True  \n",
       "\n",
       "[100 rows x 12 columns]"
      ]
     },
     "execution_count": 17,
     "metadata": {},
     "output_type": "execute_result"
    },
    {
     "name": "stdout",
     "output_type": "stream",
     "text": [
      "time: 15 ms (started: 2021-12-26 11:43:34 -03:00)\n"
     ]
    }
   ],
   "source": [
    "df2 == df"
   ]
  },
  {
   "cell_type": "markdown",
   "id": "886e1bf8-457d-4e3b-90db-3b22fd454d75",
   "metadata": {},
   "source": [
    "# Ejercicio 3: El efecto de jugar de local"
   ]
  },
  {
   "cell_type": "markdown",
   "id": "dd815c4d-240e-4062-b238-f0e2e8fda055",
   "metadata": {},
   "source": [
    "## a) Genere una columna en el pd.DataFrame que identifique si el equipo que jugó de local ganó (1) o no (0)."
   ]
  },
  {
   "cell_type": "code",
   "execution_count": 18,
   "id": "f6e0eb0e-5f61-4a39-8fa8-6fde03b940c8",
   "metadata": {},
   "outputs": [
    {
     "name": "stdout",
     "output_type": "stream",
     "text": [
      "time: 16 ms (started: 2021-12-26 11:43:34 -03:00)\n"
     ]
    }
   ],
   "source": [
    "import numpy as np\n",
    "df['home_team_won'] = np.where(df['home_differential']>0,1,0)"
   ]
  },
  {
   "cell_type": "markdown",
   "id": "b6059108-c684-4c04-8931-d8ecbb3009a7",
   "metadata": {},
   "source": [
    "## b) Repita el procedimiento para identificar si el equipo que jugó de visitante ganó (1) o no (0)."
   ]
  },
  {
   "cell_type": "code",
   "execution_count": 19,
   "id": "6f7e960f-69e0-445d-b88c-cd746d81950b",
   "metadata": {},
   "outputs": [
    {
     "name": "stdout",
     "output_type": "stream",
     "text": [
      "time: 0 ns (started: 2021-12-26 11:43:34 -03:00)\n"
     ]
    }
   ],
   "source": [
    "df['visitor_team_won'] = np.where(df['visitor_differential']>0,1,0)"
   ]
  },
  {
   "cell_type": "markdown",
   "id": "deb5541a-4bac-463c-b681-ddb887ba6b60",
   "metadata": {},
   "source": [
    "## c) Reporte cuáles son los primeros y últimos 5 equipos en cuanto a desempeño por jugar local."
   ]
  },
  {
   "cell_type": "code",
   "execution_count": 20,
   "id": "d025aca2-d148-4b9e-ac09-459a1cbc2a69",
   "metadata": {},
   "outputs": [
    {
     "data": {
      "text/plain": [
       "home\n",
       "Miami Heat                1.0\n",
       "Utah Jazz                 1.0\n",
       "Toronto Raptors           1.0\n",
       "San Antonio Spurs         1.0\n",
       "Portland Trail Blazers    1.0\n",
       "Name: home_team_won, dtype: float64"
      ]
     },
     "execution_count": 20,
     "metadata": {},
     "output_type": "execute_result"
    },
    {
     "name": "stdout",
     "output_type": "stream",
     "text": [
      "time: 0 ns (started: 2021-12-26 11:43:34 -03:00)\n"
     ]
    }
   ],
   "source": [
    "#mejores 5 equipos de local\n",
    "df.groupby(['home'])['home_team_won'].mean().sort_values(ascending = False)[0:5]"
   ]
  },
  {
   "cell_type": "code",
   "execution_count": 21,
   "id": "8d92546e-a031-42a7-a365-164940ba6299",
   "metadata": {},
   "outputs": [
    {
     "data": {
      "text/plain": [
       "home\n",
       "Oklahoma City Thunder    0.0\n",
       "New York Knicks          0.0\n",
       "Phoenix Suns             0.0\n",
       "Charlotte Hornets        0.0\n",
       "Atlanta Hawks            0.2\n",
       "Name: home_team_won, dtype: float64"
      ]
     },
     "execution_count": 21,
     "metadata": {},
     "output_type": "execute_result"
    },
    {
     "name": "stdout",
     "output_type": "stream",
     "text": [
      "time: 0 ns (started: 2021-12-26 11:43:34 -03:00)\n"
     ]
    }
   ],
   "source": [
    "#peores 5 equipos de local\n",
    "df.groupby(['home'])['home_team_won'].mean().sort_values(ascending = True)[0:5]"
   ]
  },
  {
   "cell_type": "markdown",
   "id": "11edace8-ff7c-4532-86b1-e200ea855576",
   "metadata": {},
   "source": [
    "## d) Reporte cuáles son los primeros y últimos 5 equipos en cuanto a desempeño por jugar de visita"
   ]
  },
  {
   "cell_type": "code",
   "execution_count": 22,
   "id": "6dbd2aeb-d648-4804-aa01-094de5b13a92",
   "metadata": {},
   "outputs": [
    {
     "data": {
      "text/plain": [
       "visitor\n",
       "Milwaukee Bucks    1.000000\n",
       "LA Clippers        1.000000\n",
       "Indiana Pacers     1.000000\n",
       "Brooklyn Nets      0.666667\n",
       "Boston Celtics     0.666667\n",
       "Name: visitor_team_won, dtype: float64"
      ]
     },
     "execution_count": 22,
     "metadata": {},
     "output_type": "execute_result"
    },
    {
     "name": "stdout",
     "output_type": "stream",
     "text": [
      "time: 0 ns (started: 2021-12-26 11:43:34 -03:00)\n"
     ]
    }
   ],
   "source": [
    "#mejores 5 equipos visitantes\n",
    "df.groupby(['visitor'])['visitor_team_won'].mean().sort_values(ascending = False)[0:5]"
   ]
  },
  {
   "cell_type": "code",
   "execution_count": 23,
   "id": "48530b3c-7d04-4506-af07-9d1ed248e741",
   "metadata": {},
   "outputs": [
    {
     "data": {
      "text/plain": [
       "visitor\n",
       "Atlanta Hawks             0.0\n",
       "Sacramento Kings          0.0\n",
       "Phoenix Suns              0.0\n",
       "New York Knicks           0.0\n",
       "Minnesota Timberwolves    0.0\n",
       "Name: visitor_team_won, dtype: float64"
      ]
     },
     "execution_count": 23,
     "metadata": {},
     "output_type": "execute_result"
    },
    {
     "name": "stdout",
     "output_type": "stream",
     "text": [
      "time: 0 ns (started: 2021-12-26 11:43:34 -03:00)\n"
     ]
    }
   ],
   "source": [
    "#peores 5 equipos visitantes\n",
    "df.groupby(['visitor'])['visitor_team_won'].mean().sort_values(ascending = True)[0:5]"
   ]
  },
  {
   "cell_type": "markdown",
   "id": "fb2f5654-acb3-4dcb-8df5-d8d7d36fbd75",
   "metadata": {},
   "source": [
    "# Ejercicio 4: Obteniendo el porcentaje de ganar local y de visita"
   ]
  },
  {
   "cell_type": "markdown",
   "id": "5f9e247d-5c76-4954-885a-8568e346ec03",
   "metadata": {},
   "source": [
    "# a) Genere un nuevo objeto que guarde el porcentaje de juegos ganados como local por equipo."
   ]
  },
  {
   "cell_type": "code",
   "execution_count": 24,
   "id": "cacc0e96-1db9-4d18-a9f8-a0d8322dab4b",
   "metadata": {},
   "outputs": [
    {
     "data": {
      "text/plain": [
       "home\n",
       "Miami Heat                1.000000\n",
       "Utah Jazz                 1.000000\n",
       "Toronto Raptors           1.000000\n",
       "San Antonio Spurs         1.000000\n",
       "Portland Trail Blazers    1.000000\n",
       "Denver Nuggets            1.000000\n",
       "Detroit Pistons           1.000000\n",
       "Orlando Magic             0.800000\n",
       "Philadelphia 76ers        0.800000\n",
       "Washington Wizards        0.800000\n",
       "Boston Celtics            0.750000\n",
       "Golden State Warriors     0.750000\n",
       "Houston Rockets           0.666667\n",
       "Milwaukee Bucks           0.666667\n",
       "Minnesota Timberwolves    0.666667\n",
       "Indiana Pacers            0.666667\n",
       "Dallas Mavericks          0.666667\n",
       "Sacramento Kings          0.600000\n",
       "Los Angeles Lakers        0.500000\n",
       "Cleveland Cavaliers       0.500000\n",
       "Memphis Grizzlies         0.333333\n",
       "New Orleans Pelicans      0.333333\n",
       "Brooklyn Nets             0.333333\n",
       "Chicago Bulls             0.200000\n",
       "Atlanta Hawks             0.200000\n",
       "Phoenix Suns              0.000000\n",
       "Charlotte Hornets         0.000000\n",
       "New York Knicks           0.000000\n",
       "Oklahoma City Thunder     0.000000\n",
       "Name: home_team_won, dtype: float64"
      ]
     },
     "execution_count": 24,
     "metadata": {},
     "output_type": "execute_result"
    },
    {
     "name": "stdout",
     "output_type": "stream",
     "text": [
      "time: 0 ns (started: 2021-12-26 11:43:34 -03:00)\n"
     ]
    }
   ],
   "source": [
    "objeto_4a = df.groupby(['home'])['home_team_won'].mean().sort_values(ascending = False)\n",
    "objeto_4a"
   ]
  },
  {
   "cell_type": "markdown",
   "id": "57d92d6e-0965-43c8-adf2-1ee6811e1c88",
   "metadata": {},
   "source": [
    "## b) Repita lo mismo para los juegos donde el equipo fue visitante."
   ]
  },
  {
   "cell_type": "code",
   "execution_count": 25,
   "id": "d1d80085-7940-42c5-b386-45c7076b4738",
   "metadata": {},
   "outputs": [
    {
     "data": {
      "text/plain": [
       "visitor\n",
       "Milwaukee Bucks           1.000000\n",
       "LA Clippers               1.000000\n",
       "Indiana Pacers            1.000000\n",
       "Brooklyn Nets             0.666667\n",
       "Boston Celtics            0.666667\n",
       "Orlando Magic             0.666667\n",
       "Philadelphia 76ers        0.666667\n",
       "Washington Wizards        0.500000\n",
       "Houston Rockets           0.500000\n",
       "Los Angeles Lakers        0.500000\n",
       "Golden State Warriors     0.500000\n",
       "Detroit Pistons           0.500000\n",
       "Toronto Raptors           0.500000\n",
       "Utah Jazz                 0.500000\n",
       "Oklahoma City Thunder     0.500000\n",
       "Portland Trail Blazers    0.400000\n",
       "New Orleans Pelicans      0.333333\n",
       "San Antonio Spurs         0.333333\n",
       "Miami Heat                0.333333\n",
       "Denver Nuggets            0.333333\n",
       "Charlotte Hornets         0.285714\n",
       "Chicago Bulls             0.250000\n",
       "New York Knicks           0.000000\n",
       "Minnesota Timberwolves    0.000000\n",
       "Memphis Grizzlies         0.000000\n",
       "Phoenix Suns              0.000000\n",
       "Dallas Mavericks          0.000000\n",
       "Sacramento Kings          0.000000\n",
       "Cleveland Cavaliers       0.000000\n",
       "Atlanta Hawks             0.000000\n",
       "Name: visitor_team_won, dtype: float64"
      ]
     },
     "execution_count": 25,
     "metadata": {},
     "output_type": "execute_result"
    },
    {
     "name": "stdout",
     "output_type": "stream",
     "text": [
      "time: 0 ns (started: 2021-12-26 11:43:34 -03:00)\n"
     ]
    }
   ],
   "source": [
    "objeto_4b = df.groupby(['visitor'])['visitor_team_won'].mean().sort_values(ascending = False)\n",
    "objeto_4b"
   ]
  },
  {
   "cell_type": "markdown",
   "id": "6f0f90a4-d4ad-446b-80d2-69f5953f0f3a",
   "metadata": {},
   "source": [
    "## c) ¿Qué equipos tienen iguales chances de ganar como visitante o local?"
   ]
  },
  {
   "cell_type": "code",
   "execution_count": 26,
   "id": "5a2eb823-2a2f-41d6-aca5-79380d88b87a",
   "metadata": {},
   "outputs": [
    {
     "data": {
      "text/plain": [
       "(29, 30)"
      ]
     },
     "execution_count": 26,
     "metadata": {},
     "output_type": "execute_result"
    },
    {
     "name": "stdout",
     "output_type": "stream",
     "text": [
      "time: 0 ns (started: 2021-12-26 11:43:34 -03:00)\n"
     ]
    }
   ],
   "source": [
    "(len(objeto_4a),len(objeto_4b))"
   ]
  },
  {
   "cell_type": "code",
   "execution_count": 27,
   "id": "121d9a76-b448-40cf-ac40-3353ad589572",
   "metadata": {},
   "outputs": [
    {
     "name": "stdout",
     "output_type": "stream",
     "text": [
      "29\n"
     ]
    },
    {
     "data": {
      "text/html": [
       "<div>\n",
       "<style scoped>\n",
       "    .dataframe tbody tr th:only-of-type {\n",
       "        vertical-align: middle;\n",
       "    }\n",
       "\n",
       "    .dataframe tbody tr th {\n",
       "        vertical-align: top;\n",
       "    }\n",
       "\n",
       "    .dataframe thead th {\n",
       "        text-align: right;\n",
       "    }\n",
       "</style>\n",
       "<table border=\"1\" class=\"dataframe\">\n",
       "  <thead>\n",
       "    <tr style=\"text-align: right;\">\n",
       "      <th></th>\n",
       "      <th>home_team_won</th>\n",
       "      <th>visitor_team_won</th>\n",
       "    </tr>\n",
       "  </thead>\n",
       "  <tbody>\n",
       "    <tr>\n",
       "      <th>Miami Heat</th>\n",
       "      <td>1.000000</td>\n",
       "      <td>0.333333</td>\n",
       "    </tr>\n",
       "    <tr>\n",
       "      <th>Utah Jazz</th>\n",
       "      <td>1.000000</td>\n",
       "      <td>0.500000</td>\n",
       "    </tr>\n",
       "    <tr>\n",
       "      <th>Toronto Raptors</th>\n",
       "      <td>1.000000</td>\n",
       "      <td>0.500000</td>\n",
       "    </tr>\n",
       "    <tr>\n",
       "      <th>San Antonio Spurs</th>\n",
       "      <td>1.000000</td>\n",
       "      <td>0.333333</td>\n",
       "    </tr>\n",
       "    <tr>\n",
       "      <th>Portland Trail Blazers</th>\n",
       "      <td>1.000000</td>\n",
       "      <td>0.400000</td>\n",
       "    </tr>\n",
       "    <tr>\n",
       "      <th>Denver Nuggets</th>\n",
       "      <td>1.000000</td>\n",
       "      <td>0.333333</td>\n",
       "    </tr>\n",
       "    <tr>\n",
       "      <th>Detroit Pistons</th>\n",
       "      <td>1.000000</td>\n",
       "      <td>0.500000</td>\n",
       "    </tr>\n",
       "    <tr>\n",
       "      <th>Orlando Magic</th>\n",
       "      <td>0.800000</td>\n",
       "      <td>0.666667</td>\n",
       "    </tr>\n",
       "    <tr>\n",
       "      <th>Philadelphia 76ers</th>\n",
       "      <td>0.800000</td>\n",
       "      <td>0.666667</td>\n",
       "    </tr>\n",
       "    <tr>\n",
       "      <th>Washington Wizards</th>\n",
       "      <td>0.800000</td>\n",
       "      <td>0.500000</td>\n",
       "    </tr>\n",
       "    <tr>\n",
       "      <th>Boston Celtics</th>\n",
       "      <td>0.750000</td>\n",
       "      <td>0.666667</td>\n",
       "    </tr>\n",
       "    <tr>\n",
       "      <th>Golden State Warriors</th>\n",
       "      <td>0.750000</td>\n",
       "      <td>0.500000</td>\n",
       "    </tr>\n",
       "    <tr>\n",
       "      <th>Houston Rockets</th>\n",
       "      <td>0.666667</td>\n",
       "      <td>0.500000</td>\n",
       "    </tr>\n",
       "    <tr>\n",
       "      <th>Milwaukee Bucks</th>\n",
       "      <td>0.666667</td>\n",
       "      <td>1.000000</td>\n",
       "    </tr>\n",
       "    <tr>\n",
       "      <th>Minnesota Timberwolves</th>\n",
       "      <td>0.666667</td>\n",
       "      <td>0.000000</td>\n",
       "    </tr>\n",
       "    <tr>\n",
       "      <th>Indiana Pacers</th>\n",
       "      <td>0.666667</td>\n",
       "      <td>1.000000</td>\n",
       "    </tr>\n",
       "    <tr>\n",
       "      <th>Dallas Mavericks</th>\n",
       "      <td>0.666667</td>\n",
       "      <td>0.000000</td>\n",
       "    </tr>\n",
       "    <tr>\n",
       "      <th>Sacramento Kings</th>\n",
       "      <td>0.600000</td>\n",
       "      <td>0.000000</td>\n",
       "    </tr>\n",
       "    <tr>\n",
       "      <th>Los Angeles Lakers</th>\n",
       "      <td>0.500000</td>\n",
       "      <td>0.500000</td>\n",
       "    </tr>\n",
       "    <tr>\n",
       "      <th>Cleveland Cavaliers</th>\n",
       "      <td>0.500000</td>\n",
       "      <td>0.000000</td>\n",
       "    </tr>\n",
       "    <tr>\n",
       "      <th>Memphis Grizzlies</th>\n",
       "      <td>0.333333</td>\n",
       "      <td>0.000000</td>\n",
       "    </tr>\n",
       "    <tr>\n",
       "      <th>New Orleans Pelicans</th>\n",
       "      <td>0.333333</td>\n",
       "      <td>0.333333</td>\n",
       "    </tr>\n",
       "    <tr>\n",
       "      <th>Brooklyn Nets</th>\n",
       "      <td>0.333333</td>\n",
       "      <td>0.666667</td>\n",
       "    </tr>\n",
       "    <tr>\n",
       "      <th>Chicago Bulls</th>\n",
       "      <td>0.200000</td>\n",
       "      <td>0.250000</td>\n",
       "    </tr>\n",
       "    <tr>\n",
       "      <th>Atlanta Hawks</th>\n",
       "      <td>0.200000</td>\n",
       "      <td>0.000000</td>\n",
       "    </tr>\n",
       "    <tr>\n",
       "      <th>Phoenix Suns</th>\n",
       "      <td>0.000000</td>\n",
       "      <td>0.000000</td>\n",
       "    </tr>\n",
       "    <tr>\n",
       "      <th>Charlotte Hornets</th>\n",
       "      <td>0.000000</td>\n",
       "      <td>0.285714</td>\n",
       "    </tr>\n",
       "    <tr>\n",
       "      <th>New York Knicks</th>\n",
       "      <td>0.000000</td>\n",
       "      <td>0.000000</td>\n",
       "    </tr>\n",
       "    <tr>\n",
       "      <th>Oklahoma City Thunder</th>\n",
       "      <td>0.000000</td>\n",
       "      <td>0.500000</td>\n",
       "    </tr>\n",
       "  </tbody>\n",
       "</table>\n",
       "</div>"
      ],
      "text/plain": [
       "                        home_team_won  visitor_team_won\n",
       "Miami Heat                   1.000000          0.333333\n",
       "Utah Jazz                    1.000000          0.500000\n",
       "Toronto Raptors              1.000000          0.500000\n",
       "San Antonio Spurs            1.000000          0.333333\n",
       "Portland Trail Blazers       1.000000          0.400000\n",
       "Denver Nuggets               1.000000          0.333333\n",
       "Detroit Pistons              1.000000          0.500000\n",
       "Orlando Magic                0.800000          0.666667\n",
       "Philadelphia 76ers           0.800000          0.666667\n",
       "Washington Wizards           0.800000          0.500000\n",
       "Boston Celtics               0.750000          0.666667\n",
       "Golden State Warriors        0.750000          0.500000\n",
       "Houston Rockets              0.666667          0.500000\n",
       "Milwaukee Bucks              0.666667          1.000000\n",
       "Minnesota Timberwolves       0.666667          0.000000\n",
       "Indiana Pacers               0.666667          1.000000\n",
       "Dallas Mavericks             0.666667          0.000000\n",
       "Sacramento Kings             0.600000          0.000000\n",
       "Los Angeles Lakers           0.500000          0.500000\n",
       "Cleveland Cavaliers          0.500000          0.000000\n",
       "Memphis Grizzlies            0.333333          0.000000\n",
       "New Orleans Pelicans         0.333333          0.333333\n",
       "Brooklyn Nets                0.333333          0.666667\n",
       "Chicago Bulls                0.200000          0.250000\n",
       "Atlanta Hawks                0.200000          0.000000\n",
       "Phoenix Suns                 0.000000          0.000000\n",
       "Charlotte Hornets            0.000000          0.285714\n",
       "New York Knicks              0.000000          0.000000\n",
       "Oklahoma City Thunder        0.000000          0.500000"
      ]
     },
     "execution_count": 27,
     "metadata": {},
     "output_type": "execute_result"
    },
    {
     "name": "stdout",
     "output_type": "stream",
     "text": [
      "time: 16 ms (started: 2021-12-26 11:43:34 -03:00)\n"
     ]
    }
   ],
   "source": [
    "objeto_4c = pd.DataFrame(objeto_4a).join(objeto_4b, how=\"inner\")\n",
    "print(len(objeto_4c))\n",
    "objeto_4c"
   ]
  },
  {
   "cell_type": "code",
   "execution_count": 28,
   "id": "d819c4ab-880f-44c6-a7ec-69bf153704a1",
   "metadata": {},
   "outputs": [
    {
     "data": {
      "text/html": [
       "<div>\n",
       "<style scoped>\n",
       "    .dataframe tbody tr th:only-of-type {\n",
       "        vertical-align: middle;\n",
       "    }\n",
       "\n",
       "    .dataframe tbody tr th {\n",
       "        vertical-align: top;\n",
       "    }\n",
       "\n",
       "    .dataframe thead th {\n",
       "        text-align: right;\n",
       "    }\n",
       "</style>\n",
       "<table border=\"1\" class=\"dataframe\">\n",
       "  <thead>\n",
       "    <tr style=\"text-align: right;\">\n",
       "      <th></th>\n",
       "      <th>home_team_won</th>\n",
       "      <th>visitor_team_won</th>\n",
       "      <th>iguales</th>\n",
       "    </tr>\n",
       "  </thead>\n",
       "  <tbody>\n",
       "    <tr>\n",
       "      <th>Los Angeles Lakers</th>\n",
       "      <td>0.500000</td>\n",
       "      <td>0.500000</td>\n",
       "      <td>1</td>\n",
       "    </tr>\n",
       "    <tr>\n",
       "      <th>New Orleans Pelicans</th>\n",
       "      <td>0.333333</td>\n",
       "      <td>0.333333</td>\n",
       "      <td>1</td>\n",
       "    </tr>\n",
       "    <tr>\n",
       "      <th>Phoenix Suns</th>\n",
       "      <td>0.000000</td>\n",
       "      <td>0.000000</td>\n",
       "      <td>1</td>\n",
       "    </tr>\n",
       "    <tr>\n",
       "      <th>New York Knicks</th>\n",
       "      <td>0.000000</td>\n",
       "      <td>0.000000</td>\n",
       "      <td>1</td>\n",
       "    </tr>\n",
       "  </tbody>\n",
       "</table>\n",
       "</div>"
      ],
      "text/plain": [
       "                      home_team_won  visitor_team_won  iguales\n",
       "Los Angeles Lakers         0.500000          0.500000        1\n",
       "New Orleans Pelicans       0.333333          0.333333        1\n",
       "Phoenix Suns               0.000000          0.000000        1\n",
       "New York Knicks            0.000000          0.000000        1"
      ]
     },
     "execution_count": 28,
     "metadata": {},
     "output_type": "execute_result"
    },
    {
     "name": "stdout",
     "output_type": "stream",
     "text": [
      "time: 15 ms (started: 2021-12-26 11:43:34 -03:00)\n"
     ]
    }
   ],
   "source": [
    "objeto_4c['iguales'] = np.where(objeto_4c['home_team_won'] == objeto_4c['visitor_team_won'],1,0)\n",
    "respuesta = objeto_4c[objeto_4c['iguales'] == 1]\n",
    "respuesta"
   ]
  },
  {
   "cell_type": "markdown",
   "id": "4c91c3b1-3f9f-4406-90a5-9be1b8e58b40",
   "metadata": {},
   "source": [
    "**Los siguientes equipos tienen igual probabilidad de ganar como local que de ganar como visitante:**"
   ]
  },
  {
   "cell_type": "code",
   "execution_count": 29,
   "id": "6b43072c-a5bd-43ce-b917-61986666c485",
   "metadata": {},
   "outputs": [
    {
     "data": {
      "text/plain": [
       "['Los Angeles Lakers',\n",
       " 'New Orleans Pelicans',\n",
       " 'Phoenix Suns',\n",
       " 'New York Knicks']"
      ]
     },
     "execution_count": 29,
     "metadata": {},
     "output_type": "execute_result"
    },
    {
     "name": "stdout",
     "output_type": "stream",
     "text": [
      "time: 0 ns (started: 2021-12-26 11:43:34 -03:00)\n"
     ]
    }
   ],
   "source": [
    "list(respuesta.index)"
   ]
  }
 ],
 "metadata": {
  "kernelspec": {
   "display_name": "Python 3",
   "language": "python",
   "name": "python3"
  },
  "language_info": {
   "codemirror_mode": {
    "name": "ipython",
    "version": 3
   },
   "file_extension": ".py",
   "mimetype": "text/x-python",
   "name": "python",
   "nbconvert_exporter": "python",
   "pygments_lexer": "ipython3",
   "version": "3.8.8"
  }
 },
 "nbformat": 4,
 "nbformat_minor": 5
}
